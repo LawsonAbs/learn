{
 "cells": [
  {
   "cell_type": "code",
   "execution_count": null,
   "metadata": {},
   "outputs": [
    {
     "name": "stderr",
     "output_type": "stream",
     "text": [
      "Using TensorFlow backend.\n"
     ]
    }
   ],
   "source": [
    "import numpy as np\n",
    "import keras.backend as K\n",
    "import tensorflow as tf\n",
    " \n",
    "t1 = K.variable(np.array([[[1, 2], [2, 3]], [[4, 4], [5, 3]]]))\n",
    "t2 = K.variable(np.array([[[7, 4], [8, 4]], [[2, 10], [15, 11]]]))\n",
    "d0 = K.concatenate([t1 , t2] , axis=-2)\n",
    "d1 = K.concatenate([t1 , t2] , axis=1)\n",
    "d2 = K.concatenate([t1 , t2] , axis=-1)\n",
    "d3 = K.concatenate([t1 , t2] , axis=2)\n",
    " \n",
    "init = tf.global_variables_initializer()\n",
    "with tf.Session() as sess:\n",
    "    sess.run(init)\n",
    "    print(sess.run(d0))\n",
    "    print(sess.run(d1))\n",
    "    print(sess.run(d2))"
   ]
  }
 ],
 "metadata": {
  "kernelspec": {
   "display_name": "Python 3",
   "language": "python",
   "name": "python3"
  },
  "language_info": {
   "codemirror_mode": {
    "name": "ipython",
    "version": 3
   },
   "file_extension": ".py",
   "mimetype": "text/x-python",
   "name": "python",
   "nbconvert_exporter": "python",
   "pygments_lexer": "ipython3",
   "version": "3.8.3"
  }
 },
 "nbformat": 4,
 "nbformat_minor": 4
}
