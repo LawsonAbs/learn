{
 "cells": [
  {
   "cell_type": "code",
   "execution_count": 1,
   "metadata": {},
   "outputs": [
    {
     "name": "stdout",
     "output_type": "stream",
     "text": [
      "B\n",
      "A\n",
      "3\n",
      "C\n",
      "B\n",
      "A\n",
      "3\n"
     ]
    }
   ],
   "source": [
    "\"\"\"\n",
    "python 中super()函数的使用：\n",
    "super()函数是用于解决多重继承的问题的：\n",
    "01.在python 2中，使用的方式是super(type, object-or-type)\n",
    "这里的type是类名，object-or-type 一般常用self。\n",
    "02.在python 3中，直接使用super() 即可\n",
    "\"\"\"\n",
    "class A:\n",
    "     def add(self, x):\n",
    "        print(\"A\") \n",
    "        y = x+1\n",
    "        print(y)\n",
    "class B(A):\n",
    "    def add(self, x):\n",
    "        print(\"B\")\n",
    "        super().add(x)\n",
    "\n",
    "#实现多重继承\n",
    "class C(B):\n",
    "    def add(self,x):\n",
    "        print(\"C\")\n",
    "        super().add(x)\n",
    "b = B()\n",
    "b.add(2)  # 3\n",
    "\n",
    "c = C()\n",
    "c.add(2)"
   ]
  },
  {
   "cell_type": "code",
   "execution_count": 13,
   "metadata": {},
   "outputs": [
    {
     "name": "stdout",
     "output_type": "stream",
     "text": [
      "<map object at 0x7fccaa7365d0>\n",
      "<class 'map'>\n",
      "1 4 9 16 25 \n",
      "---------------------\n",
      "\n",
      "1 4 9 16 25\n"
     ]
    }
   ],
   "source": [
    "\"\"\"\n",
    "map()函数 会根据提供的函数对指定序列做映射。其调用规则是 map(function,iterable,...)\n",
    "\n",
    "参数：\n",
    "function 函数； iterable 一个或多个序列。\n",
    "\n",
    "返回值：\n",
    "python 3返回迭代器，还是一个map\n",
    "\"\"\"\n",
    "# 取数x的平方\n",
    "def getSqure(x):\n",
    "    x = int(x)\n",
    "    return x*x\n",
    "\n",
    "res = map(getSqure,[1,2,3,4,5])\n",
    "print(res) # <map object at 0x7fccaa724710>\n",
    "print(type(res)) # <class 'map'>\n",
    "\n",
    "for r in res:# 输出map中的值\n",
    "    print(r,end=\" \")\n",
    "print(\"\\n---------------------\\n\")\n",
    "a,b,c,d,e = map(getSqure,[1,2,3,4,5])\n",
    "print(a,b,c,d,e)"
   ]
  },
  {
   "cell_type": "code",
   "execution_count": 1,
   "metadata": {},
   "outputs": [
    {
     "name": "stdout",
     "output_type": "stream",
     "text": [
      "(1, 'a')\n",
      "(2, 'b')\n",
      "(3, 'c')\n",
      "(4, 'd')\n"
     ]
    }
   ],
   "source": [
    "\"\"\"\n",
    "zip函数的使用\n",
    "01.从index=0开始取出两个list中的对应位置元素组合成一个新的tuple，这个tuple的大小视最短list的长度\n",
    "\"\"\"\n",
    "a =[1,2,3,4] # a 长度为4\n",
    "b = ['a','b','c'] # b 长度为3\n",
    "zipped = zip(a,b) # zip后的长度为min(4,3) = 3 \n",
    "for _ in  zipped: # 输出各个中的值\n",
    "    print(_)"
   ]
  }
 ],
 "metadata": {
  "kernelspec": {
   "display_name": "Python 3",
   "language": "python",
   "name": "python3"
  },
  "language_info": {
   "codemirror_mode": {
    "name": "ipython",
    "version": 3
   },
   "file_extension": ".py",
   "mimetype": "text/x-python",
   "name": "python",
   "nbconvert_exporter": "python",
   "pygments_lexer": "ipython3",
   "version": "3.7.6"
  }
 },
 "nbformat": 4,
 "nbformat_minor": 4
}
