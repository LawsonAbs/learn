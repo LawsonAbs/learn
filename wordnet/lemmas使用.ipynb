{
 "cells": [
  {
   "cell_type": "code",
   "execution_count": 5,
   "metadata": {},
   "outputs": [
    {
     "name": "stdout",
     "output_type": "stream",
     "text": [
      "run_down.v.06\n",
      "play_out.v.02\n",
      "play_out.v.03\n",
      "play_out.v.04\n",
      "==================\n",
      "5\trun_down%2:40:00::,exhaust%2:40:00::,play_out%2:40:00::,sap%2:40:00::,tire%2:40:00::,\n",
      "1\tplay_out%2:36:00::,\n",
      "1\tplay_out%2:33:00::,\n",
      "1\tplay_out%2:30:00::,\n"
     ]
    }
   ],
   "source": [
    "\"\"\"lemmas 使用详情\n",
    "（1）可以简单将 lemmas 理解成帮助理解某个单词的 单词，每个单词不同的含义的lemmas 的个数是不同的\n",
    "\"\"\"\n",
    "from nltk.corpus import wordnet as wn\n",
    "synsets = wn.synsets(\"play_out\")\n",
    "for _ in synsets:    \n",
    "    name = _.name()  # eat.v.01 \n",
    "    print(name)\n",
    "print(\"==================\")\n",
    "for _ in synsets:\n",
    "    temp = wn.synset(_.name())\n",
    "    print(len(temp.lemmas()),end=\"\\t\")  # 这里的长度指的就是一个用于帮助\n",
    "    lemmas = temp.lemmas()\n",
    "    for lemma in lemmas:\n",
    "        print(lemma.key(),end=\",\")\n",
    "    print(\"\")"
   ]
  },
  {
   "cell_type": "code",
   "execution_count": 4,
   "metadata": {},
   "outputs": [
    {
     "name": "stdout",
     "output_type": "stream",
     "text": [
      "Synset('run_down.v.06')\n",
      "Synset('play_out.v.02')\n",
      "Synset('play_out.v.03')\n",
      "Synset('play_out.v.04')\n"
     ]
    }
   ],
   "source": [
    "\"\"\"根据wordnet 找出其中的单词含义\n",
    "\"\"\"\n",
    "from nltk.corpus import wordnet as wn\n",
    "synsets = wn.synsets(\"play_out\")\n",
    "for synset in synsets:\n",
    "    print(synset)"
   ]
  }
 ],
 "metadata": {
  "kernelspec": {
   "display_name": "Python 3",
   "language": "python",
   "name": "python3"
  },
  "language_info": {
   "codemirror_mode": {
    "name": "ipython",
    "version": 3
   },
   "file_extension": ".py",
   "mimetype": "text/x-python",
   "name": "python",
   "nbconvert_exporter": "python",
   "pygments_lexer": "ipython3",
   "version": "3.8.3"
  }
 },
 "nbformat": 4,
 "nbformat_minor": 4
}
