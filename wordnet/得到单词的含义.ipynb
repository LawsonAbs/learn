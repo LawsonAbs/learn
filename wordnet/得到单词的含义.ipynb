{
 "cells": [
  {
   "cell_type": "code",
   "execution_count": 9,
   "metadata": {},
   "outputs": [
    {
     "name": "stdout",
     "output_type": "stream",
     "text": [
      "<class 'list'>\n",
      "<class 'nltk.corpus.reader.wordnet.Synset'>\n",
      "neckwear consisting of a long narrow piece of material worn (mostly by men) under a collar and tied in knot at the front\n"
     ]
    }
   ],
   "source": [
    "from nltk.corpus import wordnet as wn\n",
    "a = wn.synsets('necktie') #\n",
    "print(type(a)) # class <list>\n",
    "for i in a:\n",
    "    print(type(i)) # <class 'nltk.corpus.reader.wordnet.Synset'>\n",
    "    print(i.definition()) # 得到该单词的具体释义"
   ]
  }
 ],
 "metadata": {
  "kernelspec": {
   "display_name": "Python 3",
   "language": "python",
   "name": "python3"
  },
  "language_info": {
   "codemirror_mode": {
    "name": "ipython",
    "version": 3
   },
   "file_extension": ".py",
   "mimetype": "text/x-python",
   "name": "python",
   "nbconvert_exporter": "python",
   "pygments_lexer": "ipython3",
   "version": "3.8.3"
  }
 },
 "nbformat": 4,
 "nbformat_minor": 4
}
