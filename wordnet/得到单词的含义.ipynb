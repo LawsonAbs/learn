{
 "cells": [
  {
   "cell_type": "code",
   "execution_count": 2,
   "metadata": {},
   "outputs": [
    {
     "name": "stdout",
     "output_type": "stream",
     "text": [
      "<class 'list'>\n",
      "a sense of concern with and curiosity about someone or something\n",
      "a reason for wanting something done\n",
      "the power of attracting or holding one's attention (because it is unusual or exciting etc.)\n",
      "a fixed charge for borrowing money; usually a percentage of the amount borrowed\n",
      "(law) a right or legal share of something; a financial involvement with something\n",
      "(usually plural) a social group whose members control some field of activity and who have common aims\n",
      "a diversion that occupies one's time and thoughts (usually pleasantly)\n",
      "excite the curiosity of; engage the interest of\n",
      "be on the mind of\n",
      "be of importance or consequence\n"
     ]
    }
   ],
   "source": [
    "from nltk.corpus import wordnet as wn\n",
    "a = wn.synsets('interest') #\n",
    "print(type(a)) # class <list>\n",
    "for i in a:\n",
    "    #print(type(i)) # <class 'nltk.corpus.reader.wordnet.Synset'>\n",
    "    print(i.definition()) # 得到该单词的具体释义"
   ]
  }
 ],
 "metadata": {
  "kernelspec": {
   "display_name": "Python 3",
   "language": "python",
   "name": "python3"
  },
  "language_info": {
   "codemirror_mode": {
    "name": "ipython",
    "version": 3
   },
   "file_extension": ".py",
   "mimetype": "text/x-python",
   "name": "python",
   "nbconvert_exporter": "python",
   "pygments_lexer": "ipython3",
   "version": "3.8.3"
  }
 },
 "nbformat": 4,
 "nbformat_minor": 4
}
