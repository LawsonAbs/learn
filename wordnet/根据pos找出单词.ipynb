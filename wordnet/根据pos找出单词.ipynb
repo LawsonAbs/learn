{
 "cells": [
  {
   "cell_type": "code",
   "execution_count": 31,
   "metadata": {},
   "outputs": [
    {
     "data": {
      "text/plain": [
       "[Synset('likely.a.01'),\n",
       " Synset('probable.a.01'),\n",
       " Synset('likely.s.03'),\n",
       " Synset('likely.s.04')]"
      ]
     },
     "execution_count": 31,
     "metadata": {},
     "output_type": "execute_result"
    }
   ],
   "source": [
    "\"\"\"\n",
    "根据pos 找出单词\n",
    "ADJ, ADJ_SAT, ADV, NOUN, VERB = ‘a’, ‘s’, ‘r’, ‘n’, ‘v’\n",
    "\"\"\"\n",
    "from nltk.corpus import wordnet as wn\n",
    "pos = ['a','r', 'n','v']\n",
    "wn.synsets('likely',pos='a') # doctest: +ELLIPSIS +NORMALIZE_WHITESPACE\n",
    "# [Synset('dog.n.01'), Synset('frump.n.01'), Synset('dog.n.03'), Synset('cad.n.01'),\n",
    "# Synset('frank.n.02'), Synset('pawl.n.01'), Synset('andiron.n.01'), Synset('chase.v.01')]\n",
    "#[Synset('chase.v.01')]"
   ]
  },
  {
   "cell_type": "code",
   "execution_count": 3,
   "metadata": {},
   "outputs": [
    {
     "data": {
      "text/plain": [
       "[Synset('chase.v.01')]"
      ]
     },
     "execution_count": 3,
     "metadata": {},
     "output_type": "execute_result"
    }
   ],
   "source": [
    "wn.synsets('dog', pos=wn.VERB) # 只找出verb的词"
   ]
  }
 ],
 "metadata": {
  "kernelspec": {
   "display_name": "Python 3",
   "language": "python",
   "name": "python3"
  },
  "language_info": {
   "codemirror_mode": {
    "name": "ipython",
    "version": 3
   },
   "file_extension": ".py",
   "mimetype": "text/x-python",
   "name": "python",
   "nbconvert_exporter": "python",
   "pygments_lexer": "ipython3",
   "version": "3.8.3"
  }
 },
 "nbformat": 4,
 "nbformat_minor": 4
}
