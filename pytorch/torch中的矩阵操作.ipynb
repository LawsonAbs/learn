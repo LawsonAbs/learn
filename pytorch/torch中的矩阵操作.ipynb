{
 "cells": [
  {
   "cell_type": "code",
   "execution_count": 1,
   "metadata": {},
   "outputs": [
    {
     "name": "stdout",
     "output_type": "stream",
     "text": [
      "tensor([[-1.2271,  1.3213,  1.6536],\n",
      "        [-1.0430, -2.3462,  0.9794]])\n",
      "tensor([[-1.2271, -1.0430],\n",
      "        [ 1.3213, -2.3462],\n",
      "        [ 1.6536,  0.9794]])\n",
      "tensor([[3, 4, 9, 5],\n",
      "        [7, 0, 8, 2]])\n",
      "tensor([[3, 7],\n",
      "        [4, 0],\n",
      "        [9, 8],\n",
      "        [5, 2]])\n"
     ]
    }
   ],
   "source": [
    "\"\"\"转置操作\n",
    "01.使用 transpose()算法\n",
    "02.直接使用.T运算\n",
    "\"\"\"\n",
    "import torch as t\n",
    "x = t.randn(2,3)\n",
    "print(x)\n",
    "y = t.transpose(x,0,1)\n",
    "print(y)\n",
    "\n",
    "a = t.randint(low=0,high=10,size=(2,4))\n",
    "print(a)\n",
    "print(a.T)"
   ]
  },
  {
   "cell_type": "code",
   "execution_count": 31,
   "metadata": {},
   "outputs": [
    {
     "name": "stdout",
     "output_type": "stream",
     "text": [
      "tensor([[0.2950, 0.7688],\n",
      "        [1.0563, 0.3699]])\n",
      "tensor([[-0.5262,  1.0936],\n",
      "        [ 1.5027, -0.4197]])\n"
     ]
    }
   ],
   "source": [
    "\"\"\"求逆操作\n",
    "\"\"\"\n",
    "a = t.randn(2,2)# 首先是方阵\n",
    "print(a)\n",
    "a = t.inverse(a) # 0,1 维度转置\n",
    "print(a)"
   ]
  },
  {
   "cell_type": "code",
   "execution_count": 8,
   "metadata": {},
   "outputs": [
    {
     "name": "stdout",
     "output_type": "stream",
     "text": [
      "tensor([[ 0.4862, -1.0051,  0.7971],\n",
      "        [-0.0050, -0.3028, -1.8324]])\n",
      "tensor([[ 0.5732,  1.2842],\n",
      "        [ 1.7247,  1.6100],\n",
      "        [ 0.6498, -0.3075]])\n",
      "tensor([[-0.9368, -1.2390],\n",
      "        [-1.7158,  0.0694]])\n"
     ]
    }
   ],
   "source": [
    "\"\"\"两个矩阵相乘\n",
    "\"\"\"\n",
    "import torch as t\n",
    "a = t.randn(2,3)\n",
    "b = t.randn(3,2)\n",
    "print(a)\n",
    "print(b)\n",
    "out = t.mm(a,b)\n",
    "print(out)"
   ]
  },
  {
   "cell_type": "code",
   "execution_count": 24,
   "metadata": {},
   "outputs": [
    {
     "name": "stdout",
     "output_type": "stream",
     "text": [
      "tensor([[-0.2780,  2.4118, -0.3247],\n",
      "        [-1.9200,  0.8557,  1.2388]])\n"
     ]
    }
   ],
   "source": [
    "\"\"\"数与矩阵相乘\n",
    "\"\"\"\n",
    "a = t.randn(2,3)\n",
    "c = a*2\n",
    "print(c)"
   ]
  },
  {
   "cell_type": "code",
   "execution_count": 19,
   "metadata": {},
   "outputs": [
    {
     "name": "stdout",
     "output_type": "stream",
     "text": [
      "tensor([[-0.0069, -0.2230, -0.4929],\n",
      "        [-1.3109, -0.7810,  0.4760]]) tensor([[ 1.4727],\n",
      "        [-0.1540],\n",
      "        [ 0.1902]])\n",
      "tensor([[-0.0696],\n",
      "        [-1.7197]])\n"
     ]
    }
   ],
   "source": [
    "\"\"\"矩阵和矩阵相乘\n",
    "\"\"\"\n",
    "a = t.randn(2,3)\n",
    "b = t.randn(3)\n",
    "b.unsqueeze_(1)\n",
    "print(a,b)\n",
    "out = t.mm(a,b)\n",
    "print(out)"
   ]
  },
  {
   "cell_type": "code",
   "execution_count": 8,
   "metadata": {},
   "outputs": [
    {
     "name": "stdout",
     "output_type": "stream",
     "text": [
      "tensor([3, 2, 1])\n"
     ]
    },
    {
     "data": {
      "text/plain": [
       "tensor(6)"
      ]
     },
     "execution_count": 8,
     "metadata": {},
     "output_type": "execute_result"
    }
   ],
   "source": [
    "'''矩阵求和\n",
    "01.直接使用.sum() 属性即可\n",
    "'''\n",
    "import torch as t\n",
    "a = t.randint(4,size=(3,)) # 注意这里的参数size必须是tuple\n",
    "print(a)\n",
    "a.sum() # 输出tensor中所有元素的和"
   ]
  }
 ],
 "metadata": {
  "kernelspec": {
   "display_name": "Python 3",
   "language": "python",
   "name": "python3"
  },
  "language_info": {
   "codemirror_mode": {
    "name": "ipython",
    "version": 3
   },
   "file_extension": ".py",
   "mimetype": "text/x-python",
   "name": "python",
   "nbconvert_exporter": "python",
   "pygments_lexer": "ipython3",
   "version": "3.8.3"
  }
 },
 "nbformat": 4,
 "nbformat_minor": 4
}
