{
 "cells": [
  {
   "cell_type": "code",
   "execution_count": 10,
   "metadata": {},
   "outputs": [
    {
     "name": "stdout",
     "output_type": "stream",
     "text": [
      "tensor([[ 0.7234, -0.6180, -1.0720, -1.2034],\n",
      "        [ 0.5038, -0.8752,  1.7533, -0.0799]])\n"
     ]
    }
   ],
   "source": [
    "import torch as t\n",
    "a = t.randn(2,4) # 随机初始化一个矩阵\n",
    "print(a)\n",
    "\n",
    "# step 1. 计算行向量的长度\n",
    "len_a = t.sqrt(t.sum(a**2,dim=-1))\n",
    "print(len_a)\n",
    "\n",
    "b = len_a.unsqueeze(1).expand(-1,2)\n",
    "c = len_a.expand(2,-1)\n",
    "# print(b)\n",
    "# print(c)\n",
    "\n",
    "# step2. 计算乘积\n",
    "x = a @ a.T\n",
    "print(x)\n",
    "\n",
    "# step3. 计算最后的结果\n",
    "res = x/(b*c)\n",
    "print(res)"
   ]
  },
  {
   "cell_type": "code",
   "execution_count": 21,
   "metadata": {},
   "outputs": [
    {
     "data": {
      "text/plain": [
       "tensor(-0.2317)"
      ]
     },
     "execution_count": 21,
     "metadata": {},
     "output_type": "execute_result"
    }
   ],
   "source": [
    "# step4. 验证结果\n",
    "t.cosine_similarity(a[0],a[1],dim=0)"
   ]
  }
 ],
 "metadata": {
  "kernelspec": {
   "display_name": "Python 3",
   "language": "python",
   "name": "python3"
  },
  "language_info": {
   "codemirror_mode": {
    "name": "ipython",
    "version": 3
   },
   "file_extension": ".py",
   "mimetype": "text/x-python",
   "name": "python",
   "nbconvert_exporter": "python",
   "pygments_lexer": "ipython3",
   "version": "3.8.3"
  }
 },
 "nbformat": 4,
 "nbformat_minor": 4
}
