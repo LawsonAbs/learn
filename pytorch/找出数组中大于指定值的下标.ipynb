{
 "cells": [
  {
   "cell_type": "code",
   "execution_count": 15,
   "metadata": {},
   "outputs": [
    {
     "name": "stdout",
     "output_type": "stream",
     "text": [
      "[[1 1]\n",
      " [1 2]\n",
      " [2 0]\n",
      " [2 1]\n",
      " [2 2]\n",
      " [3 0]\n",
      " [3 1]\n",
      " [3 2]]\n",
      "1 1\n",
      "tensor(5)\n",
      "1 2\n",
      "tensor(6)\n",
      "2 0\n",
      "tensor(5)\n",
      "2 1\n",
      "tensor(6)\n",
      "2 2\n",
      "tensor(7)\n",
      "3 0\n",
      "tensor(6)\n",
      "3 1\n",
      "tensor(7)\n",
      "3 2\n",
      "tensor(8)\n"
     ]
    }
   ],
   "source": [
    "\"\"\"\n",
    "查找二维tensor中大于某个值的下标\n",
    "pytorch中是没有直接的函数来解决这个问题，需要借助numpy来实现\n",
    "\"\"\"\n",
    "\n",
    "import torch\n",
    "import numpy as np \n",
    "a = torch.tensor( [[1,2,3],[4,5,6],[5,6,7],[6,7,8]] )\n",
    "threshold = torch.tensor([[4,4,4],[4,4,4],[4,4,4],[4,4,4]]).numpy()\n",
    "a2n = a.numpy()\n",
    "index = np.argwhere( a2n>threshold )\n",
    "print(index)\n",
    "for i,j in (index):\n",
    "    print(i,j)\n",
    "    print(a[i,j])    "
   ]
  },
  {
   "cell_type": "code",
   "execution_count": null,
   "metadata": {},
   "outputs": [],
   "source": []
  }
 ],
 "metadata": {
  "kernelspec": {
   "display_name": "Python 3",
   "language": "python",
   "name": "python3"
  },
  "language_info": {
   "codemirror_mode": {
    "name": "ipython",
    "version": 3
   },
   "file_extension": ".py",
   "mimetype": "text/x-python",
   "name": "python",
   "nbconvert_exporter": "python",
   "pygments_lexer": "ipython3",
   "version": "3.8.3"
  }
 },
 "nbformat": 4,
 "nbformat_minor": 4
}
