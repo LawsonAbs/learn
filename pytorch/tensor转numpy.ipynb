{
 "cells": [
  {
   "cell_type": "code",
   "execution_count": 6,
   "metadata": {},
   "outputs": [
    {
     "name": "stdout",
     "output_type": "stream",
     "text": [
      "<class 'torch.Tensor'>\n",
      "tensor([[7, 7, 7],\n",
      "        [4, 4, 6]])\n",
      "<class 'numpy.ndarray'>\n",
      "[[7 7 7]\n",
      " [4 4 6]]\n"
     ]
    }
   ],
   "source": [
    "'''tensor 转numpy\n",
    "'''\n",
    "import numpy as np\n",
    "import torch as t\n",
    "\n",
    "a = t.randint(1,10,(2,3))\n",
    "print(type(a))\n",
    "print(a)\n",
    "# 转为numpy array\n",
    "na = a.numpy()\n",
    "print(type(na))\n",
    "print(na)"
   ]
  }
 ],
 "metadata": {
  "kernelspec": {
   "display_name": "Python 3",
   "language": "python",
   "name": "python3"
  },
  "language_info": {
   "codemirror_mode": {
    "name": "ipython",
    "version": 3
   },
   "file_extension": ".py",
   "mimetype": "text/x-python",
   "name": "python",
   "nbconvert_exporter": "python",
   "pygments_lexer": "ipython3",
   "version": "3.7.6"
  }
 },
 "nbformat": 4,
 "nbformat_minor": 4
}
