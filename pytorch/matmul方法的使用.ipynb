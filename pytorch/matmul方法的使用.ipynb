{
 "cells": [
  {
   "cell_type": "code",
   "execution_count": 2,
   "metadata": {},
   "outputs": [
    {
     "name": "stdout",
     "output_type": "stream",
     "text": [
      "torch.Size([3])\n",
      "tensor(2.3791)\n",
      "torch.Size([])\n"
     ]
    }
   ],
   "source": [
    "\"\"\"\n",
    "1.两个一维向量相乘得到的结果是一个标量，所以out.size()显示的结果是空\n",
    "\"\"\"\n",
    "import torch  as t\n",
    "tensor1 = t.randn(3)\n",
    "tensor2 = t.randn(3)\n",
    "print(tensor1.size())\n",
    "out = t.matmul(tensor1, tensor2)\n",
    "print(out)\n",
    "print(out.size())"
   ]
  },
  {
   "cell_type": "code",
   "execution_count": 7,
   "metadata": {},
   "outputs": [
    {
     "name": "stdout",
     "output_type": "stream",
     "text": [
      "tensor([[ 0.2813,  0.1826,  0.6718,  0.3764],\n",
      "        [ 1.1486, -0.0643,  0.1265,  1.7483],\n",
      "        [ 0.5157,  1.0022,  0.3541,  0.3558]])\n",
      "tensor([-0.5204,  1.5590,  0.8729,  0.3845])\n",
      "tensor([0.8695, 0.0846, 1.7401])\n",
      "torch.Size([3])\n"
     ]
    }
   ],
   "source": [
    "'''\n",
    "2.矩阵和向量相乘\n",
    "matrix x vector\n",
    "'''\n",
    "tensor1 = t.randn(3, 4)\n",
    "tensor2 = t.randn(4)\n",
    "print(tensor1)\n",
    "print(tensor2)\n",
    "out = t.matmul(tensor1, tensor2)\n",
    "print(out)\n",
    "print(out.size())"
   ]
  },
  {
   "cell_type": "code",
   "execution_count": 5,
   "metadata": {},
   "outputs": [
    {
     "name": "stdout",
     "output_type": "stream",
     "text": [
      "tensor([[[-0.2109, -0.4413]],\n",
      "\n",
      "        [[ 1.7581, -2.2711]]])\n",
      "tensor([[[ 0.4045,  0.3701, -0.4339],\n",
      "         [-0.2783,  1.6995, -0.0740]],\n",
      "\n",
      "        [[-1.6027, -0.7671, -1.0984],\n",
      "         [ 0.4339, -0.8755, -0.3835]]])\n"
     ]
    }
   ],
   "source": [
    "\"\"\"\n",
    "3.高维矩阵的乘法\n",
    "\"\"\"\n",
    "import torch as t\n",
    "a = t.randn(2,1,2)\n",
    "b = t.randn(2,2,3)\n",
    "print(a)\n",
    "print(b)"
   ]
  },
  {
   "cell_type": "code",
   "execution_count": 7,
   "metadata": {},
   "outputs": [
    {
     "name": "stdout",
     "output_type": "stream",
     "text": [
      "tensor([[[ 0.0375, -0.8280,  0.1242]],\n",
      "\n",
      "        [[-3.8030,  0.6398, -1.0601]]])\n",
      "torch.Size([2, 1, 3])\n"
     ]
    }
   ],
   "source": [
    "res = t.matmul(a,b)\n",
    "print(res)\n",
    "print(res.shape)"
   ]
  }
 ],
 "metadata": {
  "kernelspec": {
   "display_name": "Python 3",
   "language": "python",
   "name": "python3"
  },
  "language_info": {
   "codemirror_mode": {
    "name": "ipython",
    "version": 3
   },
   "file_extension": ".py",
   "mimetype": "text/x-python",
   "name": "python",
   "nbconvert_exporter": "python",
   "pygments_lexer": "ipython3",
   "version": "3.8.3"
  }
 },
 "nbformat": 4,
 "nbformat_minor": 4
}
