{
 "cells": [
  {
   "cell_type": "code",
   "execution_count": 5,
   "metadata": {},
   "outputs": [
    {
     "name": "stdout",
     "output_type": "stream",
     "text": [
      "tensor([[[-0.2109, -0.4413]],\n",
      "\n",
      "        [[ 1.7581, -2.2711]]])\n",
      "tensor([[[ 0.4045,  0.3701, -0.4339],\n",
      "         [-0.2783,  1.6995, -0.0740]],\n",
      "\n",
      "        [[-1.6027, -0.7671, -1.0984],\n",
      "         [ 0.4339, -0.8755, -0.3835]]])\n"
     ]
    }
   ],
   "source": [
    "\"\"\"\n",
    "1.高维矩阵的乘法\n",
    "\"\"\"\n",
    "import torch as t\n",
    "a = t.randn(2,1,2)\n",
    "b = t.randn(2,2,3)\n",
    "print(a)\n",
    "print(b)"
   ]
  },
  {
   "cell_type": "code",
   "execution_count": 7,
   "metadata": {},
   "outputs": [
    {
     "name": "stdout",
     "output_type": "stream",
     "text": [
      "tensor([[[ 0.0375, -0.8280,  0.1242]],\n",
      "\n",
      "        [[-3.8030,  0.6398, -1.0601]]])\n",
      "torch.Size([2, 1, 3])\n"
     ]
    }
   ],
   "source": [
    "res = t.matmul(a,b) # 只需要保证\n",
    "print(res)\n",
    "print(res.shape)"
   ]
  },
  {
   "cell_type": "code",
   "execution_count": 12,
   "metadata": {},
   "outputs": [
    {
     "name": "stdout",
     "output_type": "stream",
     "text": [
      "tensor([[[ 1.8795, -0.5695]],\n",
      "\n",
      "        [[ 0.0677,  0.1713]]])\n",
      "tensor([[ 1.8795, -0.5695],\n",
      "        [ 0.0677,  0.1713]])\n",
      "tensor([[[ 1.8795, -0.5695]],\n",
      "\n",
      "        [[ 0.0677,  0.1713]]])\n"
     ]
    }
   ],
   "source": [
    "a = t.randn(2,1,2)\n",
    "print(a)\n",
    "a.squeeze_()\n",
    "print(a)\n",
    "a.unsqueeze_(1)\n",
    "print(a)"
   ]
  },
  {
   "cell_type": "code",
   "execution_count": 14,
   "metadata": {},
   "outputs": [
    {
     "name": "stdout",
     "output_type": "stream",
     "text": [
      "torch.Size([2, 1, 2])\n"
     ]
    }
   ],
   "source": [
    "print(a.size())"
   ]
  },
  {
   "cell_type": "code",
   "execution_count": null,
   "metadata": {},
   "outputs": [],
   "source": []
  }
 ],
 "metadata": {
  "kernelspec": {
   "display_name": "Python 3",
   "language": "python",
   "name": "python3"
  },
  "language_info": {
   "codemirror_mode": {
    "name": "ipython",
    "version": 3
   },
   "file_extension": ".py",
   "mimetype": "text/x-python",
   "name": "python",
   "nbconvert_exporter": "python",
   "pygments_lexer": "ipython3",
   "version": "3.8.3"
  }
 },
 "nbformat": 4,
 "nbformat_minor": 4
}
