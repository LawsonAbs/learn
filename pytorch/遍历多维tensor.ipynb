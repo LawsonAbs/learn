{
 "cells": [
  {
   "cell_type": "code",
   "execution_count": 24,
   "metadata": {},
   "outputs": [
    {
     "name": "stdout",
     "output_type": "stream",
     "text": [
      "tensor([[[0.1163, 0.2167, 0.0756, 0.3868, 0.2047],\n",
      "         [0.1552, 0.0730, 0.1048, 0.2332, 0.4337],\n",
      "         [0.3775, 0.1734, 0.0337, 0.0691, 0.3464]],\n",
      "\n",
      "        [[0.0486, 0.3635, 0.3236, 0.1691, 0.0952],\n",
      "         [0.4997, 0.2262, 0.1284, 0.0676, 0.0781],\n",
      "         [0.1052, 0.1369, 0.4606, 0.1261, 0.1713]]])\n",
      "tensor([[3, 4, 0],\n",
      "        [1, 0, 2]])\n",
      "tensor([0.1163, 0.2167, 0.0756, 0.3868, 0.2047])\n",
      "tensor(3)\n",
      "tensor([0.1552, 0.0730, 0.1048, 0.2332, 0.4337])\n",
      "tensor(4)\n",
      "tensor([0.3775, 0.1734, 0.0337, 0.0691, 0.3464])\n",
      "tensor(0)\n",
      "tensor([0.0486, 0.3635, 0.3236, 0.1691, 0.0952])\n",
      "tensor(1)\n",
      "tensor([0.4997, 0.2262, 0.1284, 0.0676, 0.0781])\n",
      "tensor(0)\n",
      "tensor([0.1052, 0.1369, 0.4606, 0.1261, 0.1713])\n",
      "tensor(2)\n"
     ]
    }
   ],
   "source": [
    "import torch as t  \n",
    "import torch.nn as nn\n",
    "p = nn.Softmax(-1)  # 归一化\n",
    "a = t.tensor([[[ 0.0751,  0.6976, -0.3559,  1.2769,  0.6405],\n",
    "         [-0.1694, -0.9238, -0.5621,  0.2378,  0.8581],\n",
    "         [ 0.9612,  0.1831, -1.4554, -0.7368,  0.8751]],\n",
    "\n",
    "        [[-0.6989,  1.3134,  1.1969,  0.5478, -0.0264],\n",
    "         [ 0.7105, -0.0821, -0.6481, -1.2904, -1.1449],\n",
    "         [-0.3192, -0.0562,  1.1572, -0.1383,  0.1679]]])\n",
    "a = p(a)\n",
    "print(a)\n",
    "index = a.argmax(-1)\n",
    "print(index)\n",
    "\n",
    "# 下面是使用for循环得到答案\n",
    "for i in a:\n",
    "    for j in i:\n",
    "        print(j)\n",
    "        print(j.argmax())  # 得到tensor某个维度上的最大值的下标"
   ]
  },
  {
   "cell_type": "code",
   "execution_count": 27,
   "metadata": {},
   "outputs": [
    {
     "name": "stdout",
     "output_type": "stream",
     "text": [
      "3\n",
      "4\n",
      "0\n",
      "1\n",
      "0\n",
      "2\n"
     ]
    }
   ],
   "source": [
    "for i in index:\n",
    "    for j in i:\n",
    "        print(j.item())"
   ]
  }
 ],
 "metadata": {
  "kernelspec": {
   "display_name": "Python 3",
   "language": "python",
   "name": "python3"
  },
  "language_info": {
   "codemirror_mode": {
    "name": "ipython",
    "version": 3
   },
   "file_extension": ".py",
   "mimetype": "text/x-python",
   "name": "python",
   "nbconvert_exporter": "python",
   "pygments_lexer": "ipython3",
   "version": "3.7.6"
  }
 },
 "nbformat": 4,
 "nbformat_minor": 4
}
