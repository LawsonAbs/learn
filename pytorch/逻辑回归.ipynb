{
 "cells": [
  {
   "cell_type": "code",
   "execution_count": 29,
   "metadata": {},
   "outputs": [
    {
     "name": "stdout",
     "output_type": "stream",
     "text": [
      "tensor([[1.6454, 2.5801],\n",
      "        [1.9095, 1.0052],\n",
      "        [3.0187, 2.1568],\n",
      "        [2.4579, 2.6505],\n",
      "        [1.6471, 1.9109],\n",
      "        [1.6653, 1.4552],\n",
      "        [1.8138, 3.0262],\n",
      "        [1.6979, 2.7808],\n",
      "        [0.8612, 1.6998],\n",
      "        [3.6749, 1.8318]])\n"
     ]
    },
    {
     "data": {
      "image/png": "[encoded data removed]",
      "text/plain": [
       "<Figure size 432x288 with 1 Axes>"
      ]
     },
     "metadata": {
      "needs_background": "light"
     },
     "output_type": "display_data"
    }
   ],
   "source": [
    "import torch\n",
    "import torch.nn as nn\n",
    "import matplotlib.pyplot as plt\n",
    "\n",
    "# 假数据\n",
    "n_data = torch.ones(10, 2)         # 数据的基本形态\n",
    "x0 = torch.normal(2*n_data, 1)      # 类型0 x data (tensor), shape=(100, 2)\n",
    "y0 = torch.zeros(10)               # 类型0 y data (tensor), shape=(100, 1)\n",
    "x1 = torch.normal(-2*n_data, 1)     # 类型1 x data (tensor), shape=(100, 1)\n",
    "y1 = torch.ones(10)                # 类型1 y data (tensor), shape=(100, 1)\n",
    "\n",
    "\"\"\"\n",
    "print(n_data) # size 为10行2列； size=(10,2)\n",
    "print(type(n_data)) # <class 'torch.Tensor'>\n",
    "\"\"\"\n",
    "\n",
    "print(x0)\n",
    "\n",
    "# 注意 x, y 数据的数据形式是一定要像下面一样 (torch.cat 是在合并数据)\n",
    "x = torch.cat((x0, x1), 0).type(torch.FloatTensor)  # FloatTensor = 32-bit floating\n",
    "y = torch.cat((y0, y1), 0).type(torch.FloatTensor)    # LongTensor = 64-bit integer\n",
    "\n",
    "# 画图\n",
    "plt.scatter(x.data.numpy()[:, 0], x.data.numpy()[:, 1], c=y.data.numpy(), s=100, lw=0, cmap='RdYlGn')\n",
    "plt.show()"
   ]
  },
  {
   "cell_type": "code",
   "execution_count": null,
   "metadata": {},
   "outputs": [],
   "source": []
  },
  {
   "cell_type": "code",
   "execution_count": null,
   "metadata": {},
   "outputs": [],
   "source": []
  },
  {
   "cell_type": "code",
   "execution_count": 15,
   "metadata": {},
   "outputs": [
    {
     "name": "stdout",
     "output_type": "stream",
     "text": [
      "LogisticRegression()\n",
      "None\n"
     ]
    }
   ],
   "source": [
    "import torch\n",
    "import torch.nn as nn\n",
    "\n",
    "#=========step1.定义相关模型\n",
    "\"\"\"\n",
    "使用逻辑回归\n",
    "\"\"\"\n",
    "class LogisticRegression(torch.nn.Module):\n",
    "    # 将所有的层放在构造函数 __init__()里面，各个层的连接关系放到forward()里面\n",
    "    def __init__(self):\n",
    "        super().__init__()  # 第一句话，调用父类的构造函数        \n",
    "        \n",
    "    # x 就是待处理的数据\n",
    "    def forward(self, x):            \n",
    "        x = x * w + b  # \n",
    "        x = sigmoid(x)\n",
    "        return x\n",
    " \n",
    "model = LogisticRegression()\n",
    "print(model)\n",
    "\n",
    "li = [12,2,3]\n",
    "movie_data = torch.tensor(li)\n",
    "\n",
    "#========= step2.loading the data\n",
    "data_loader = torch.utils.data.DataLoader(movie_data,\n",
    "                                         batch_size = 1,\n",
    "                                         shuffle = True)\n",
    "\n",
    "#========= step3.定义训练结构\n",
    "loss = nn.BCEWithLogitsLoss()\n",
    "input = torch.randn(3,requires_grad=True)\n",
    "target = torch.empty(3).random_(2)\n",
    "output = loss(input,target)\n",
    "print(output.backward())\n",
    "\n",
    "\n",
    "#========= step4.开始训练\n",
    "for _ in data_loader:\n",
    "    pass"
   ]
  }
 ],
 "metadata": {
  "kernelspec": {
   "display_name": "Python 3",
   "language": "python",
   "name": "python3"
  },
  "language_info": {
   "codemirror_mode": {
    "name": "ipython",
    "version": 3
   },
   "file_extension": ".py",
   "mimetype": "text/x-python",
   "name": "python",
   "nbconvert_exporter": "python",
   "pygments_lexer": "ipython3",
   "version": "3.7.3"
  }
 },
 "nbformat": 4,
 "nbformat_minor": 4
}
