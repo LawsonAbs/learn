{
 "cells": [
  {
   "cell_type": "code",
   "execution_count": 62,
   "metadata": {},
   "outputs": [
    {
     "name": "stdout",
     "output_type": "stream",
     "text": [
      "tensor([[ 1,  1,  1,  1,  1],\n",
      "        [ 4,  4,  4,  4,  4],\n",
      "        [ 3,  3,  3,  3,  3],\n",
      "        [ 1,  1,  1,  1,  1],\n",
      "        [ 4,  4,  4,  4,  4],\n",
      "        [-1, -1, -1, -1, -1]])\n",
      "tensor([[0, 1, 2, 3, 4],\n",
      "        [0, 1, 2, 3, 4],\n",
      "        [0, 1, 2, 3, 4],\n",
      "        [0, 1, 2, 3, 4],\n",
      "        [0, 1, 2, 3, 4],\n",
      "        [0, 1, 2, 3, 4]])\n",
      "tensor([[0., 0., 0., 0., 0., 0.],\n",
      "        [1., 0., 0., 1., 0., 0.],\n",
      "        [0., 0., 0., 0., 0., 0.],\n",
      "        [0., 0., 1., 0., 0., 0.],\n",
      "        [0., 1., 0., 0., 1., 0.]], device='cuda:0')\n"
     ]
    }
   ],
   "source": [
    "'''\n",
    "详细需求见博客：blog.csdn.net/liu16659/article/details/123141749\n",
    "'''\n",
    "import torch as t\n",
    "idx = t.tensor([1,4,3,1,4,-1])\n",
    "idxs = idx.unsqueeze(-1).expand(-1,5)\n",
    "print(idxs)\n",
    "mask = t.arange(5).unsqueeze(0).expand(6,-1)\n",
    "print(mask)\n",
    "target = ((mask==idxs)+0.0).T.cuda()\n",
    "print(target)"
   ]
  },
  {
   "cell_type": "code",
   "execution_count": 63,
   "metadata": {},
   "outputs": [
    {
     "name": "stdout",
     "output_type": "stream",
     "text": [
      "tensor([[ 0.7542, -2.5505, -1.1235, -0.3423, -0.7733,  1.0488,  2.2013, -1.9242,\n",
      "         -0.0732,  1.9141],\n",
      "        [ 0.8897,  1.0723,  0.6300,  0.4611, -0.3779,  0.6919,  0.5005, -1.2247,\n",
      "          1.1957, -1.5616],\n",
      "        [-0.8819, -1.0969, -1.6228,  0.3557,  0.5266,  0.5349, -0.8717,  0.3849,\n",
      "          1.5639,  0.2757],\n",
      "        [ 0.9590,  0.9533, -0.1481,  1.0637, -1.1497,  1.3199,  0.2898,  1.2236,\n",
      "         -1.9404,  1.2889],\n",
      "        [ 3.2047, -0.8555, -0.6922,  0.2186,  1.6416, -0.8705,  0.0182, -1.5883,\n",
      "          1.8285, -1.1370],\n",
      "        [-0.5398,  0.1164, -1.3388,  0.1348, -0.2662, -0.5528, -1.3499,  1.4274,\n",
      "         -1.4706,  0.7996]], device='cuda:0')\n"
     ]
    }
   ],
   "source": [
    "a = t.randn(6,10,dtype=t.float32).cuda()\n",
    "print(a)\n",
    "pred = t.zeros(5,10).cuda()\n",
    "for i in range(len(a)):\n",
    "    cur_pred = a[i]\n",
    "    cur_idx = idx[i].item() # 得到当前预测值对应的下标\n",
    "    if cur_idx > 0:\n",
    "        pred[cur_idx] += cur_pred        \n",
    "print(pred)\n",
    "res = target@a\n",
    "print(res)"
   ]
  }
 ],
 "metadata": {
  "kernelspec": {
   "display_name": "Python 3",
   "language": "python",
   "name": "python3"
  },
  "language_info": {
   "codemirror_mode": {
    "name": "ipython",
    "version": 3
   },
   "file_extension": ".py",
   "mimetype": "text/x-python",
   "name": "python",
   "nbconvert_exporter": "python",
   "pygments_lexer": "ipython3",
   "version": "3.8.3"
  }
 },
 "nbformat": 4,
 "nbformat_minor": 4
}
