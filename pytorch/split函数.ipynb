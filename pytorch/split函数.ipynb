{
 "cells": [
  {
   "cell_type": "code",
   "execution_count": 4,
   "metadata": {},
   "outputs": [
    {
     "name": "stdout",
     "output_type": "stream",
     "text": [
      "tensor([[[-0.0169,  0.5554],\n",
      "         [-0.6484,  0.1173]],\n",
      "\n",
      "        [[-0.1961, -0.2963],\n",
      "         [ 0.5481, -0.1623]],\n",
      "\n",
      "        [[ 0.2594, -2.0767],\n",
      "         [ 0.1057,  0.2872]]])\n",
      "(tensor([[[-0.0169,  0.5554],\n",
      "         [-0.6484,  0.1173]]]), tensor([[[-0.1961, -0.2963],\n",
      "         [ 0.5481, -0.1623]]]), tensor([[[ 0.2594, -2.0767],\n",
      "         [ 0.1057,  0.2872]]]))\n"
     ]
    }
   ],
   "source": [
    "import torch\n",
    "weight = torch.randn(3,2,2)\n",
    "print(weight)\n",
    "a = torch.split(weight, 1, dim=0) # 沿着dim这个维度切分，然后每个tensor的切割单位都是1。\n",
    "print(a)"
   ]
  }
 ],
 "metadata": {
  "kernelspec": {
   "display_name": "Python 3 (ipykernel)",
   "language": "python",
   "name": "python3"
  },
  "language_info": {
   "codemirror_mode": {
    "name": "ipython",
    "version": 3
   },
   "file_extension": ".py",
   "mimetype": "text/x-python",
   "name": "python",
   "nbconvert_exporter": "python",
   "pygments_lexer": "ipython3",
   "version": "3.8.3"
  }
 },
 "nbformat": 4,
 "nbformat_minor": 4
}
