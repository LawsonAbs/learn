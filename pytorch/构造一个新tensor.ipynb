{
 "cells": [
  {
   "cell_type": "code",
   "execution_count": 19,
   "metadata": {},
   "outputs": [
    {
     "name": "stdout",
     "output_type": "stream",
     "text": [
      "tensor([1, 2, 3, 4])\n",
      "torch.int64\n",
      "tensor([1, 2])\n",
      "torch.int64\n"
     ]
    }
   ],
   "source": [
    "\"\"\"\n",
    "1.将list传入到tensor()中，然后得到一个tensor\n",
    "01.指定tensor 的类型，否则就是由传入的数据类型转换得到\n",
    "\"\"\"\n",
    "import torch as t\n",
    "a = [1,2,3,4]\n",
    "a = t.tensor(a)  # 转成 tensor\n",
    "print(a)\n",
    "print(a.dtype) # 输出tensor的类型\n",
    "\n",
    "b = t.tensor([1,2,],dtype=t.long)\n",
    "print(b)\n",
    "print(b.dtype)"
   ]
  },
  {
   "cell_type": "code",
   "execution_count": 6,
   "metadata": {},
   "outputs": [
    {
     "name": "stdout",
     "output_type": "stream",
     "text": [
      "tensor([[-1.2767,  0.9629, -0.2651],\n",
      "        [ 0.4322,  0.5722, -1.5296]])\n"
     ]
    }
   ],
   "source": [
    "\"\"\"2.使用randn()函数构建一个tensor\n",
    "\"\"\"\n",
    "a = t.randn(2,3) # 得到的就是一个size = [2,3]的矩阵\n",
    "print(a)"
   ]
  },
  {
   "cell_type": "code",
   "execution_count": 12,
   "metadata": {},
   "outputs": [
    {
     "name": "stdout",
     "output_type": "stream",
     "text": [
      "tensor([[2, 1, 4],\n",
      "        [3, 2, 0]])\n"
     ]
    }
   ],
   "source": [
    "\"\"\"3.使用randint()函数构建一个tensor\n",
    "\"\"\"\n",
    "b = t.randint(5,(2,3)) # int的大小是\n",
    "print(b)"
   ]
  }
 ],
 "metadata": {
  "kernelspec": {
   "display_name": "Python 3",
   "language": "python",
   "name": "python3"
  },
  "language_info": {
   "codemirror_mode": {
    "name": "ipython",
    "version": 3
   },
   "file_extension": ".py",
   "mimetype": "text/x-python",
   "name": "python",
   "nbconvert_exporter": "python",
   "pygments_lexer": "ipython3",
   "version": "3.8.3"
  }
 },
 "nbformat": 4,
 "nbformat_minor": 4
}
