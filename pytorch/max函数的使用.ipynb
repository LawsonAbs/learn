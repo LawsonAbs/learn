{
 "cells": [
  {
   "cell_type": "code",
   "execution_count": 5,
   "metadata": {},
   "outputs": [],
   "source": [
    "\"\"\"\n",
    "找出最大值，以及最大值所在的下标\n",
    "\"\"\"\n",
    "import torch as t\n",
    "a = t.tensor([ -2.8309, -10.0151,  -0.0609, -10.9483])\n",
    "print(a)\n",
    "val = t.max(a) # 找出最大数\n",
    "print(val)\n",
    "idx = t.max(a,dim=0) # 找出最大值所在的下标\n",
    "print(idx) "
   ]
  }
 ],
 "metadata": {
  "kernelspec": {
   "display_name": "Python 3",
   "language": "python",
   "name": "python3"
  },
  "language_info": {
   "codemirror_mode": {
    "name": "ipython",
    "version": 3
   },
   "file_extension": ".py",
   "mimetype": "text/x-python",
   "name": "python",
   "nbconvert_exporter": "python",
   "pygments_lexer": "ipython3",
   "version": "3.8.3"
  }
 },
 "nbformat": 4,
 "nbformat_minor": 4
}
