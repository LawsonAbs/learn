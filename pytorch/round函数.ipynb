{
 "cells": [
  {
   "cell_type": "code",
   "execution_count": 2,
   "metadata": {},
   "outputs": [
    {
     "name": "stdout",
     "output_type": "stream",
     "text": [
      "tensor([[ 2.0728, -1.2257],\n",
      "        [ 4.2254, -2.8807],\n",
      "        [ 1.8024, -0.8158],\n",
      "        [ 1.7036, -0.1472],\n",
      "        [ 4.7737, -3.4820],\n",
      "        [ 4.7758, -3.5907],\n",
      "        [ 2.5706, -1.9151],\n",
      "        [ 5.6989, -4.1038],\n",
      "        [ 5.0982, -3.8049],\n",
      "        [ 4.3292, -3.6071],\n",
      "        [ 4.0132, -3.0505],\n",
      "        [ 4.0091, -2.7122],\n",
      "        [ 2.5394, -1.0651],\n",
      "        [-1.5847,  1.5862],\n",
      "        [ 0.9434, -0.1595],\n",
      "        [-1.1590,  2.3329]])\n"
     ]
    },
    {
     "ename": "TypeError",
     "evalue": "round() takes 1 positional argument but 2 were given",
     "output_type": "error",
     "traceback": [
      "\u001b[0;31m---------------------------------------------------------------------------\u001b[0m",
      "\u001b[0;31mTypeError\u001b[0m                                 Traceback (most recent call last)",
      "\u001b[0;32m<ipython-input-2-01bd09adf24c>\u001b[0m in \u001b[0;36m<module>\u001b[0;34m\u001b[0m\n\u001b[1;32m     25\u001b[0m \u001b[0msoftmax\u001b[0m \u001b[0;34m=\u001b[0m \u001b[0mnn\u001b[0m\u001b[0;34m.\u001b[0m\u001b[0mSoftmax\u001b[0m\u001b[0;34m(\u001b[0m\u001b[0mdim\u001b[0m\u001b[0;34m=\u001b[0m\u001b[0;34m-\u001b[0m\u001b[0;36m1\u001b[0m\u001b[0;34m)\u001b[0m\u001b[0;34m\u001b[0m\u001b[0;34m\u001b[0m\u001b[0m\n\u001b[1;32m     26\u001b[0m \u001b[0mb\u001b[0m \u001b[0;34m=\u001b[0m \u001b[0msoftmax\u001b[0m\u001b[0;34m(\u001b[0m\u001b[0ma\u001b[0m\u001b[0;34m)\u001b[0m\u001b[0;34m\u001b[0m\u001b[0;34m\u001b[0m\u001b[0m\n\u001b[0;32m---> 27\u001b[0;31m \u001b[0mb\u001b[0m \u001b[0;34m=\u001b[0m \u001b[0mt\u001b[0m\u001b[0;34m.\u001b[0m\u001b[0mround\u001b[0m\u001b[0;34m(\u001b[0m\u001b[0mb\u001b[0m\u001b[0;34m,\u001b[0m\u001b[0;36m2\u001b[0m\u001b[0;34m)\u001b[0m\u001b[0;34m\u001b[0m\u001b[0;34m\u001b[0m\u001b[0m\n\u001b[0m\u001b[1;32m     28\u001b[0m \u001b[0mprint\u001b[0m\u001b[0;34m(\u001b[0m\u001b[0mb\u001b[0m\u001b[0;34m)\u001b[0m\u001b[0;34m\u001b[0m\u001b[0;34m\u001b[0m\u001b[0m\n",
      "\u001b[0;31mTypeError\u001b[0m: round() takes 1 positional argument but 2 were given"
     ]
    }
   ],
   "source": [
    "\"\"\"\n",
    "torch 中的四舍五入\n",
    "round()函数：Returns a new tensor with each of the elements of input rounded to the closest integer.\n",
    "也就是说，只会找到最接近的整数\n",
    "\"\"\"\n",
    "import torch as t\n",
    "a = t.tensor([[ 2.0728, -1.2257],\n",
    "        [ 4.2254, -2.8807],\n",
    "        [ 1.8024, -0.8158],\n",
    "        [ 1.7036, -0.1472],\n",
    "        [ 4.7737, -3.4820],\n",
    "        [ 4.7758, -3.5907],\n",
    "        [ 2.5706, -1.9151],\n",
    "        [ 5.6989, -4.1038],\n",
    "        [ 5.0982, -3.8049],\n",
    "        [ 4.3292, -3.6071],\n",
    "        [ 4.0132, -3.0505],\n",
    "        [ 4.0091, -2.7122],\n",
    "        [ 2.5394, -1.0651],\n",
    "        [-1.5847,  1.5862],\n",
    "        [ 0.9434, -0.1595],\n",
    "        [-1.1590,  2.3329]])\n",
    "print(a)\n",
    "import torch.nn as nn\n",
    "softmax = nn.Softmax(dim=-1)\n",
    "b = softmax(a)\n",
    "b = t.round(b,2)\n",
    "print(b)"
   ]
  }
 ],
 "metadata": {
  "kernelspec": {
   "display_name": "Python 3",
   "language": "python",
   "name": "python3"
  },
  "language_info": {
   "codemirror_mode": {
    "name": "ipython",
    "version": 3
   },
   "file_extension": ".py",
   "mimetype": "text/x-python",
   "name": "python",
   "nbconvert_exporter": "python",
   "pygments_lexer": "ipython3",
   "version": "3.8.3"
  }
 },
 "nbformat": 4,
 "nbformat_minor": 4
}
