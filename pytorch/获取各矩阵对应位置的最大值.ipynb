{
 "cells": [
  {
   "cell_type": "code",
   "execution_count": 7,
   "metadata": {},
   "outputs": [
    {
     "data": {
      "text/plain": [
       "tensor([3, 2, 4])"
      ]
     },
     "execution_count": 7,
     "metadata": {},
     "output_type": "execute_result"
    }
   ],
   "source": [
    "'''\n",
    "一次maximum操作只能获取一对tensor的值，没有办法同时获取超过一对tensor的情况，那种情况只能使用for循环。\n",
    "'''\n",
    "import torch \n",
    "a = torch.tensor((1, 2, -1))\n",
    "b = torch.tensor((3, 0, 4))\n",
    "c = torch.tensor((2,10,8))\n",
    "torch.maximum(a, b)"
   ]
  },
  {
   "cell_type": "code",
   "execution_count": 8,
   "metadata": {},
   "outputs": [
    {
     "name": "stdout",
     "output_type": "stream",
     "text": [
      "tensor([[-0.4014,  0.3500,  1.5898],\n",
      "        [ 1.5236,  0.1035,  0.6472]])\n",
      "tensor([[1.5236, 0.3500, 1.5898]])\n"
     ]
    }
   ],
   "source": [
    "'''\n",
    "使用for循环遍历多个是不优雅的，可以直接使用topk函数\n",
    "'''\n",
    "import torch as t\n",
    "a = t.randn(2,3)\n",
    "print(a)\n",
    "b = t.topk(a,k=1,dim=0)[0]\n",
    "print(b)"
   ]
  }
 ],
 "metadata": {
  "kernelspec": {
   "display_name": "Python 3",
   "language": "python",
   "name": "python3"
  },
  "language_info": {
   "codemirror_mode": {
    "name": "ipython",
    "version": 3
   },
   "file_extension": ".py",
   "mimetype": "text/x-python",
   "name": "python",
   "nbconvert_exporter": "python",
   "pygments_lexer": "ipython3",
   "version": "3.8.3"
  }
 },
 "nbformat": 4,
 "nbformat_minor": 4
}
