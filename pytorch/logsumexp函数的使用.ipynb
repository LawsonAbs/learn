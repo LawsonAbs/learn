{
 "cells": [
  {
   "cell_type": "code",
   "execution_count": 2,
   "metadata": {},
   "outputs": [
    {
     "name": "stdout",
     "output_type": "stream",
     "text": [
      "tensor([[-1.0000e+12, -1.0000e+02,  0.0000e+00],\n",
      "        [-2.0000e+00, -1.0000e+12,  0.0000e+00]])\n"
     ]
    },
    {
     "data": {
      "text/plain": [
       "tensor([  -2.0000, -100.0000,    0.6931])"
      ]
     },
     "execution_count": 2,
     "metadata": {},
     "output_type": "execute_result"
    }
   ],
   "source": [
    "import torch as t\n",
    "te = t.tensor([[-1.0000e+12, -1.0000e+02,  0.0000e+00],\n",
    "               [-2.0000e+00, -1.0000e+12,  0.0000e+00]])\n",
    "print(te) # [2,3]\n",
    "t.logsumexp(te,dim=0) # 两行之间列分别计算log (sum(...)) 值"
   ]
  },
  {
   "cell_type": "code",
   "execution_count": 4,
   "metadata": {},
   "outputs": [
    {
     "name": "stdout",
     "output_type": "stream",
     "text": [
      "tensor([0.0000, 0.1269])\n",
      "tensor(0.1269)\n"
     ]
    }
   ],
   "source": [
    "# 这个函数的作用就相当于\n",
    "res = t.logsumexp(te,dim=-1) # 一般都是最后一个维度计算 \n",
    "print(res)\n",
    "res = t.sum(res)\n",
    "print(res)"
   ]
  }
 ],
 "metadata": {
  "kernelspec": {
   "display_name": "Python 3",
   "language": "python",
   "name": "python3"
  },
  "language_info": {
   "codemirror_mode": {
    "name": "ipython",
    "version": 3
   },
   "file_extension": ".py",
   "mimetype": "text/x-python",
   "name": "python",
   "nbconvert_exporter": "python",
   "pygments_lexer": "ipython3",
   "version": "3.8.3"
  }
 },
 "nbformat": 4,
 "nbformat_minor": 4
}
