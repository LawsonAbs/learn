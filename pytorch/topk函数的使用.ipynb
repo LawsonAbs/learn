{
 "cells": [
  {
   "cell_type": "code",
   "execution_count": 3,
   "metadata": {},
   "outputs": [
    {
     "name": "stdout",
     "output_type": "stream",
     "text": [
      "tensor([1, 2, 3, 4])\n",
      "tensor([3, 2, 1])\n"
     ]
    }
   ],
   "source": [
    "\"\"\"topk\n",
    "1.在一维中使用topk\n",
    "\"\"\"\n",
    "import torch as t\n",
    "x = t.arange(1,5)\n",
    "y = t.topk(x,3) # 返回的是一个元组\n",
    "print(x)\n",
    "top_index = y[1]  # type tensor\n",
    "print(top_index)"
   ]
  },
  {
   "cell_type": "code",
   "execution_count": 6,
   "metadata": {},
   "outputs": [
    {
     "name": "stdout",
     "output_type": "stream",
     "text": [
      "tensor([[ 0.4889,  1.9709,  0.1010],\n",
      "        [-0.5304, -0.1706, -0.2416]])\n"
     ]
    }
   ],
   "source": [
    "\"\"\"\n",
    "2.在二维tensor中使用topk\n",
    "\"\"\"\n",
    "a = t.randn(2,3)\n",
    "print(a)"
   ]
  },
  {
   "cell_type": "code",
   "execution_count": 9,
   "metadata": {},
   "outputs": [
    {
     "name": "stdout",
     "output_type": "stream",
     "text": [
      "tensor([[1, 0],\n",
      "        [1, 2]])\n"
     ]
    }
   ],
   "source": [
    "res = t.topk(a,k=2,dim=1)\n",
    "index = res[1]\n",
    "print(index)"
   ]
  }
 ],
 "metadata": {
  "kernelspec": {
   "display_name": "Python 3",
   "language": "python",
   "name": "python3"
  },
  "language_info": {
   "codemirror_mode": {
    "name": "ipython",
    "version": 3
   },
   "file_extension": ".py",
   "mimetype": "text/x-python",
   "name": "python",
   "nbconvert_exporter": "python",
   "pygments_lexer": "ipython3",
   "version": "3.8.3"
  }
 },
 "nbformat": 4,
 "nbformat_minor": 4
}
