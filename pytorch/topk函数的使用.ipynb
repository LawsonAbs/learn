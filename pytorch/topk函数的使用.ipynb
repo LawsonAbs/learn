{
 "cells": [
  {
   "cell_type": "code",
   "execution_count": 1,
   "metadata": {},
   "outputs": [
    {
     "name": "stdout",
     "output_type": "stream",
     "text": [
      "tensor([1, 2, 3, 4])\n",
      "torch.return_types.topk(\n",
      "values=tensor([4, 3, 2]),\n",
      "indices=tensor([3, 2, 1]))\n",
      "tensor([3, 2, 1])\n"
     ]
    }
   ],
   "source": [
    "\"\"\"topk\n",
    "topk既返回最大值，也会返回最大值所在的下标\n",
    "1.在一维中使用topk\n",
    "\"\"\"\n",
    "import torch as t\n",
    "x = t.arange(1,5)\n",
    "print(x)\n",
    "y = t.topk(x,3) # 返回的是一个元组\n",
    "print(y)"
   ]
  },
  {
   "cell_type": "code",
   "execution_count": 3,
   "metadata": {},
   "outputs": [
    {
     "name": "stdout",
     "output_type": "stream",
     "text": [
      "tensor([[ 0.4298,  1.7276,  0.1461],\n",
      "        [ 0.0974,  1.6675, -0.4002]])\n"
     ]
    }
   ],
   "source": [
    "\"\"\"\n",
    "2.在二维tensor中使用topk\n",
    "\"\"\"\n",
    "a = t.randn(2,3)\n",
    "print(a)"
   ]
  },
  {
   "cell_type": "code",
   "execution_count": 5,
   "metadata": {},
   "outputs": [
    {
     "name": "stdout",
     "output_type": "stream",
     "text": [
      "torch.return_types.topk(\n",
      "values=tensor([[1.7276, 0.4298],\n",
      "        [1.6675, 0.0974]]),\n",
      "indices=tensor([[1, 0],\n",
      "        [1, 0]]))\n",
      "tensor([[1, 0],\n",
      "        [1, 0]])\n"
     ]
    }
   ],
   "source": [
    "res = t.topk(a,k=2,dim=1)\n",
    "index = res[1]\n",
    "print(res)\n",
    "print(index)"
   ]
  }
 ],
 "metadata": {
  "kernelspec": {
   "display_name": "Python 3",
   "language": "python",
   "name": "python3"
  },
  "language_info": {
   "codemirror_mode": {
    "name": "ipython",
    "version": 3
   },
   "file_extension": ".py",
   "mimetype": "text/x-python",
   "name": "python",
   "nbconvert_exporter": "python",
   "pygments_lexer": "ipython3",
   "version": "3.8.3"
  }
 },
 "nbformat": 4,
 "nbformat_minor": 4
}
