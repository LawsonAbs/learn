{
 "cells": [
  {
   "cell_type": "code",
   "execution_count": 5,
   "metadata": {},
   "outputs": [
    {
     "name": "stdout",
     "output_type": "stream",
     "text": [
      "input1= tensor([[ 1.1185,  0.4898,  0.1790],\n",
      "        [-1.7303,  1.1807, -1.2254]])\n",
      "-----\n",
      "input2= tensor([[ 1.2143, -0.6955,  0.9206],\n",
      "        [ 1.1529,  2.1243, -0.5634]])\n",
      "-----\n",
      "tensor([1.4015, 3.1050])\n",
      "torch.Size([2])\n"
     ]
    }
   ],
   "source": [
    "import torch \n",
    "import torch.nn as nn\n",
    "pdist = nn.PairwiseDistance(p=2)\n",
    "input1 = torch.randn(2, 3)\n",
    "input2 = torch.randn(2, 3)\n",
    "print(\"input1=\",input1)\n",
    "print(\"-----\")\n",
    "print(\"input2=\",input2)\n",
    "\n",
    "output = pdist(input1, input2)\n",
    "print(\"-----\")\n",
    "print(output)\n",
    "print(output.size())"
   ]
  },
  {
   "cell_type": "code",
   "execution_count": 8,
   "metadata": {},
   "outputs": [
    {
     "name": "stdout",
     "output_type": "stream",
     "text": [
      "tensor(1.1185) tensor(1.2143)\n",
      "tensor(0.4898) tensor(-0.6955)\n",
      "tensor(0.1790) tensor(0.9206)\n",
      "1.4014684554138492\n"
     ]
    }
   ],
   "source": [
    "\"\"\"\n",
    "对上面的计算进行支解，就得到了如下的计算公式\n",
    "\"\"\"\n",
    "import math\n",
    "dis=0\n",
    "for x,y in zip(input1[0],input2[0]):\n",
    "    print(x,y)\n",
    "    dis+=(x-y)*(x-y)\n",
    "print(math.sqrt(dis)) # "
   ]
  }
 ],
 "metadata": {
  "kernelspec": {
   "display_name": "Python 3 (ipykernel)",
   "language": "python",
   "name": "python3"
  },
  "language_info": {
   "codemirror_mode": {
    "name": "ipython",
    "version": 3
   },
   "file_extension": ".py",
   "mimetype": "text/x-python",
   "name": "python",
   "nbconvert_exporter": "python",
   "pygments_lexer": "ipython3",
   "version": "3.8.3"
  }
 },
 "nbformat": 4,
 "nbformat_minor": 4
}
