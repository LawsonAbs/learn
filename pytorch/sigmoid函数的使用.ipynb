{
 "cells": [
  {
   "cell_type": "code",
   "execution_count": 5,
   "metadata": {},
   "outputs": [
    {
     "name": "stdout",
     "output_type": "stream",
     "text": [
      "tensor([[0.3475, 0.2694, 0.6046],\n",
      "        [0.8154, 0.3728, 0.4764]])\n"
     ]
    }
   ],
   "source": [
    "\"\"\"\n",
    "1.使用sigmoid函数不需要指定任何维度，它会对每个数进行sigmoid处理\n",
    "\"\"\"\n",
    "import torch.nn as nn\n",
    "m = nn.Sigmoid() \n",
    "input = torch.randn(2,3)\n",
    "output = m(input)\n",
    "print(output)"
   ]
  }
 ],
 "metadata": {
  "kernelspec": {
   "display_name": "Python 3",
   "language": "python",
   "name": "python3"
  },
  "language_info": {
   "codemirror_mode": {
    "name": "ipython",
    "version": 3
   },
   "file_extension": ".py",
   "mimetype": "text/x-python",
   "name": "python",
   "nbconvert_exporter": "python",
   "pygments_lexer": "ipython3",
   "version": "3.8.3"
  }
 },
 "nbformat": 4,
 "nbformat_minor": 4
}
