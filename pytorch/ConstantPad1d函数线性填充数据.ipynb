{
 "cells": [
  {
   "cell_type": "code",
   "execution_count": 11,
   "metadata": {},
   "outputs": [
    {
     "name": "stdout",
     "output_type": "stream",
     "text": [
      "tensor([ 1.3215, -0.9368])\n",
      "tensor([ 1.3215, -0.9368,  3.5000,  3.5000])\n"
     ]
    }
   ],
   "source": [
    "\"\"\"边界填充固定数值\n",
    "\"\"\"\n",
    "import torch as t\n",
    "import torch.nn as nn\n",
    "# 第一个参数padding可以是一个tuple()，也可以是一个int整数，如果是一个int整数，则代表是全方位填充；如果是一个tuple，则代表分别控制左右的数值\n",
    "pad = nn.ConstantPad1d((0,2), 3.5) # (0,2) 的含义是在left pad 0个，在right 处pad 2个\n",
    "a = t.randn(2)\n",
    "print(a)\n",
    "b = pad(a)\n",
    "print(b)"
   ]
  }
 ],
 "metadata": {
  "kernelspec": {
   "display_name": "Python 3",
   "language": "python",
   "name": "python3"
  },
  "language_info": {
   "codemirror_mode": {
    "name": "ipython",
    "version": 3
   },
   "file_extension": ".py",
   "mimetype": "text/x-python",
   "name": "python",
   "nbconvert_exporter": "python",
   "pygments_lexer": "ipython3",
   "version": "3.8.3"
  }
 },
 "nbformat": 4,
 "nbformat_minor": 4
}
