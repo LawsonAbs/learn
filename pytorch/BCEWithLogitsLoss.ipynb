{
 "cells": [
  {
   "cell_type": "code",
   "execution_count": null,
   "metadata": {},
   "outputs": [],
   "source": [
    "\"\"\"\n",
    "BCEWithLogitsLoss函数的学习\n",
    "1.这个函数同BCELoss() 函数的区别在于，这个函数 =  sigmoid() + BCELoss()函数\n",
    "\"\"\"\n",
    "import torch\n",
    "import numpy as np\n",
    "\n",
    "pred = np.array([[-0.4089, -1.2471, 0.5907],\n",
    "                [-0.4897, -0.8267, -0.7349],\n",
    "                [0.5241, -0.1246, -0.4751]])\n",
    "label = np.array([[0, 1, 1],\n",
    "                  [0, 0, 1],\n",
    "                  [1, 0, 1]])\n",
    "\n",
    "pred = torch.from_numpy(pred).float()\n",
    "label = torch.from_numpy(label).float()\n",
    "\n",
    "crition1 = torch.nn.BCEWithLogitsLoss()\n",
    "loss1 = crition1(pred, label)\n",
    "print(loss1)\n",
    "\n",
    "crition2 = torch.nn.MultiLabelSoftMarginLoss()\n",
    "loss2 = crition2(pred, label)\n",
    "print(loss2)"
   ]
  }
 ],
 "metadata": {
  "kernelspec": {
   "display_name": "Python 3",
   "language": "python",
   "name": "python3"
  },
  "language_info": {
   "codemirror_mode": {
    "name": "ipython",
    "version": 3
   },
   "file_extension": ".py",
   "mimetype": "text/x-python",
   "name": "python",
   "nbconvert_exporter": "python",
   "pygments_lexer": "ipython3",
   "version": "3.8.3"
  }
 },
 "nbformat": 4,
 "nbformat_minor": 4
}
