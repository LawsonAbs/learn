{
 "cells": [
  {
   "cell_type": "code",
   "execution_count": 14,
   "metadata": {},
   "outputs": [
    {
     "name": "stdout",
     "output_type": "stream",
     "text": [
      "tensor([[0.5095, 1.4997, 0.4408],\n",
      "        [0.4780, 0.3629, 1.1266],\n",
      "        [0.4650, 0.6328, 0.9587]])\n"
     ]
    }
   ],
   "source": [
    "\"\"\"\n",
    "BCEWithLogitsLoss函数的学习\n",
    "1.这个函数 =  sigmoid() + BCELoss()函数\n",
    "\"\"\"\n",
    "import torch\n",
    "import numpy as np\n",
    "\n",
    "pred = np.array([[-0.4089, -1.2471, 0.5907],\n",
    "                [-0.4897, -0.8267, -0.7349],\n",
    "                [0.5241, -0.1246, -0.4751]])\n",
    "label = np.array([[0, 1, 1],\n",
    "                  [0, 0, 1],\n",
    "                  [1, 0, 1]])\n",
    "\n",
    "pred = torch.from_numpy(pred).float()\n",
    "label = torch.from_numpy(label).float()\n",
    "\n",
    "crition1 = torch.nn.BCEWithLogitsLoss(reduction='none')\n",
    "loss1 = crition1(pred, label)\n",
    "print(loss1)"
   ]
  },
  {
   "cell_type": "code",
   "execution_count": 10,
   "metadata": {},
   "outputs": [
    {
     "name": "stdout",
     "output_type": "stream",
     "text": [
      "tensor([[0.3992, 0.2232, 0.6435],\n",
      "        [0.3800, 0.3043, 0.3241],\n",
      "        [0.6281, 0.4689, 0.3834]])\n",
      "tensor([[0.0000, 1.4997, 0.4408],\n",
      "        [0.0000, 0.0000, 1.1266],\n",
      "        [0.4650, 0.0000, 0.9587]])\n",
      "tensor([[0.5095, 0.0000, 0.0000],\n",
      "        [0.4780, 0.3629, 0.0000],\n",
      "        [0.0000, 0.6328, 0.0000]])\n",
      "tensor([[0.5095, 1.4997, 0.4408],\n",
      "        [0.4780, 0.3629, 1.1266],\n",
      "        [0.4650, 0.6328, 0.9587]])\n"
     ]
    }
   ],
   "source": [
    "# 下面就来模拟一下 BCE 损失的计算过程\n",
    "# 先计算 positive sample\n",
    "a = torch.sigmoid(pred)\n",
    "print(a)\n",
    "eps = 1e-20\n",
    "b = -torch.log(a+eps)\n",
    "loss_pos = label*b\n",
    "\n",
    "# 接着计算negetive sample\n",
    "loss_neg = -(1-label)*torch.log(1-a+eps)\n",
    "print(loss_pos)\n",
    "print(loss_neg)\n",
    "\n",
    "loss = loss_pos + loss_neg\n",
    "print(loss)"
   ]
  },
  {
   "cell_type": "code",
   "execution_count": 19,
   "metadata": {},
   "outputs": [
    {
     "name": "stdout",
     "output_type": "stream",
     "text": [
      "tensor([[0.6008, 0.2232, 0.6435],\n",
      "        [0.6200, 0.6957, 0.3241],\n",
      "        [0.6281, 0.5311, 0.3834]])\n",
      "tensor([[0.5095, 1.4997, 0.4408],\n",
      "        [0.4780, 0.3629, 1.1266],\n",
      "        [0.4650, 0.6328, 0.9587]])\n"
     ]
    }
   ],
   "source": [
    "# way 2: 使用更加简单的方式来计算这个 BCEWithLogitsLoss\n",
    "a = torch.sigmoid(pred)\n",
    "a = torch.where(label>0,a,1-a)\n",
    "print(a)\n",
    "eps = 1e-20\n",
    "loss = -torch.log(a+eps)\n",
    "print(loss)"
   ]
  },
  {
   "cell_type": "code",
   "execution_count": 6,
   "metadata": {},
   "outputs": [
    {
     "name": "stdout",
     "output_type": "stream",
     "text": [
      "tensor([[1.5000, 1.5000, 1.5000, 1.5000, 1.5000, 1.5000],\n",
      "        [1.5000, 1.5000, 1.5000, 1.5000, 1.5000, 1.5000],\n",
      "        [1.5000, 1.5000, 1.5000, 1.5000, 1.5000, 1.5000],\n",
      "        [1.5000, 1.5000, 1.5000, 1.5000, 1.5000, 1.5000],\n",
      "        [1.5000, 1.5000, 1.5000, 1.5000, 1.5000, 1.5000],\n",
      "        [1.5000, 1.5000, 1.5000, 1.5000, 1.5000, 1.5000],\n",
      "        [1.5000, 1.5000, 1.5000, 1.5000, 1.5000, 1.5000],\n",
      "        [1.5000, 1.5000, 1.5000, 1.5000, 1.5000, 1.5000],\n",
      "        [1.5000, 1.5000, 1.5000, 1.5000, 1.5000, 1.5000],\n",
      "        [1.5000, 1.5000, 1.5000, 1.5000, 1.5000, 1.5000]])\n",
      "tensor(0.6042)\n"
     ]
    }
   ],
   "source": [
    "# 使用pos_weight 计算各个类别间的加权重\n",
    "import torch\n",
    "target = torch.ones([10, 6], dtype=torch.float32)  # 64 classes, batch size = 10\n",
    "output = torch.full([10, 6], 1.5)  # A prediction (logit)\n",
    "print(output)\n",
    "pos_weight = torch.ones([6])  # All weights are equal to 1\n",
    "pos_weight = pos_weight.fill_(3)\n",
    "\n",
    "# 需要注意这里的 pos_weight 参数和 weight 参数是不同的\n",
    "criterion = torch.nn.BCEWithLogitsLoss(pos_weight=pos_weight)\n",
    "loss = criterion(output, target)  # -log(sigmoid(1.5))\n",
    "print(loss)"
   ]
  }
 ],
 "metadata": {
  "kernelspec": {
   "display_name": "Python 3",
   "language": "python",
   "name": "python3"
  },
  "language_info": {
   "codemirror_mode": {
    "name": "ipython",
    "version": 3
   },
   "file_extension": ".py",
   "mimetype": "text/x-python",
   "name": "python",
   "nbconvert_exporter": "python",
   "pygments_lexer": "ipython3",
   "version": "3.8.3"
  }
 },
 "nbformat": 4,
 "nbformat_minor": 4
}
