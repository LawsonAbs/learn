{
 "cells": [
  {
   "cell_type": "code",
   "execution_count": 15,
   "metadata": {},
   "outputs": [
    {
     "name": "stdout",
     "output_type": "stream",
     "text": [
      "a= tensor([1.1052, 1.1052, 1.1052, 2.0138])\n",
      "b= tensor([5.3293])\n",
      "tensor([-1.5732, -1.5732, -1.5732, -0.9732])\n",
      "tensor([-1.5732, -1.5732, -1.5732, -0.9732])\n"
     ]
    },
    {
     "name": "stderr",
     "output_type": "stream",
     "text": [
      "/tmp/ipykernel_78756/160656149.py:16: UserWarning: Implicit dimension choice for log_softmax has been deprecated. Change the call to include dim=X as an argument.\n",
      "  print(F.log_softmax(logit))\n"
     ]
    }
   ],
   "source": [
    "'''自己实现log_softmax 函数\n",
    "（1）使用torch.exp()函数计算各个logit的e次幂\n",
    "（2）使用torch.sum()函数计算求和\n",
    "（3）使用torch.log对比例求对数\n",
    "可以发现，二者最终的结果是相同的\n",
    "'''\n",
    "import torch as t\n",
    "import torch.nn.functional as F\n",
    "logit = t.tensor([0.1,0.1,0.1,0.7])\n",
    "a = t.exp(logit)\n",
    "print(\"a=\",a)\n",
    "b = t.sum(a,dim=0,keepdim=True)\n",
    "print(\"b=\",b)\n",
    "c=t.log(a/b)\n",
    "print(c)\n",
    "print(F.log_softmax(logit)) "
   ]
  }
 ],
 "metadata": {
  "kernelspec": {
   "display_name": "Python 3",
   "language": "python",
   "name": "python3"
  },
  "language_info": {
   "codemirror_mode": {
    "name": "ipython",
    "version": 3
   },
   "file_extension": ".py",
   "mimetype": "text/x-python",
   "name": "python",
   "nbconvert_exporter": "python",
   "pygments_lexer": "ipython3",
   "version": "3.8.3"
  }
 },
 "nbformat": 4,
 "nbformat_minor": 4
}
