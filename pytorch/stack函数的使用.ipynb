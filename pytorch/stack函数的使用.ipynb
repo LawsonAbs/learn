{
 "cells": [
  {
   "cell_type": "code",
   "execution_count": 4,
   "metadata": {},
   "outputs": [
    {
     "name": "stdout",
     "output_type": "stream",
     "text": [
      "tensor([[1, 2, 3],\n",
      "        [4, 5, 6]])\n",
      "tensor([1, 2, 3, 4, 5, 6])\n",
      "tensor([1, 2, 3, 4, 5, 6])\n"
     ]
    }
   ],
   "source": [
    "\"\"\"stack函数的使用\n",
    "(1)Concatenates a sequence of tensors along a new dimension.\n",
    "传入的参数可以是 tensor, 或者是tensors，所以就很符合这个需求\n",
    "(2)不同于 cat() 函数，stack 会改变维度\n",
    "\"\"\"\n",
    "import torch as t\n",
    "a=t.tensor([1,2,3])\n",
    "b=t.tensor([4,5,6])\n",
    "tensor_list=[tensor1,tensor2]\n",
    "\n",
    "c=t.stack(tensor_list,0)  #这里的维度还可以改成其它值\n",
    "d = t.cat(tensor_list,dim=0)\n",
    "print(c) # 沿着维度拼接，改变了维度。就是stack  那种感觉，\n",
    "print(d) # 沿着维度拼接，没有增加维度。 catenate() "
   ]
  }
 ],
 "metadata": {
  "kernelspec": {
   "display_name": "Python 3",
   "language": "python",
   "name": "python3"
  },
  "language_info": {
   "codemirror_mode": {
    "name": "ipython",
    "version": 3
   },
   "file_extension": ".py",
   "mimetype": "text/x-python",
   "name": "python",
   "nbconvert_exporter": "python",
   "pygments_lexer": "ipython3",
   "version": "3.8.3"
  }
 },
 "nbformat": 4,
 "nbformat_minor": 4
}
