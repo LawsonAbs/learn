{
 "cells": [
  {
   "cell_type": "code",
   "execution_count": 3,
   "metadata": {},
   "outputs": [
    {
     "name": "stdout",
     "output_type": "stream",
     "text": [
      "tensor([89,  8])\n"
     ]
    }
   ],
   "source": [
    "\"\"\"1.使用 index_select 从tensor中选择指定下标的数据\n",
    "01.在一维数据中\n",
    "\"\"\"\n",
    "import torch as t\n",
    "a = t.tensor([3,21,4,89,50,8])\n",
    "b = t.tensor([3,5])\n",
    "res = t.index_select(a,0,b)\n",
    "print(res)"
   ]
  },
  {
   "cell_type": "code",
   "execution_count": 6,
   "metadata": {},
   "outputs": [
    {
     "name": "stdout",
     "output_type": "stream",
     "text": [
      "tensor([[-1.3696,  0.1912,  0.4093],\n",
      "        [ 0.9106,  0.6555, -0.4876],\n",
      "        [-1.7210, -0.5275, -0.9500],\n",
      "        [ 2.2644,  1.9869, -0.1333],\n",
      "        [-0.9735,  1.6827, -0.6675]])\n"
     ]
    }
   ],
   "source": [
    "\"\"\"\n",
    "2.在二维数据中使用\n",
    "\"\"\"\n",
    "import torch as t\n",
    "c = t.randn(5,3)\n",
    "print(c)\n"
   ]
  },
  {
   "cell_type": "code",
   "execution_count": 11,
   "metadata": {},
   "outputs": [
    {
     "name": "stdout",
     "output_type": "stream",
     "text": [
      "tensor([[-1.7210, -0.5275, -0.9500],\n",
      "        [ 2.2644,  1.9869, -0.1333]])\n"
     ]
    }
   ],
   "source": [
    "index = t.tensor([2,3])\n",
    "d = t.index_select(c,0,index)\n",
    "print(d)"
   ]
  },
  {
   "cell_type": "code",
   "execution_count": 13,
   "metadata": {},
   "outputs": [
    {
     "name": "stdout",
     "output_type": "stream",
     "text": [
      "tensor([ 0.2717,  0.7297, -0.5416])\n"
     ]
    }
   ],
   "source": [
    "#对上面的数据进行一个mean操作\n",
    "out = t.mean(d,0)\n",
    "print(out)"
   ]
  },
  {
   "cell_type": "code",
   "execution_count": 30,
   "metadata": {},
   "outputs": [
    {
     "name": "stdout",
     "output_type": "stream",
     "text": [
      "[+'+1+'+,+ +'+2+'+,+ +'+3+'+]\n"
     ]
    }
   ],
   "source": [
    "a = [\"1\",\"2\",\"3\"]\n",
    "b = \"+\".join(str(a))\n",
    "print(b)"
   ]
  },
  {
   "cell_type": "code",
   "execution_count": 22,
   "metadata": {},
   "outputs": [
    {
     "name": "stdout",
     "output_type": "stream",
     "text": [
      "/home/lawson/program/learn/pytorch\n",
      "1\n"
     ]
    }
   ],
   "source": []
  }
 ],
 "metadata": {
  "kernelspec": {
   "display_name": "Python 3",
   "language": "python",
   "name": "python3"
  },
  "language_info": {
   "codemirror_mode": {
    "name": "ipython",
    "version": 3
   },
   "file_extension": ".py",
   "mimetype": "text/x-python",
   "name": "python",
   "nbconvert_exporter": "python",
   "pygments_lexer": "ipython3",
   "version": "3.8.3"
  }
 },
 "nbformat": 4,
 "nbformat_minor": 4
}
