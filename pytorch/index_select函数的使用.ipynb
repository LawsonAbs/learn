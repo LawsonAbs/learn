{
 "cells": [
  {
   "cell_type": "code",
   "execution_count": 3,
   "metadata": {},
   "outputs": [
    {
     "name": "stdout",
     "output_type": "stream",
     "text": [
      "tensor([89,  8])\n"
     ]
    }
   ],
   "source": [
    "\"\"\"1.使用 index_select 从tensor中选择指定下标的数据\n",
    "\"\"\"\n",
    "import torch as t\n",
    "a = t.tensor([3,21,4,89,50,8])\n",
    "b = t.tensor([3,5])\n",
    "res = t.index_select(a,0,b)\n",
    "print(res)"
   ]
  }
 ],
 "metadata": {
  "kernelspec": {
   "display_name": "Python 3",
   "language": "python",
   "name": "python3"
  },
  "language_info": {
   "codemirror_mode": {
    "name": "ipython",
    "version": 3
   },
   "file_extension": ".py",
   "mimetype": "text/x-python",
   "name": "python",
   "nbconvert_exporter": "python",
   "pygments_lexer": "ipython3",
   "version": "3.8.3"
  }
 },
 "nbformat": 4,
 "nbformat_minor": 4
}
