{
 "cells": [
  {
   "cell_type": "code",
   "execution_count": 3,
   "metadata": {},
   "outputs": [
    {
     "name": "stdout",
     "output_type": "stream",
     "text": [
      "tensor([[-0.2610, -0.7743,  1.4697],\n",
      "        [-2.4048, -1.3626,  0.0641]])\n",
      "tensor([-0.2610, -0.7743,  0.0641])\n"
     ]
    }
   ],
   "source": [
    "\"\"\"\n",
    "按照mask 的位置，顺序的取出所有的元素，取出的元素成了一个一维的数组\n",
    "\"\"\"\n",
    "import torch as t\n",
    "a = t.randn(2,3)\n",
    "print(a)\n",
    "select_mask = (t.tensor([[1,1,0],[0,0,1]]) ==1)\n",
    "out = t.masked_select(a,select_mask)\n",
    "print(out)"
   ]
  }
 ],
 "metadata": {
  "kernelspec": {
   "display_name": "Python 3",
   "language": "python",
   "name": "python3"
  },
  "language_info": {
   "codemirror_mode": {
    "name": "ipython",
    "version": 3
   },
   "file_extension": ".py",
   "mimetype": "text/x-python",
   "name": "python",
   "nbconvert_exporter": "python",
   "pygments_lexer": "ipython3",
   "version": "3.8.3"
  }
 },
 "nbformat": 4,
 "nbformat_minor": 4
}
