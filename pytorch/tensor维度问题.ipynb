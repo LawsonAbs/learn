{
 "cells": [
  {
   "cell_type": "code",
   "execution_count": 28,
   "metadata": {},
   "outputs": [
    {
     "name": "stdout",
     "output_type": "stream",
     "text": [
      "tensor([[0.8675, 0.5503, 0.2916],\n",
      "        [1.2759, 0.1151, 0.0148]])\n",
      "tensor([[0.8675, 0.5503],\n",
      "        [0.2916, 1.2759],\n",
      "        [0.1151, 0.0148]])\n",
      "torch.Size([6])\n",
      "tensor([0.8675, 0.5503, 0.2916, 1.2759, 0.1151, 0.0148])\n",
      "0.8674793839454651\n",
      "0.550308346748352\n",
      "0.2915512025356293\n",
      "1.2759393453598022\n",
      "0.11506937444210052\n",
      "0.014849212020635605\n",
      "[0.8674793839454651, 0.550308346748352, 0.2915512025356293, 1.2759393453598022, 0.11506937444210052, 0.014849212020635605]\n"
     ]
    }
   ],
   "source": [
    "\"\"\"\n",
    "1.tensor的维度转换\n",
    "01.reshape()\n",
    "02.view() \n",
    "2.转变tensor 值的形式\n",
    "01.item() => 用于将单个 tensor 值转为python值\n",
    "\"\"\"\n",
    "import torch as t\n",
    "\n",
    "a = t.randn(2,3)\n",
    "print(a) # (2,3)\n",
    "\n",
    "a = a.reshape(3,2)  #仍然需要赋值\n",
    "print(a)\n",
    "\n",
    "\n",
    "a = a.view(6) #view并不能原地修改，所以需要重新赋值\n",
    "print(a.size()) # torch.Size([6])\n",
    "print(a)\n",
    "\n",
    "#01.当a是 tensor 的时候，也可遍历输出，但是输出的时候需要调用 item()方法\n",
    "for _ in a:\n",
    "    print(_.item())\n",
    "\n",
    "#02.也可以先转成list，然后再遍历\n",
    "a = a.tolist()\n",
    "print(a)"
   ]
  },
  {
   "cell_type": "code",
   "execution_count": 1,
   "metadata": {},
   "outputs": [
    {
     "name": "stdout",
     "output_type": "stream",
     "text": [
      "tensor([[8, 5, 7],\n",
      "        [1, 4, 7]])\n",
      "tensor([[1, 5, 7],\n",
      "        [1, 4, 7]])\n",
      "tensor([[1, 5],\n",
      "        [1, 4]])\n"
     ]
    }
   ],
   "source": [
    "\"\"\"切片操作\"\"\"\n",
    "import torch\n",
    "a = torch.randint(0,10,(2,3))\n",
    "print(a)\n",
    "\n",
    "a[:,0] = 1\n",
    "print(a)\n",
    "b= a[:,:-1]\n",
    "print(b)"
   ]
  },
  {
   "cell_type": "code",
   "execution_count": 9,
   "metadata": {},
   "outputs": [
    {
     "name": "stdout",
     "output_type": "stream",
     "text": [
      "tensor([[[4, 4, 6, 8, 8],\n",
      "         [8, 4, 2, 2, 8],\n",
      "         [3, 9, 2, 9, 2]],\n",
      "\n",
      "        [[7, 9, 8, 3, 5],\n",
      "         [9, 5, 6, 3, 8],\n",
      "         [6, 9, 8, 6, 5]]])\n",
      "torch.Size([2, 3, 5])\n",
      "5\n",
      "3\n",
      "2\n"
     ]
    }
   ],
   "source": [
    "\"\"\"size函数的用法\n",
    "\"\"\"\n",
    "import torch\n",
    "a = torch.randint(2,10,(2,3,5))\n",
    "print(a)\n",
    "\n",
    "print(a.size())\n",
    "print(a.size(-1)) \n",
    "print(a.size(-2))\n",
    "print(a.size(-3))  "
   ]
  }
 ],
 "metadata": {
  "kernelspec": {
   "display_name": "Python 3",
   "language": "python",
   "name": "python3"
  },
  "language_info": {
   "codemirror_mode": {
    "name": "ipython",
    "version": 3
   },
   "file_extension": ".py",
   "mimetype": "text/x-python",
   "name": "python",
   "nbconvert_exporter": "python",
   "pygments_lexer": "ipython3",
   "version": "3.7.6"
  }
 },
 "nbformat": 4,
 "nbformat_minor": 4
}
