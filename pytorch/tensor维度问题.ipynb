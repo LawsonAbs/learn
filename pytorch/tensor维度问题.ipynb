{
 "cells": [
  {
   "cell_type": "code",
   "execution_count": 8,
   "metadata": {},
   "outputs": [
    {
     "name": "stdout",
     "output_type": "stream",
     "text": [
      "tensor([[[[2],\n",
      "          [4]]],\n",
      "\n",
      "\n",
      "        [[[4],\n",
      "          [2]]],\n",
      "\n",
      "\n",
      "        [[[3],\n",
      "          [2]]]])\n"
     ]
    },
    {
     "ename": "RuntimeError",
     "evalue": "shape '[2]' is invalid for input of size 6",
     "output_type": "error",
     "traceback": [
      "\u001b[0;31m---------------------------------------------------------------------------\u001b[0m",
      "\u001b[0;31mRuntimeError\u001b[0m                              Traceback (most recent call last)",
      "\u001b[0;32m<ipython-input-8-201edd4f1403>\u001b[0m in \u001b[0;36m<module>\u001b[0;34m\u001b[0m\n\u001b[1;32m      4\u001b[0m \u001b[0ma\u001b[0m \u001b[0;34m=\u001b[0m \u001b[0mt\u001b[0m\u001b[0;34m.\u001b[0m\u001b[0mrandint\u001b[0m\u001b[0;34m(\u001b[0m\u001b[0;36m1\u001b[0m\u001b[0;34m,\u001b[0m\u001b[0;36m5\u001b[0m\u001b[0;34m,\u001b[0m\u001b[0;34m(\u001b[0m\u001b[0;36m3\u001b[0m\u001b[0;34m,\u001b[0m\u001b[0;36m1\u001b[0m\u001b[0;34m,\u001b[0m\u001b[0;36m2\u001b[0m\u001b[0;34m,\u001b[0m\u001b[0;36m1\u001b[0m\u001b[0;34m)\u001b[0m\u001b[0;34m)\u001b[0m \u001b[0;31m#\u001b[0m\u001b[0;34m\u001b[0m\u001b[0;34m\u001b[0m\u001b[0m\n\u001b[1;32m      5\u001b[0m \u001b[0mprint\u001b[0m\u001b[0;34m(\u001b[0m\u001b[0ma\u001b[0m\u001b[0;34m)\u001b[0m\u001b[0;34m\u001b[0m\u001b[0;34m\u001b[0m\u001b[0m\n\u001b[0;32m----> 6\u001b[0;31m \u001b[0ma\u001b[0m \u001b[0;34m=\u001b[0m \u001b[0ma\u001b[0m\u001b[0;34m.\u001b[0m\u001b[0mview\u001b[0m\u001b[0;34m(\u001b[0m\u001b[0;36m2\u001b[0m\u001b[0;34m)\u001b[0m\u001b[0;34m\u001b[0m\u001b[0;34m\u001b[0m\u001b[0m\n\u001b[0m\u001b[1;32m      7\u001b[0m \u001b[0mprint\u001b[0m\u001b[0;34m(\u001b[0m\u001b[0ma\u001b[0m\u001b[0;34m)\u001b[0m\u001b[0;34m\u001b[0m\u001b[0;34m\u001b[0m\u001b[0m\n",
      "\u001b[0;31mRuntimeError\u001b[0m: shape '[2]' is invalid for input of size 6"
     ]
    }
   ],
   "source": [
    "\"\"\"\n",
    "\"\"\"\n",
    "import torch as t\n",
    "a = t.randint(1,5,(3,1,2,1)) # # 3*2 = 6,这就是后面为什么说input of size 6的原因\n",
    "print(a)\n",
    "a = a.view(2)# view：想将a变成一维的向量（即行向量）\n",
    "print(a)"
   ]
  },
  {
   "cell_type": "code",
   "execution_count": 1,
   "metadata": {},
   "outputs": [
    {
     "name": "stdout",
     "output_type": "stream",
     "text": [
      "tensor([[-0.4065, -2.3263,  0.7927],\n",
      "        [-0.1965, -0.8150, -1.2948]])\n",
      "tensor([[-0.4065, -2.3263],\n",
      "        [ 0.7927, -0.1965],\n",
      "        [-0.8150, -1.2948]])\n",
      "torch.Size([6])\n",
      "tensor([-0.4065, -2.3263,  0.7927, -0.1965, -0.8150, -1.2948])\n",
      "-0.40652939677238464\n",
      "-2.3262898921966553\n",
      "0.7927395105361938\n",
      "-0.19647091627120972\n",
      "-0.814982533454895\n",
      "-1.2947773933410645\n",
      "[-0.40652939677238464, -2.3262898921966553, 0.7927395105361938, -0.19647091627120972, -0.814982533454895, -1.2947773933410645]\n"
     ]
    }
   ],
   "source": [
    "\"\"\"\n",
    "1.tensor的维度转换\n",
    "01.reshape()\n",
    "02.view() \n",
    "2.转变tensor 值的形式\n",
    "01.item() => 用于将单个 tensor 值转为python值\n",
    "\"\"\"\n",
    "import torch as t\n",
    "\n",
    "a = t.randn(2,3)\n",
    "print(a) # (2,3)\n",
    "\n",
    "a = a.reshape(3,2)  #仍然需要赋值\n",
    "print(a)\n",
    "\n",
    "\n",
    "a = a.view(6) #view并不能原地修改，所以需要重新赋值\n",
    "print(a.size()) # torch.Size([6])\n",
    "print(a)\n",
    "\n",
    "#01.当a是 tensor 的时候，也可遍历输出，但是输出的时候需要调用 item()方法\n",
    "for _ in a:\n",
    "    print(_.item())\n",
    "\n",
    "#02.也可以先转成list，然后再遍历\n",
    "a = a.tolist()\n",
    "print(a)"
   ]
  },
  {
   "cell_type": "code",
   "execution_count": 1,
   "metadata": {},
   "outputs": [
    {
     "name": "stdout",
     "output_type": "stream",
     "text": [
      "tensor([[8, 5, 7],\n",
      "        [1, 4, 7]])\n",
      "tensor([[1, 5, 7],\n",
      "        [1, 4, 7]])\n",
      "tensor([[1, 5],\n",
      "        [1, 4]])\n"
     ]
    }
   ],
   "source": [
    "\"\"\"切片操作\"\"\"\n",
    "import torch\n",
    "a = torch.randint(0,10,(2,3))\n",
    "print(a)\n",
    "\n",
    "a[:,0] = 1\n",
    "print(a)\n",
    "b= a[:,:-1]\n",
    "print(b)"
   ]
  },
  {
   "cell_type": "code",
   "execution_count": 9,
   "metadata": {},
   "outputs": [
    {
     "name": "stdout",
     "output_type": "stream",
     "text": [
      "tensor([[[4, 4, 6, 8, 8],\n",
      "         [8, 4, 2, 2, 8],\n",
      "         [3, 9, 2, 9, 2]],\n",
      "\n",
      "        [[7, 9, 8, 3, 5],\n",
      "         [9, 5, 6, 3, 8],\n",
      "         [6, 9, 8, 6, 5]]])\n",
      "torch.Size([2, 3, 5])\n",
      "5\n",
      "3\n",
      "2\n"
     ]
    }
   ],
   "source": [
    "\"\"\"size函数的用法\n",
    "\"\"\"\n",
    "import torch\n",
    "a = torch.randint(2,10,(2,3,5))\n",
    "print(a)\n",
    "\n",
    "print(a.size())\n",
    "print(a.size(-1)) \n",
    "print(a.size(-2))\n",
    "print(a.size(-3))  "
   ]
  }
 ],
 "metadata": {
  "kernelspec": {
   "display_name": "Python 3",
   "language": "python",
   "name": "python3"
  },
  "language_info": {
   "codemirror_mode": {
    "name": "ipython",
    "version": 3
   },
   "file_extension": ".py",
   "mimetype": "text/x-python",
   "name": "python",
   "nbconvert_exporter": "python",
   "pygments_lexer": "ipython3",
   "version": "3.7.6"
  }
 },
 "nbformat": 4,
 "nbformat_minor": 4
}
