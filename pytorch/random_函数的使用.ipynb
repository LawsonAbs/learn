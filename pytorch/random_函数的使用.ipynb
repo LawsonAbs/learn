{
 "cells": [
  {
   "cell_type": "code",
   "execution_count": 11,
   "metadata": {},
   "outputs": [
    {
     "name": "stdout",
     "output_type": "stream",
     "text": [
      "tensor(4., dtype=torch.float64)\n"
     ]
    }
   ],
   "source": [
    "'''random_()函数的使用\n",
    "'''\n",
    "import torch as t\n",
    "a = t.tensor(1, dtype=t.double).random_(10)\n",
    "print(a)"
   ]
  },
  {
   "cell_type": "code",
   "execution_count": 25,
   "metadata": {},
   "outputs": [
    {
     "name": "stdout",
     "output_type": "stream",
     "text": [
      "tensor([ 1.4591e+12,  4.5796e-41, -3.8771e-06])\n",
      "tensor([0., 0., 0.])\n",
      "tensor([-1.0200e+17,  4.5794e-41,  2.3950e+11])\n",
      "tensor([-3.8739e-06,  3.0921e-41,  0.0000e+00])\n",
      "tensor([0., 0., 0.])\n",
      "tensor([5.0054e+10, 4.5796e-41, 3.0172e-15])\n",
      "tensor([-3.8781e-06,  3.0921e-41,  0.0000e+00])\n",
      "tensor([0., 0., 0.])\n",
      "tensor([0., 0., 0.])\n",
      "tensor([-4.9894e-08,  3.0921e-41, -1.0138e+17])\n",
      "tensor([-3.8673e-06,  3.0921e-41,  0.0000e+00])\n",
      "tensor([-3.8708e-06,  3.0921e-41,  0.0000e+00])\n",
      "tensor([ 1.4591e+12,  4.5796e-41, -3.8718e-06])\n",
      "tensor([-3.8701e-06,  3.0921e-41,  0.0000e+00])\n",
      "tensor([-3.8715e-06,  3.0921e-41,  0.0000e+00])\n",
      "tensor([ 1.4591e+12,  4.5796e-41, -3.9175e-06])\n",
      "tensor([ 1.4591e+12,  4.5796e-41, -3.9192e-06])\n",
      "tensor([ 1.4591e+12,  4.5796e-41, -3.9153e-06])\n",
      "tensor([-3.9190e-06,  3.0921e-41,  0.0000e+00])\n",
      "tensor([-3.9212e-06,  3.0921e-41,  0.0000e+00])\n",
      "tensor([ 1.4591e+12,  4.5796e-41, -3.9266e-06])\n",
      "tensor([-3.9291e-06,  3.0921e-41,  0.0000e+00])\n",
      "tensor([ 1.4591e+12,  4.5796e-41, -3.8118e-06])\n",
      "tensor([0., 0., 0.])\n",
      "tensor([ 1.4591e+12,  4.5796e-41, -3.9281e-06])\n",
      "tensor([-3.9301e-06,  3.0921e-41,  0.0000e+00])\n",
      "tensor([1.4592e+12, 4.5796e-41, 1.4592e+12])\n",
      "tensor([-3.8684e-06,  3.0921e-41,  0.0000e+00])\n",
      "tensor([-3.9289e-06,  3.0921e-41,  0.0000e+00])\n",
      "tensor([ 1.4591e+12,  4.5796e-41, -3.8650e-06])\n",
      "tensor([-3.9254e-06,  3.0921e-41,  0.0000e+00])\n",
      "tensor([ 1.4591e+12,  4.5796e-41, -3.8778e-06])\n",
      "tensor([-3.8665e-06,  3.0921e-41,  0.0000e+00])\n",
      "tensor([ 1.4591e+12,  4.5796e-41, -3.9304e-06])\n",
      "tensor([ 1.4591e+12,  4.5796e-41, -3.9214e-06])\n",
      "tensor([-3.9244e-06,  3.0921e-41,  0.0000e+00])\n",
      "tensor([-3.8702e-06,  3.0921e-41,  0.0000e+00])\n",
      "tensor([-3.8706e-06,  3.0921e-41,  0.0000e+00])\n",
      "tensor([-3.8733e-06,  3.0921e-41,  0.0000e+00])\n",
      "tensor([-3.9147e-06,  3.0921e-41,  0.0000e+00])\n",
      "tensor([ 1.4591e+12,  4.5796e-41, -3.9156e-06])\n",
      "tensor([ 1.4591e+12,  4.5796e-41, -3.9174e-06])\n",
      "tensor([ 1.4591e+12,  4.5796e-41, -3.8118e-06])\n",
      "tensor([9.1837e-41, 0.0000e+00, 2.3510e-38])\n",
      "tensor([-3.9190e-06,  3.0921e-41,  0.0000e+00])\n",
      "tensor([0., 0., 0.])\n",
      "tensor([-3.8789e-06,  3.0921e-41, -3.8787e-06])\n",
      "tensor([0., 0., 0.])\n",
      "tensor([-3.9248e-06,  3.0921e-41, -3.8755e-06])\n",
      "tensor([-3.8749e-06,  3.0921e-41,  0.0000e+00])\n"
     ]
    }
   ],
   "source": [
    "\"\"\"empty() 什么用？\n",
    "\"\"\"\n",
    "for i in range(50):\n",
    "    b = t.empty(3)\n",
    "    print(b)"
   ]
  }
 ],
 "metadata": {
  "kernelspec": {
   "display_name": "Python 3",
   "language": "python",
   "name": "python3"
  },
  "language_info": {
   "codemirror_mode": {
    "name": "ipython",
    "version": 3
   },
   "file_extension": ".py",
   "mimetype": "text/x-python",
   "name": "python",
   "nbconvert_exporter": "python",
   "pygments_lexer": "ipython3",
   "version": "3.8.3"
  }
 },
 "nbformat": 4,
 "nbformat_minor": 4
}
