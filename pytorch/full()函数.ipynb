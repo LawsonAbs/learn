{
 "cells": [
  {
   "cell_type": "code",
   "execution_count": 1,
   "metadata": {},
   "outputs": [
    {
     "name": "stdout",
     "output_type": "stream",
     "text": [
      "tensor([[3.1415, 3.1415, 3.1415],\n",
      "        [3.1415, 3.1415, 3.1415]])\n",
      "tensor([3, 3, 3, 3])\n"
     ]
    }
   ],
   "source": [
    "import torch as t\n",
    "a = t.full((2,3),3.1415)\n",
    "print(a)\n",
    "b = [1,2,3,4]\n",
    "c = t.full((len(b),),3.1415926).long()\n",
    "print(c)"
   ]
  }
 ],
 "metadata": {
  "kernelspec": {
   "display_name": "Python 3",
   "language": "python",
   "name": "python3"
  },
  "language_info": {
   "codemirror_mode": {
    "name": "ipython",
    "version": 3
   },
   "file_extension": ".py",
   "mimetype": "text/x-python",
   "name": "python",
   "nbconvert_exporter": "python",
   "pygments_lexer": "ipython3",
   "version": "3.8.3"
  }
 },
 "nbformat": 4,
 "nbformat_minor": 4
}
