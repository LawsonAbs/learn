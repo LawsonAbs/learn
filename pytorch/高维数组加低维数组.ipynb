{
 "cells": [
  {
   "cell_type": "code",
   "execution_count": 32,
   "metadata": {},
   "outputs": [
    {
     "name": "stdout",
     "output_type": "stream",
     "text": [
      "tensor([[[[-0.9208, -0.6435, -0.8275],\n",
      "          [-0.2996,  0.7412, -0.2105],\n",
      "          [ 1.9049,  0.8459, -0.3233]],\n",
      "\n",
      "         [[ 0.1459,  0.6791,  0.3245],\n",
      "          [-0.9236, -0.0273, -0.1605],\n",
      "          [-2.2789, -1.8124, -0.1541]]]])\n"
     ]
    }
   ],
   "source": [
    "'''\n",
    "这个高维数组的加法是可以广播的，如下例所示\n",
    "'''\n",
    "import torch as t\n",
    "a = t.randn(1,2,3,3)\n",
    "print(a)"
   ]
  },
  {
   "cell_type": "code",
   "execution_count": 33,
   "metadata": {},
   "outputs": [
    {
     "name": "stdout",
     "output_type": "stream",
     "text": [
      "tensor([[0, 0, 1],\n",
      "        [0, 0, 0],\n",
      "        [1, 0, 0]])\n",
      "tensor([[     0,      0, -10000],\n",
      "        [     0,      0,      0],\n",
      "        [-10000,      0,      0]])\n"
     ]
    }
   ],
   "source": [
    "import torch\n",
    "max_length = 3\n",
    "x = torch.arange(max_length).unsqueeze(1).expand(-1,max_length) # 行坐标\n",
    "y = torch.arange(max_length).unsqueeze(0).expand(max_length,-1) # 纵坐标\n",
    "val = torch.abs(x-y)\n",
    "temp = (val>=2)+0\n",
    "print(temp)\n",
    "INF = torch.tensor([-10000]).unsqueeze(1).expand(mask.size(0),mask.size(1))\n",
    "mask = INF*temp\n",
    "print(mask)"
   ]
  },
  {
   "cell_type": "code",
   "execution_count": 34,
   "metadata": {},
   "outputs": [
    {
     "name": "stdout",
     "output_type": "stream",
     "text": [
      "tensor([[[[-9.2083e-01, -6.4351e-01, -1.0001e+04],\n",
      "          [-2.9961e-01,  7.4116e-01, -2.1050e-01],\n",
      "          [-9.9981e+03,  8.4595e-01, -3.2325e-01]],\n",
      "\n",
      "         [[ 1.4591e-01,  6.7913e-01, -9.9997e+03],\n",
      "          [-9.2360e-01, -2.7335e-02, -1.6047e-01],\n",
      "          [-1.0002e+04, -1.8124e+00, -1.5410e-01]]]])\n"
     ]
    }
   ],
   "source": [
    "b = (a+mask)\n",
    "print(b)"
   ]
  }
 ],
 "metadata": {
  "kernelspec": {
   "display_name": "Python 3",
   "language": "python",
   "name": "python3"
  },
  "language_info": {
   "codemirror_mode": {
    "name": "ipython",
    "version": 3
   },
   "file_extension": ".py",
   "mimetype": "text/x-python",
   "name": "python",
   "nbconvert_exporter": "python",
   "pygments_lexer": "ipython3",
   "version": "3.8.3"
  }
 },
 "nbformat": 4,
 "nbformat_minor": 4
}
