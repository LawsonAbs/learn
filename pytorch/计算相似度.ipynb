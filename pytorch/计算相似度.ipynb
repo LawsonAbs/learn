{
 "cells": [
  {
   "cell_type": "code",
   "execution_count": 75,
   "metadata": {},
   "outputs": [
    {
     "name": "stdout",
     "output_type": "stream",
     "text": [
      "tensor([0.0865, 0.0728])\n"
     ]
    }
   ],
   "source": [
    "import torch.nn.functional as F #引入计算包\n",
    "input1 = t.randn(2,3) # 随机初始化一个矩阵\n",
    "input2 = t.randn(2,3)\n",
    "output = F.cosine_similarity(input1, input2) # 计算余弦相似度\n",
    "print(output) "
   ]
  },
  {
   "cell_type": "code",
   "execution_count": 76,
   "metadata": {},
   "outputs": [
    {
     "name": "stdout",
     "output_type": "stream",
     "text": [
      "tensor([[-0.9568, -2.6246,  0.6006],\n",
      "        [ 0.9966, -1.4489, -0.1275]])\n",
      "tensor([[ 1.5917, -0.5408,  0.9722],\n",
      "        [ 1.4467,  0.8749, -0.3753]])\n"
     ]
    }
   ],
   "source": [
    "print(input1)\n",
    "print(input2)"
   ]
  },
  {
   "cell_type": "code",
   "execution_count": 77,
   "metadata": {},
   "outputs": [
    {
     "name": "stdout",
     "output_type": "stream",
     "text": [
      "tensor([[-0.9568, -2.6246,  0.6006]])\n",
      "tensor([[ 1.5917, -0.5408,  0.9722]])\n",
      "tensor([0.0865])\n"
     ]
    }
   ],
   "source": [
    "in1 = input1[0:1,:] # 取第一行的向量然后计算二者的相似度\n",
    "in2 = input2[0:1,:]\n",
    "print(in1)\n",
    "print(in2)\n",
    "print(t.cosine_similarity(in1,in2)) # 默认参数dim =1，计算行向量的相似度"
   ]
  }
 ],
 "metadata": {
  "kernelspec": {
   "display_name": "Python 3",
   "language": "python",
   "name": "python3"
  },
  "language_info": {
   "codemirror_mode": {
    "name": "ipython",
    "version": 3
   },
   "file_extension": ".py",
   "mimetype": "text/x-python",
   "name": "python",
   "nbconvert_exporter": "python",
   "pygments_lexer": "ipython3",
   "version": "3.8.3"
  }
 },
 "nbformat": 4,
 "nbformat_minor": 4
}
