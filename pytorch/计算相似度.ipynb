{
 "cells": [
  {
   "cell_type": "code",
   "execution_count": 2,
   "metadata": {},
   "outputs": [
    {
     "name": "stdout",
     "output_type": "stream",
     "text": [
      "tensor([ 0.7033, -0.5503])\n"
     ]
    }
   ],
   "source": [
    "'''\n",
    "默认在dim=1 上做相似度计算\n",
    "'''\n",
    "import torch as t\n",
    "import torch.nn.functional as F #引入计算包\n",
    "input1 = t.randn(2,3) # 随机初始化一个矩阵\n",
    "input2 = t.randn(2,3)\n",
    "output = F.cosine_similarity(input1, input2) # 计算余弦相似度\n",
    "print(output) "
   ]
  },
  {
   "cell_type": "code",
   "execution_count": 3,
   "metadata": {},
   "outputs": [
    {
     "name": "stdout",
     "output_type": "stream",
     "text": [
      "tensor([[-0.7716,  0.7659, -0.2845],\n",
      "        [-1.2557,  1.6231, -0.3005]])\n",
      "tensor([[-1.3523,  0.0782, -1.2591],\n",
      "        [ 0.0438, -1.5867,  2.5026]])\n"
     ]
    }
   ],
   "source": [
    "print(input1)\n",
    "print(input2)"
   ]
  },
  {
   "cell_type": "code",
   "execution_count": 10,
   "metadata": {},
   "outputs": [
    {
     "name": "stdout",
     "output_type": "stream",
     "text": [
      "tensor([[-0.7716,  0.7659, -0.2845]])\n",
      "tensor([[-1.3523,  0.0782, -1.2591]])\n",
      "tensor([0.7033])\n"
     ]
    }
   ],
   "source": [
    "in1 = input1[0:1,:] # 取第一行的向量然后计算二者的相似度\n",
    "in2 = input2[0:1,:]\n",
    "print(in1)\n",
    "print(in2)\n",
    "print(t.cosine_similarity(in1,in2)) # 默认参数dim =1，计算行向量的相似度"
   ]
  },
  {
   "cell_type": "code",
   "execution_count": 4,
   "metadata": {},
   "outputs": [
    {
     "name": "stdout",
     "output_type": "stream",
     "text": [
      "torch.Size([1, 2])\n",
      "tensor([1., 1.])\n"
     ]
    }
   ],
   "source": [
    "import torch as t\n",
    "a = t.tensor([[1,2]]).float()\n",
    "print(a.size())\n",
    "b = t.tensor([[2,1]]).float()\n",
    "print(t.cosine_similarity(a,b,dim=0)) # 添加维度参数，就可以在一维向量上计算相似度了"
   ]
  }
 ],
 "metadata": {
  "kernelspec": {
   "display_name": "Python 3",
   "language": "python",
   "name": "python3"
  },
  "language_info": {
   "codemirror_mode": {
    "name": "ipython",
    "version": 3
   },
   "file_extension": ".py",
   "mimetype": "text/x-python",
   "name": "python",
   "nbconvert_exporter": "python",
   "pygments_lexer": "ipython3",
   "version": "3.8.3"
  }
 },
 "nbformat": 4,
 "nbformat_minor": 4
}
