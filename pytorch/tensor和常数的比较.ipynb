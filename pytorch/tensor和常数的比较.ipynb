{
 "cells": [
  {
   "cell_type": "code",
   "execution_count": null,
   "metadata": {},
   "outputs": [],
   "source": [
    "\"\"\"tensor和常数的比较\n",
    "\"\"\"\n",
    "import torch\n",
    "a = torch.tensor([[ 1,  2,  1,  2,  7,  4,  6,  1, 10],\n",
    "        [ 1,  4,  4,  7,  8,  3,  1,  4,  6],\n",
    "        [ 1,  8,  9,  7,  5,  9,  2,  6, 10],\n",
    "        [ 1,  3,  8,  2,  7,  1,  1,  8,  5],\n",
    "        [ 1,  1,  2,  3,  8,  5,  1,  9,  6],\n",
    "        [ 1,  9,  5,  1,  6,  6,  7,  9,  6],\n",
    "        [ 1,  1,  1,  9,  5, 10,  9,  2,  7]])\n",
    "print(a!=1)"
   ]
  }
 ],
 "metadata": {
  "kernelspec": {
   "display_name": "Python 3",
   "language": "python",
   "name": "python3"
  },
  "language_info": {
   "codemirror_mode": {
    "name": "ipython",
    "version": 3
   },
   "file_extension": ".py",
   "mimetype": "text/x-python",
   "name": "python",
   "nbconvert_exporter": "python",
   "pygments_lexer": "ipython3",
   "version": "3.7.6"
  }
 },
 "nbformat": 4,
 "nbformat_minor": 4
}
