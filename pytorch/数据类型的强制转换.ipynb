{
 "cells": [
  {
   "cell_type": "code",
   "execution_count": 12,
   "metadata": {},
   "outputs": [
    {
     "name": "stdout",
     "output_type": "stream",
     "text": [
      "torch.float32\n",
      "tensor([[-1.7473, -0.5181,  0.4527],\n",
      "        [-1.3108, -0.7004,  0.1661]]) \n",
      "\n",
      "torch.int64\n",
      "tensor([[-1,  0,  0],\n",
      "        [-1,  0,  0]])\n"
     ]
    },
    {
     "name": "stderr",
     "output_type": "stream",
     "text": [
      "<ipython-input-12-d3ac26cfb8e7>:9: UserWarning: To copy construct from a tensor, it is recommended to use sourceTensor.clone().detach() or sourceTensor.clone().detach().requires_grad_(True), rather than torch.tensor(sourceTensor).\n",
      "  c = t.tensor(b,dtype=t.long)\n"
     ]
    }
   ],
   "source": [
    "\"\"\"1.将数据从float转换成long类型，会损失数据精度，这和其他语言是一样的情况\n",
    "\"\"\"\n",
    "import torch as t\n",
    "b = t.randn(2,3)\n",
    "print(b.dtype)\n",
    "print(b,\"\\n\")\n",
    "\n",
    "# 下面这种方式是强行取整的方式，直接取整数位\n",
    "c = t.tensor(b,dtype=t.long)\n",
    "print(c.dtype)\n",
    "print(c)"
   ]
  }
 ],
 "metadata": {
  "kernelspec": {
   "display_name": "Python 3",
   "language": "python",
   "name": "python3"
  },
  "language_info": {
   "codemirror_mode": {
    "name": "ipython",
    "version": 3
   },
   "file_extension": ".py",
   "mimetype": "text/x-python",
   "name": "python",
   "nbconvert_exporter": "python",
   "pygments_lexer": "ipython3",
   "version": "3.8.3"
  }
 },
 "nbformat": 4,
 "nbformat_minor": 4
}
