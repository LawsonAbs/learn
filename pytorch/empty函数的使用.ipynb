{
 "cells": [
  {
   "cell_type": "code",
   "execution_count": 5,
   "metadata": {},
   "outputs": [
    {
     "name": "stdout",
     "output_type": "stream",
     "text": [
      "tensor([[-3.5290e-28,  4.5654e-41, -3.5290e-28],\n",
      "        [ 4.5654e-41,  4.4842e-44,  0.0000e+00]])\n"
     ]
    }
   ],
   "source": [
    "\"\"\"\n",
    "功能：返回一个没有初始化的数据。这个tensor的形状是size \n",
    "\"\"\"\n",
    "import torch as t\n",
    "a =t.empty(2,3)\n",
    "print(a)"
   ]
  }
 ],
 "metadata": {
  "kernelspec": {
   "display_name": "Python 3",
   "language": "python",
   "name": "python3"
  },
  "language_info": {
   "codemirror_mode": {
    "name": "ipython",
    "version": 3
   },
   "file_extension": ".py",
   "mimetype": "text/x-python",
   "name": "python",
   "nbconvert_exporter": "python",
   "pygments_lexer": "ipython3",
   "version": "3.8.3"
  }
 },
 "nbformat": 4,
 "nbformat_minor": 4
}
