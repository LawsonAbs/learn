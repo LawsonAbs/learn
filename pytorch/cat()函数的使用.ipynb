{
 "cells": [
  {
   "cell_type": "code",
   "execution_count": 1,
   "metadata": {},
   "outputs": [
    {
     "name": "stdout",
     "output_type": "stream",
     "text": [
      "tensor([[ 0.1111,  0.2235, -1.5812],\n",
      "        [ 0.4087,  1.6258, -1.2923]])\n",
      "tensor([[ 1.7860,  1.6154, -0.6819, -0.6319,  1.0701],\n",
      "        [ 0.1079, -1.7564, -1.9029,  0.8278, -1.5901]])\n",
      "---------------\n",
      "tensor([[ 0.1111,  0.2235, -1.5812],\n",
      "        [ 0.4087,  1.6258, -1.2923],\n",
      "        [ 0.1111,  0.2235, -1.5812],\n",
      "        [ 0.4087,  1.6258, -1.2923]])\n",
      "tensor([[ 0.1111,  0.2235, -1.5812,  1.7860,  1.6154, -0.6819, -0.6319,  1.0701],\n",
      "        [ 0.4087,  1.6258, -1.2923,  0.1079, -1.7564, -1.9029,  0.8278, -1.5901]])\n"
     ]
    }
   ],
   "source": [
    "\"\"\"\n",
    "1.torch.cat()函数的使用\n",
    "01.doc： https://pytorch.org/docs/stable/generated/torch.cat.html?highlight=cat#torch.cat\n",
    "简要翻译：\n",
    "01.将两个相同shape的tensor在指定维度拼接。所以需要的参数就是： tensor 和 dim(指定的维度)\n",
    "\"\"\"\n",
    "import torch\n",
    "\n",
    "x = torch.randn(2, 3)\n",
    "y = torch.randn(2,5)\n",
    "print(x)\n",
    "print(y)\n",
    "print(\"---------------\")\n",
    "res1 = torch.cat((x, x), 0) # 在第0维拼接  => 必须保证其他维度相同\n",
    "print(res1 )\n",
    "\n",
    "res2 = torch.cat((x, y), 1) # 在第1维拼接 =>  保证其他维相同，但是拼接的那一维可以不用相同\n",
    "print(res2)\n",
    " "
   ]
  }
 ],
 "metadata": {
  "kernelspec": {
   "display_name": "Python 3",
   "language": "python",
   "name": "python3"
  },
  "language_info": {
   "codemirror_mode": {
    "name": "ipython",
    "version": 3
   },
   "file_extension": ".py",
   "mimetype": "text/x-python",
   "name": "python",
   "nbconvert_exporter": "python",
   "pygments_lexer": "ipython3",
   "version": "3.8.3"
  }
 },
 "nbformat": 4,
 "nbformat_minor": 4
}
