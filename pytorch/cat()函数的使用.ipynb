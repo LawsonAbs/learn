{
 "cells": [
  {
   "cell_type": "code",
   "execution_count": 1,
   "metadata": {},
   "outputs": [
    {
     "name": "stdout",
     "output_type": "stream",
     "text": [
      "tensor([[-1.2781,  0.8074, -0.2409],\n",
      "        [ 1.1831,  0.6003,  2.0136]])\n",
      "tensor([[ 0.5778, -1.1238, -0.1869, -1.8231, -1.3254],\n",
      "        [ 0.1678, -1.7402, -0.5190,  0.6728, -1.2349]])\n",
      "---------------\n",
      "tensor([[-1.2781,  0.8074, -0.2409],\n",
      "        [ 1.1831,  0.6003,  2.0136],\n",
      "        [-1.2781,  0.8074, -0.2409],\n",
      "        [ 1.1831,  0.6003,  2.0136]])\n",
      "tensor([[-1.2781,  0.8074, -0.2409,  0.5778, -1.1238, -0.1869, -1.8231, -1.3254],\n",
      "        [ 1.1831,  0.6003,  2.0136,  0.1678, -1.7402, -0.5190,  0.6728, -1.2349]])\n"
     ]
    }
   ],
   "source": [
    "\"\"\"\n",
    "1.torch.cat()函数的使用\n",
    "01.doc： https://pytorch.org/docs/stable/generated/torch.cat.html?highlight=cat#torch.cat\n",
    "简要翻译：\n",
    "01.将两个相同shape的tensor在指定维度拼接。所以需要的参数就是： tensor 和 dim(指定的维度)\n",
    "\"\"\"\n",
    "import torch\n",
    "\n",
    "x = torch.randn(2, 3)\n",
    "y = torch.randn(2,5)\n",
    "print(x)\n",
    "print(y)\n",
    "print(\"---------------\")\n",
    "res1 = torch.cat((x, x), 0) # 在第0维拼接  => 必须保证其他维度相同\n",
    "print(res1 )\n",
    "\n",
    "res2 = torch.cat((x, y), 1) # 在第1维拼接 =>  保证其他维相同，但是拼接的那一维可以不用相同\n",
    "print(res2)\n",
    " "
   ]
  },
  {
   "cell_type": "code",
   "execution_count": 4,
   "metadata": {},
   "outputs": [
    {
     "name": "stdout",
     "output_type": "stream",
     "text": [
      "tensor([[[-0.5583,  0.4169],\n",
      "         [ 0.1579, -0.9558],\n",
      "         [ 1.1252, -1.4536]],\n",
      "\n",
      "        [[ 0.8139,  0.5217],\n",
      "         [-1.0808, -0.2803],\n",
      "         [ 0.3200, -0.6144]]])\n",
      "tensor([[[-0.3341, -0.0345],\n",
      "         [-1.0443, -0.7477],\n",
      "         [ 1.2068,  0.5188]],\n",
      "\n",
      "        [[ 0.3295, -0.4421],\n",
      "         [-0.5159,  0.4094],\n",
      "         [-0.3047, -0.4044]]])\n",
      "tensor([[[-0.5583,  0.4169],\n",
      "         [ 0.1579, -0.9558],\n",
      "         [ 1.1252, -1.4536]],\n",
      "\n",
      "        [[ 0.8139,  0.5217],\n",
      "         [-1.0808, -0.2803],\n",
      "         [ 0.3200, -0.6144]],\n",
      "\n",
      "        [[-0.3341, -0.0345],\n",
      "         [-1.0443, -0.7477],\n",
      "         [ 1.2068,  0.5188]],\n",
      "\n",
      "        [[ 0.3295, -0.4421],\n",
      "         [-0.5159,  0.4094],\n",
      "         [-0.3047, -0.4044]]])\n"
     ]
    }
   ],
   "source": [
    "\"\"\"如果一个tensor 初始为空，然后进行拼接\n",
    "\"\"\"\n",
    "import torch as t\n",
    "a = t.randn(2,3,2)\n",
    "b = t.randn(2,3,2)\n",
    "print(a)\n",
    "print(b)\n",
    "c = t.cat((a,b),0)\n",
    "print(c)"
   ]
  },
  {
   "cell_type": "code",
   "execution_count": 1,
   "metadata": {},
   "outputs": [
    {
     "name": "stdout",
     "output_type": "stream",
     "text": [
      "Even\n",
      "the\n",
      "best\n",
      "bird\n",
      "dog\n",
      "is\n",
      "only\n",
      "good\n",
      "to\n",
      "a\n",
      "point\n",
      ".\n",
      "[SEP]\n"
     ]
    }
   ],
   "source": [
    "\"\"\"\n",
    "\n",
    "\"\"\"\n",
    "words=['[CLS]', 'Even', 'the', 'best', 'bird', 'dog', 'is', 'only', 'good', 'to', 'a', 'point', '.', '[SEP]']\n",
    "for word in words[1:]:\n",
    "    print(word)\n"
   ]
  },
  {
   "cell_type": "code",
   "execution_count": 4,
   "metadata": {},
   "outputs": [
    {
     "name": "stdout",
     "output_type": "stream",
     "text": [
      "tensor([[[ 1.0095,  0.1013,  1.0565],\n",
      "         [-0.7262, -1.9731,  1.1336]]])\n",
      "tensor([[[0.6696],\n",
      "         [0.8430]]])\n"
     ]
    },
    {
     "ename": "TypeError",
     "evalue": "cat() received an invalid combination of arguments - got (Tensor, Tensor, int), but expected one of:\n * (tuple of Tensors tensors, name dim, Tensor out)\n      didn't match because some of the arguments have invalid types: (\u001b[31;1mTensor\u001b[0m, \u001b[31;1mTensor\u001b[0m, \u001b[31;1mint\u001b[0m)\n * (tuple of Tensors tensors, int dim, Tensor out)\n      didn't match because some of the arguments have invalid types: (\u001b[31;1mTensor\u001b[0m, \u001b[31;1mTensor\u001b[0m, \u001b[31;1mint\u001b[0m)\n",
     "output_type": "error",
     "traceback": [
      "\u001b[0;31m---------------------------------------------------------------------------\u001b[0m",
      "\u001b[0;31mTypeError\u001b[0m                                 Traceback (most recent call last)",
      "\u001b[0;32m<ipython-input-4-991583e9acf5>\u001b[0m in \u001b[0;36m<module>\u001b[0;34m\u001b[0m\n\u001b[1;32m      4\u001b[0m \u001b[0mb\u001b[0m \u001b[0;34m=\u001b[0m \u001b[0mt\u001b[0m\u001b[0;34m.\u001b[0m\u001b[0mrandn\u001b[0m\u001b[0;34m(\u001b[0m\u001b[0;36m1\u001b[0m\u001b[0;34m,\u001b[0m\u001b[0;36m2\u001b[0m\u001b[0;34m,\u001b[0m\u001b[0;36m1\u001b[0m\u001b[0;34m)\u001b[0m\u001b[0;34m\u001b[0m\u001b[0;34m\u001b[0m\u001b[0m\n\u001b[1;32m      5\u001b[0m \u001b[0mprint\u001b[0m\u001b[0;34m(\u001b[0m\u001b[0mb\u001b[0m\u001b[0;34m)\u001b[0m\u001b[0;34m\u001b[0m\u001b[0;34m\u001b[0m\u001b[0m\n\u001b[0;32m----> 6\u001b[0;31m \u001b[0mres\u001b[0m \u001b[0;34m=\u001b[0m \u001b[0mt\u001b[0m\u001b[0;34m.\u001b[0m\u001b[0mcat\u001b[0m\u001b[0;34m(\u001b[0m\u001b[0ma\u001b[0m\u001b[0;34m,\u001b[0m\u001b[0mb\u001b[0m\u001b[0;34m,\u001b[0m\u001b[0;36m2\u001b[0m\u001b[0;34m)\u001b[0m\u001b[0;34m\u001b[0m\u001b[0;34m\u001b[0m\u001b[0m\n\u001b[0m\u001b[1;32m      7\u001b[0m \u001b[0mprint\u001b[0m\u001b[0;34m(\u001b[0m\u001b[0mres\u001b[0m\u001b[0;34m)\u001b[0m\u001b[0;34m\u001b[0m\u001b[0;34m\u001b[0m\u001b[0m\n",
      "\u001b[0;31mTypeError\u001b[0m: cat() received an invalid combination of arguments - got (Tensor, Tensor, int), but expected one of:\n * (tuple of Tensors tensors, name dim, Tensor out)\n      didn't match because some of the arguments have invalid types: (\u001b[31;1mTensor\u001b[0m, \u001b[31;1mTensor\u001b[0m, \u001b[31;1mint\u001b[0m)\n * (tuple of Tensors tensors, int dim, Tensor out)\n      didn't match because some of the arguments have invalid types: (\u001b[31;1mTensor\u001b[0m, \u001b[31;1mTensor\u001b[0m, \u001b[31;1mint\u001b[0m)\n"
     ]
    }
   ],
   "source": [
    "import torch as t\n",
    "a = t.randn(1,2,3)\n",
    "print(a)\n",
    "b = t.randn(1,2,1)\n",
    "print(b)"
   ]
  },
  {
   "cell_type": "code",
   "execution_count": 6,
   "metadata": {},
   "outputs": [
    {
     "name": "stdout",
     "output_type": "stream",
     "text": [
      "tensor([[[ 1.0095,  0.1013,  1.0565,  0.6696],\n",
      "         [-0.7262, -1.9731,  1.1336,  0.8430]]])\n",
      "torch.Size([1, 2, 4])\n"
     ]
    }
   ],
   "source": [
    "res = t.cat((a,b),2)\n",
    "print(res)\n",
    "print(res.size())"
   ]
  }
 ],
 "metadata": {
  "kernelspec": {
   "display_name": "Python 3",
   "language": "python",
   "name": "python3"
  },
  "language_info": {
   "codemirror_mode": {
    "name": "ipython",
    "version": 3
   },
   "file_extension": ".py",
   "mimetype": "text/x-python",
   "name": "python",
   "nbconvert_exporter": "python",
   "pygments_lexer": "ipython3",
   "version": "3.8.3"
  }
 },
 "nbformat": 4,
 "nbformat_minor": 4
}
