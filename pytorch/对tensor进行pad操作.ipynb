{
 "cells": [
  {
   "cell_type": "code",
   "execution_count": 2,
   "metadata": {},
   "outputs": [
    {
     "name": "stdout",
     "output_type": "stream",
     "text": [
      "tensor([[-1.0832,  1.1148,  0.3106],\n",
      "        [-0.7554, -0.0043, -0.6518]])\n"
     ]
    },
    {
     "ename": "NameError",
     "evalue": "name 'pad' is not defined",
     "output_type": "error",
     "traceback": [
      "\u001b[0;31m---------------------------------------------------------------------------\u001b[0m",
      "\u001b[0;31mNameError\u001b[0m                                 Traceback (most recent call last)",
      "\u001b[0;32m<ipython-input-2-e584156eb079>\u001b[0m in \u001b[0;36m<module>\u001b[0;34m\u001b[0m\n\u001b[1;32m      4\u001b[0m \u001b[0;31m# 对a.size =(2,3) pad 至 (5,3)\u001b[0m\u001b[0;34m\u001b[0m\u001b[0;34m\u001b[0m\u001b[0;34m\u001b[0m\u001b[0m\n\u001b[1;32m      5\u001b[0m \u001b[0;34m\u001b[0m\u001b[0m\n\u001b[0;32m----> 6\u001b[0;31m \u001b[0mpad\u001b[0m\u001b[0;34m\u001b[0m\u001b[0;34m\u001b[0m\u001b[0m\n\u001b[0m",
      "\u001b[0;31mNameError\u001b[0m: name 'pad' is not defined"
     ]
    }
   ],
   "source": [
    "import torch as t\n",
    "a = t.randn(2,3)\n",
    "print(a)\n",
    "# 对a.size =(2,3) pad 至 (5,3)\n",
    "\n",
    "pad"
   ]
  },
  {
   "cell_type": "code",
   "execution_count": 14,
   "metadata": {},
   "outputs": [
    {
     "name": "stdout",
     "output_type": "stream",
     "text": [
      "tensor([[[1.2903e+24, 3.0704e-41],\n",
      "         [0.0000e+00, 0.0000e+00],\n",
      "         [0.0000e+00, 0.0000e+00],\n",
      "         [1.3333e-21, 4.5751e-41]],\n",
      "\n",
      "        [[0.0000e+00, 0.0000e+00],\n",
      "         [1.1007e-21, 4.5751e-41],\n",
      "         [0.0000e+00, 0.0000e+00],\n",
      "         [       nan, 3.3561e-06]],\n",
      "\n",
      "        [[1.4013e-45, 0.0000e+00],\n",
      "         [1.4013e-45, 3.3561e-06],\n",
      "         [1.3328e-21, 4.5751e-41],\n",
      "         [6.8664e-44, 0.0000e+00]]])\n",
      "torch.Size([3, 4, 4])\n",
      "tensor([[[0.0000e+00, 1.2903e+24, 3.0704e-41, 0.0000e+00],\n",
      "         [0.0000e+00, 0.0000e+00, 0.0000e+00, 0.0000e+00],\n",
      "         [0.0000e+00, 0.0000e+00, 0.0000e+00, 0.0000e+00],\n",
      "         [0.0000e+00, 1.3333e-21, 4.5751e-41, 0.0000e+00]],\n",
      "\n",
      "        [[0.0000e+00, 0.0000e+00, 0.0000e+00, 0.0000e+00],\n",
      "         [0.0000e+00, 1.1007e-21, 4.5751e-41, 0.0000e+00],\n",
      "         [0.0000e+00, 0.0000e+00, 0.0000e+00, 0.0000e+00],\n",
      "         [0.0000e+00,        nan, 3.3561e-06, 0.0000e+00]],\n",
      "\n",
      "        [[0.0000e+00, 1.4013e-45, 0.0000e+00, 0.0000e+00],\n",
      "         [0.0000e+00, 1.4013e-45, 3.3561e-06, 0.0000e+00],\n",
      "         [0.0000e+00, 1.3328e-21, 4.5751e-41, 0.0000e+00],\n",
      "         [0.0000e+00, 6.8664e-44, 0.0000e+00, 0.0000e+00]]])\n"
     ]
    }
   ],
   "source": [
    "import torch\n",
    "import torch.nn.functional as F\n",
    "t4d = torch.empty(3, 4, 2)\n",
    "print(t4d)\n",
    "p1d = (1,1)# pad last dim by 1 on each side\n",
    "out = F.pad(t4d, p1d, \"constant\", 0)  # effectively zero padding\n",
    "print(out.size())\n",
    "print(out)"
   ]
  },
  {
   "cell_type": "code",
   "execution_count": null,
   "metadata": {},
   "outputs": [],
   "source": [
    ",0"
   ]
  }
 ],
 "metadata": {
  "kernelspec": {
   "display_name": "Python 3",
   "language": "python",
   "name": "python3"
  },
  "language_info": {
   "codemirror_mode": {
    "name": "ipython",
    "version": 3
   },
   "file_extension": ".py",
   "mimetype": "text/x-python",
   "name": "python",
   "nbconvert_exporter": "python",
   "pygments_lexer": "ipython3",
   "version": "3.8.3"
  }
 },
 "nbformat": 4,
 "nbformat_minor": 4
}
