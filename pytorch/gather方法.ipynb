{
 "cells": [
  {
   "cell_type": "code",
   "execution_count": 3,
   "metadata": {},
   "outputs": [
    {
     "name": "stdout",
     "output_type": "stream",
     "text": [
      "tensor([[1, 2],\n",
      "        [3, 4]])\n"
     ]
    },
    {
     "data": {
      "text/plain": [
       "tensor([[1, 1],\n",
       "        [4, 3]])"
      ]
     },
     "execution_count": 3,
     "metadata": {},
     "output_type": "execute_result"
    }
   ],
   "source": [
    "'''\n",
    "gather方法\n",
    "(input,dim,index,*,sparse_grad=False,out=None)\n",
    "01.input 和 index 必须有相同的维度数，意思就是input如果是2维，那么index也必须是2维，但是二者的维度可以不必完全相同，具体见下例2\n",
    "02.out 的size 和 index 相同\n",
    "\n",
    "gather 的意思就是按照给出 index的值，修改input的某一维，从而实现从input中取值。\n",
    "对于下例，因为dim=1，所以整个赋值过程如下：\n",
    "out[i][j] = input[i][index[i][j]] \n",
    "因为index[i][j] 的值并非是规则排列的，所以有可能不同的i,j 得到的值是相同的。比如这里的out[0][0] 和 out[0][1] 结果相同\n",
    "'''\n",
    "# 例一\n",
    "import torch as t\n",
    "a = t.tensor([[1,2],[3,4]])\n",
    "print(a)\n",
    "index = t.tensor([[0,0],[1,0]])\n",
    "t.gather(a,1,index)"
   ]
  },
  {
   "cell_type": "code",
   "execution_count": 4,
   "metadata": {},
   "outputs": [
    {
     "name": "stdout",
     "output_type": "stream",
     "text": [
      "tensor([[0.1000, 0.8200, 0.0800],\n",
      "        [0.3000, 0.4000, 0.3000]])\n",
      "tensor([[0],\n",
      "        [1]])\n",
      "tensor([[0.1000],\n",
      "        [0.4000]])\n"
     ]
    }
   ],
   "source": [
    "# 例二\n",
    "import torch as t\n",
    "a = t.tensor([[0.1,0.82,0.08],\n",
    "              [0.3,0.4,0.3]])\n",
    "tgt = t.tensor([0,1]) # 目标类\n",
    "print(a) # size(2,3)\n",
    "index = tgt.unsqueeze(1)\n",
    "print(index) # size(2,1) index 和 a 的维度数目相同，都是2维，但是具体大小不同\n",
    "nll_loss = a.gather(dim=-1,index=index) \n",
    "print(nll_loss)"
   ]
  }
 ],
 "metadata": {
  "kernelspec": {
   "display_name": "Python 3",
   "language": "python",
   "name": "python3"
  },
  "language_info": {
   "codemirror_mode": {
    "name": "ipython",
    "version": 3
   },
   "file_extension": ".py",
   "mimetype": "text/x-python",
   "name": "python",
   "nbconvert_exporter": "python",
   "pygments_lexer": "ipython3",
   "version": "3.8.3"
  }
 },
 "nbformat": 4,
 "nbformat_minor": 4
}
