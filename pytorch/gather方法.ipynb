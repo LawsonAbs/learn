{
 "cells": [
  {
   "cell_type": "code",
   "execution_count": 14,
   "metadata": {},
   "outputs": [
    {
     "name": "stdout",
     "output_type": "stream",
     "text": [
      "tensor([[1, 2],\n",
      "        [3, 4]])\n"
     ]
    },
    {
     "data": {
      "text/plain": [
       "tensor([[1, 1],\n",
       "        [4, 3]])"
      ]
     },
     "execution_count": 14,
     "metadata": {},
     "output_type": "execute_result"
    }
   ],
   "source": [
    "'''\n",
    "gather方法\n",
    "(input,dim,index,*,sparse_grad=False,out=None)\n",
    "01.input 和 index 必须有相同的维度数，意思就是input如果是2维，那么index也必须是2维，但是二者的维度可以不必完全相同，具体见下例2\n",
    "02.out 的size 和 index 相同\n",
    "\n",
    "gather 的意思就是按照给出 index的值，修改input的某一维，从而实现从input中取值。\n",
    "对于下例，因为dim=1，所以整个赋值过程如下：\n",
    "out[i][j] = input[i][index[i][j]] \n",
    "因为index[i][j] 的值并非是规则排列的，所以有可能不同的i,j 得到的值是相同的。比如这里的out[0][0] 和 out[0][1] 结果相同\n",
    "'''\n",
    "# 例一\n",
    "import torch as t\n",
    "a = t.tensor([[1,2],[3,4]])\n",
    "print(a)\n",
    "index = t.tensor([[0,0],[1,0]])\n",
    "t.gather(a,1,index)"
   ]
  },
  {
   "cell_type": "code",
   "execution_count": 19,
   "metadata": {},
   "outputs": [
    {
     "name": "stdout",
     "output_type": "stream",
     "text": [
      "tensor([[0.1000, 0.8200, 0.0800],\n",
      "        [0.3000, 0.2000, 0.5000]])\n",
      "tensor([[0, 1],\n",
      "        [2, 1]])\n",
      "tensor([[0.1000, 0.8200],\n",
      "        [0.5000, 0.2000]])\n"
     ]
    }
   ],
   "source": [
    "# 例二\n",
    "import torch as t\n",
    "# a size = [2,3]\n",
    "a = t.tensor([[0.1,0.82,0.08],\n",
    "              [0.3,0.2,0.5]])\n",
    "index = t.tensor([[0,1,],[2,1]]) # 目标类\n",
    "print(a) # size(2,3)\n",
    "print(index) # size(2,1) index 和 a 的维度数目相同，都是2维，但是具体大小不同\n",
    "\n",
    "# 这是想怎么做？\n",
    "nll_loss = t.gather(a,dim=-1,index=index)\n",
    "print(nll_loss)"
   ]
  },
  {
   "cell_type": "code",
   "execution_count": 59,
   "metadata": {},
   "outputs": [
    {
     "name": "stdout",
     "output_type": "stream",
     "text": [
      "tensor([[[ 1.1195,  1.0093,  1.2248,  0.2166],\n",
      "         [-1.3436,  2.4809, -0.2086,  1.2934],\n",
      "         [-2.0728,  1.6380,  0.9770, -0.0679]],\n",
      "\n",
      "        [[ 1.1189,  0.6171,  0.8972, -0.6559],\n",
      "         [ 1.2031, -0.3681, -0.0604, -0.6862],\n",
      "         [-0.5078,  0.5130,  1.0529,  0.3443]]])\n",
      "tensor([[[1, 1, 1]],\n",
      "\n",
      "        [[0, 0, 0]]])\n",
      "tensor([[[-1.3436,  2.4809, -0.2086]],\n",
      "\n",
      "        [[ 1.1189,  0.6171,  0.8972]]])\n"
     ]
    }
   ],
   "source": [
    "\"\"\"\n",
    "gather 相当于一种index_select 操作，如下所示：这里的[1,1,1]就相当于取了第1行，[0,0,0] 就相当于取了第0行\n",
    "\"\"\"\n",
    "import torch as t\n",
    "entity_bank = t.randn(2,3,4) \n",
    "index = t.tensor([[[1,1,1]],[[0,0,0]]]) # [2,1,3]\n",
    "print(entity_bank)\n",
    "print(index)\n",
    "out =t.gather(input=entity_bank,dim=1,index=index)\n",
    "print(out)"
   ]
  }
 ],
 "metadata": {
  "kernelspec": {
   "display_name": "Python 3 (ipykernel)",
   "language": "python",
   "name": "python3"
  },
  "language_info": {
   "codemirror_mode": {
    "name": "ipython",
    "version": 3
   },
   "file_extension": ".py",
   "mimetype": "text/x-python",
   "name": "python",
   "nbconvert_exporter": "python",
   "pygments_lexer": "ipython3",
   "version": "3.8.3"
  }
 },
 "nbformat": 4,
 "nbformat_minor": 4
}
