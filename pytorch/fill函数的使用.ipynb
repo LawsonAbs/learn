{
 "cells": [
  {
   "cell_type": "code",
   "execution_count": null,
   "metadata": {},
   "outputs": [],
   "source": [
    "\"\"\"\n",
    "\"\"\"\n",
    "import torch\n",
    "x=torch.randn(3)#生成一维随机数\n",
    "y=x*2\n",
    "y.backward(torch.FloatTensor([1,0.1,0.01]))#自动求导\n",
    "print(x.grad)#求对x的梯度"
   ]
  },
  {
   "cell_type": "code",
   "execution_count": 2,
   "metadata": {},
   "outputs": [
    {
     "name": "stdout",
     "output_type": "stream",
     "text": [
      "tensor([0., 0., 0., 0., 0., 0., 0., 0.])\n",
      "tensor([14., 14., 14., 14., 14., 14., 14., 14.])\n"
     ]
    }
   ],
   "source": [
    "\"\"\"\n",
    "使用fill_()函数填充数值\n",
    "01.需要结合一个事先创建好的tensor 一起使用\n",
    "\"\"\"\n",
    "import torch as t\n",
    "a = t.zeros(8) # 新建一个size = [8] 的tensor\n",
    "print(a)\n",
    "a.fill_(14) # 以14这个数值填充\n",
    "print(a)"
   ]
  }
 ],
 "metadata": {
  "kernelspec": {
   "display_name": "Python 3",
   "language": "python",
   "name": "python3"
  },
  "language_info": {
   "codemirror_mode": {
    "name": "ipython",
    "version": 3
   },
   "file_extension": ".py",
   "mimetype": "text/x-python",
   "name": "python",
   "nbconvert_exporter": "python",
   "pygments_lexer": "ipython3",
   "version": "3.8.3"
  }
 },
 "nbformat": 4,
 "nbformat_minor": 4
}
