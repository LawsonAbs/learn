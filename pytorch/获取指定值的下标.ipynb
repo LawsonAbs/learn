{
 "cells": [
  {
   "cell_type": "code",
   "execution_count": 2,
   "metadata": {},
   "outputs": [
    {
     "name": "stdout",
     "output_type": "stream",
     "text": [
      "tensor([0., 1., 0., 1., 0., 0., 0., 0., 1., 0.])\n",
      "tensor([1, 3, 8])\n"
     ]
    }
   ],
   "source": [
    "\"\"\"选择值为1的下标\n",
    "\"\"\"\n",
    "import torch as t\n",
    "pred = t.zeros(10)\n",
    "pred[1] = 1\n",
    "pred[3] = 1\n",
    "pred[8] = 1\n",
    "print(pred)\n",
    "c = (pred==1).nonzero()\n",
    "print(c.squeeze_())"
   ]
  }
 ],
 "metadata": {
  "kernelspec": {
   "display_name": "Python 3",
   "language": "python",
   "name": "python3"
  },
  "language_info": {
   "codemirror_mode": {
    "name": "ipython",
    "version": 3
   },
   "file_extension": ".py",
   "mimetype": "text/x-python",
   "name": "python",
   "nbconvert_exporter": "python",
   "pygments_lexer": "ipython3",
   "version": "3.8.3"
  }
 },
 "nbformat": 4,
 "nbformat_minor": 4
}
