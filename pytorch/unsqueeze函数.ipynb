{
 "cells": [
  {
   "cell_type": "code",
   "execution_count": 3,
   "metadata": {},
   "outputs": [
    {
     "name": "stdout",
     "output_type": "stream",
     "text": [
      "tensor([1, 2, 3])\n",
      "tensor([[1, 2, 3]])\n",
      "tensor([[[1, 2, 3]]])\n"
     ]
    }
   ],
   "source": [
    "\"\"\"使用unsqueeze()方法可以将一个tensor的维度提升\n",
    "01.unsqueeze(tensor,dim)\n",
    "tensor 表示需要处理的tensor;\n",
    "dim 表示需要unsqueeze 的维度\n",
    "02.注意的是:\n",
    "unsqueeze()函数的调用者是torch;\n",
    "_unsqueeze()的调用者是tensor;\n",
    "\"\"\"\n",
    "import torch\n",
    "a = torch.tensor([1,2,3])\n",
    "print(a)\n",
    "a = torch.unsqueeze(a,0)\n",
    "print(a)\n",
    "a.unsqueeze_(0) \n",
    "print(a)"
   ]
  },
  {
   "cell_type": "code",
   "execution_count": 9,
   "metadata": {},
   "outputs": [
    {
     "name": "stdout",
     "output_type": "stream",
     "text": [
      "tensor([[ 1,  2,  1,  2,  7,  4,  6,  1, 10],\n",
      "        [ 1,  4,  4,  7,  8,  3,  1,  4,  6],\n",
      "        [ 1,  8,  9,  7,  5,  9,  2,  6, 10],\n",
      "        [ 1,  3,  8,  2,  7,  1,  1,  8,  5],\n",
      "        [ 1,  1,  2,  3,  8,  5,  1,  9,  6],\n",
      "        [ 1,  9,  5,  1,  6,  6,  7,  9,  6],\n",
      "        [ 1,  1,  1,  9,  5, 10,  9,  2,  7]])\n",
      "torch.Size([7, 9])\n",
      "\n",
      "2\n",
      "torch.Size([7, 9])\n",
      "tensor([[[ 1,  2,  1,  2,  7,  4,  6,  1, 10]],\n",
      "\n",
      "        [[ 1,  4,  4,  7,  8,  3,  1,  4,  6]],\n",
      "\n",
      "        [[ 1,  8,  9,  7,  5,  9,  2,  6, 10]],\n",
      "\n",
      "        [[ 1,  3,  8,  2,  7,  1,  1,  8,  5]],\n",
      "\n",
      "        [[ 1,  1,  2,  3,  8,  5,  1,  9,  6]],\n",
      "\n",
      "        [[ 1,  9,  5,  1,  6,  6,  7,  9,  6]],\n",
      "\n",
      "        [[ 1,  1,  1,  9,  5, 10,  9,  2,  7]]])\n",
      "torch.Size([7, 1, 9])\n",
      "3\n"
     ]
    }
   ],
   "source": [
    "\"\"\"unsqueeze()函数\n",
    "\"\"\"\n",
    "import torch\n",
    "a = torch.tensor([[ 1,  2,  1,  2,  7,  4,  6,  1, 10],\n",
    "        [ 1,  4,  4,  7,  8,  3,  1,  4,  6],\n",
    "        [ 1,  8,  9,  7,  5,  9,  2,  6, 10],\n",
    "        [ 1,  3,  8,  2,  7,  1,  1,  8,  5],\n",
    "        [ 1,  1,  2,  3,  8,  5,  1,  9,  6],\n",
    "        [ 1,  9,  5,  1,  6,  6,  7,  9,  6],\n",
    "        [ 1,  1,  1,  9,  5, 10,  9,  2,  7]])\n",
    "print(a)\n",
    "print(a.size())\n",
    "print(\"\")\n",
    "\n",
    "print(a.dim())  # 输出是2\n",
    "b = a.unsqueeze(-2)  # a没有变\n",
    "print(a.size())\n",
    "print(b)\n",
    "print(b.size())\n",
    "print(b.dim())"
   ]
  }
 ],
 "metadata": {
  "kernelspec": {
   "display_name": "Python 3",
   "language": "python",
   "name": "python3"
  },
  "language_info": {
   "codemirror_mode": {
    "name": "ipython",
    "version": 3
   },
   "file_extension": ".py",
   "mimetype": "text/x-python",
   "name": "python",
   "nbconvert_exporter": "python",
   "pygments_lexer": "ipython3",
   "version": "3.8.3"
  }
 },
 "nbformat": 4,
 "nbformat_minor": 4
}
