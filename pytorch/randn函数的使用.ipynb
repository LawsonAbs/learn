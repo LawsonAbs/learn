{
 "cells": [
  {
   "cell_type": "code",
   "execution_count": 10,
   "metadata": {},
   "outputs": [
    {
     "name": "stdout",
     "output_type": "stream",
     "text": [
      "tensor([[[ 0.2011,  1.4194,  0.4695, -0.8003, -1.2512],\n",
      "         [ 0.3541, -0.8111, -0.9032, -1.2519,  0.2192],\n",
      "         [-0.6596,  2.0169,  0.4552,  0.1419,  0.4675]],\n",
      "\n",
      "        [[ 0.8841, -1.5971,  1.5521,  0.2525,  0.6486],\n",
      "         [-1.9122,  0.5697, -0.7820,  2.7197, -0.7482],\n",
      "         [ 1.2086,  1.0933,  0.3454, -0.2084, -0.0560]]])\n"
     ]
    }
   ],
   "source": [
    "'''传入的参数作为size\n",
    "'''\n",
    "import torch as t\n",
    "a = t.randn((2,3,5))\n",
    "print(a)"
   ]
  },
  {
   "cell_type": "code",
   "execution_count": 13,
   "metadata": {},
   "outputs": [
    {
     "name": "stdout",
     "output_type": "stream",
     "text": [
      "tensor([[ 1.7198, -1.7179, -1.0244,  0.1918, -1.9173],\n",
      "        [-0.7097,  0.0468, -0.2479,  1.3097,  0.0616],\n",
      "        [ 0.2129, -2.0400,  0.0899,  0.0968, -0.0565]])\n"
     ]
    }
   ],
   "source": [
    "# 直接就是一个 size = (3,5) 的tensor\n",
    "input = t.randn(3,5)\n",
    "print(input)"
   ]
  }
 ],
 "metadata": {
  "kernelspec": {
   "display_name": "Python 3",
   "language": "python",
   "name": "python3"
  },
  "language_info": {
   "codemirror_mode": {
    "name": "ipython",
    "version": 3
   },
   "file_extension": ".py",
   "mimetype": "text/x-python",
   "name": "python",
   "nbconvert_exporter": "python",
   "pygments_lexer": "ipython3",
   "version": "3.8.3"
  }
 },
 "nbformat": 4,
 "nbformat_minor": 4
}
