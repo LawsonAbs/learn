{
 "cells": [
  {
   "cell_type": "code",
   "execution_count": 1,
   "metadata": {},
   "outputs": [
    {
     "name": "stdout",
     "output_type": "stream",
     "text": [
      "tensor(3.5000, requires_grad=True)\n",
      "tensor(1.8750, grad_fn=<MulBackward0>)\n",
      "tensor(5.7500)\n"
     ]
    }
   ],
   "source": [
    "import torch as t\n",
    "x = t.tensor(3.5,requires_grad = True)\n",
    "print(x)\n",
    "y = (x-1)*(x-2)*(x-3)\n",
    "print(y) \n",
    "# 此时对x求导，则有 dy/dx = 3x^2 - 11x + 11\n",
    "y.backward() # 表示对 y开始做反向传播。\n",
    "print(x.grad) # 张量x 里梯度的数值"
   ]
  }
 ],
 "metadata": {
  "kernelspec": {
   "display_name": "Python 3 (ipykernel)",
   "language": "python",
   "name": "python3"
  },
  "language_info": {
   "codemirror_mode": {
    "name": "ipython",
    "version": 3
   },
   "file_extension": ".py",
   "mimetype": "text/x-python",
   "name": "python",
   "nbconvert_exporter": "python",
   "pygments_lexer": "ipython3",
   "version": "3.8.3"
  }
 },
 "nbformat": 4,
 "nbformat_minor": 4
}
