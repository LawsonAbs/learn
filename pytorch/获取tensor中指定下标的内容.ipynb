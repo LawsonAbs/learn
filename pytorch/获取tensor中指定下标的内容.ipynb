{
 "cells": [
  {
   "cell_type": "code",
   "execution_count": 7,
   "metadata": {},
   "outputs": [
    {
     "name": "stdout",
     "output_type": "stream",
     "text": [
      "tensor([ 1.,  2.,  3.,  4.,  5.,  6.,  7.,  8.,  9., 10., 11., 12.])\n",
      "tensor([1., 4.])\n"
     ]
    }
   ],
   "source": [
    "\"\"\"使用index_select 实现\n",
    "\"\"\"\n",
    "import torch\n",
    "a = torch.linspace(1, 12, steps=12)#.view((4, 3))\n",
    "print(a)\n",
    "index = t.tensor([0, 3])\n",
    "print(torch.index_select(a, 0,index ))  # 提取第0个维度中的0和3\n"
   ]
  }
 ],
 "metadata": {
  "kernelspec": {
   "display_name": "Python 3",
   "language": "python",
   "name": "python3"
  },
  "language_info": {
   "codemirror_mode": {
    "name": "ipython",
    "version": 3
   },
   "file_extension": ".py",
   "mimetype": "text/x-python",
   "name": "python",
   "nbconvert_exporter": "python",
   "pygments_lexer": "ipython3",
   "version": "3.8.3"
  }
 },
 "nbformat": 4,
 "nbformat_minor": 4
}
