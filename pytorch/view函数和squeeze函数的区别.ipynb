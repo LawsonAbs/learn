{
 "cells": [
  {
   "cell_type": "code",
   "execution_count": 2,
   "metadata": {},
   "outputs": [
    {
     "name": "stdout",
     "output_type": "stream",
     "text": [
      "tensor([1])\n",
      "torch.Size([1])\n",
      "torch.Size([])\n",
      "tensor(1)\n",
      "--------------\n",
      "torch.Size([1])\n",
      "torch.Size([1])\n"
     ]
    }
   ],
   "source": [
    "'''这个地方我错过很多次\n",
    "（1）view函数和squeeze函数是具有不同的功能的，squeeze可以将一个有size的tensor变成没有size。\n",
    "'''\n",
    "import torch as t\n",
    "a = t.tensor([1])\n",
    "print(a)\n",
    "print(a.size())\n",
    "a.squeeze_()\n",
    "print(a.size()) #没有size了，变成了空\n",
    "print(a)\n",
    "print(\"--------------\")\n",
    "b= t.tensor([1])\n",
    "print(b.size())\n",
    "b = b.view(-1)\n",
    "print(b.size())"
   ]
  }
 ],
 "metadata": {
  "kernelspec": {
   "display_name": "Python 3",
   "language": "python",
   "name": "python3"
  },
  "language_info": {
   "codemirror_mode": {
    "name": "ipython",
    "version": 3
   },
   "file_extension": ".py",
   "mimetype": "text/x-python",
   "name": "python",
   "nbconvert_exporter": "python",
   "pygments_lexer": "ipython3",
   "version": "3.8.3"
  }
 },
 "nbformat": 4,
 "nbformat_minor": 4
}
