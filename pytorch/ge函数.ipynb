{
 "cells": [
  {
   "cell_type": "code",
   "execution_count": 1,
   "metadata": {},
   "outputs": [
    {
     "name": "stdout",
     "output_type": "stream",
     "text": [
      "tensor([0.2300, 0.5600, 0.1820, 0.9800])\n",
      "tensor([False, False, False,  True])\n"
     ]
    }
   ],
   "source": [
    "\"\"\"ge()函数\n",
    "参数：torch.ge(input,other,out=None) -> Tensor\n",
    "01.The second argument can be a number or a tensor \n",
    "whose shape is broadcastable with the first argument.\n",
    "02.当然也可以直接用 tensor.ge(other)这种方式，也就是下面这个例子\n",
    "\"\"\"\n",
    "import torch\n",
    "a = [0.23,0.56,0.182,0.98]\n",
    "a = torch.tensor(a)\n",
    "print(a)\n",
    "\n",
    "a.ge??\n",
    "a = a.ge(0.57)\n",
    "print(a)"
   ]
  }
 ],
 "metadata": {
  "kernelspec": {
   "display_name": "Python 3",
   "language": "python",
   "name": "python3"
  },
  "language_info": {
   "codemirror_mode": {
    "name": "ipython",
    "version": 3
   },
   "file_extension": ".py",
   "mimetype": "text/x-python",
   "name": "python",
   "nbconvert_exporter": "python",
   "pygments_lexer": "ipython3",
   "version": "3.7.6"
  }
 },
 "nbformat": 4,
 "nbformat_minor": 4
}
