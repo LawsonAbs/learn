{
 "cells": [
  {
   "cell_type": "code",
   "execution_count": 15,
   "metadata": {},
   "outputs": [
    {
     "name": "stdout",
     "output_type": "stream",
     "text": [
      "tensor([ 0.0766, -1.1178, -0.3931])\n",
      "tensor([[ 0.8172, -0.5084],\n",
      "        [-0.5558, -0.2702],\n",
      "        [-1.0226,  0.7273]])\n",
      "tensor([ 1.0858, -0.0228])\n"
     ]
    }
   ],
   "source": [
    "'''\n",
    "只要符合乘积规范，是可以使用matmul()函数计算的\n",
    "'''\n",
    "# 搞一个向量\n",
    "import torch as t\n",
    "a = t.randn(3)\n",
    "print(a)\n",
    "\n",
    "# 搞一个矩阵\n",
    "b = t.randn(3,2)\n",
    "print(b)\n",
    "\n",
    "# 计算乘积\n",
    "res = t.matmul(a,b)\n",
    "print(res)"
   ]
  }
 ],
 "metadata": {
  "kernelspec": {
   "display_name": "Python 3",
   "language": "python",
   "name": "python3"
  },
  "language_info": {
   "codemirror_mode": {
    "name": "ipython",
    "version": 3
   },
   "file_extension": ".py",
   "mimetype": "text/x-python",
   "name": "python",
   "nbconvert_exporter": "python",
   "pygments_lexer": "ipython3",
   "version": "3.8.3"
  }
 },
 "nbformat": 4,
 "nbformat_minor": 4
}
