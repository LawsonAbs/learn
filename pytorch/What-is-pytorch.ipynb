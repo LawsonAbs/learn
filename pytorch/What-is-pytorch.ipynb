{
 "cells": [
  {
   "cell_type": "code",
   "execution_count": 13,
   "metadata": {},
   "outputs": [
    {
     "name": "stdout",
     "output_type": "stream",
     "text": [
      "tensor([[1.1210e-44, 0.0000e+00, 0.0000e+00],\n",
      "        [0.0000e+00, 0.0000e+00, 0.0000e+00],\n",
      "        [0.0000e+00, 0.0000e+00, 0.0000e+00],\n",
      "        [0.0000e+00, 0.0000e+00, 0.0000e+00],\n",
      "        [0.0000e+00, 0.0000e+00, 0.0000e+00]])\n",
      "tensor([[0.3202, 0.5413, 0.8198],\n",
      "        [0.1346, 0.6313, 0.5010],\n",
      "        [0.8279, 0.3745, 0.0760],\n",
      "        [0.4031, 0.6419, 0.0773],\n",
      "        [0.7051, 0.8411, 0.5609]])\n"
     ]
    },
    {
     "data": {
      "text/plain": [
       "tensor([[0.3202, 0.5413, 0.8198],\n",
       "        [0.1346, 0.6313, 0.5010],\n",
       "        [0.8279, 0.3745, 0.0760],\n",
       "        [0.4031, 0.6419, 0.0773],\n",
       "        [0.7051, 0.8411, 0.5609]])"
      ]
     },
     "execution_count": 13,
     "metadata": {},
     "output_type": "execute_result"
    }
   ],
   "source": [
    "from __future__ import print_function\n",
    "import torch\n",
    "\n",
    "x = torch.empty(5,3)  # 这里的值也是一个随机值\n",
    "\"\"\"\n",
    "同样，可以创建矩阵的方法还有： \n",
    "x = torch.rand(5,3)\n",
    "x = torch.zeros(5,3,dtype = torch.long)\n",
    "x = torch.tensor([5.5,3]) # construct a tensor directly from data\n",
    "\n",
    "\"\"\"\n",
    "print(x)\n",
    "\n",
    "y = torch.rand(5,3)\n",
    "print(y)\n",
    "torch.add??\n",
    "torch.add(x,y)\n",
    "\n"
   ]
  },
  {
   "cell_type": "code",
   "execution_count": 27,
   "metadata": {},
   "outputs": [
    {
     "ename": "SyntaxError",
     "evalue": "invalid syntax (<ipython-input-27-df019d596dc2>, line 12)",
     "output_type": "error",
     "traceback": [
      "\u001b[0;36m  File \u001b[0;32m\"<ipython-input-27-df019d596dc2>\"\u001b[0;36m, line \u001b[0;32m12\u001b[0m\n\u001b[0;31m    torch.mean??\u001b[0m\n\u001b[0m              ^\u001b[0m\n\u001b[0;31mSyntaxError\u001b[0m\u001b[0;31m:\u001b[0m invalid syntax\n"
     ]
    }
   ],
   "source": [
    "x=torch.ones(2,2,requires_grad = True)\n",
    "print(x)\n",
    "y = x.add(2)\n",
    "print(y)\n",
    "print(y.grad_fn)\n",
    "z = y * y * 3\n",
    "\n",
    "\"\"\"\n",
    "torch.mean(): Returns the mean value of all elements in the :attr:`input` tensor.\n",
    "\"\"\"\n",
    "out = z.mean()\n",
    "torch.mean??  \n",
    "print(z,out)\n",
    "out.backward() # out 必须是sigle scalar， 才能继续后面的求导操作\n",
    "print(x.grad)\n",
    "# z.backward()  # 因为z并非是sigle scalar ， 所以不可执行 .backward()这个操作\n",
    "# print(x.grad) # 所以这个操作更是不可"
   ]
  },
  {
   "cell_type": "code",
   "execution_count": 32,
   "metadata": {},
   "outputs": [
    {
     "name": "stdout",
     "output_type": "stream",
     "text": [
      "tensor([-0.0263, -0.0727,  0.0233], requires_grad=True)\n",
      "torch.Size([3])\n",
      "tensor([ -430.7559, -1191.6798,   381.3664], grad_fn=<MulBackward0>)\n",
      "tensor([1.6384e+03, 1.6384e+04, 1.6384e+00])\n"
     ]
    }
   ],
   "source": [
    "x = torch.randn(3,requires_grad = True)\n",
    "print(x)\n",
    "print(x.size()) # 是一个长度为3的list\n",
    "y = x * 2 \n",
    "while y.data.norm() < 1000:\n",
    "    y = y* 2\n",
    "    \n",
    "print(y) # y is no longer a scalar\n",
    "v = torch.tensor([0.1,1.0,0.0001],dtype=torch.float)\n",
    "y.backward(v)\n",
    "print(x.grad)"
   ]
  },
  {
   "cell_type": "code",
   "execution_count": 39,
   "metadata": {},
   "outputs": [
    {
     "name": "stdout",
     "output_type": "stream",
     "text": [
      "tensor([1, 2, 3, 4, 5])\n",
      "torch.LongTensor\n",
      "<class 'torch.Tensor'>\n"
     ]
    }
   ],
   "source": [
    "# 创建tensor 时，可以使用传入一个list\n",
    "li = [1,2,3,4,5]\n",
    "a = torch.tensor(li) \n",
    "print(a)\n",
    "print(a.type())\n",
    "print(type(a))"
   ]
  },
  {
   "cell_type": "code",
   "execution_count": 41,
   "metadata": {},
   "outputs": [],
   "source": [
    "torch.tensor??"
   ]
  },
  {
   "cell_type": "code",
   "execution_count": 43,
   "metadata": {},
   "outputs": [
    {
     "name": "stdout",
     "output_type": "stream",
     "text": [
      "tensor([1, 4, 9])\n"
     ]
    }
   ],
   "source": [
    "x=torch.tensor([1,2,3])\n",
    "x=torch.pow(x,2)\n",
    "print(x)"
   ]
  },
  {
   "cell_type": "code",
   "execution_count": 45,
   "metadata": {},
   "outputs": [
    {
     "name": "stdout",
     "output_type": "stream",
     "text": [
      "tensor([[ 1,  4],\n",
      "        [ 9, 16]])\n"
     ]
    }
   ],
   "source": [
    "x=torch.tensor([[1,2],[3,4]])\n",
    "x=torch.pow(x,2)\n",
    "print(x)"
   ]
  },
  {
   "cell_type": "code",
   "execution_count": 54,
   "metadata": {},
   "outputs": [],
   "source": [
    "x = torch.empty(3,4)\n",
    "x.backward??"
   ]
  },
  {
   "cell_type": "code",
   "execution_count": null,
   "metadata": {},
   "outputs": [],
   "source": []
  },
  {
   "cell_type": "code",
   "execution_count": null,
   "metadata": {},
   "outputs": [],
   "source": []
  },
  {
   "cell_type": "code",
   "execution_count": null,
   "metadata": {},
   "outputs": [],
   "source": []
  },
  {
   "cell_type": "code",
   "execution_count": null,
   "metadata": {},
   "outputs": [],
   "source": []
  },
  {
   "cell_type": "code",
   "execution_count": null,
   "metadata": {},
   "outputs": [],
   "source": []
  },
  {
   "cell_type": "code",
   "execution_count": null,
   "metadata": {},
   "outputs": [],
   "source": []
  },
  {
   "cell_type": "code",
   "execution_count": null,
   "metadata": {},
   "outputs": [],
   "source": []
  }
 ],
 "metadata": {
  "kernelspec": {
   "display_name": "Python 3",
   "language": "python",
   "name": "python3"
  },
  "language_info": {
   "codemirror_mode": {
    "name": "ipython",
    "version": 3
   },
   "file_extension": ".py",
   "mimetype": "text/x-python",
   "name": "python",
   "nbconvert_exporter": "python",
   "pygments_lexer": "ipython3",
   "version": "3.7.6"
  }
 },
 "nbformat": 4,
 "nbformat_minor": 4
}
