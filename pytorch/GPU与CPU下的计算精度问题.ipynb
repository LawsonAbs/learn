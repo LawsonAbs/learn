{
 "cells": [
  {
   "cell_type": "code",
   "execution_count": 70,
   "metadata": {},
   "outputs": [
    {
     "name": "stdout",
     "output_type": "stream",
     "text": [
      "tensor([[-0.6014, -1.0122, -0.3023],\n",
      "        [-1.2277,  0.9198, -0.3485],\n",
      "        [-0.8692, -0.9582, -1.1920],\n",
      "        [ 1.9050, -0.9373, -0.8465],\n",
      "        [ 2.2678,  1.3615,  0.0157]])\n",
      "tensor([-0.6014, -1.0122, -0.3023])\n"
     ]
    }
   ],
   "source": [
    "'''\n",
    "cpu下计算是正确的\n",
    "'''\n",
    "import torch as t\n",
    "t.manual_seed(10)\n",
    "a = t.randn(5,3)\n",
    "target = t.tensor([1,0,0,0,0],dtype=t.float32)\n",
    "print(a)\n",
    "print(target@a)"
   ]
  },
  {
   "cell_type": "code",
   "execution_count": 67,
   "metadata": {},
   "outputs": [
    {
     "name": "stdout",
     "output_type": "stream",
     "text": [
      "tensor([[-0.6014, -1.0122, -0.3023],\n",
      "        [-1.2277,  0.9198, -0.3485],\n",
      "        [-0.8692, -0.9582, -1.1920],\n",
      "        [ 1.9050, -0.9373, -0.8465],\n",
      "        [ 2.2678,  1.3615,  0.0157]], device='cuda:0')\n",
      "tensor([[-0.6016, -1.0127, -0.3022]], device='cuda:0')\n"
     ]
    }
   ],
   "source": [
    "'''\n",
    "GPU下计算，精度出了问题\n",
    "'''\n",
    "import torch as t\n",
    "t.manual_seed(10)\n",
    "device = t.device(\"cuda:0\")\n",
    "a = t.randn(5,3).to(device)\n",
    "target = t.tensor([[1.0,0,0.0,0,0]],dtype=t.float32).to(device)\n",
    "print(a)\n",
    "print(target@a)"
   ]
  }
 ],
 "metadata": {
  "kernelspec": {
   "display_name": "Python 3",
   "language": "python",
   "name": "python3"
  },
  "language_info": {
   "codemirror_mode": {
    "name": "ipython",
    "version": 3
   },
   "file_extension": ".py",
   "mimetype": "text/x-python",
   "name": "python",
   "nbconvert_exporter": "python",
   "pygments_lexer": "ipython3",
   "version": "3.8.3"
  }
 },
 "nbformat": 4,
 "nbformat_minor": 4
}
