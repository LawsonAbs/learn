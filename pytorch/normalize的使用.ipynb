{
 "cells": [
  {
   "cell_type": "code",
   "execution_count": 4,
   "metadata": {},
   "outputs": [
    {
     "name": "stdout",
     "output_type": "stream",
     "text": [
      "tensor([[-0.6642, -1.8087, -0.7923],\n",
      "        [ 0.4923,  2.4364, -0.2320]])\n",
      "tensor([[-0.3188, -0.8682, -0.3803],\n",
      "        [ 0.1972,  0.9760, -0.0929]])\n"
     ]
    }
   ],
   "source": [
    "import torch as t\n",
    "from torch.nn.functional import normalize\n",
    "a = t.randn(2,3)\n",
    "print(a)\n",
    "\n",
    "res = normalize(a,dim=-1,p=2)\n",
    "print(res)"
   ]
  },
  {
   "cell_type": "code",
   "execution_count": 9,
   "metadata": {},
   "outputs": [
    {
     "name": "stdout",
     "output_type": "stream",
     "text": [
      "tensor([[2.0833],\n",
      "        [2.4964]])\n",
      "tensor([[-0.3188, -0.8682, -0.3803],\n",
      "        [ 0.1972,  0.9760, -0.0929]])\n"
     ]
    }
   ],
   "source": [
    "\"\"\"\n",
    "下面就手动计算一下这个L2范数\n",
    "\"\"\"\n",
    "b = t.sqrt(t.sum(a**2,dim=-1,keepdim=True))\n",
    "print(b)\n",
    "c = a/b\n",
    "print(c)"
   ]
  }
 ],
 "metadata": {
  "kernelspec": {
   "display_name": "Python 3",
   "language": "python",
   "name": "python3"
  },
  "language_info": {
   "codemirror_mode": {
    "name": "ipython",
    "version": 3
   },
   "file_extension": ".py",
   "mimetype": "text/x-python",
   "name": "python",
   "nbconvert_exporter": "python",
   "pygments_lexer": "ipython3",
   "version": "3.8.3"
  }
 },
 "nbformat": 4,
 "nbformat_minor": 4
}
