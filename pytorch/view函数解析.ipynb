{
 "cells": [
  {
   "cell_type": "code",
   "execution_count": 1,
   "metadata": {},
   "outputs": [
    {
     "name": "stdout",
     "output_type": "stream",
     "text": [
      "tensor([[ 0.8230, -1.1407,  0.9795],\n",
      "        [-1.0099, -0.0386,  0.6247]])\n"
     ]
    }
   ],
   "source": [
    "import torch as t\n",
    "a = t.randn(2,3)\n",
    "print(a)"
   ]
  },
  {
   "cell_type": "code",
   "execution_count": 4,
   "metadata": {},
   "outputs": [
    {
     "name": "stdout",
     "output_type": "stream",
     "text": [
      "True\n",
      "tensor([ 0.8230, -1.1407,  0.9795, -1.0099, -0.0386,  0.6247])\n",
      "True\n"
     ]
    }
   ],
   "source": [
    "print(a.is_contiguous()) # True\n",
    "b = a.view(-1)\n",
    "print(b)\n",
    "print(b.is_contiguous())"
   ]
  }
 ],
 "metadata": {
  "kernelspec": {
   "display_name": "Python 3",
   "language": "python",
   "name": "python3"
  },
  "language_info": {
   "codemirror_mode": {
    "name": "ipython",
    "version": 3
   },
   "file_extension": ".py",
   "mimetype": "text/x-python",
   "name": "python",
   "nbconvert_exporter": "python",
   "pygments_lexer": "ipython3",
   "version": "3.8.3"
  }
 },
 "nbformat": 4,
 "nbformat_minor": 4
}
