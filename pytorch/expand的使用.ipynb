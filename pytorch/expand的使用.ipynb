{
 "cells": [
  {
   "cell_type": "code",
   "execution_count": 1,
   "metadata": {},
   "outputs": [
    {
     "name": "stdout",
     "output_type": "stream",
     "text": [
      "tensor([[[-1.5451, -0.8892, -2.3123, -0.1657],\n",
      "         [ 0.1132, -0.0499, -0.0852,  0.3574],\n",
      "         [ 0.0766,  0.6443, -0.6150,  1.0478]],\n",
      "\n",
      "        [[ 0.5412,  0.6775,  2.3900,  0.0074],\n",
      "         [ 0.1471,  0.3869, -2.3480, -1.5844],\n",
      "         [-0.4028, -0.0889,  1.4501, -0.1376]]])\n",
      "tensor([[[0., 0., 0., 0.],\n",
      "         [0., 0., 0., 0.],\n",
      "         [0., 0., 0., 0.]],\n",
      "\n",
      "        [[0., 0., 0., 0.],\n",
      "         [0., 0., 0., 0.],\n",
      "         [0., 0., 0., 0.]]])\n",
      "tensor([[[-0.1657],\n",
      "         [ 0.3574],\n",
      "         [ 1.0478]],\n",
      "\n",
      "        [[ 0.0074],\n",
      "         [-1.5844],\n",
      "         [-0.1376]]])\n",
      "tensor([[[-0.1657, -0.1657, -0.1657],\n",
      "         [ 0.3574,  0.3574,  0.3574],\n",
      "         [ 1.0478,  1.0478,  1.0478]],\n",
      "\n",
      "        [[ 0.0074,  0.0074,  0.0074],\n",
      "         [-1.5844, -1.5844, -1.5844],\n",
      "         [-0.1376, -0.1376, -0.1376]]])\n"
     ]
    }
   ],
   "source": [
    "'''\n",
    "expand的使用\n",
    "用于扩展数据的维度\n",
    "（1）被扩展的数据有多少维，就使用\n",
    "'''\n",
    "import torch\n",
    "a = torch.randn(2,3,4)\n",
    "print(a)\n",
    "threshold = torch.zeros_like(a)\n",
    "print(threshold)\n",
    "threshold = a[:,:,-1]\n",
    "threshold.unsqueeze_(2)\n",
    "print(threshold)\n",
    "print(threshold.expand(-1,-1,3))"
   ]
  }
 ],
 "metadata": {
  "kernelspec": {
   "display_name": "Python 3",
   "language": "python",
   "name": "python3"
  },
  "language_info": {
   "codemirror_mode": {
    "name": "ipython",
    "version": 3
   },
   "file_extension": ".py",
   "mimetype": "text/x-python",
   "name": "python",
   "nbconvert_exporter": "python",
   "pygments_lexer": "ipython3",
   "version": "3.8.3"
  }
 },
 "nbformat": 4,
 "nbformat_minor": 4
}
