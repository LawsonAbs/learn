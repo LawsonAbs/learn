{
 "cells": [
  {
   "cell_type": "code",
   "execution_count": 14,
   "metadata": {},
   "outputs": [
    {
     "name": "stdout",
     "output_type": "stream",
     "text": [
      "torch.Size([12, 3])\n",
      "tensor([[ 0.1645,  0.7279],\n",
      "        [-0.4536, -0.4366],\n",
      "        [ 0.1829, -1.3648],\n",
      "        [-1.5995,  0.4351],\n",
      "        [ 0.4202,  0.6509],\n",
      "        [ 1.4561, -0.5151],\n",
      "        [-1.2930, -0.2298],\n",
      "        [-1.2590,  0.6554],\n",
      "        [-0.1651, -1.8331],\n",
      "        [ 0.0335, -0.8060],\n",
      "        [-0.4270, -0.6599],\n",
      "        [-0.3935, -1.2353]])\n",
      "tensor([[ 0.8265,  0.0820,  1.1047],\n",
      "        [ 0.4393, -0.6055,  0.2952],\n",
      "        [-0.6047, -0.8753,  0.0565],\n",
      "        [ 1.7768, -0.4872,  0.3220],\n",
      "        [ 0.6078,  0.1096,  1.1580],\n",
      "        [-0.8576, -0.1711,  0.9432],\n",
      "        [ 1.1263, -0.7172,  0.0972],\n",
      "        [ 1.7045, -0.3020,  0.5556],\n",
      "        [-0.6956, -1.1763, -0.3049],\n",
      "        [-0.1284, -0.6553,  0.2844],\n",
      "        [ 0.2706, -0.7016,  0.1922],\n",
      "        [-0.1414, -0.9578, -0.0858]], grad_fn=<AddmmBackward>)\n"
     ]
    }
   ],
   "source": [
    "import torch\n",
    "import torch.nn as nn\n",
    "\n",
    "m = nn.Linear(2, 3)\n",
    "input = torch.randn(12,2) # 得到了一个size=[128,20]的input\n",
    "output = m(input) # 做线性变换\n",
    "print(output.size()) # \n",
    "print(input)\n",
    "print(output)"
   ]
  },
  {
   "cell_type": "code",
   "execution_count": 28,
   "metadata": {},
   "outputs": [
    {
     "name": "stdout",
     "output_type": "stream",
     "text": [
      "tensor([[1., 2.],\n",
      "        [3., 4.],\n",
      "        [5., 6.]])\n",
      "weight Parameter containing:\n",
      "tensor([[ 0.0273, -0.4366],\n",
      "        [-0.2079, -0.4721],\n",
      "        [-0.6590,  0.2707]], requires_grad=True)\n",
      "bias Parameter containing:\n",
      "tensor([-0.1483, -0.5602,  0.4494], requires_grad=True)\n",
      "tensor([[-0.9943, -1.7122,  0.3319],\n",
      "        [-1.8129, -3.0720, -0.4446],\n",
      "        [-2.6316, -4.4318, -1.2211]], grad_fn=<AddmmBackward>)\n"
     ]
    }
   ],
   "source": [
    "import torch\n",
    "import torch.nn as nn\n",
    "\n",
    "#step1.定义一个模型\n",
    "#2是输入tensor的最后一个维度的大小； 3是输出tensor中最后一个维度的大小\n",
    "m = nn.Linear(2, 3)\n",
    "\n",
    "#step2.定义一个输入\n",
    "input = [[1,2],[3,4],[5,6]] # 初始化一个list\n",
    "\"\"\"\n",
    "# convert to tensor，必须要注意这里使用的是FloatTensor 这个类型，否则报错如下：\n",
    "RuntimeError: Expected object of scalar type Float but got scalar type Long for argument #2 'mat1' in call to _th_addmm\n",
    "\"\"\"\n",
    "input = torch.tensor(input).type(torch.FloatTensor) \n",
    "print(input)\n",
    "\n",
    "#step3.执行线性变换，也就是y=wx+b这个操作\n",
    "#      那么问题来了，这里的线性变化需要一个权重矩阵w（不然怎么能够得到y呢），这个w其是从一个均匀分布U中获取得到的\n",
    "output = m(input)\n",
    "\n",
    "\n",
    "#step4.可以查看pytorch所有的参数设置。\n",
    "# 因为是线性变换，所以这里只有两个参数w, 和 b\n",
    "for name, parameter in m.named_parameters():  \n",
    "    print(name,parameter)\n",
    "\n",
    "print(output)"
   ]
  }
 ],
 "metadata": {
  "kernelspec": {
   "display_name": "Python 3",
   "language": "python",
   "name": "python3"
  },
  "language_info": {
   "codemirror_mode": {
    "name": "ipython",
    "version": 3
   },
   "file_extension": ".py",
   "mimetype": "text/x-python",
   "name": "python",
   "nbconvert_exporter": "python",
   "pygments_lexer": "ipython3",
   "version": "3.7.6"
  }
 },
 "nbformat": 4,
 "nbformat_minor": 4
}
