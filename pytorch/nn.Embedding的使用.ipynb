{
 "cells": [
  {
   "cell_type": "code",
   "execution_count": null,
   "metadata": {},
   "outputs": [],
   "source": [
    "'''\n",
    "num_embeddings：需要多少个embedding\n",
    "embeddig_dim: 即这个embedding的维度是多少\n",
    "padding_idx: \n",
    "'''\n",
    "import torch\n",
    "import torch.nn as nn\n",
    "embedding = nn.Embedding(10,3) # embedding 中的值就是[10,3] 大小的维度\n",
    "print(embedding.__dict__)\n",
    "# for i in embedding:\n",
    "#     print(i)"
   ]
  },
  {
   "cell_type": "code",
   "execution_count": null,
   "metadata": {},
   "outputs": [],
   "source": [
    "inp = torch.LongTensor([[1,2,4,5],[4,3,2,9]])  # size = [2,4]\n",
    "a = embedding(inp) #取到对应位置的值\n",
    "print(a.size())\n",
    "print(a)"
   ]
  }
 ],
 "metadata": {
  "kernelspec": {
   "display_name": "Python 3 (ipykernel)",
   "language": "python",
   "name": "python3"
  },
  "language_info": {
   "codemirror_mode": {
    "name": "ipython",
    "version": 3
   },
   "file_extension": ".py",
   "mimetype": "text/x-python",
   "name": "python",
   "nbconvert_exporter": "python",
   "pygments_lexer": "ipython3",
   "version": "3.8.3"
  }
 },
 "nbformat": 4,
 "nbformat_minor": 4
}
