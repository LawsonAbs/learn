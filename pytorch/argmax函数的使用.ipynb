{
 "cells": [
  {
   "cell_type": "code",
   "execution_count": 2,
   "metadata": {},
   "outputs": [
    {
     "name": "stdout",
     "output_type": "stream",
     "text": [
      "tensor([[[ 0.0119,  0.2961,  0.6713, -2.2427],\n",
      "         [ 0.2904,  0.0952,  0.6619, -1.0509],\n",
      "         [ 1.0552, -0.8685,  0.3796,  0.0795]],\n",
      "\n",
      "        [[ 0.0910,  1.4546, -0.9443,  0.9154],\n",
      "         [-0.9732, -0.8576,  2.5442, -0.5453],\n",
      "         [ 1.2180, -0.0716,  0.7659,  0.4468]]])\n",
      "tensor([[2, 2, 0],\n",
      "        [1, 2, 0]])\n"
     ]
    }
   ],
   "source": [
    "'''argmax()可以说是经常用的一个方法了\n",
    "用途：从tensor中的某个维度找出值最大的下标\n",
    "'''\n",
    "import torch as t\n",
    "a = t.randn(2,3,4)\n",
    "print(a)\n",
    "out = a.argmax(-1) #找出最后一个维度中最大的值所在的下标\n",
    "print(out)"
   ]
  }
 ],
 "metadata": {
  "kernelspec": {
   "display_name": "Python 3",
   "language": "python",
   "name": "python3"
  },
  "language_info": {
   "codemirror_mode": {
    "name": "ipython",
    "version": 3
   },
   "file_extension": ".py",
   "mimetype": "text/x-python",
   "name": "python",
   "nbconvert_exporter": "python",
   "pygments_lexer": "ipython3",
   "version": "3.8.3"
  }
 },
 "nbformat": 4,
 "nbformat_minor": 4
}
