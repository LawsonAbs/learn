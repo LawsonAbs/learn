{
 "cells": [
  {
   "cell_type": "code",
   "execution_count": 4,
   "metadata": {},
   "outputs": [
    {
     "name": "stdout",
     "output_type": "stream",
     "text": [
      "tensor([[[4, 2, 1],\n",
      "         [4, 6, 5]]])\n",
      "tensor([[4, 2, 1],\n",
      "        [4, 6, 5]])\n"
     ]
    }
   ],
   "source": [
    "'''\n",
    "unsqueeze()函数的使用\n",
    "squeeze()函数的使用\n",
    "'''\n",
    "import torch as t\n",
    "arr = t.randint(1,10,(1,2,3))\n",
    "print(arr)\n",
    "arr.squeeze_(0)\n",
    "print(arr)"
   ]
  }
 ],
 "metadata": {
  "kernelspec": {
   "display_name": "Python 3",
   "language": "python",
   "name": "python3"
  },
  "language_info": {
   "codemirror_mode": {
    "name": "ipython",
    "version": 3
   },
   "file_extension": ".py",
   "mimetype": "text/x-python",
   "name": "python",
   "nbconvert_exporter": "python",
   "pygments_lexer": "ipython3",
   "version": "3.7.6"
  }
 },
 "nbformat": 4,
 "nbformat_minor": 4
}
