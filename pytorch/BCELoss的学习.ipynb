{
 "cells": [
  {
   "cell_type": "code",
   "execution_count": 5,
   "metadata": {},
   "outputs": [
    {
     "name": "stdout",
     "output_type": "stream",
     "text": [
      "tensor([ 1.5593, -0.7559,  2.3631], requires_grad=True)\n",
      "tensor([1., 0., 0.])\n"
     ]
    }
   ],
   "source": [
    "import torch\n",
    "import torch.nn as nn\n",
    "\n",
    "m = nn.Sigmoid()\n",
    "loss = nn.BCELoss()\n",
    "input = torch.randn(3,requires_grad=True)\n",
    "target = torch.empty(3).random_(2)\n",
    "\n",
    "print(input)\n",
    "print(target)\n",
    "output = loss(m(input),target)\n",
    "output.backward()"
   ]
  },
  {
   "cell_type": "code",
   "execution_count": 17,
   "metadata": {},
   "outputs": [
    {
     "name": "stdout",
     "output_type": "stream",
     "text": [
      "tensor([-2.6131, -0.5517,  0.3732, -0.4410, -0.2732])\n",
      "tensor([[2.3861],\n",
      "        [1.4129],\n",
      "        [0.5774],\n",
      "        [1.2136],\n",
      "        [0.4733]])\n",
      "tensor([2.3861, 1.4129, 0.5774, 1.2136, 0.4733])\n"
     ]
    }
   ],
   "source": [
    "temp = torch.randn(5)\n",
    "print(temp)\n",
    "out = torch.randn(5,1)\n",
    "print(out)\n",
    "out = out.view(5)\n",
    "print(out)"
   ]
  },
  {
   "cell_type": "code",
   "execution_count": 23,
   "metadata": {},
   "outputs": [
    {
     "name": "stdout",
     "output_type": "stream",
     "text": [
      "20200408_100349\n"
     ]
    }
   ],
   "source": []
  }
 ],
 "metadata": {
  "kernelspec": {
   "display_name": "Python 3",
   "language": "python",
   "name": "python3"
  },
  "language_info": {
   "codemirror_mode": {
    "name": "ipython",
    "version": 3
   },
   "file_extension": ".py",
   "mimetype": "text/x-python",
   "name": "python",
   "nbconvert_exporter": "python",
   "pygments_lexer": "ipython3",
   "version": "3.7.6"
  }
 },
 "nbformat": 4,
 "nbformat_minor": 4
}
