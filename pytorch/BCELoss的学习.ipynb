{
 "cells": [
  {
   "cell_type": "code",
   "execution_count": 2,
   "metadata": {},
   "outputs": [
    {
     "name": "stdout",
     "output_type": "stream",
     "text": [
      "tensor([-0.1772, -0.5214,  0.9664], requires_grad=True)\n",
      "tensor([1., 0., 0.])\n",
      "tensor(0.8468, grad_fn=<BinaryCrossEntropyBackward>)\n"
     ]
    }
   ],
   "source": [
    "'''\n",
    "BCELoss()的输入是x,y。其中x,y 有着相同的参数设置。\n",
    "1. BCELoss() 损失中需要注意一点就是：当我们使用 log(y)时，当y->0时，可能会得到一个负无穷值，为了避免梯度爆炸，\n",
    "所以令 log(y->0) = -100\n",
    "'''\n",
    "import torch\n",
    "import torch.nn as nn\n",
    "# step1. 定义需要用到的方法\n",
    "m = nn.Sigmoid()\n",
    "loss = nn.BCELoss() # 只用于计算二元交叉熵损失函数\n",
    "\n",
    "# step2. 定义数据类型，input 和 target 都是一个一维的tensor\n",
    "input = torch.randn(3,requires_grad=True)\n",
    "target = torch.empty(3).random_(2)\n",
    "\n",
    "print(input)\n",
    "print(target) \n",
    "\n",
    "# step3.将数据先经过sigmoid处理，然后再和 target 进行计算损失\n",
    "output = loss(m(input),target) \n",
    "print(output)"
   ]
  }
 ],
 "metadata": {
  "kernelspec": {
   "display_name": "Python 3",
   "language": "python",
   "name": "python3"
  },
  "language_info": {
   "codemirror_mode": {
    "name": "ipython",
    "version": 3
   },
   "file_extension": ".py",
   "mimetype": "text/x-python",
   "name": "python",
   "nbconvert_exporter": "python",
   "pygments_lexer": "ipython3",
   "version": "3.8.3"
  }
 },
 "nbformat": 4,
 "nbformat_minor": 4
}
