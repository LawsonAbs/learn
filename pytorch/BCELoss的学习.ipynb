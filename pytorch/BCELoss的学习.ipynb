{
 "cells": [
  {
   "cell_type": "code",
   "execution_count": 5,
   "metadata": {},
   "outputs": [
    {
     "name": "stdout",
     "output_type": "stream",
     "text": [
      "tensor([ 1.5593, -0.7559,  2.3631], requires_grad=True)\n",
      "tensor([1., 0., 0.])\n"
     ]
    }
   ],
   "source": [
    "import torch\n",
    "import torch.nn as nn\n",
    "\n",
    "m = nn.Sigmoid()\n",
    "loss = nn.BCELoss()\n",
    "input = torch.randn(3,requires_grad=True)\n",
    "target = torch.empty(3).random_(2)\n",
    "\n",
    "print(input)\n",
    "print(target)\n",
    "output = loss(m(input),target)\n",
    "output.backward()"
   ]
  },
  {
   "cell_type": "code",
   "execution_count": 4,
   "metadata": {},
   "outputs": [
    {
     "name": "stdout",
     "output_type": "stream",
     "text": [
      "tensor([-0.2044,  0.0472, -0.9699, -0.0648,  0.0196])\n",
      "tensor([[-0.3363],\n",
      "        [ 0.5803],\n",
      "        [ 2.3178],\n",
      "        [ 1.4435],\n",
      "        [-0.6223]])\n",
      "tensor([-0.3363,  0.5803,  2.3178,  1.4435, -0.6223])\n"
     ]
    }
   ],
   "source": [
    "temp = torch.randn(5)\n",
    "print(temp)\n",
    "out = torch.randn(5,1)\n",
    "print(out)\n",
    "out = out.view(5)\n",
    "print(out)"
   ]
  },
  {
   "cell_type": "code",
   "execution_count": 11,
   "metadata": {},
   "outputs": [
    {
     "name": "stdout",
     "output_type": "stream",
     "text": [
      "tensor([[-0.5120,  0.9235, -0.5440],\n",
      "        [-0.2015, -0.8440,  0.5742]], requires_grad=True)\n",
      "tensor([[0., 1., 0.],\n",
      "        [1., 0., 1.]])\n"
     ]
    }
   ],
   "source": [
    "'''\n",
    "官方教程的例子\n",
    "'''\n",
    "import torch.nn  as nn\n",
    "import torch\n",
    "m = nn.Sigmoid()\n",
    "loss = nn.BCELoss()\n",
    "input = torch.randn((2,3), requires_grad=True) # 这里的shape 是(2,3)，\n",
    "print(input)\n",
    "label = torch.empty(2,3).random_(2)\n",
    "print(label)\n",
    "output = loss(m(input), label)"
   ]
  }
 ],
 "metadata": {
  "kernelspec": {
   "display_name": "Python 3",
   "language": "python",
   "name": "python3"
  },
  "language_info": {
   "codemirror_mode": {
    "name": "ipython",
    "version": 3
   },
   "file_extension": ".py",
   "mimetype": "text/x-python",
   "name": "python",
   "nbconvert_exporter": "python",
   "pygments_lexer": "ipython3",
   "version": "3.7.6"
  }
 },
 "nbformat": 4,
 "nbformat_minor": 4
}
