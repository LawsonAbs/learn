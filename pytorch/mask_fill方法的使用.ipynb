{
 "cells": [
  {
   "cell_type": "code",
   "execution_count": 53,
   "metadata": {},
   "outputs": [
    {
     "name": "stdout",
     "output_type": "stream",
     "text": [
      "tensor([[9, 8, 4, 4],\n",
      "        [7, 3, 3, 3],\n",
      "        [1, 3, 4, 1]])\n",
      "tensor([[100,   8,   4,   4],\n",
      "        [100, 100,   3,   3],\n",
      "        [100, 100, 100,   1]])\n"
     ]
    },
    {
     "name": "stderr",
     "output_type": "stream",
     "text": [
      "/Users/distiller/project/conda/conda-bld/pytorch_1591914925853/work/aten/src/ATen/native/TensorAdvancedIndexing.cpp:573: UserWarning: masked_fill_ received a mask with dtype torch.uint8, this behavior is now deprecated,please use a mask with dtype torch.bool instead.\n"
     ]
    }
   ],
   "source": [
    "\"\"\"masked_fill()函数的用法\n",
    "其功能就是：将源数据做一个映射操作，做映射的操作是根据其传递的mask 这个Tensor 内的值决定。\n",
    "如果对应位置的值是True，那么就将源数据设置为value，否则保留不变\n",
    "\"\"\"\n",
    "import torch\n",
    "a = torch.randint(1,10,(3,4))\n",
    "print(a)\n",
    "\n",
    "# 搞一个mask tensor\n",
    "mask = [[1,0,0,0],\n",
    "        [1,1,0,0],\n",
    "        [1,1,1,0]    \n",
    "       ]\n",
    "mask = torch.ByteTensor(mask)\n",
    "res= a.masked_fill(mask,100)\n",
    "print(res)"
   ]
  },
  {
   "cell_type": "code",
   "execution_count": null,
   "metadata": {},
   "outputs": [],
   "source": [
    "import torch\n",
    "a = torch.randint(1,10,(3,4))\n",
    "print(a)\n",
    "\n",
    "mask = torch.ByteTensor(mask)\n",
    "res= a.masked_fill(mask,100)\n",
    "print(res)"
   ]
  }
 ],
 "metadata": {
  "kernelspec": {
   "display_name": "Python 3",
   "language": "python",
   "name": "python3"
  },
  "language_info": {
   "codemirror_mode": {
    "name": "ipython",
    "version": 3
   },
   "file_extension": ".py",
   "mimetype": "text/x-python",
   "name": "python",
   "nbconvert_exporter": "python",
   "pygments_lexer": "ipython3",
   "version": "3.7.6"
  }
 },
 "nbformat": 4,
 "nbformat_minor": 4
}
