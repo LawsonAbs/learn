{
 "cells": [
  {
   "cell_type": "code",
   "execution_count": 28,
   "metadata": {},
   "outputs": [
    {
     "name": "stdout",
     "output_type": "stream",
     "text": [
      "tensor([[0.8675, 0.5503, 0.2916],\n",
      "        [1.2759, 0.1151, 0.0148]])\n",
      "tensor([[0.8675, 0.5503],\n",
      "        [0.2916, 1.2759],\n",
      "        [0.1151, 0.0148]])\n",
      "torch.Size([6])\n",
      "tensor([0.8675, 0.5503, 0.2916, 1.2759, 0.1151, 0.0148])\n",
      "0.8674793839454651\n",
      "0.550308346748352\n",
      "0.2915512025356293\n",
      "1.2759393453598022\n",
      "0.11506937444210052\n",
      "0.014849212020635605\n",
      "[0.8674793839454651, 0.550308346748352, 0.2915512025356293, 1.2759393453598022, 0.11506937444210052, 0.014849212020635605]\n"
     ]
    }
   ],
   "source": [
    "\"\"\"\n",
    "1.tensor的维度转换\n",
    "01.reshape()\n",
    "02.view() \n",
    "2.转变tensor 值的形式\n",
    "01.item() => 用于将单个 tensor 值转为python值\n",
    "\"\"\"\n",
    "import torch as t\n",
    "\n",
    "a = t.randn(2,3)\n",
    "print(a) # (2,3)\n",
    "\n",
    "a = a.reshape(3,2)  #仍然需要赋值\n",
    "print(a)\n",
    "\n",
    "\n",
    "a = a.view(6) #view并不能原地修改，所以需要重新赋值\n",
    "print(a.size()) # torch.Size([6])\n",
    "print(a)\n",
    "\n",
    "#01.当a是 tensor 的时候，也可遍历输出，但是输出的时候需要调用 item()方法\n",
    "for _ in a:\n",
    "    print(_.item())\n",
    "\n",
    "#02.也可以先转成list，然后再遍历\n",
    "a = a.tolist()\n",
    "print(a)"
   ]
  }
 ],
 "metadata": {
  "kernelspec": {
   "display_name": "Python 3",
   "language": "python",
   "name": "python3"
  },
  "language_info": {
   "codemirror_mode": {
    "name": "ipython",
    "version": 3
   },
   "file_extension": ".py",
   "mimetype": "text/x-python",
   "name": "python",
   "nbconvert_exporter": "python",
   "pygments_lexer": "ipython3",
   "version": "3.7.6"
  }
 },
 "nbformat": 4,
 "nbformat_minor": 4
}
