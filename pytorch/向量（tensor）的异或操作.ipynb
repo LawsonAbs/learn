{
 "cells": [
  {
   "cell_type": "code",
   "execution_count": 4,
   "metadata": {},
   "outputs": [
    {
     "name": "stdout",
     "output_type": "stream",
     "text": [
      "tensor([0, 0, 1, 1, 0])\n",
      "tensor(2)\n"
     ]
    }
   ],
   "source": [
    "'''向量按位异或\n",
    "'''\n",
    "import torch as t\n",
    "a =t.tensor( [1,1,1,0,0])\n",
    "b =t.tensor([1,1,0,1,0])\n",
    "out = a ^ b \n",
    "print(out)\n",
    "print(out.sum())"
   ]
  },
  {
   "cell_type": "code",
   "execution_count": 14,
   "metadata": {},
   "outputs": [
    {
     "name": "stdout",
     "output_type": "stream",
     "text": [
      "tensor([[ 0.8123, -1.3738],\n",
      "        [ 0.3912, -0.1791],\n",
      "        [ 0.8809, -0.2252],\n",
      "        [ 1.1983,  0.5736],\n",
      "        [ 0.1036,  0.9742]])\n",
      "tensor([[0.8990, 0.1010],\n",
      "        [0.6388, 0.3612],\n",
      "        [0.7514, 0.2486],\n",
      "        [0.6513, 0.3487],\n",
      "        [0.2951, 0.7049]])\n",
      "tensor([0, 0, 0, 0, 1])\n"
     ]
    }
   ],
   "source": [
    "import torch.nn as nn\n",
    "a = t.tensor([[ 0.8123, -1.3738],\n",
    "        [ 0.3912, -0.1791],\n",
    "        [ 0.8809, -0.2252],\n",
    "        [ 1.1983,  0.5736],\n",
    "        [ 0.1036,  0.9742]])\n",
    "print(a)\n",
    "# 计算Softmax\n",
    "s = nn.Softmax(dim=1)\n",
    "res1 = s(a)\n",
    "print(res1)\n",
    "# step2.计算argmax\n",
    "res2 = t.argmax(a,dim=1)\n",
    "print(res2)"
   ]
  },
  {
   "cell_type": "code",
   "execution_count": 26,
   "metadata": {},
   "outputs": [
    {
     "name": "stdout",
     "output_type": "stream",
     "text": [
      "tensor([0, 0, 0, 0, 1])\n",
      "tensor([1, 1, 1, 1, 0])\n",
      "tensor([1, 1, 0, 0, 0])\n"
     ]
    }
   ],
   "source": [
    "x = t.tensor([1,1,0,0,1])\n",
    "y = t.tensor([1,1,0,0,0])\n",
    "# step1.先求异或\n",
    "z = x ^ y \n",
    "print(z)\n",
    "\n",
    "# step2.再求非[用1减]\n",
    "z = 1-z\n",
    "print(z)\n",
    "\n",
    "# step3.再同y做与操作\n",
    "z = z&y\n",
    "print(z)"
   ]
  },
  {
   "cell_type": "code",
   "execution_count": 29,
   "metadata": {},
   "outputs": [
    {
     "name": "stdout",
     "output_type": "stream",
     "text": [
      "tensor([1, 1, 0, 0, 0])\n"
     ]
    }
   ],
   "source": [
    "x = t.tensor([1,1,0,0,1])\n",
    "y = t.tensor([1,1,0,0,0])\n",
    "# step1.按位与\n",
    "z = x & y \n",
    "print(z)"
   ]
  },
  {
   "cell_type": "code",
   "execution_count": 31,
   "metadata": {},
   "outputs": [
    {
     "name": "stdout",
     "output_type": "stream",
     "text": [
      "0.3333333333333333\n"
     ]
    }
   ],
   "source": [
    "\n",
    "import torch as t\n",
    "f = t.tensor(12)\n",
    "d = t.tensor(4)\n",
    "out = d.item()/f.item()\n",
    "print(out)"
   ]
  }
 ],
 "metadata": {
  "kernelspec": {
   "display_name": "Python 3",
   "language": "python",
   "name": "python3"
  },
  "language_info": {
   "codemirror_mode": {
    "name": "ipython",
    "version": 3
   },
   "file_extension": ".py",
   "mimetype": "text/x-python",
   "name": "python",
   "nbconvert_exporter": "python",
   "pygments_lexer": "ipython3",
   "version": "3.8.3"
  }
 },
 "nbformat": 4,
 "nbformat_minor": 4
}
