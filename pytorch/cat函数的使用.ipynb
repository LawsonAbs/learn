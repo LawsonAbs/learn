{
 "cells": [
  {
   "cell_type": "code",
   "execution_count": 1,
   "metadata": {},
   "outputs": [
    {
     "name": "stdout",
     "output_type": "stream",
     "text": [
      "tensor([[-1.2781,  0.8074, -0.2409],\n",
      "        [ 1.1831,  0.6003,  2.0136]])\n",
      "tensor([[ 0.5778, -1.1238, -0.1869, -1.8231, -1.3254],\n",
      "        [ 0.1678, -1.7402, -0.5190,  0.6728, -1.2349]])\n",
      "---------------\n",
      "tensor([[-1.2781,  0.8074, -0.2409],\n",
      "        [ 1.1831,  0.6003,  2.0136],\n",
      "        [-1.2781,  0.8074, -0.2409],\n",
      "        [ 1.1831,  0.6003,  2.0136]])\n",
      "tensor([[-1.2781,  0.8074, -0.2409,  0.5778, -1.1238, -0.1869, -1.8231, -1.3254],\n",
      "        [ 1.1831,  0.6003,  2.0136,  0.1678, -1.7402, -0.5190,  0.6728, -1.2349]])\n"
     ]
    }
   ],
   "source": [
    "\"\"\"\n",
    "1.torch.cat()函数的使用\n",
    "01.doc： https://pytorch.org/docs/stable/generated/torch.cat.html?highlight=cat#torch.cat\n",
    "简要翻译：\n",
    "01.将两个相同shape的tensor在指定维度拼接。所以需要的参数就是： tensor 和 dim(指定的维度)\n",
    "\"\"\"\n",
    "import torch\n",
    "\n",
    "x = torch.randn(2, 3)\n",
    "y = torch.randn(2,5)\n",
    "print(x)\n",
    "print(y)\n",
    "print(\"---------------\")\n",
    "res1 = torch.cat((x, x), 0) # 在第0维拼接  => 必须保证其他维度相同\n",
    "print(res1 )\n",
    "\n",
    "res2 = torch.cat((x, y), 1) # 在第1维拼接 =>  保证其他维相同，但是拼接的那一维可以不用相同\n",
    "print(res2)\n",
    " "
   ]
  },
  {
   "cell_type": "code",
   "execution_count": 4,
   "metadata": {},
   "outputs": [
    {
     "name": "stdout",
     "output_type": "stream",
     "text": [
      "tensor([[[-0.5583,  0.4169],\n",
      "         [ 0.1579, -0.9558],\n",
      "         [ 1.1252, -1.4536]],\n",
      "\n",
      "        [[ 0.8139,  0.5217],\n",
      "         [-1.0808, -0.2803],\n",
      "         [ 0.3200, -0.6144]]])\n",
      "tensor([[[-0.3341, -0.0345],\n",
      "         [-1.0443, -0.7477],\n",
      "         [ 1.2068,  0.5188]],\n",
      "\n",
      "        [[ 0.3295, -0.4421],\n",
      "         [-0.5159,  0.4094],\n",
      "         [-0.3047, -0.4044]]])\n",
      "tensor([[[-0.5583,  0.4169],\n",
      "         [ 0.1579, -0.9558],\n",
      "         [ 1.1252, -1.4536]],\n",
      "\n",
      "        [[ 0.8139,  0.5217],\n",
      "         [-1.0808, -0.2803],\n",
      "         [ 0.3200, -0.6144]],\n",
      "\n",
      "        [[-0.3341, -0.0345],\n",
      "         [-1.0443, -0.7477],\n",
      "         [ 1.2068,  0.5188]],\n",
      "\n",
      "        [[ 0.3295, -0.4421],\n",
      "         [-0.5159,  0.4094],\n",
      "         [-0.3047, -0.4044]]])\n"
     ]
    }
   ],
   "source": [
    "\"\"\"如果一个tensor 初始为空，然后进行拼接\n",
    "\"\"\"\n",
    "import torch as t\n",
    "a = t.randn(2,3,2)\n",
    "b = t.randn(2,3,2)\n",
    "print(a)\n",
    "print(b)\n",
    "c = t.cat((a,b),0)\n",
    "print(c)"
   ]
  },
  {
   "cell_type": "code",
   "execution_count": 1,
   "metadata": {},
   "outputs": [
    {
     "name": "stdout",
     "output_type": "stream",
     "text": [
      "tensor([[[ 1.2788,  0.9835, -0.6024],\n",
      "         [-0.3099, -2.0557,  2.0353]]])\n",
      "tensor([[[-0.3569],\n",
      "         [-1.1872]]])\n"
     ]
    }
   ],
   "source": [
    "import torch as t\n",
    "a = t.randn(1,2,3)\n",
    "print(a)\n",
    "b = t.randn(1,2,1)\n",
    "print(b)"
   ]
  },
  {
   "cell_type": "code",
   "execution_count": 2,
   "metadata": {},
   "outputs": [
    {
     "name": "stdout",
     "output_type": "stream",
     "text": [
      "tensor([[[ 1.2788,  0.9835, -0.6024, -0.3569],\n",
      "         [-0.3099, -2.0557,  2.0353, -1.1872]]])\n",
      "torch.Size([1, 2, 4])\n"
     ]
    }
   ],
   "source": [
    "res = t.cat((a,b),dim=-1)\n",
    "print(res)\n",
    "print(res.size())"
   ]
  }
 ],
 "metadata": {
  "kernelspec": {
   "display_name": "Python 3 (ipykernel)",
   "language": "python",
   "name": "python3"
  },
  "language_info": {
   "codemirror_mode": {
    "name": "ipython",
    "version": 3
   },
   "file_extension": ".py",
   "mimetype": "text/x-python",
   "name": "python",
   "nbconvert_exporter": "python",
   "pygments_lexer": "ipython3",
   "version": "3.8.3"
  }
 },
 "nbformat": 4,
 "nbformat_minor": 4
}
