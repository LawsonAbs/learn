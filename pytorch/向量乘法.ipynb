{
 "cells": [
  {
   "cell_type": "code",
   "execution_count": 2,
   "metadata": {},
   "outputs": [
    {
     "name": "stdout",
     "output_type": "stream",
     "text": [
      "tensor(7)\n"
     ]
    }
   ],
   "source": [
    "'''1.使用tensor中的dot()方法完成向量的乘法\n",
    "'''\n",
    "import torch as t\n",
    "a = t.tensor([2, 3])\n",
    "b = t.tensor([-1,3])\n",
    "print(t.dot(a,b))\n"
   ]
  },
  {
   "cell_type": "code",
   "execution_count": 11,
   "metadata": {},
   "outputs": [
    {
     "name": "stdout",
     "output_type": "stream",
     "text": [
      "torch.Size([1, 2]) torch.Size([2, 1])\n",
      "tensor([[8]])\n"
     ]
    }
   ],
   "source": [
    "\"\"\"2.使用tensor中的mm方法做向量乘法\n",
    "01.mm 计算矩阵的乘法\n",
    "02.这里是将向量转为一个矩阵，然后做乘法。实现dot做点乘的效果\n",
    "\"\"\"\n",
    "# a = t.tensor([1,2]) 这样并不是一个矩阵！！！只是一个类似list的tensor\n",
    "a = t.tensor([[1,2]]) # 是一个矩阵\n",
    "b = t.tensor([[2,3]]) # 是一个矩阵\n",
    "b = t.transpose(b,0,1) # 转置后才有和a进行运算\n",
    "print(a.shape,b.shape) \n",
    "\n",
    "print(t.mm(a,b))"
   ]
  }
 ],
 "metadata": {
  "kernelspec": {
   "display_name": "Python 3",
   "language": "python",
   "name": "python3"
  },
  "language_info": {
   "codemirror_mode": {
    "name": "ipython",
    "version": 3
   },
   "file_extension": ".py",
   "mimetype": "text/x-python",
   "name": "python",
   "nbconvert_exporter": "python",
   "pygments_lexer": "ipython3",
   "version": "3.8.3"
  }
 },
 "nbformat": 4,
 "nbformat_minor": 4
}
