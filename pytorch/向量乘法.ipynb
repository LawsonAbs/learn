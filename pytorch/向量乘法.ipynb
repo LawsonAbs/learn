{
 "cells": [
  {
   "cell_type": "code",
   "execution_count": 2,
   "metadata": {},
   "outputs": [
    {
     "name": "stdout",
     "output_type": "stream",
     "text": [
      "tensor(7)\n"
     ]
    }
   ],
   "source": [
    "'''1.使用tensor中的dot()方法完成向量的乘法\n",
    "'''\n",
    "import torch as t\n",
    "a = t.tensor([2, 3])\n",
    "b = t.tensor([-1,3])\n",
    "print(t.dot(a,b))\n"
   ]
  },
  {
   "cell_type": "code",
   "execution_count": 2,
   "metadata": {},
   "outputs": [
    {
     "name": "stdout",
     "output_type": "stream",
     "text": [
      "torch.Size([1, 2]) torch.Size([2, 1])\n",
      "tensor([[8]])\n"
     ]
    }
   ],
   "source": [
    "\"\"\"2.使用tensor中的mm方法做向量乘法\n",
    "01.mm 计算矩阵的乘法\n",
    "02.这里是将向量转为一个矩阵，然后做乘法。实现dot做点乘的效果\n",
    "\"\"\"\n",
    "import torch as t\n",
    "# a = t.tensor([1,2]) 这样并不是一个矩阵！！！只是一个类似list的tensor\n",
    "a = t.tensor([[1,2]]) # 是一个矩阵\n",
    "b = t.tensor([[2,3]]) # 是一个矩阵\n",
    "b = t.transpose(b,0,1) # 转置后才有和a进行运算\n",
    "print(a.shape,b.shape) \n",
    "\n",
    "print(t.mm(a,b))"
   ]
  },
  {
   "cell_type": "code",
   "execution_count": 31,
   "metadata": {},
   "outputs": [
    {
     "name": "stdout",
     "output_type": "stream",
     "text": [
      "tensor([-0.5977, -0.7796,  0.2295]) tensor([0.8494, 0.8126, 0.3836])\n",
      "tensor(-1.0532)\n"
     ]
    }
   ],
   "source": [
    "\"\"\"使用 matmul()方法计算矩阵乘法\n",
    "1.两个tensor的矩阵乘积。但是具体的乘法结果取决于传入的参数维度。\n",
    "2.这是唯一支持不同维度的矩阵进行乘积的方法\n",
    "\"\"\"\n",
    "t1 = t.randn(3)\n",
    "t2 = t.randn(3)\n",
    "print(t1,t2)\n",
    "res = t.matmul(t1,t2)\n",
    "print(res)"
   ]
  },
  {
   "cell_type": "code",
   "execution_count": 27,
   "metadata": {},
   "outputs": [
    {
     "data": {
      "text/plain": [
       "torch.Size([10, 3, 5])"
      ]
     },
     "execution_count": 27,
     "metadata": {},
     "output_type": "execute_result"
    }
   ],
   "source": [
    "\"\"\"使用bmm()方法批量计算矩阵乘法\n",
    "1. 输入参数：input,mat2。 它们必须都是三维的tensor, 而且它们两个包含的矩阵数目必须相同。\n",
    "2. 假设 ：input 是个 (b*n*m) 的tensor， mat2 是个 (b*m*p)的tensor。那么out 就应该是一个(b*n*p) 的tensor\n",
    "3. 在使用 attention 的时候，就有一个矩阵批量的需求，是不是可以应用这个方法？\n",
    "\"\"\"\n",
    "input = t.randn(10, 3, 4)\n",
    "mat2 = t.randn(10, 4, 5)\n",
    "res = t.bmm(input, mat2)\n",
    "res.size()"
   ]
  },
  {
   "cell_type": "code",
   "execution_count": null,
   "metadata": {},
   "outputs": [],
   "source": [
    "'''\n",
    "使用*号做乘法，详细说明参考  https://blog.csdn.net/liu16659/article/details/110958800\n",
    "'''\n",
    "a = t.randn(2,3,1)\n",
    "b = t.randn(2,3,8)\n",
    "print(a)\n",
    "print(b)\n",
    "print(\"------------------\")\n",
    "c = a*b # 这个乘法\n",
    "print(c.shape)\n",
    "print(\"------------------\")\n",
    "print(c)"
   ]
  }
 ],
 "metadata": {
  "kernelspec": {
   "display_name": "Python 3",
   "language": "python",
   "name": "python3"
  },
  "language_info": {
   "codemirror_mode": {
    "name": "ipython",
    "version": 3
   },
   "file_extension": ".py",
   "mimetype": "text/x-python",
   "name": "python",
   "nbconvert_exporter": "python",
   "pygments_lexer": "ipython3",
   "version": "3.8.3"
  }
 },
 "nbformat": 4,
 "nbformat_minor": 4
}
