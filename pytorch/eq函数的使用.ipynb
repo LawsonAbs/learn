{
 "cells": [
  {
   "cell_type": "code",
   "execution_count": 1,
   "metadata": {},
   "outputs": [
    {
     "name": "stdout",
     "output_type": "stream",
     "text": [
      "tensor([1., 1., 0.])\n"
     ]
    }
   ],
   "source": [
    "'''使用eq函数比较二个tensor是否相同\n",
    "'''\n",
    "import torch as t\n",
    "a = t.tensor([1,2,3])\n",
    "label =t.tensor([1,2,1])\n",
    "res = t.eq(a,label).float() # 比较二者的值，如果相等，则为true，如果不等则返回false。这里将其转为了float()类型，所以最后得到的就是1,0\n",
    "print(res)"
   ]
  }
 ],
 "metadata": {
  "kernelspec": {
   "display_name": "Python 3",
   "language": "python",
   "name": "python3"
  },
  "language_info": {
   "codemirror_mode": {
    "name": "ipython",
    "version": 3
   },
   "file_extension": ".py",
   "mimetype": "text/x-python",
   "name": "python",
   "nbconvert_exporter": "python",
   "pygments_lexer": "ipython3",
   "version": "3.8.3"
  }
 },
 "nbformat": 4,
 "nbformat_minor": 4
}
