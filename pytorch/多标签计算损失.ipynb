{
 "cells": [
  {
   "cell_type": "code",
   "execution_count": null,
   "metadata": {},
   "outputs": [
    {
     "name": "stderr",
     "output_type": "stream",
     "text": [
      "Using TensorFlow backend.\n"
     ]
    }
   ],
   "source": [
    "\"\"\"多标签分类的交叉熵\n",
    "    说明：y_true和y_pred的shape一致，y_true的元素非0即1，\n",
    "         1表示对应的类为目标类，0表示对应的类为非目标类。\n",
    "实现一个pytorch版\n",
    "01. y_true 在这个代码里面的作用是什么？\n",
    "\"\"\"\n",
    "import numpy as np\n",
    "from keras import backend as K\n",
    "def multilabel_crossentropy(y_true,y_pred):\n",
    "    y_pred = (1 - 2 * y_true) * y_pred  # 这里的2是什么意思？ 有点儿像是权重的意思\n",
    "    y_pred_neg = y_pred - y_true * 1e12 # 计算出负类标签\n",
    "    y_pred_pos = y_pred - (1 - y_true) * 1e12 # 计算出正类标签\n",
    "    print(y_pred_neg)\n",
    "    print(y_pred_pos)\n",
    "    zeros = K.zeros_like(y_pred[..., :1])\n",
    "    print(zeros)\n",
    "    y_pred_neg = K.concatenate([y_pred_neg, zeros], axis=-1)\n",
    "    y_pred_pos = K.concatenate([y_pred_pos, zeros], axis=-1)\n",
    "    neg_loss = K.logsumexp(y_pred_neg, axis=-1)\n",
    "    pos_loss = K.logsumexp(y_pred_pos, axis=-1)\n",
    "    print(pos_loss)\n",
    "    return neg_loss + pos_loss\n",
    "\n",
    "y_true = np.array([0,1,1,0,0])\n",
    "y_pred = np.array([10,4,3,-2,90])\n",
    "# y_true = 1\n",
    "# y_pred = 4\n",
    "a = multilabel_crossentropy(y_true,y_pred)\n",
    "print(a)\n"
   ]
  },
  {
   "cell_type": "code",
   "execution_count": 6,
   "metadata": {},
   "outputs": [
    {
     "name": "stdout",
     "output_type": "stream",
     "text": [
      "tensor([2, 4, 6])\n",
      "[1, 2, 3, 1, 2, 3]\n",
      "tensor([ 0, -1, -2])\n",
      "tensor([ -1,   8, -24])\n"
     ]
    }
   ],
   "source": [
    "import torch as t\n",
    "a = t.tensor([1,2,3])\n",
    "print(a*2) # tensor([2,4,6])\n",
    "b = [1,2,3]\n",
    "print(2*b)  # [1,2,3,1,2,3]    \n",
    "print(1-a)\n",
    "c = t.tensor([-1,4,-8])\n",
    "print(a*c) # 对应位相乘 "
   ]
  },
  {
   "cell_type": "code",
   "execution_count": 18,
   "metadata": {},
   "outputs": [
    {
     "name": "stdout",
     "output_type": "stream",
     "text": [
      "tensor([[ 0.9918, -0.9264,  0.8315],\n",
      "        [-0.0908,  0.1355,  1.1962]])\n",
      "tensor([[0.],\n",
      "        [0.]])\n"
     ]
    }
   ],
   "source": [
    "d = t.randn(2,3)\n",
    "print(d)\n",
    "zeros = t.zeros_like(d[:,:1]) # 取第0维 的任一个，第二维的第一个\n",
    "#zeros = t.zeros_like(d[...,:1]) \n",
    "print(zeros)\n",
    "y_pre = t.cat()\n"
   ]
  },
  {
   "cell_type": "code",
   "execution_count": 73,
   "metadata": {},
   "outputs": [
    {
     "name": "stdout",
     "output_type": "stream",
     "text": [
      "tensor([[-1.0000e+12,  2.3000e-01],\n",
      "        [ 2.0000e+00, -1.0000e+12]], dtype=torch.float64)\n",
      "tensor([[ 8.9700e-01, -1.0000e+12],\n",
      "        [-1.0000e+12,  3.2000e-01]], dtype=torch.float64)\n",
      "tensor([[-1.0000e+12,  2.3000e-01,  0.0000e+00],\n",
      "        [ 2.0000e+00, -1.0000e+12,  0.0000e+00]], dtype=torch.float64)\n",
      "tensor([[ 8.9700e-01, -1.0000e+12,  0.0000e+00],\n",
      "        [-1.0000e+12,  3.2000e-01,  0.0000e+00]], dtype=torch.float64)\n",
      "tensor([2.0538, 2.9928], dtype=torch.float64)\n"
     ]
    }
   ],
   "source": [
    "import torch as t\n",
    "# 支持向量级别的计算\n",
    "def multilabel_crossentropy(y_true,y_pred):\n",
    "    # 下面三行代码主要是为了找出pred中的正负样例\n",
    "    y_pred = (1 - 2 * y_true) * y_pred\n",
    "    y_pred_neg = y_pred - y_true * 1e12\n",
    "    y_pred_pos = y_pred - (1 - y_true) * 1e12\n",
    "#     print(y_pred_neg)\n",
    "#     print(y_pred_pos)\n",
    "    \n",
    "    # 为什么要拼接0？\n",
    "    # 如果除去0，loss就会变的很大\n",
    "    zeros = t.zeros_like(y_pred[..., :1])\n",
    "    y_pred_neg = t.cat([y_pred_neg, zeros], dim=-1)\n",
    "    y_pred_pos = t.cat([y_pred_pos, zeros], dim=-1)    \n",
    "#     print(y_pred_neg)\n",
    "#     print(y_pred_pos)\n",
    "    \n",
    "    neg_loss = t.logsumexp(y_pred_neg, dim=-1)\n",
    "    pos_loss = t.logsumexp(y_pred_pos,dim=-1)\n",
    "    return neg_loss + pos_loss\n",
    "\n",
    "y_pred = t.tensor([[-0.897,0.23,],[2,-0.32]],dtype=float)\n",
    "y_true = t.tensor([[1,0],[0,1]],dtype=float)\n",
    "loss = multilabel_crossentropy(y_true,y_pred)\n",
    "print(loss)"
   ]
  },
  {
   "cell_type": "code",
   "execution_count": 75,
   "metadata": {},
   "outputs": [
    {
     "name": "stdout",
     "output_type": "stream",
     "text": [
      "tensor([ 1.1698e+02,  8.2804e+00, -1.0000e+12, -8.0491e+01, -1.0000e+12,\n",
      "         5.0480e+01,  3.7628e+01,  4.1197e+01, -2.4146e+01,  6.2420e+01])\n",
      "tensor([-1.0000e+12, -1.0000e+12, -2.9881e+00, -1.0000e+12, -1.5128e+01,\n",
      "        -1.0000e+12, -1.0000e+12, -1.0000e+12, -1.0000e+12, -1.0000e+12])\n",
      "tensor([ 1.1698e+02,  8.2804e+00, -1.0000e+12, -8.0491e+01, -1.0000e+12,\n",
      "         5.0480e+01,  3.7628e+01,  4.1197e+01, -2.4146e+01,  6.2420e+01,\n",
      "         0.0000e+00])\n",
      "tensor([-1.0000e+12, -1.0000e+12, -2.9881e+00, -1.0000e+12, -1.5128e+01,\n",
      "        -1.0000e+12, -1.0000e+12, -1.0000e+12, -1.0000e+12, -1.0000e+12,\n",
      "         0.0000e+00])\n",
      "tensor(117.0259)\n"
     ]
    }
   ],
   "source": [
    "y_pred = t.tensor([ 116.9767,   8.2804,   2.9881, -80.4905,  15.1279,  50.4803,  37.6280, 41.1969, -24.1459,  62.4197])\n",
    "y_true = t.tensor([0., 0., 1., 0., 1., 0., 0., 0., 0., 0.])\n",
    "loss = multilabel_crossentropy(y_true,y_pred)\n",
    "print(loss)"
   ]
  },
  {
   "cell_type": "code",
   "execution_count": 76,
   "metadata": {},
   "outputs": [
    {
     "name": "stdout",
     "output_type": "stream",
     "text": [
      "tensor([-1.4408e+01,  5.0430e-01,  2.6177e+01,  1.2397e+01, -1.3350e+01,\n",
      "        -1.0000e+12, -1.0000e+12, -1.0300e+01, -1.7364e+01,  3.4755e+01])\n",
      "tensor([-1.0000e+12, -1.0000e+12, -1.0000e+12, -1.0000e+12, -1.0000e+12,\n",
      "        -2.9623e+01,  8.8994e+00, -1.0000e+12, -1.0000e+12, -1.0000e+12])\n",
      "tensor([-1.4408e+01,  5.0430e-01,  2.6177e+01,  1.2397e+01, -1.3350e+01,\n",
      "        -1.0000e+12, -1.0000e+12, -1.0300e+01, -1.7364e+01,  3.4755e+01,\n",
      "         0.0000e+00])\n",
      "tensor([-1.0000e+12, -1.0000e+12, -1.0000e+12, -1.0000e+12, -1.0000e+12,\n",
      "        -2.9623e+01,  8.8994e+00, -1.0000e+12, -1.0000e+12, -1.0000e+12,\n",
      "         0.0000e+00])\n",
      "tensor(43.6549)\n"
     ]
    }
   ],
   "source": [
    "y_pred = t.tensor([ -14.4083,   0.5043,  26.1773,  12.3967, -13.3503,  29.6232,  -8.8994, -10.3001, -17.3640,  34.7552])\n",
    "y_true = t.tensor([0., 0., 0., 0., 0., 1., 1., 0., 0., 0.])\n",
    "loss = multilabel_crossentropy(y_true,y_pred)\n",
    "print(loss)"
   ]
  }
 ],
 "metadata": {
  "kernelspec": {
   "display_name": "Python 3",
   "language": "python",
   "name": "python3"
  },
  "language_info": {
   "codemirror_mode": {
    "name": "ipython",
    "version": 3
   },
   "file_extension": ".py",
   "mimetype": "text/x-python",
   "name": "python",
   "nbconvert_exporter": "python",
   "pygments_lexer": "ipython3",
   "version": "3.8.3"
  }
 },
 "nbformat": 4,
 "nbformat_minor": 4
}
