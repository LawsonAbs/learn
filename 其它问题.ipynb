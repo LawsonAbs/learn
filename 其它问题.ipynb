{
 "cells": [
  {
   "cell_type": "code",
   "execution_count": null,
   "metadata": {},
   "outputs": [],
   "source": [
    "conda install 和 pip install的区别\n",
    "0.首先搞清楚conda是什么，pip是什么？\n",
    "conda是一个通用的包管理器，当初设计来管理任何语言的包。\n",
    "\n",
    "1.安装范围\n",
    "01.conda install能安装的包范围比pip install大\n",
    "02.conda软件包不限于Python软件。它们可能还包含C或C ++库，R软件包或任何其他软件\n",
    "03.pip允许你再任何环境中安装Python包，但是conda允许你在conda环境中安装任何语言包\n",
    "\n",
    "\n",
    "\n",
    "2.依赖问题\n",
    "01.conda安装的时候会安装所有依赖，pip不会\n"
   ]
  }
 ],
 "metadata": {
  "kernelspec": {
   "display_name": "Python 3",
   "language": "python",
   "name": "python3"
  },
  "language_info": {
   "codemirror_mode": {
    "name": "ipython",
    "version": 3
   },
   "file_extension": ".py",
   "mimetype": "text/x-python",
   "name": "python",
   "nbconvert_exporter": "python",
   "pygments_lexer": "ipython3",
   "version": "3.7.6"
  }
 },
 "nbformat": 4,
 "nbformat_minor": 4
}
