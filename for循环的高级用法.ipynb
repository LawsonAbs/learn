{
 "cells": [
  {
   "cell_type": "code",
   "execution_count": 2,
   "metadata": {},
   "outputs": [
    {
     "name": "stdout",
     "output_type": "stream",
     "text": [
      "{'id': [1, 2], 'q': ['你叫什么名字？', '你的家乡在哪里？']}\n"
     ]
    }
   ],
   "source": [
    "\"\"\"\n",
    "for循环的高级用法\n",
    "\"\"\"\n",
    "res={}\n",
    "batch=[{\"id\":1,'q':'你叫什么名字？'},{\"id\":2,'q':'你的家乡在哪里？'}]  # batch中应该是一个个的字典，这些字典是列表中的一个元素。\n",
    "# 下面的这些操作是干什么？ 将相应的值写入字典中吗？\n",
    "res['id'] = [_['id'] for _ in batch] # 遍历每个字典，然后取出键=id的value 放到res中\n",
    "res['q'] = [_['q'] for _ in batch]\n",
    "print(res)"
   ]
  }
 ],
 "metadata": {
  "kernelspec": {
   "display_name": "Python 3",
   "language": "python",
   "name": "python3"
  },
  "language_info": {
   "codemirror_mode": {
    "name": "ipython",
    "version": 3
   },
   "file_extension": ".py",
   "mimetype": "text/x-python",
   "name": "python",
   "nbconvert_exporter": "python",
   "pygments_lexer": "ipython3",
   "version": "3.7.6"
  }
 },
 "nbformat": 4,
 "nbformat_minor": 4
}
