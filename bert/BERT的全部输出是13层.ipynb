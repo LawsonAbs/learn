{
 "cells": [
  {
   "cell_type": "code",
   "execution_count": 73,
   "metadata": {},
   "outputs": [
    {
     "name": "stderr",
     "output_type": "stream",
     "text": [
      "Some weights of the model checkpoint at /home/lawson/pretrain/bert-base-uncased were not used when initializing BertModel: ['cls.predictions.bias', 'cls.predictions.transform.dense.weight', 'cls.predictions.transform.LayerNorm.bias', 'cls.seq_relationship.weight', 'cls.predictions.transform.dense.bias', 'cls.seq_relationship.bias', 'cls.predictions.decoder.weight', 'cls.predictions.transform.LayerNorm.weight']\n",
      "- This IS expected if you are initializing BertModel from the checkpoint of a model trained on another task or with another architecture (e.g. initializing a BertForSequenceClassification model from a BertForPreTraining model).\n",
      "- This IS NOT expected if you are initializing BertModel from the checkpoint of a model that you expect to be exactly identical (initializing a BertForSequenceClassification model from a BertForSequenceClassification model).\n"
     ]
    }
   ],
   "source": [
    "from transformers import BertTokenizer, BertForMaskedLM, BertModel\n",
    "import torch\n",
    "import torch.nn as nn\n",
    "\n",
    "tokenizer = BertTokenizer.from_pretrained('/home/lawson/pretrain/bert-base-uncased')\n",
    "bert = BertModel.from_pretrained(\"/home/lawson/pretrain/bert-base-uncased\")"
   ]
  },
  {
   "cell_type": "code",
   "execution_count": 74,
   "metadata": {},
   "outputs": [
    {
     "name": "stdout",
     "output_type": "stream",
     "text": [
      "{'input_ids': tensor([[  101, 21628, 12069,  2532,  1998, 14491,  4573,  2107,  2004,  6090,\n",
      "          3597,  2962,  1012,   102]]), 'token_type_ids': tensor([[0, 0, 0, 0, 0, 0, 0, 0, 0, 0, 0, 0, 0, 0]]), 'attention_mask': tensor([[1, 1, 1, 1, 1, 1, 1, 1, 1, 1, 1, 1, 1, 1]])}\n"
     ]
    }
   ],
   "source": [
    "txt = \"Tabarena and prehistoric sites such as Panco Stone .\"\n",
    "a = tokenizer(txt,return_tensors='pt',padding=True)\n",
    "print(a)"
   ]
  },
  {
   "cell_type": "code",
   "execution_count": 97,
   "metadata": {},
   "outputs": [
    {
     "name": "stdout",
     "output_type": "stream",
     "text": [
      "13\n",
      "tensor([-0.1985, -0.3008,  0.1704, -1.3251, -0.6971,  0.1203,  0.6973,  0.0834,\n",
      "         1.0424,  0.1908], grad_fn=<SliceBackward>)\n"
     ]
    }
   ],
   "source": [
    "out = bert(**a,output_hidden_states=True)\n",
    "print((len(out.hidden_states)))\n",
    "print(out.hidden_states[0][0,1,0:10])"
   ]
  },
  {
   "cell_type": "code",
   "execution_count": 101,
   "metadata": {},
   "outputs": [
    {
     "name": "stdout",
     "output_type": "stream",
     "text": [
      "tensor([-0.1985, -0.3008,  0.1704, -1.3251, -0.6971,  0.1203,  0.6973,  0.0834,\n",
      "         1.0424,  0.1908], grad_fn=<SliceBackward>)\n"
     ]
    }
   ],
   "source": [
    "c = bert.embeddings(a['input_ids']) # 直接使用BertModel 中的 embeddings 向量获取\n",
    "print(c[0,1,0:10])"
   ]
  }
 ],
 "metadata": {
  "kernelspec": {
   "display_name": "Python 3",
   "language": "python",
   "name": "python3"
  },
  "language_info": {
   "codemirror_mode": {
    "name": "ipython",
    "version": 3
   },
   "file_extension": ".py",
   "mimetype": "text/x-python",
   "name": "python",
   "nbconvert_exporter": "python",
   "pygments_lexer": "ipython3",
   "version": "3.8.3"
  }
 },
 "nbformat": 4,
 "nbformat_minor": 4
}
