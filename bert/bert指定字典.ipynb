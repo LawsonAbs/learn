{
 "cells": [
  {
   "cell_type": "code",
   "execution_count": 1,
   "metadata": {},
   "outputs": [
    {
     "name": "stderr",
     "output_type": "stream",
     "text": [
      "Calling BertTokenizer.from_pretrained() with the path to a single file or url is deprecated\n"
     ]
    },
    {
     "name": "stdout",
     "output_type": "stream",
     "text": [
      "['天', '空', '是', '蓝', '色', '的', '，', '[PAD]', '。', '有', '风', '筝', '[', 'ae', '##d', '##6', ']', '在', '飞', '。']\n"
     ]
    }
   ],
   "source": [
    "from transformers import BertTokenizer \n",
    "tokenizer = BertTokenizer.from_pretrained(\"/home/lawson/pretrain/bert-base-chinese/vocab.txt\")\n",
    "#                                          do_basic_tokenize=True,\n",
    "#                                          never_split = [\"[AED6]\"])\n",
    "word = \"天空是蓝色的，[PAD]。有风筝[AED6]在飞。\"\n",
    "out = tokenizer.tokenize(word)\n",
    "print(out)"
   ]
  },
  {
   "cell_type": "code",
   "execution_count": 2,
   "metadata": {},
   "outputs": [
    {
     "name": "stdout",
     "output_type": "stream",
     "text": [
      "[PAD]\r\n",
      "[unused1]\r\n",
      "[unused2]\r\n",
      "[q]\r\n",
      "[Q]\r\n",
      "[AED6]\r\n",
      "[unused7]\r\n",
      "[unused8]\r\n",
      "[unused9]\r\n",
      "[unused10]\r\n"
     ]
    }
   ],
   "source": [
    "!head -10 /home/lawson/pretrain/bert-base-chinese/vocab.txt"
   ]
  }
 ],
 "metadata": {
  "kernelspec": {
   "display_name": "Python 3",
   "language": "python",
   "name": "python3"
  },
  "language_info": {
   "codemirror_mode": {
    "name": "ipython",
    "version": 3
   },
   "file_extension": ".py",
   "mimetype": "text/x-python",
   "name": "python",
   "nbconvert_exporter": "python",
   "pygments_lexer": "ipython3",
   "version": "3.8.3"
  }
 },
 "nbformat": 4,
 "nbformat_minor": 4
}
