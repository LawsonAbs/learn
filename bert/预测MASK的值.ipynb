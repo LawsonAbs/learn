{
 "cells": [
  {
   "cell_type": "code",
   "execution_count": 10,
   "metadata": {},
   "outputs": [
    {
     "name": "stderr",
     "output_type": "stream",
     "text": [
      "Some weights of the model checkpoint at bert-base-uncased were not used when initializing BertForMaskedLM: ['cls.seq_relationship.bias', 'cls.seq_relationship.weight']\n",
      "- This IS expected if you are initializing BertForMaskedLM from the checkpoint of a model trained on another task or with another architecture (e.g. initializing a BertForSequenceClassification model from a BertForPreTraining model).\n",
      "- This IS NOT expected if you are initializing BertForMaskedLM from the checkpoint of a model that you expect to be exactly identical (initializing a BertForSequenceClassification model from a BertForSequenceClassification model).\n"
     ]
    },
    {
     "name": "stdout",
     "output_type": "stream",
     "text": [
      "['[CLS]', '[MASK]', '[MASK]', 'established', 'in', 'june', '2010', '.', '[SEP]']\n",
      "it\n",
      "['[CLS]', 'it', '[MASK]', '[MASK]', 'in', 'june', '2010', '.', '[SEP]']\n",
      "was\n",
      "['[CLS]', 'it', 'was', '[MASK]', '[MASK]', 'june', '2010', '.', '[SEP]']\n",
      "released\n",
      "['[CLS]', 'it', 'was', 'established', '[MASK]', '[MASK]', '2010', '.', '[SEP]']\n",
      "in\n",
      "['[CLS]', 'it', 'was', 'established', 'in', '[MASK]', '[MASK]', '.', '[SEP]']\n",
      "march\n",
      "['[CLS]', 'it', 'was', 'established', 'in', 'june', '[MASK]', '[MASK]', '[SEP]']\n",
      "2011\n"
     ]
    }
   ],
   "source": [
    "'''\n",
    "本文实现的功能是：\n",
    "根据输入数据中的[MASK]信息，预测这个[MASK] 可能的值。\n",
    "'''\n",
    "from transformers import BertTokenizer, BertForMaskedLM\n",
    "import torch\n",
    "\n",
    "tokenizer = BertTokenizer.from_pretrained('bert-base-uncased')\n",
    "model = BertForMaskedLM.from_pretrained('bert-base-uncased')\n",
    "\n",
    "sentence = \"It was established in June 2010.\"\n",
    "tokens = ['[CLS]'] + tokenizer.tokenize(sentence) + ['[SEP]']\n",
    "\n",
    "# i就是被mask掉的id\n",
    "for i in range(1, len(tokens)-2):\n",
    "    tmp = tokens[:i] + ['[MASK]','[MASK]'] + tokens[i+2:]\n",
    "#     print(tmp)\n",
    "    masked_ids = torch.tensor([tokenizer.convert_tokens_to_ids(tmp)])\n",
    "    segment_ids = torch.tensor([[0]*len(tmp)])\n",
    "\n",
    "    outputs = model(masked_ids, token_type_ids=segment_ids)\n",
    "    prediction_scores = outputs[0]\n",
    "    print(tmp)\n",
    "    # 打印被预测的字符\n",
    "    prediction_index = torch.argmax(prediction_scores[0, i]).item()\n",
    "    predicted_token = tokenizer.convert_ids_to_tokens([prediction_index])[0]\n",
    "    print(predicted_token)"
   ]
  }
 ],
 "metadata": {
  "kernelspec": {
   "display_name": "Python 3",
   "language": "python",
   "name": "python3"
  },
  "language_info": {
   "codemirror_mode": {
    "name": "ipython",
    "version": 3
   },
   "file_extension": ".py",
   "mimetype": "text/x-python",
   "name": "python",
   "nbconvert_exporter": "python",
   "pygments_lexer": "ipython3",
   "version": "3.8.3"
  }
 },
 "nbformat": 4,
 "nbformat_minor": 4
}
