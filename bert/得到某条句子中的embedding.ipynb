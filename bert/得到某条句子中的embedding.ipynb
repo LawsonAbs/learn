{
 "cells": [
  {
   "cell_type": "code",
   "execution_count": null,
   "metadata": {},
   "outputs": [],
   "source": [
    "\"\"\"\n",
    "func:使用bert-base-uncased 展示处理某句话，涉及的功能有：\n",
    "01.Tokenizer的使用\n",
    "02.BertModel的使用\n",
    "03.实现常见的功能\n",
    "\"\"\""
   ]
  },
  {
   "cell_type": "code",
   "execution_count": 40,
   "metadata": {},
   "outputs": [
    {
     "name": "stdout",
     "output_type": "stream",
     "text": [
      "{'input_ids': tensor([[  101,  1045,  2109,  2000,  2022,  1037, 13448,  1010,  2021,  1045,\n",
      "          4558,  3037,  1012,   102]]), 'token_type_ids': tensor([[0, 0, 0, 0, 0, 0, 0, 0, 0, 0, 0, 0, 0, 0]]), 'attention_mask': tensor([[1, 1, 1, 1, 1, 1, 1, 1, 1, 1, 1, 1, 1, 1]])}\n"
     ]
    }
   ],
   "source": [
    "\"\"\"1.定义Tokenizer,Model，并用tokenizer处理字符串\n",
    "\"\"\"\n",
    "import torch as t\n",
    "from transformers import AutoModel,AutoTokenizer\n",
    "path = \"/home/lawson/pretrain/bert-base-uncased\"\n",
    "\n",
    "# 得到预训练好的模型\n",
    "tokenizer = AutoTokenizer.from_pretrained(path)\n",
    "bert = AutoModel.from_pretrained(path)\n",
    "\n",
    "# 准备数据\n",
    "pun = \"I used to be a banker, but I lose interest.\"\n",
    "inputs = tokenizer(pun,return_tensors='pt')\n",
    "print(inputs)\n",
    "\n",
    "# 放入到bert 中处理\n",
    "output = bert(**inputs)"
   ]
  },
  {
   "cell_type": "code",
   "execution_count": 39,
   "metadata": {},
   "outputs": [
    {
     "name": "stdout",
     "output_type": "stream",
     "text": [
      "<class 'torch.Tensor'>\n",
      "tensor([  101,  1045,  2109,  2000,  2022,  1037, 13448,  1010,  2021,  1045,\n",
      "         4558,  3037,  1012,   102])\n",
      "['[CLS]', 'i', 'used', 'to', 'be', 'a', 'banker', ',', 'but', 'i', 'lose', 'interest', '.', '[SEP]']\n"
     ]
    }
   ],
   "source": [
    "\"\"\"将得到的inputs_ids转换为tokens。\n",
    "step1.先通过squeeze()压缩tensor\n",
    "step2.转换为list\n",
    "step3.使用convert_ids_to_tokens()方法转为tokens\n",
    "\"\"\"\n",
    "inputs_ids = inputs['input_ids']\n",
    "inputs_ids = inputs_ids.squeeze(0)\n",
    "\n",
    "print(type(inputs_ids)) # 可以不用转为list，直接使用一维的tensor即可\n",
    "print(inputs_ids)\n",
    "print(tokenizer.convert_ids_to_tokens(inputs_ids)) #将ids转换为tokens"
   ]
  },
  {
   "cell_type": "code",
   "execution_count": 14,
   "metadata": {},
   "outputs": [
    {
     "name": "stdout",
     "output_type": "stream",
     "text": [
      "torch.Size([1, 14, 768])\n",
      "torch.Size([1, 768])\n"
     ]
    }
   ],
   "source": [
    "\"\"\"\n",
    "对output进行处理\n",
    "\"\"\"\n",
    "#print(output)\n",
    "last_hidden_state ,pooler_output = output\n",
    "print(last_hidden_state.size()) \n",
    "print(pooler_output.size())"
   ]
  }
 ],
 "metadata": {
  "kernelspec": {
   "display_name": "Python 3",
   "language": "python",
   "name": "python3"
  },
  "language_info": {
   "codemirror_mode": {
    "name": "ipython",
    "version": 3
   },
   "file_extension": ".py",
   "mimetype": "text/x-python",
   "name": "python",
   "nbconvert_exporter": "python",
   "pygments_lexer": "ipython3",
   "version": "3.8.3"
  }
 },
 "nbformat": 4,
 "nbformat_minor": 4
}
