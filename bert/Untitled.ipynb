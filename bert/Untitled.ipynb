{
 "cells": [
  {
   "cell_type": "code",
   "execution_count": 3,
   "metadata": {},
   "outputs": [
    {
     "name": "stderr",
     "output_type": "stream",
     "text": [
      "I0929 21:06:33.546930 140117387790144 tokenization_utils_base.py:1254] loading file https://s3.amazonaws.com/models.huggingface.co/bert/bert-base-chinese-vocab.txt from cache at /home/liushen/.cache/torch/transformers/8a0c070123c1f794c42a29c6904beb7c1b8715741e235bee04aca2c7636fc83f.9b42061518a39ca00b8b52059fd2bede8daa613f8a8671500e518a8c29de8c00\n"
     ]
    },
    {
     "name": "stdout",
     "output_type": "stream",
     "text": [
      "['[CLS]', '非', '处', '方', '药', '物', '（', '乙', '类', '）', '江', '西', '青', '峰', '药', '业', '有', '限', '公', '司', '每', '片', '含', '生', '药', '0', '.', '6', '克', '口', '服', '。', '一', '次', '3～4', '片', '，', '一', '日', '3', '次', '。', '补', '血', '活', '血', '，', '调', '经', '止', '痛', '。', '用', '于', '血', '虚', '引', '起', '的', '面', '色', '萎', '黄', '，', '眩', '晕', '心', '悸', '，', '月', '经', '不', '调', '，', '痛', '经', '密', '封', '，', '防', '潮', '。', '[SEP]']\n"
     ]
    }
   ],
   "source": [
    "from transformers import BertTokenizerFast\n",
    "tokenizer = BertTokenizerFast.from_pretrained(\"bert-base-chinese\")\n",
    "input_ids = [  101,  7478,  1905,  3175,  5790,  4289,  8020,   734,  5102,  8021,\n",
    "          3736,  6205,  7471,  2292,  5790,   689,  3300,  7361,  1062,  1385,\n",
    "          3680,  4275,  1419,  4495,  5790,   121,   119,   127,  1046,  1366,\n",
    "          3302,   511,   671,  3613, 12907,  4275,  8024,   671,  3189,   124,\n",
    "          3613,   511,  6133,  6117,  3833,  6117,  8024,  6444,  5307,  3632,\n",
    "          4578,   511,  4500,   754,  6117,  5994,  2471,  6629,  4638,  7481,\n",
    "          5682,  5848,  7942,  8024,  4700,  3238,  2552,  2654,  8024,  3299,\n",
    "          5307,   679,  6444,  8024,  4578,  5307,  2166,  2196,  8024,  7344,\n",
    "          4060,   511,   102]\n",
    "out = tokenizer.convert_ids_to_tokens(input_ids)\n",
    "print(out)"
   ]
  },
  {
   "cell_type": "code",
   "execution_count": 6,
   "metadata": {},
   "outputs": [
    {
     "name": "stdout",
     "output_type": "stream",
     "text": [
      "tensor([ 1.5667, -0.2869])\n",
      "[1.5666828155517578, -0.28692612051963806]\n"
     ]
    }
   ],
   "source": [
    "import torch as t\n",
    "a = t.randn(2)\n",
    "print(a)\n",
    "b = a.tolist()  # 转为tolist()\n",
    "print(b)"
   ]
  },
  {
   "cell_type": "code",
   "execution_count": 13,
   "metadata": {},
   "outputs": [
    {
     "name": "stdout",
     "output_type": "stream",
     "text": [
      "<class 'list'>\n"
     ]
    },
    {
     "ename": "NameError",
     "evalue": "name 'shape' is not defined",
     "output_type": "error",
     "traceback": [
      "\u001b[0;31m---------------------------------------------------------------------------\u001b[0m",
      "\u001b[0;31mNameError\u001b[0m                                 Traceback (most recent call last)",
      "\u001b[0;32m<ipython-input-13-ca15609ea8e5>\u001b[0m in \u001b[0;36m<module>\u001b[0;34m\u001b[0m\n\u001b[1;32m      1\u001b[0m \u001b[0ma\u001b[0m \u001b[0;34m=\u001b[0m \u001b[0;34m[\u001b[0m\u001b[0;34m[\u001b[0m\u001b[0;36m1\u001b[0m\u001b[0;34m,\u001b[0m\u001b[0;36m2\u001b[0m\u001b[0;34m]\u001b[0m\u001b[0;34m,\u001b[0m\u001b[0;34m[\u001b[0m\u001b[0;36m3\u001b[0m\u001b[0;34m,\u001b[0m\u001b[0;36m4\u001b[0m\u001b[0;34m]\u001b[0m\u001b[0;34m]\u001b[0m\u001b[0;34m\u001b[0m\u001b[0;34m\u001b[0m\u001b[0m\n\u001b[1;32m      2\u001b[0m \u001b[0mprint\u001b[0m\u001b[0;34m(\u001b[0m\u001b[0mtype\u001b[0m\u001b[0;34m(\u001b[0m\u001b[0ma\u001b[0m\u001b[0;34m)\u001b[0m\u001b[0;34m)\u001b[0m\u001b[0;34m\u001b[0m\u001b[0;34m\u001b[0m\u001b[0m\n\u001b[0;32m----> 3\u001b[0;31m \u001b[0mprint\u001b[0m\u001b[0;34m(\u001b[0m\u001b[0mshape\u001b[0m\u001b[0;34m(\u001b[0m\u001b[0ma\u001b[0m\u001b[0;34m)\u001b[0m\u001b[0;34m)\u001b[0m\u001b[0;34m\u001b[0m\u001b[0;34m\u001b[0m\u001b[0m\n\u001b[0m",
      "\u001b[0;31mNameError\u001b[0m: name 'shape' is not defined"
     ]
    }
   ],
   "source": [
    "a = [[1,2],[3,4]]\n",
    "print(type(a))\n",
    "print(shape(a))"
   ]
  }
 ],
 "metadata": {
  "kernelspec": {
   "display_name": "Python 3",
   "language": "python",
   "name": "python3"
  },
  "language_info": {
   "codemirror_mode": {
    "name": "ipython",
    "version": 3
   },
   "file_extension": ".py",
   "mimetype": "text/x-python",
   "name": "python",
   "nbconvert_exporter": "python",
   "pygments_lexer": "ipython3",
   "version": "3.7.6"
  }
 },
 "nbformat": 4,
 "nbformat_minor": 4
}
