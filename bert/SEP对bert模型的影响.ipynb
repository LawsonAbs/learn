{
 "cells": [
  {
   "cell_type": "code",
   "execution_count": 55,
   "metadata": {},
   "outputs": [
    {
     "name": "stderr",
     "output_type": "stream",
     "text": [
      "Some weights of the model checkpoint at /home/lawson/pretrain/bert-base-uncased were not used when initializing BertModel: ['cls.predictions.transform.LayerNorm.weight', 'cls.seq_relationship.weight', 'cls.predictions.transform.dense.bias', 'cls.predictions.bias', 'cls.predictions.transform.dense.weight', 'cls.seq_relationship.bias', 'cls.predictions.decoder.weight', 'cls.predictions.transform.LayerNorm.bias']\n",
      "- This IS expected if you are initializing BertModel from the checkpoint of a model trained on another task or with another architecture (e.g. initializing a BertForSequenceClassification model from a BertForPreTraining model).\n",
      "- This IS NOT expected if you are initializing BertModel from the checkpoint of a model that you expect to be exactly identical (initializing a BertForSequenceClassification model from a BertForSequenceClassification model).\n"
     ]
    },
    {
     "name": "stdout",
     "output_type": "stream",
     "text": [
      "{'input_ids': tensor([[ 101, 1045, 2066, 2377, 2374, 1012,  102, 2054, 1005, 1055, 2115, 5440,\n",
      "         2998, 1029,  102]]), 'token_type_ids': tensor([[0, 0, 0, 0, 0, 0, 0, 1, 1, 1, 1, 1, 1, 1, 1]]), 'attention_mask': tensor([[1, 1, 1, 1, 1, 1, 1, 1, 1, 1, 1, 1, 1, 1, 1]])}\n",
      "[\"[CLS] i like play football. [SEP] what's your favorite sports? [SEP]\"]\n"
     ]
    }
   ],
   "source": [
    "'''\n",
    "同时输入两个sentence，会自动在中间拼接一个 [SEP]\n",
    "'''\n",
    "from transformers import BertTokenizer,BertModel\n",
    "tokenizer = BertTokenizer.from_pretrained(\"/home/lawson/pretrain/bert-base-uncased\")\n",
    "bert = BertModel.from_pretrained(\"/home/lawson/pretrain/bert-base-uncased\")\n",
    "text_a = [\"I like play football.\"]\n",
    "text_b=[\"What's your favorite sports?\"]\n",
    "a = tokenizer(text_a,text_b,return_tensors='pt') # 后面只能\n",
    "print(a)\n",
    "print(tokenizer.batch_decode(a['input_ids']))\n",
    "# print(a['input_ids'].tolist()[0])\n",
    "# out = bert(**a,output_hidden_states =True)"
   ]
  },
  {
   "cell_type": "code",
   "execution_count": 47,
   "metadata": {},
   "outputs": [
    {
     "name": "stdout",
     "output_type": "stream",
     "text": [
      "torch.Size([1, 15, 768])\n",
      "tensor([ 0.2231, -0.1703, -0.0647, -0.1207, -0.2177, -0.3585,  0.1167,  0.7885,\n",
      "        -0.2162, -0.0605], grad_fn=<SliceBackward>)\n",
      "torch.Size([1, 15, 768])\n",
      "tensor([[ 1.6855e-01, -2.8577e-01, -3.2613e-01, -1.1222e-01,  3.4266e-02],\n",
      "        [-3.4025e-04,  5.3974e-01, -2.8805e-01,  1.2017e-02,  3.7007e-01],\n",
      "        [ 1.7353e-01,  7.0088e-01,  3.3913e-01,  4.3566e-01, -5.2436e-01],\n",
      "        [-7.7623e-01,  3.2389e-01, -5.2069e-01,  9.1776e-01,  2.2126e-01],\n",
      "        [-3.7756e-01,  5.4612e-01, -6.9153e-01,  2.0580e-01, -6.1096e-02],\n",
      "        [-2.4422e-01, -5.0580e-03, -2.3618e-01, -5.0495e-01, -8.4513e-01],\n",
      "        [-1.4815e-01, -2.9485e-01, -1.6900e-01, -8.6341e-02, -4.7700e-01],\n",
      "        [ 8.9501e-01,  1.6637e-01, -8.4080e-01,  3.9298e-01, -1.0881e+00],\n",
      "        [-4.2586e-01,  6.1183e-03,  1.6976e-01, -7.6393e-01,  3.9800e-01],\n",
      "        [ 6.3746e-01, -4.5835e-01,  5.6026e-01, -5.2181e-02, -1.4111e+00],\n",
      "        [-3.7751e-03,  7.7173e-01,  2.7108e-01,  6.8045e-01, -7.4469e-01],\n",
      "        [-6.2426e-01,  1.5247e+00,  2.2170e-01,  2.0025e-01,  3.4194e-01],\n",
      "        [-8.4876e-01,  2.9923e-01,  1.6252e-01,  1.3655e+00, -1.4592e-01],\n",
      "        [ 1.7037e-01, -4.4119e-02, -2.1066e-01, -3.0148e-01, -5.6872e-01],\n",
      "        [-3.9061e-01,  2.0784e-01, -6.0766e-02,  2.4615e-01, -4.4332e-01]],\n",
      "       grad_fn=<SliceBackward>)\n"
     ]
    }
   ],
   "source": [
    "print(out.last_hidden_state.size())\n",
    "print(out.last_hidden_state[0,0,:10])\n",
    "print(out.hidden_states[0].size())\n",
    "print(out.hidden_states[0][0,:,0:5])# 第零层的输入"
   ]
  },
  {
   "cell_type": "code",
   "execution_count": 56,
   "metadata": {},
   "outputs": [
    {
     "name": "stdout",
     "output_type": "stream",
     "text": [
      "{'input_ids': tensor([[ 101, 1045, 2066, 2377, 2374, 1012,  102, 2054, 1005, 1055, 2115, 5440,\n",
      "         2998, 1029,  102]]), 'token_type_ids': tensor([[0, 0, 0, 0, 0, 0, 0, 0, 0, 0, 0, 0, 0, 0, 0]]), 'attention_mask': tensor([[1, 1, 1, 1, 1, 1, 1, 1, 1, 1, 1, 1, 1, 1, 1]])}\n",
      "[101, 1045, 2066, 2377, 2374, 1012, 102, 2054, 1005, 1055, 2115, 5440, 2998, 1029, 102]\n",
      "['[CLS]', 'i', 'like', 'play', 'football', '.', '[SEP]', 'what', \"'\", 's', 'your', 'favorite', 'sports', '?', '[SEP]']\n"
     ]
    }
   ],
   "source": [
    "'''\n",
    "我们手动拼接两条句子，但是句子的中间拼上SEGMENT, 并不会修改 token_type_ids 的值\n",
    "'''\n",
    "text = [\"I like play football.[SEP] What's your favorite sports?\"]\n",
    "b = tokenizer(text,return_tensors='pt',padding=True)\n",
    "print(b)\n",
    "print(b['input_ids'].tolist()[0])\n",
    "print(tokenizer.convert_ids_to_tokens(a['input_ids'].tolist()[0]))\n",
    "out2 = bert(**b,output_hidden_states=True)"
   ]
  },
  {
   "cell_type": "code",
   "execution_count": 48,
   "metadata": {},
   "outputs": [
    {
     "name": "stdout",
     "output_type": "stream",
     "text": [
      "torch.Size([1, 14, 768])\n",
      "tensor([ 0.1265, -0.2760, -0.0836, -0.1291, -0.2589, -0.3692,  0.1775,  0.8153,\n",
      "        -0.2250, -0.1557], grad_fn=<SliceBackward>)\n",
      "torch.Size([1, 14, 768])\n",
      "tensor([[ 1.6855e-01, -2.8577e-01, -3.2613e-01, -1.1222e-01,  3.4266e-02],\n",
      "        [-3.4025e-04,  5.3974e-01, -2.8805e-01,  1.2017e-02,  3.7007e-01],\n",
      "        [ 1.7353e-01,  7.0088e-01,  3.3913e-01,  4.3566e-01, -5.2436e-01],\n",
      "        [-7.7623e-01,  3.2389e-01, -5.2069e-01,  9.1776e-01,  2.2126e-01],\n",
      "        [-3.7756e-01,  5.4612e-01, -6.9153e-01,  2.0580e-01, -6.1096e-02],\n",
      "        [-2.4422e-01, -5.0580e-03, -2.3618e-01, -5.0495e-01, -8.4513e-01],\n",
      "        [ 9.8813e-01,  1.3728e-01, -1.0694e+00,  4.5561e-01, -1.0319e+00],\n",
      "        [-4.4970e-01, -1.7710e-02,  2.8337e-01, -7.7170e-01,  4.2192e-01],\n",
      "        [ 5.5603e-01, -6.5133e-01,  5.9061e-01, -2.7733e-01, -1.3853e+00],\n",
      "        [ 2.8378e-01,  7.5372e-01,  1.9447e-01,  8.6594e-01, -6.9992e-01],\n",
      "        [-5.8637e-01,  1.4081e+00,  2.9576e-01,  5.5031e-02,  1.7688e-01],\n",
      "        [-7.8852e-01,  2.7798e-01, -6.9913e-02,  1.1192e+00, -1.7671e-01],\n",
      "        [ 2.2667e-01, -3.0073e-02, -2.3347e-01, -1.3068e-01, -5.5186e-01],\n",
      "        [-6.0564e-01,  9.6814e-02,  1.8802e-01,  1.3456e-01, -4.3898e-01]],\n",
      "       grad_fn=<SliceBackward>)\n"
     ]
    }
   ],
   "source": [
    "print(out2.last_hidden_state.size())\n",
    "print(out2.last_hidden_state[0,0,:10])\n",
    "print(out2.hidden_states[0].size())\n",
    "print(out2.hidden_states[0][0,:,0:5])# 第零层的输入"
   ]
  }
 ],
 "metadata": {
  "kernelspec": {
   "display_name": "Python 3",
   "language": "python",
   "name": "python3"
  },
  "language_info": {
   "codemirror_mode": {
    "name": "ipython",
    "version": 3
   },
   "file_extension": ".py",
   "mimetype": "text/x-python",
   "name": "python",
   "nbconvert_exporter": "python",
   "pygments_lexer": "ipython3",
   "version": "3.8.3"
  }
 },
 "nbformat": 4,
 "nbformat_minor": 4
}
