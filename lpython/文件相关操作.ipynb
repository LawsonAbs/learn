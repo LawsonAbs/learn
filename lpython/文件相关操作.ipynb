{
 "cells": [
  {
   "cell_type": "code",
   "execution_count": 14,
   "metadata": {},
   "outputs": [
    {
     "name": "stdout",
     "output_type": "stream",
     "text": [
      "<class 'list'>\n",
      "[{'id': 0, 'name': 'lawson'}, {'id': 0, 'name': 'kiwi'}]\n",
      "<class 'list'>\n",
      "[{'id': 0, 'name': 'lawson'}, {'id': 0, 'name': 'kiwi'}, {'id': 0, 'name': 'kiwi'}]\n"
     ]
    }
   ],
   "source": [
    "\"\"\"\n",
    "检查文件编码类型\n",
    "\"\"\"\n",
    "import chardet\n",
    " \n",
    " \n",
    "# 获取文件编码类型\n",
    "def get_encoding(file):\n",
    "    # 二进制方式读取，获取字节数据，检测类型\n",
    "    with open(file, 'rb') as f:\n",
    "        data = f.read()\n",
    "        return chardet.detect(data)['encoding']\n",
    " \n",
    "file_name = './id.json'\n",
    "encoding = get_encoding(file_name)\n",
    "print(encoding)"
   ]
  }
 ],
 "metadata": {
  "kernelspec": {
   "display_name": "Python 3",
   "language": "python",
   "name": "python3"
  },
  "language_info": {
   "codemirror_mode": {
    "name": "ipython",
    "version": 3
   },
   "file_extension": ".py",
   "mimetype": "text/x-python",
   "name": "python",
   "nbconvert_exporter": "python",
   "pygments_lexer": "ipython3",
   "version": "3.7.6"
  }
 },
 "nbformat": 4,
 "nbformat_minor": 4
}
