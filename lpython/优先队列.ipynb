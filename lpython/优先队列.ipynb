{
 "cells": [
  {
   "cell_type": "code",
   "execution_count": 1,
   "metadata": {},
   "outputs": [],
   "source": [
    "#本小节主要讲解优先队列的常用方法，以及日常经常使用到的功能"
   ]
  },
  {
   "cell_type": "code",
   "execution_count": 10,
   "metadata": {},
   "outputs": [
    {
     "ename": "SyntaxError",
     "evalue": "invalid syntax (<ipython-input-10-ee06eece5fe3>, line 12)",
     "output_type": "error",
     "traceback": [
      "\u001b[0;36m  File \u001b[0;32m\"<ipython-input-10-ee06eece5fe3>\"\u001b[0;36m, line \u001b[0;32m12\u001b[0m\n\u001b[0;31m    print(item,\"pq.size=%d\" pq.qsize())\u001b[0m\n\u001b[0m                             ^\u001b[0m\n\u001b[0;31mSyntaxError\u001b[0m\u001b[0;31m:\u001b[0m invalid syntax\n"
     ]
    }
   ],
   "source": [
    "# from queue 中的queue说明queue 是一个python文件； import PriorityQueue 说明PriorityQueue 是一个类。这个类继承自类Queue\n",
    "from queue import PriorityQueue as PQ #\n",
    "# PQ??\n",
    "pq = PQ()\n",
    "\n",
    "pq.put(1)\n",
    "pq.put(2)\n",
    "pq.put(3)\n",
    "\n",
    "print(pq.queue)\n",
    "item = pq.get()\n",
    "print(item,\"pq.size=%d\" %pq.qsize())"
   ]
  },
  {
   "cell_type": "code",
   "execution_count": 13,
   "metadata": {},
   "outputs": [
    {
     "name": "stdout",
     "output_type": "stream",
     "text": [
      "old Level: 1,Novice\n",
      "old Level: 5,Proficient\n",
      "old Level: 10,Expert\n",
      "q.qsize()=3\n",
      "\n",
      "-------排序后的结果是：---------\n",
      "Processing level: 10,Expert\n",
      "Processing level: 5,Proficient\n",
      "Processing level: 1,Novice\n"
     ]
    }
   ],
   "source": [
    "import queue as Q # 导入queue整个.py文件【也就是导入整个queue.py文件】\n",
    "\n",
    "class Skill(object):\n",
    "    def __init__(self, priority, description):\n",
    "        self.priority = priority\n",
    "        self.description = description        \n",
    "        print('old Level:',self)\n",
    "        return\n",
    "    def __lt__(self, other): # 定义优先级函数\n",
    "        if self.priority <= other.priority:\n",
    "            return 0\n",
    "        else:\n",
    "            return 1\n",
    "    def __str__(self):\n",
    "        return str(self.priority) +\",\" + self.description\n",
    "\n",
    "q = Q.PriorityQueue(3)\n",
    "q.put(Skill(1, 'Novice'))\n",
    "q.put(Skill(5, 'Proficient'))\n",
    "q.put(Skill(10, 'Expert'))\n",
    "\n",
    "print(\"q.qsize()=%s\\n\"%q.qsize())\n",
    "print(\"-------排序后的结果是：---------\")\n",
    "while not q.empty():\n",
    "    next_level = q.get()\n",
    "    print('Processing level:' , next_level)\n",
    "    "
   ]
  },
  {
   "cell_type": "code",
   "execution_count": 20,
   "metadata": {},
   "outputs": [
    {
     "name": "stdout",
     "output_type": "stream",
     "text": [
      "type(heap)= <class 'list'>\n",
      "type(heap)= <class 'list'>\n",
      "[-4, 1, 23, 8, 43]\n",
      "[1, 8, 23, 43]\n"
     ]
    }
   ],
   "source": [
    "import heapq as HQ\n",
    "HQ??\n",
    "x = [1,8,23,-4,43]\n",
    "heap=list(x)\n",
    "print(\"type(heap)=\",type(heap))\n",
    "\n",
    "# transforms list into a heap, in-place, in linear time 将一个heap【还是list】转换成一个heap【变成小根堆】\n",
    "HQ.heapify(heap)\n",
    "print(\"type(heap)=\",type(heap)) # 小根堆仍属list型\n",
    "\n",
    "print(heap)\n",
    "HQ.heappop(heap)\n",
    "print(heap) #弹出队首\n"
   ]
  },
  {
   "cell_type": "code",
   "execution_count": 19,
   "metadata": {},
   "outputs": [
    {
     "name": "stdout",
     "output_type": "stream",
     "text": [
      "4\n",
      "-------排序后的结果是：---------\n",
      "Processing level: 1\n",
      "Processing level: 2\n",
      "Processing level: 5\n",
      "Processing level: 10\n",
      "1\n"
     ]
    }
   ],
   "source": [
    "import queue as Q\n",
    "\n",
    "q = Q.PriorityQueue(4)\n",
    "\n",
    "q.put(10, 'Expert')\n",
    "q.put(1, 'Novice')\n",
    "q.put(5, 'Proficient')\n",
    "q.put(2,'lawson')\n",
    "\n",
    "print(q.qsize())\n",
    "print(\"-------排序后的结果是：---------\")\n",
    "while not q.empty():\n",
    "    next_level = q.get() # 使用get 得到队首\n",
    "    print('Processing level:' , next_level)\n",
    "q.put(3,'hahah')\n",
    "print(q.qsize())"
   ]
  }
 ],
 "metadata": {
  "kernelspec": {
   "display_name": "Python 3",
   "language": "python",
   "name": "python3"
  },
  "language_info": {
   "codemirror_mode": {
    "name": "ipython",
    "version": 3
   },
   "file_extension": ".py",
   "mimetype": "text/x-python",
   "name": "python",
   "nbconvert_exporter": "python",
   "pygments_lexer": "ipython3",
   "version": "3.7.6"
  }
 },
 "nbformat": 4,
 "nbformat_minor": 4
}
