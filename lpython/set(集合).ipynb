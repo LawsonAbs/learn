{
 "cells": [
  {
   "cell_type": "code",
   "execution_count": 3,
   "metadata": {},
   "outputs": [
    {
     "name": "stdout",
     "output_type": "stream",
     "text": [
      "set()\n",
      "<class 'set'>\n",
      "{1}\n",
      "set()\n"
     ]
    }
   ],
   "source": [
    "a=set() #必须使用set()创建一个空集合。如果不是空集合，可以用{'a','v'}这种方式来创建\n",
    "print(a)\n",
    "a.add(1)\n",
    "print(type(a))\n",
    "print(a)\n",
    "\n",
    "b=set( ) # 打印效果和第一个打印相同\n",
    "print(b)"
   ]
  }
 ],
 "metadata": {
  "kernelspec": {
   "display_name": "Python 3",
   "language": "python",
   "name": "python3"
  },
  "language_info": {
   "codemirror_mode": {
    "name": "ipython",
    "version": 3
   },
   "file_extension": ".py",
   "mimetype": "text/x-python",
   "name": "python",
   "nbconvert_exporter": "python",
   "pygments_lexer": "ipython3",
   "version": "3.7.6"
  }
 },
 "nbformat": 4,
 "nbformat_minor": 4
}
