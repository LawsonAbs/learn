{
 "cells": [
  {
   "cell_type": "code",
   "execution_count": null,
   "metadata": {},
   "outputs": [],
   "source": [
    "\"\"\"\n",
    "方法一般就分两种\n",
    "01.不绑定self\n",
    "02.绑定self\n",
    "把它绑定的对象作为第一个参数传给这个对象。self 的含义仅仅是提醒你这个方法会被绑定到实例上而已\n",
    "\"\"\"\n",
    "class Test:\n",
    "    def f1():\n",
    "        print(\"f1\")\n",
    "    def f2(self):\n",
    "        print(self)\n",
    "        print(type(self))\n",
    "        print(\"f2\")\n",
    "Test.f1()\n",
    "test = Test()\n",
    "Test.f2(test)\n",
    "print(\"-----------------------------------\")\n",
    "test.f2()\n"
   ]
  }
 ],
 "metadata": {
  "kernelspec": {
   "display_name": "Python 3",
   "language": "python",
   "name": "python3"
  },
  "language_info": {
   "codemirror_mode": {
    "name": "ipython",
    "version": 3
   },
   "file_extension": ".py",
   "mimetype": "text/x-python",
   "name": "python",
   "nbconvert_exporter": "python",
   "pygments_lexer": "ipython3",
   "version": "3.7.6"
  }
 },
 "nbformat": 4,
 "nbformat_minor": 4
}
