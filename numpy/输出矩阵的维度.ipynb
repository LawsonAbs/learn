{
 "cells": [
  {
   "cell_type": "code",
   "execution_count": 6,
   "metadata": {},
   "outputs": [
    {
     "name": "stdout",
     "output_type": "stream",
     "text": [
      "[ 94863806863744 140150587581472  94863806863744 ...               0\n",
      "               0           93968]\n",
      "(11745,)\n"
     ]
    }
   ],
   "source": [
    "\"\"\"numpy 中使用也（同pytorch）可以使用 .shape 属性来输出方法\n",
    "\"\"\"\n",
    "import numpy as np\n",
    "imgs = np.zeros((11745, 28, 28, 1))\n",
    "img_labels = np.empty(11745, dtype=\"int\")\n",
    "print(img_labels)\n",
    "print(img_labels.shape)"
   ]
  }
 ],
 "metadata": {
  "kernelspec": {
   "display_name": "Python 3",
   "language": "python",
   "name": "python3"
  },
  "language_info": {
   "codemirror_mode": {
    "name": "ipython",
    "version": 3
   },
   "file_extension": ".py",
   "mimetype": "text/x-python",
   "name": "python",
   "nbconvert_exporter": "python",
   "pygments_lexer": "ipython3",
   "version": "3.8.3"
  }
 },
 "nbformat": 4,
 "nbformat_minor": 4
}
