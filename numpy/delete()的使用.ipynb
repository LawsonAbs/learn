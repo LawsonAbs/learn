{
 "cells": [
  {
   "cell_type": "code",
   "execution_count": 13,
   "metadata": {},
   "outputs": [
    {
     "name": "stdout",
     "output_type": "stream",
     "text": [
      "[ 0  1  2  3  4  5  6  7  8  9 10 11]\n",
      "[ True  True  True  True  True  True  True  True  True  True  True  True]\n",
      "[False  True False  True False  True  True  True  True  True  True  True]\n",
      "[ 1  3  5  6  7  8  9 10 11]\n"
     ]
    }
   ],
   "source": [
    "'''delete()方法的使用\n",
    "1.删除某个数组中指定下标的数字，但是并不修改原数组\n",
    "'''\n",
    "import numpy as np\n",
    "\n",
    "arr = np.arange(12) # 得到一个数组\n",
    "print(arr) \n",
    "mask = np.ones(len(arr), dtype=bool) \n",
    "print(mask) \n",
    "mask[[0,2,4]] = False # 修改mask的值\n",
    "print(mask)\n",
    "result = arr[mask,...]\n",
    "print(result)\n",
    "\n",
    "# ==============\n",
    "res = np.delete(arr,[0,2,4]) #删除掉数组中某些下标中数据\n",
    "print(res)\n",
    "print(arr) # 是没有修改arr的值的"
   ]
  },
  {
   "cell_type": "code",
   "execution_count": 28,
   "metadata": {},
   "outputs": [
    {
     "name": "stdout",
     "output_type": "stream",
     "text": [
      "[0 1 2 3 4 5 7 8 9]\n",
      "4\n"
     ]
    }
   ],
   "source": [
    "'''\n",
    "'''\n",
    "res = np.delete(range(10),6)\n",
    "print(res) # <class 'numpy.ndarray'>\n",
    "res = np.random.choice(res)\n",
    "print(res)"
   ]
  },
  {
   "cell_type": "code",
   "execution_count": 40,
   "metadata": {},
   "outputs": [
    {
     "name": "stdout",
     "output_type": "stream",
     "text": [
      "[ 0  1  2  3  4  5  6  7  8  9 10 11 12 13 14 15 16 17 18 19 20 21 22 23\n",
      " 24 25 26 27 28 29 30 31 32 33 34 35 36 37 38 39]\n",
      "16\n"
     ]
    }
   ],
   "source": [
    "arr = np.arange(40)  # 分配一个数组\n",
    "print(arr)\n",
    "res = np.random.choice(arr)  # 随机选择一个数字\n",
    "print(res)"
   ]
  }
 ],
 "metadata": {
  "kernelspec": {
   "display_name": "Python 3",
   "language": "python",
   "name": "python3"
  },
  "language_info": {
   "codemirror_mode": {
    "name": "ipython",
    "version": 3
   },
   "file_extension": ".py",
   "mimetype": "text/x-python",
   "name": "python",
   "nbconvert_exporter": "python",
   "pygments_lexer": "ipython3",
   "version": "3.7.6"
  }
 },
 "nbformat": 4,
 "nbformat_minor": 4
}
