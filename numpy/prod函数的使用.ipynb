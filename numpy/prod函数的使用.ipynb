{
 "cells": [
  {
   "cell_type": "code",
   "execution_count": 16,
   "metadata": {},
   "outputs": [
    {
     "name": "stdout",
     "output_type": "stream",
     "text": [
      "[[4.65411181e-310 0.00000000e+000 0.00000000e+000]\n",
      " [0.00000000e+000 0.00000000e+000 0.00000000e+000]]\n"
     ]
    },
    {
     "data": {
      "text/plain": [
       "array([0., 0.])"
      ]
     },
     "execution_count": 16,
     "metadata": {},
     "output_type": "execute_result"
    }
   ],
   "source": [
    "\"\"\"prod方法的使用\n",
    "（1）按照指定维度相乘，如果维度没有指定，那么就是全部乘在一起。即使有溢出也不会报错\n",
    "\"\"\"\n",
    "\n",
    "import numpy as np\n",
    "arr = np.ndarray(shape =[2,3]) # 新建一个指定shape的数组，应该没有初始化值\n",
    "print(arr)\n",
    "np.prod(arr,axis=1)"
   ]
  },
  {
   "cell_type": "code",
   "execution_count": 27,
   "metadata": {},
   "outputs": [
    {
     "name": "stdout",
     "output_type": "stream",
     "text": [
      "[5 6 7 8]\n",
      "<class 'numpy.ndarray'>\n"
     ]
    },
    {
     "data": {
      "text/plain": [
       "1680"
      ]
     },
     "execution_count": 27,
     "metadata": {},
     "output_type": "execute_result"
    }
   ],
   "source": [
    "# 即使溢出也不会报错\n",
    "# 一维结果\n",
    "x = np.array([5, 6, 7, 8])\n",
    "print(x)\n",
    "print(type(x))\n",
    "np.prod(x)  # "
   ]
  },
  {
   "cell_type": "code",
   "execution_count": 31,
   "metadata": {},
   "outputs": [
    {
     "name": "stdout",
     "output_type": "stream",
     "text": [
      "(2, 2)\n",
      "24\n",
      "[ 2 12]\n"
     ]
    }
   ],
   "source": [
    "# 在二维矩阵执行操作\n",
    "y = np.array([[1,2],[3,4]])\n",
    "print(y.shape)\n",
    "res1 = np.prod(y)\n",
    "res2 = np.prod(y,1) # 在第一个维度上进行乘积操作\n",
    "print(res1)\n",
    "print(res2)"
   ]
  },
  {
   "cell_type": "code",
   "execution_count": 50,
   "metadata": {},
   "outputs": [
    {
     "name": "stdout",
     "output_type": "stream",
     "text": [
      "[[[2 3]\n",
      "  [3 1]\n",
      "  [1 3]]\n",
      "\n",
      " [[4 4]\n",
      "  [2 2]\n",
      "  [4 1]]]\n",
      "[[ 8 12]\n",
      " [ 6  2]\n",
      " [ 4  3]]\n",
      "[[ 6  9]\n",
      " [32  8]]\n",
      "[[ 6  3  3]\n",
      " [16  4  4]]\n"
     ]
    }
   ],
   "source": [
    "# 三维矩阵的操作\n",
    "# np.random.randint?? 输出函数的api\n",
    "z = np.random.randint(1,5,(2,3,2)) \n",
    "print(z)\n",
    "print(np.prod(z,axis=0))\n",
    "print(np.prod(z,axis=1))\n",
    "print(np.prod(z,axis=2))"
   ]
  }
 ],
 "metadata": {
  "kernelspec": {
   "display_name": "Python 3 (ipykernel)",
   "language": "python",
   "name": "python3"
  },
  "language_info": {
   "codemirror_mode": {
    "name": "ipython",
    "version": 3
   },
   "file_extension": ".py",
   "mimetype": "text/x-python",
   "name": "python",
   "nbconvert_exporter": "python",
   "pygments_lexer": "ipython3",
   "version": "3.8.3"
  }
 },
 "nbformat": 4,
 "nbformat_minor": 4
}
