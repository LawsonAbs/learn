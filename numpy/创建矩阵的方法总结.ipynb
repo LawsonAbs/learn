{
 "cells": [
  {
   "cell_type": "code",
   "execution_count": 1,
   "metadata": {},
   "outputs": [
    {
     "name": "stdout",
     "output_type": "stream",
     "text": [
      "[[0.17277388 0.34803424]\n",
      " [0.62282358 0.47550059]\n",
      " [0.90114677 0.45053154]]\n"
     ]
    }
   ],
   "source": [
    "'''创建矩阵的方法\n",
    "1.使用random.rand()方法\n",
    "'''\n",
    "import numpy as np\n",
    "a = np.random.rand(3,2)\n",
    "print(a)"
   ]
  }
 ],
 "metadata": {
  "kernelspec": {
   "display_name": "Python 3",
   "language": "python",
   "name": "python3"
  },
  "language_info": {
   "codemirror_mode": {
    "name": "ipython",
    "version": 3
   },
   "file_extension": ".py",
   "mimetype": "text/x-python",
   "name": "python",
   "nbconvert_exporter": "python",
   "pygments_lexer": "ipython3",
   "version": "3.8.3"
  }
 },
 "nbformat": 4,
 "nbformat_minor": 4
}
