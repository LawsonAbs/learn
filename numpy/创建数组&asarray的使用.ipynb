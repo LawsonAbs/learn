{
 "cells": [
  {
   "cell_type": "code",
   "execution_count": 1,
   "metadata": {},
   "outputs": [
    {
     "name": "stdout",
     "output_type": "stream",
     "text": [
      "[[0.0273, -0.4366], [-0.2079, -0.4721], [-0.659, 0.2707]]\n",
      "<class 'list'>\n",
      "[[ 0.0273 -0.4366]\n",
      " [-0.2079 -0.4721]\n",
      " [-0.659   0.2707]]\n",
      "<class 'numpy.ndarray'>\n"
     ]
    }
   ],
   "source": [
    "\"\"\"asarray的使用：Convert the input to an array\n",
    "1.创建数组\n",
    "2.可以发现，numpy中的数组和 Python 中数组输出是不同的\n",
    "\"\"\"\n",
    "import numpy as np\n",
    "\n",
    "w = [[0.0273, -0.4366],\n",
    "     [-0.2079, -0.4721],\n",
    "     [-0.6590,  0.2707]] # 并不是写成这样就是个矩阵了，其实还是个list\n",
    "x = [[1., 2.],\n",
    "    [3., 4.],\n",
    "    [5., 6.]]\n",
    "b = [-0.1483, -0.5602,  0.4494]\n",
    "print(w)\n",
    "print(type(w)) # <class 'list'>\n",
    "w = np.asarray(w)\n",
    "print(w)\n",
    "print(type(w)) # <class 'numpy.ndarray'>"
   ]
  },
  {
   "cell_type": "code",
   "execution_count": 3,
   "metadata": {},
   "outputs": [
    {
     "name": "stdout",
     "output_type": "stream",
     "text": [
      "[1 2 3 4 5 6]\n",
      "<class 'numpy.ndarray'>\n",
      "<class 'numpy.ndarray'>\n",
      "[5 6]\n"
     ]
    }
   ],
   "source": [
    "'''array 批量赋值\n",
    "在java或者c++中，都是取数组某个下标的值，而在numpy中可以批量取值\n",
    "'''\n",
    "import numpy as np\n",
    "a = np.array([1,2,3,4,5,6])\n",
    "print(a)\n",
    "print(type(a))\n",
    "b = np.array([4,5])\n",
    "res = a[b]\n",
    "print(type(res)) # 取出数组a中下标为4,5的值。结果是个ndarray \n",
    "print(res) "
   ]
  }
 ],
 "metadata": {
  "kernelspec": {
   "display_name": "Python 3",
   "language": "python",
   "name": "python3"
  },
  "language_info": {
   "codemirror_mode": {
    "name": "ipython",
    "version": 3
   },
   "file_extension": ".py",
   "mimetype": "text/x-python",
   "name": "python",
   "nbconvert_exporter": "python",
   "pygments_lexer": "ipython3",
   "version": "3.8.3"
  }
 },
 "nbformat": 4,
 "nbformat_minor": 4
}
