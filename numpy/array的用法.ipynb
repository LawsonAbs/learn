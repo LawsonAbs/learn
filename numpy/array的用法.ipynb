{
 "cells": [
  {
   "cell_type": "code",
   "execution_count": 1,
   "metadata": {},
   "outputs": [
    {
     "name": "stdout",
     "output_type": "stream",
     "text": [
      "[6 6 8 5 5]\n",
      "[6 6 8 5 5]\n",
      "[6 6 8 5 5]\n",
      "[ 6 11  8  5  5]\n"
     ]
    }
   ],
   "source": [
    "'''array()方法的使用\n",
    "1.create a array\n",
    "2.可以使用random.randint(a,b,c) 生成一个具有c个数、区间在[a,b)中的数\n",
    "'''\n",
    "import numpy as np\n",
    "y = np.random.randint(1,10,5)  #搞一个5个在区间[1,10) 内的数\n",
    "# print(type(y)) <class 'numpy.ndarray'>\n",
    "print(y)\n",
    "s = np.array(y)  # 会重新开辟一块内存，而不是公用同一个地址\n",
    "print(s)\n",
    "s[1] = 11 #修改数据内容\n",
    "\n",
    "# 可以看到下面两个的输出是不同的\n",
    "print(y)\n",
    "print(s) "
   ]
  },
  {
   "cell_type": "code",
   "execution_count": 2,
   "metadata": {},
   "outputs": [
    {
     "name": "stdout",
     "output_type": "stream",
     "text": [
      "[1 2 3]\n"
     ]
    }
   ],
   "source": [
    "import numpy as np\n",
    "a = np.array([1,2,3])\n",
    "print(a)"
   ]
  }
 ],
 "metadata": {
  "kernelspec": {
   "display_name": "Python 3",
   "language": "python",
   "name": "python3"
  },
  "language_info": {
   "codemirror_mode": {
    "name": "ipython",
    "version": 3
   },
   "file_extension": ".py",
   "mimetype": "text/x-python",
   "name": "python",
   "nbconvert_exporter": "python",
   "pygments_lexer": "ipython3",
   "version": "3.7.6"
  }
 },
 "nbformat": 4,
 "nbformat_minor": 4
}
