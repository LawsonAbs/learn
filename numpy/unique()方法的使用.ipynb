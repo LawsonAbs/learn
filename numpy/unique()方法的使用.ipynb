{
 "cells": [
  {
   "cell_type": "code",
   "execution_count": 7,
   "metadata": {},
   "outputs": [
    {
     "name": "stdout",
     "output_type": "stream",
     "text": [
      "[3 9 5 9 2]\n",
      "[2 3 5 9]\n",
      "<class 'numpy.ndarray'>\n"
     ]
    }
   ],
   "source": [
    "'''unique()方法的使用\n",
    "'''\n",
    "import numpy as np\n",
    "arr = np.random.randint(1,10,5)\n",
    "print(arr)\n",
    "\n",
    "res = np.unique(arr)  # 默认情况下，会从小到大的对arr 数组进行排序，并去掉重复，返回一个数组\n",
    "print(res)\n",
    "print(type(res)) # <class 'numpy.ndarray'>"
   ]
  }
 ],
 "metadata": {
  "kernelspec": {
   "display_name": "Python 3",
   "language": "python",
   "name": "python3"
  },
  "language_info": {
   "codemirror_mode": {
    "name": "ipython",
    "version": 3
   },
   "file_extension": ".py",
   "mimetype": "text/x-python",
   "name": "python",
   "nbconvert_exporter": "python",
   "pygments_lexer": "ipython3",
   "version": "3.7.6"
  }
 },
 "nbformat": 4,
 "nbformat_minor": 4
}
