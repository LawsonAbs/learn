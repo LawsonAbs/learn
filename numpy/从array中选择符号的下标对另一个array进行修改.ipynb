{
 "cells": [
  {
   "cell_type": "code",
   "execution_count": null,
   "metadata": {},
   "outputs": [],
   "source": [
    "'''\n",
    "说明：有两个array，分别是word_id, 表示的是一串tokenizer 之后的序列；pos_id 与word_id 等长，pos_id[i] 表示的是第i个token属于第 pos_id[i] 个实体。\n",
    "要求：从word_id中找出实体id为j的实体，并将其token id改成 103\n",
    "\n",
    "思路：\n",
    "（1）可以先使用numpy 中的where函数找出下标，然后针对每个下标进行赋值。\n",
    "但是更简洁的做法是如下：\n",
    "（2）不用where函数，直接使用[]的方式对相关下标进行修改\n",
    "'''\n",
    "word_id = np.array([ 101, 7638, 7207, 5624, 1006, 2257, 2538, 1010, 6940, 1516])\n",
    "pos_id = np.array([0,1,0,0,2,2,2,0,3,0])\n",
    "for i in zip(word_id,pos_id):\n",
    "    print(i)\n",
    "word_id[pos_id==2] = 103\n",
    "print(word_id)"
   ]
  }
 ],
 "metadata": {
  "kernelspec": {
   "display_name": "Python 3",
   "language": "python",
   "name": "python3"
  },
  "language_info": {
   "codemirror_mode": {
    "name": "ipython",
    "version": 3
   },
   "file_extension": ".py",
   "mimetype": "text/x-python",
   "name": "python",
   "nbconvert_exporter": "python",
   "pygments_lexer": "ipython3",
   "version": "3.8.3"
  }
 },
 "nbformat": 4,
 "nbformat_minor": 4
}
