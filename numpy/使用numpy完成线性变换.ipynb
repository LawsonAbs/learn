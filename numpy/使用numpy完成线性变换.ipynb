{
 "cells": [
  {
   "cell_type": "code",
   "execution_count": 1,
   "metadata": {},
   "outputs": [
    {
     "name": "stdout",
     "output_type": "stream",
     "text": [
      "[[-0.9942 -1.7123  0.3318]\n",
      " [-1.8128 -3.0723 -0.4448]\n",
      " [-2.6314 -4.4323 -1.2214]]\n"
     ]
    }
   ],
   "source": [
    "\"\"\"使用numpy完成线性变换\n",
    "\"\"\"\n",
    "import numpy as np\n",
    "\n",
    "w = [[0.0273, -0.4366],\n",
    "     [-0.2079, -0.4721],\n",
    "     [-0.6590,  0.2707]]\n",
    "x = [[1., 2.],\n",
    "    [3., 4.],\n",
    "    [5., 6.]]\n",
    "b = [-0.1483, -0.5602,  0.4494]\n",
    "\n",
    "# 转为numpy 中的数组\n",
    "w = np.asarray(w)\n",
    "x = np.asarray(x)\n",
    "b = np.asarray(b)\n",
    "\n",
    "# 对w转置，然后计算x*w\n",
    "w = np.transpose(w)\n",
    "res = np.dot(x,w)+b\n",
    "print(res)"
   ]
  }
 ],
 "metadata": {
  "kernelspec": {
   "display_name": "Python 3",
   "language": "python",
   "name": "python3"
  },
  "language_info": {
   "codemirror_mode": {
    "name": "ipython",
    "version": 3
   },
   "file_extension": ".py",
   "mimetype": "text/x-python",
   "name": "python",
   "nbconvert_exporter": "python",
   "pygments_lexer": "ipython3",
   "version": "3.7.6"
  }
 },
 "nbformat": 4,
 "nbformat_minor": 4
}
