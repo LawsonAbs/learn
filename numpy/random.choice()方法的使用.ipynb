{
 "cells": [
  {
   "cell_type": "code",
   "execution_count": 12,
   "metadata": {
    "scrolled": true
   },
   "outputs": [
    {
     "data": {
      "text/plain": [
       "array([[4, 0, 2, 2],\n",
       "       [4, 3, 2, 0],\n",
       "       [4, 1, 4, 2]])"
      ]
     },
     "execution_count": 12,
     "metadata": {},
     "output_type": "execute_result"
    }
   ],
   "source": [
    "'''random.choice()方法的使用\n",
    "generates a random sample from a given 1-D array\n",
    "a：一个数组或者是一个整数。如果是一个数组，那么将会从其每项中随机选择；如果是一个整数，那么就等同于np.arange(a)，\n",
    "也就是从[0,a)这样的选择\n",
    "size:生成的数组的size\n",
    "replace:【网友说：是否出现相同的数据，但是我不觉得是这样】\n",
    "p:对于a中每项被选取的概率，如果没有指定，那么就按照均匀分布得到\n",
    "'''\n",
    "import numpy as np\n",
    "\n",
    "np.random.choice(5,(3,4)) # = np.random.randint(0,5,3)"
   ]
  }
 ],
 "metadata": {
  "kernelspec": {
   "display_name": "Python 3",
   "language": "python",
   "name": "python3"
  },
  "language_info": {
   "codemirror_mode": {
    "name": "ipython",
    "version": 3
   },
   "file_extension": ".py",
   "mimetype": "text/x-python",
   "name": "python",
   "nbconvert_exporter": "python",
   "pygments_lexer": "ipython3",
   "version": "3.7.6"
  }
 },
 "nbformat": 4,
 "nbformat_minor": 4
}
