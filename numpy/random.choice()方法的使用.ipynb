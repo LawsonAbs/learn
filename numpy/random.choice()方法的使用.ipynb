{
 "cells": [
  {
   "cell_type": "code",
   "execution_count": 36,
   "metadata": {
    "scrolled": true
   },
   "outputs": [
    {
     "data": {
      "text/plain": [
       "array([1, 3, 1])"
      ]
     },
     "execution_count": 36,
     "metadata": {},
     "output_type": "execute_result"
    }
   ],
   "source": [
    "'''\n",
    "需要注意：这个方法在python / numpy 中都有，所以一定要清楚是哪个库调用的\n",
    "\n",
    "random.choice()方法的使用\n",
    "generates a random sample from a given 1-D array\n",
    "a：一个数组或者是一个整数。如果是一个数组，那么将会从其每项中随机选择；如果是一个整数，那么就等同于np.arange(a)，\n",
    "也就是从[0,a)中选择出数，组成size 大小\n",
    "size:生成的数组的size\n",
    "replace:\n",
    "p:对于a中每项被选取的概率，如果没有指定，那么就按照均匀分布得到\n",
    "'''\n",
    "import numpy as np\n",
    "\n",
    "np.random.choice(5,3) # = np.random.randint(0,5,3)、"
   ]
  },
  {
   "cell_type": "code",
   "execution_count": 35,
   "metadata": {},
   "outputs": [
    {
     "name": "stdout",
     "output_type": "stream",
     "text": [
      "1\n"
     ]
    }
   ],
   "source": [
    "import numpy as np\n",
    "# 指定从数组[1,2,3]中按照概率 p=[0.7, 0.2, 0.1] 的概率获取数据\n",
    "ngram=np.random.choice([1,2,3], p=[0.7,0.2,0.1])\n",
    "print(ngram)"
   ]
  }
 ],
 "metadata": {
  "kernelspec": {
   "display_name": "Python 3 (ipykernel)",
   "language": "python",
   "name": "python3"
  },
  "language_info": {
   "codemirror_mode": {
    "name": "ipython",
    "version": 3
   },
   "file_extension": ".py",
   "mimetype": "text/x-python",
   "name": "python",
   "nbconvert_exporter": "python",
   "pygments_lexer": "ipython3",
   "version": "3.8.3"
  }
 },
 "nbformat": 4,
 "nbformat_minor": 4
}
