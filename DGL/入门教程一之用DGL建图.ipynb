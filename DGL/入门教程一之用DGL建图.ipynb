{
 "cells": [
  {
   "cell_type": "code",
   "execution_count": 22,
   "metadata": {
    "scrolled": true
   },
   "outputs": [
    {
     "name": "stdout",
     "output_type": "stream",
     "text": [
      "<bound method DGLHeteroGraph.num_nodes of Graph(num_nodes=9, num_edges=5,\n",
      "      ndata_schemes={}\n",
      "      edata_schemes={})>\n"
     ]
    }
   ],
   "source": [
    "import dgl\n",
    "import numpy as np\n",
    "import torch\n",
    "g = dgl.graph(([0,0,0,0,0],[1,2,3,8,5])) # 节点编号从0开始，有一个连续的IDs\n",
    "print(g.num_nodes)\n",
    "# 同时也可以使用 tensor 创建\n",
    "g = dgl.graph((torch.LongTensor([0, 0, 0, 0, 0]), torch.LongTensor([1, 2, 3, 4, 5])), num_nodes=6)\n",
    "# You can omit the number of nodes argument if you can tell the number of nodes from the edge list alone.\n",
    "g = dgl.graph(([0,0,0,0,0],[1,2,3,4,5]))"
   ]
  },
  {
   "cell_type": "code",
   "execution_count": 2,
   "metadata": {},
   "outputs": [
    {
     "name": "stdout",
     "output_type": "stream",
     "text": [
      "(tensor([0, 0, 0, 0, 0]), tensor([1, 2, 3, 4, 5]))\n"
     ]
    }
   ],
   "source": [
    "print(g.edges()) # 打印每条边的soure-> destination"
   ]
  },
  {
   "cell_type": "code",
   "execution_count": 5,
   "metadata": {},
   "outputs": [
    {
     "name": "stdout",
     "output_type": "stream",
     "text": [
      "tensor([[-0.5911, -1.7257, -0.5022,  0.5863],\n",
      "        [ 0.6506,  0.1395,  1.0774,  0.9096],\n",
      "        [ 0.1286, -0.7295,  0.3439, -0.4642],\n",
      "        [ 1.3774,  0.6317,  0.8646, -1.5272],\n",
      "        [ 1.6894, -0.7882,  0.9734,  0.1712]])\n"
     ]
    }
   ],
   "source": [
    "# 这里的x ， a 都是怎么命名的？\n",
    "g.ndata['x'] = torch.randn(6,3) # size = (6,3) 的tensor。 相当于给每个node都赋值大小为 (3) 的tensor\n",
    "g.ndata['y'] = torch.randn(6,5,4) # size = (6,5,4) 的tensor。相当于给每个node都赋值 (5,4) 的tensor\n",
    "g.edata['a'] = torch.randn(5,4)\n",
    "print(g.edata['a'])"
   ]
  },
  {
   "cell_type": "code",
   "execution_count": 10,
   "metadata": {},
   "outputs": [
    {
     "name": "stdout",
     "output_type": "stream",
     "text": [
      "6\n",
      "5\n",
      "5\n",
      "0\n"
     ]
    }
   ],
   "source": [
    "# 访问图结构\n",
    "print(g.num_nodes())\n",
    "print(g.num_edges())\n",
    "print(g.out_degrees(0))\n",
    "print(g.in_degrees(0))"
   ]
  },
  {
   "cell_type": "code",
   "execution_count": null,
   "metadata": {},
   "outputs": [],
   "source": [
    "# 产生子图\n",
    "sg1 = g.subgraph([0,1,3])# 根据节点0,1,3 产生子图\n",
    "sg2 = g.edge_subgraph([0,1,3]) # 根据边 0,1,3 产生子图\n"
   ]
  },
  {
   "cell_type": "code",
   "execution_count": 13,
   "metadata": {},
   "outputs": [],
   "source": [
    "# 保存图\n",
    "dgl.save_graphs??\n",
    "dgl.save_graphs(filename='graph.dgl',g_list = g) # 将图保存"
   ]
  },
  {
   "cell_type": "code",
   "execution_count": 17,
   "metadata": {},
   "outputs": [
    {
     "name": "stdout",
     "output_type": "stream",
     "text": [
      "[Graph(num_nodes=6, num_edges=5,\n",
      "      ndata_schemes={'y': Scheme(shape=(5, 4), dtype=torch.float32), 'x': Scheme(shape=(3,), dtype=torch.float32)}\n",
      "      edata_schemes={'a': Scheme(shape=(4,), dtype=torch.float32)})]\n"
     ]
    }
   ],
   "source": [
    "dgl.load_graphs??\n",
    "a,labels = dgl.load_graphs('graph.dgl') \n",
    "print(a)"
   ]
  }
 ],
 "metadata": {
  "kernelspec": {
   "display_name": "Python 3 (ipykernel)",
   "language": "python",
   "name": "python3"
  },
  "language_info": {
   "codemirror_mode": {
    "name": "ipython",
    "version": 3
   },
   "file_extension": ".py",
   "mimetype": "text/x-python",
   "name": "python",
   "nbconvert_exporter": "python",
   "pygments_lexer": "ipython3",
   "version": "3.8.3"
  }
 },
 "nbformat": 4,
 "nbformat_minor": 4
}
