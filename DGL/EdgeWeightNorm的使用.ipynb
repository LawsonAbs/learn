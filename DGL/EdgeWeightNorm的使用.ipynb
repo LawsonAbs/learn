{
 "cells": [
  {
   "cell_type": "code",
   "execution_count": 5,
   "metadata": {},
   "outputs": [
    {
     "name": "stdout",
     "output_type": "stream",
     "text": [
      "tensor([0.3333, 0.3750, 0.2667, 0.4118, 0.4737, 0.0667, 0.5263, 0.6667, 0.6250,\n",
      "        0.6667, 0.5882, 0.0000])\n",
      "tensor([[1.2326, 1.8048],\n",
      "        [1.2326, 1.8048],\n",
      "        [1.2326, 1.8048],\n",
      "        [1.2326, 1.8048],\n",
      "        [1.2326, 1.8048],\n",
      "        [0.0000, 0.0000]], grad_fn=<AddBackward0>)\n"
     ]
    }
   ],
   "source": [
    "import dgl\n",
    "import numpy as np\n",
    "import torch as th\n",
    "from dgl.nn import EdgeWeightNorm, GraphConv\n",
    "g = dgl.graph(([0,1,2,3,2,5], [1,2,3,4,0,3]))\n",
    "g = dgl.add_self_loop(g)\n",
    "feat = th.ones(6, 10)\n",
    "edge_weight = th.tensor([0.5, 0.6, 0.4, 0.7, 0.9, 0.1, 1, 1, 1, 1, 1, 0])\n",
    "norm = EdgeWeightNorm(norm='right',eps=1e-30) # 加eps 是为了防止计算出nan\n",
    "norm_edge_weight = norm(g, edge_weight)\n",
    "print(norm_edge_weight)\n",
    "conv = GraphConv(10, 2, norm='none', weight=True, bias=True)\n",
    "res = conv(g, feat, edge_weight=norm_edge_weight)\n",
    "print(res)"
   ]
  }
 ],
 "metadata": {
  "kernelspec": {
   "display_name": "Python 3",
   "language": "python",
   "name": "python3"
  },
  "language_info": {
   "codemirror_mode": {
    "name": "ipython",
    "version": 3
   },
   "file_extension": ".py",
   "mimetype": "text/x-python",
   "name": "python",
   "nbconvert_exporter": "python",
   "pygments_lexer": "ipython3",
   "version": "3.8.3"
  }
 },
 "nbformat": 4,
 "nbformat_minor": 4
}
