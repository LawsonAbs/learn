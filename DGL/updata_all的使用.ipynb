{
 "cells": [
  {
   "cell_type": "code",
   "execution_count": 2,
   "metadata": {},
   "outputs": [
    {
     "data": {
      "text/plain": [
       "tensor([[0.],\n",
       "        [1.],\n",
       "        [4.]])"
      ]
     },
     "execution_count": 2,
     "metadata": {},
     "output_type": "execute_result"
    }
   ],
   "source": [
    "'''\n",
    "update_all\n",
    "沿着指定类型的边发送消息，同时更新对应节点的表示\n",
    "'''\n",
    "import dgl\n",
    "import dgl.function as fn\n",
    "import torch \n",
    "g = dgl.heterograph({('user', 'follows', 'user'): ([0, 1, 2], [1, 2, 2])})\n",
    "g.nodes['user'].data['h'] = torch.tensor([[0.], [1.], [4.]])\n",
    "# fn.copy_src  使用源节点特征计算消息\n",
    "# g['follows'].update_all(fn.copy_src('h', 'm'), fn.sum('m', 'h'), etype='follows')\n",
    "\n",
    "g.nodes['user'].data['h']"
   ]
  }
 ],
 "metadata": {
  "kernelspec": {
   "display_name": "Python 3 (ipykernel)",
   "language": "python",
   "name": "python3"
  },
  "language_info": {
   "codemirror_mode": {
    "name": "ipython",
    "version": 3
   },
   "file_extension": ".py",
   "mimetype": "text/x-python",
   "name": "python",
   "nbconvert_exporter": "python",
   "pygments_lexer": "ipython3",
   "version": "3.8.3"
  }
 },
 "nbformat": 4,
 "nbformat_minor": 4
}
