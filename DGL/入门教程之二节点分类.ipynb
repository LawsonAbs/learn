{
 "cells": [
  {
   "cell_type": "code",
   "execution_count": 1,
   "metadata": {},
   "outputs": [
    {
     "name": "stderr",
     "output_type": "stream",
     "text": [
      "Using backend: pytorch[15:31:30] /opt/dgl/src/runtime/tensordispatch.cc:43: TensorDispatcher: dlopen failed: libtorch_cuda_cu.so: cannot open shared object file: No such file or directory\n",
      "\n"
     ]
    }
   ],
   "source": [
    "import dgl\n",
    "import torch\n",
    "import torch.nn as nn\n",
    "import torch.nn.functional as F"
   ]
  },
  {
   "cell_type": "code",
   "execution_count": 2,
   "metadata": {},
   "outputs": [
    {
     "name": "stdout",
     "output_type": "stream",
     "text": [
      "  NumNodes: 2708\n",
      "  NumEdges: 10556\n",
      "  NumFeats: 1433\n",
      "  NumClasses: 7\n",
      "  NumTrainingSamples: 140\n",
      "  NumValidationSamples: 500\n",
      "  NumTestSamples: 1000\n",
      "Done loading data from cached files.\n"
     ]
    }
   ],
   "source": [
    "import dgl.data\n",
    "# 一个DGL Dataset可能包含一个或多个graph。 但是这里的Cora dataset 只包含一个graph\n",
    "dataset = dgl.data.CoraGraphDataset()\n",
    "# print('Number of categories:', dataset.num_classes)"
   ]
  },
  {
   "cell_type": "code",
   "execution_count": 11,
   "metadata": {},
   "outputs": [
    {
     "name": "stdout",
     "output_type": "stream",
     "text": [
      "Number of categories: 7\n"
     ]
    }
   ],
   "source": [
    "print('Number of categories:', dataset.num_classes)"
   ]
  },
  {
   "cell_type": "code",
   "execution_count": 12,
   "metadata": {},
   "outputs": [
    {
     "data": {
      "text/plain": [
       "{'_reverse_edge': True,\n",
       " '_name': 'cora_v2',\n",
       " '_url': 'https://data.dgl.ai/dataset/cora_v2.zip',\n",
       " '_force_reload': False,\n",
       " '_verbose': True,\n",
       " '_hash_key': (),\n",
       " '_hash': 'f9065fa7',\n",
       " '_raw_dir': '/home/lawson/.dgl',\n",
       " '_save_dir': '/home/lawson/.dgl',\n",
       " '_g': Graph(num_nodes=2708, num_edges=10556,\n",
       "       ndata_schemes={'feat': Scheme(shape=(1433,), dtype=torch.float32), 'label': Scheme(shape=(), dtype=torch.int64), 'test_mask': Scheme(shape=(), dtype=torch.bool), 'train_mask': Scheme(shape=(), dtype=torch.bool), 'val_mask': Scheme(shape=(), dtype=torch.bool)}\n",
       "       edata_schemes={}),\n",
       " '_graph': <networkx.classes.digraph.DiGraph at 0x7fdfa35df1c0>,\n",
       " '_num_classes': 7}"
      ]
     },
     "execution_count": 12,
     "metadata": {},
     "output_type": "execute_result"
    }
   ],
   "source": [
    "# 查看dataset的属性有哪些\n",
    "dataset.__dict__"
   ]
  },
  {
   "cell_type": "code",
   "execution_count": 3,
   "metadata": {},
   "outputs": [
    {
     "name": "stdout",
     "output_type": "stream",
     "text": [
      "Graph(num_nodes=2708, num_edges=10556,\n",
      "      ndata_schemes={'feat': Scheme(shape=(1433,), dtype=torch.float32), 'label': Scheme(shape=(), dtype=torch.int64), 'test_mask': Scheme(shape=(), dtype=torch.bool), 'train_mask': Scheme(shape=(), dtype=torch.bool), 'val_mask': Scheme(shape=(), dtype=torch.bool)}\n",
      "      edata_schemes={})\n"
     ]
    }
   ],
   "source": [
    "g=dataset._g # 拿到这个数据集对应的图\n",
    "print(g)"
   ]
  },
  {
   "cell_type": "code",
   "execution_count": 9,
   "metadata": {},
   "outputs": [
    {
     "name": "stdout",
     "output_type": "stream",
     "text": [
      "['_N']\n",
      "['_E']\n"
     ]
    }
   ],
   "source": [
    "# 打印图的节点和边的类型\n",
    "print(g.ntypes)\n",
    "print(g.etypes)"
   ]
  },
  {
   "cell_type": "code",
   "execution_count": 14,
   "metadata": {},
   "outputs": [
    {
     "name": "stdout",
     "output_type": "stream",
     "text": [
      "{'feat': tensor([[0.0000, 0.0000, 0.0000,  ..., 0.0000, 0.0000, 0.0000],\n",
      "        [0.0000, 0.0000, 0.0000,  ..., 0.0000, 0.0000, 0.0000],\n",
      "        [0.0000, 0.0000, 0.0000,  ..., 0.0000, 0.0000, 0.0000],\n",
      "        ...,\n",
      "        [0.0000, 0.0000, 0.0000,  ..., 0.0000, 0.0000, 0.0000],\n",
      "        [0.0000, 0.0000, 0.0000,  ..., 0.0000, 0.0000, 0.0000],\n",
      "        [0.0000, 0.0000, 0.0000,  ..., 0.0000, 0.0526, 0.0000]]), 'label': tensor([4, 4, 4,  ..., 4, 3, 3]), 'test_mask': tensor([ True,  True, False,  ..., False, False, False]), 'train_mask': tensor([False, False, False,  ..., False, False, False]), 'val_mask': tensor([False, False,  True,  ..., False, False, False])}\n",
      "----\n",
      "{}\n"
     ]
    }
   ],
   "source": [
    "\"\"\"\n",
    "根据输出可以看到ndata 是个什么样数据。\n",
    "(1)dict\n",
    "(2)feat即feature, label， test_mask, train_mask,val_mask 等都是什么？\n",
    "\"\"\"\n",
    "print(g.ndata) # 打印节点特征\n",
    "print(\"----\")\n",
    "print(g.edata) # 打印边特征"
   ]
  },
  {
   "cell_type": "code",
   "execution_count": 17,
   "metadata": {},
   "outputs": [
    {
     "name": "stdout",
     "output_type": "stream",
     "text": [
      "<class 'dgl.view.HeteroNodeDataView'>\n",
      "torch.Size([2708])\n"
     ]
    }
   ],
   "source": [
    "# 查看一下ndata 的属性\n",
    "print(type(g.ndata)) \n",
    "label = g.ndata['label']\n",
    "print(label.size()) # 这就意味着有2708篇文档的分类结果"
   ]
  },
  {
   "cell_type": "code",
   "execution_count": null,
   "metadata": {},
   "outputs": [],
   "source": [
    "'''\n",
    "如果g是一个单节点类型的图，...\n",
    "如果g是一个多节点类型的图，g.ndata[feat] 返回的是一个dict，dict中的格式是{str:tensor}。映射节点类型到节点特征中。 \n",
    "'''"
   ]
  },
  {
   "cell_type": "code",
   "execution_count": 15,
   "metadata": {},
   "outputs": [],
   "source": [
    "from dgl.nn import GraphConv # 直接从DGL中引入GCN\n",
    "\n",
    "\"\"\"\n",
    "如果想构建一个多层GCN，那么简单的堆叠 dlg.nn.GraphConv 模块就可以了（这个模块继承自 troch.nn.Module），像下面这么实现：\n",
    "\"\"\"\n",
    "class GCN(nn.Module):\n",
    "    # in_feats: input features\n",
    "    # h_feats : hidden features\n",
    "    # num_classes : num of class\n",
    "    def __init__(self, in_feats, h_feats, num_classes):\n",
    "        super(GCN, self).__init__()\n",
    "        self.conv1 = GraphConv(in_feats, h_feats)  # 看一下这个传入的参数代表的含义\n",
    "        self.conv2 = GraphConv(h_feats, num_classes)\n",
    "\n",
    "    def forward(self, g, in_feat):\n",
    "        h = self.conv1(g, in_feat)\n",
    "        h = F.relu(h)\n",
    "        h = self.conv2(g, h)\n",
    "        return h\n",
    "\n",
    "# Create the model with given dimensions\n",
    "model = GCN(g.ndata['feat'].shape[1], 16, dataset.num_classes)"
   ]
  },
  {
   "cell_type": "code",
   "execution_count": 18,
   "metadata": {},
   "outputs": [
    {
     "name": "stdout",
     "output_type": "stream",
     "text": [
      "tensor([[0.0000, 0.0000, 0.0000,  ..., 0.0000, 0.0000, 0.0000],\n",
      "        [0.0000, 0.0000, 0.0000,  ..., 0.0000, 0.0000, 0.0000],\n",
      "        [0.0000, 0.0000, 0.0000,  ..., 0.0000, 0.0000, 0.0000],\n",
      "        ...,\n",
      "        [0.0000, 0.0000, 0.0000,  ..., 0.0000, 0.0000, 0.0000],\n",
      "        [0.0000, 0.0000, 0.0000,  ..., 0.0000, 0.0000, 0.0000],\n",
      "        [0.0000, 0.0000, 0.0000,  ..., 0.0000, 0.0526, 0.0000]],\n",
      "       device='cuda:0')\n",
      "tensor([False, False, False,  ..., False, False, False], device='cuda:0')\n",
      "In epoch 0, loss: 1.946, val acc: 0.152 (best 0.152), test acc: 0.145 (best 0.145)\n",
      "In epoch 5, loss: 1.894, val acc: 0.622 (best 0.622), test acc: 0.617 (best 0.617)\n",
      "In epoch 10, loss: 1.814, val acc: 0.630 (best 0.630), test acc: 0.643 (best 0.643)\n",
      "In epoch 15, loss: 1.710, val acc: 0.660 (best 0.660), test acc: 0.682 (best 0.682)\n",
      "In epoch 20, loss: 1.584, val acc: 0.668 (best 0.668), test acc: 0.700 (best 0.700)\n",
      "In epoch 25, loss: 1.437, val acc: 0.674 (best 0.674), test acc: 0.706 (best 0.706)\n",
      "In epoch 30, loss: 1.276, val acc: 0.682 (best 0.682), test acc: 0.704 (best 0.706)\n",
      "In epoch 35, loss: 1.108, val acc: 0.692 (best 0.692), test acc: 0.710 (best 0.710)\n",
      "In epoch 40, loss: 0.944, val acc: 0.698 (best 0.698), test acc: 0.722 (best 0.722)\n",
      "In epoch 45, loss: 0.791, val acc: 0.712 (best 0.712), test acc: 0.733 (best 0.733)\n",
      "In epoch 50, loss: 0.655, val acc: 0.714 (best 0.720), test acc: 0.739 (best 0.735)\n",
      "In epoch 55, loss: 0.538, val acc: 0.726 (best 0.726), test acc: 0.746 (best 0.746)\n",
      "In epoch 60, loss: 0.440, val acc: 0.740 (best 0.740), test acc: 0.753 (best 0.753)\n",
      "In epoch 65, loss: 0.360, val acc: 0.746 (best 0.746), test acc: 0.756 (best 0.756)\n",
      "In epoch 70, loss: 0.296, val acc: 0.746 (best 0.748), test acc: 0.759 (best 0.757)\n",
      "In epoch 75, loss: 0.244, val acc: 0.746 (best 0.748), test acc: 0.764 (best 0.757)\n",
      "In epoch 80, loss: 0.202, val acc: 0.748 (best 0.748), test acc: 0.768 (best 0.757)\n",
      "In epoch 85, loss: 0.169, val acc: 0.748 (best 0.750), test acc: 0.772 (best 0.770)\n",
      "In epoch 90, loss: 0.142, val acc: 0.752 (best 0.752), test acc: 0.771 (best 0.769)\n",
      "In epoch 95, loss: 0.121, val acc: 0.750 (best 0.752), test acc: 0.771 (best 0.769)\n"
     ]
    }
   ],
   "source": [
    "\"\"\"\n",
    "定义一个训练函数\n",
    "\"\"\"\n",
    "def train(g, model):\n",
    "    # 定义优化器\n",
    "    optimizer = torch.optim.Adam(model.parameters(), lr=0.01)\n",
    "    best_val_acc = 0\n",
    "    best_test_acc = 0\n",
    "\n",
    "    features = g.ndata['feat']\n",
    "    print(features)\n",
    "    labels = g.ndata['label']\n",
    "    train_mask = g.ndata['train_mask']\n",
    "    print(train_mask)\n",
    "    val_mask = g.ndata['val_mask']\n",
    "    test_mask = g.ndata['test_mask']\n",
    "    for e in range(100):\n",
    "        # Forward\n",
    "        logits = model(g, features) # 输入features\n",
    "\n",
    "        # Compute prediction\n",
    "        pred = logits.argmax(1)\n",
    "\n",
    "        # Compute loss\n",
    "        # Note that you should only compute the losses of the nodes in the training set.\n",
    "        loss = F.cross_entropy(logits[train_mask], labels[train_mask])\n",
    "\n",
    "        # Compute accuracy on training/validation/test\n",
    "        train_acc = (pred[train_mask] == labels[train_mask]).float().mean()\n",
    "        val_acc = (pred[val_mask] == labels[val_mask]).float().mean()\n",
    "        test_acc = (pred[test_mask] == labels[test_mask]).float().mean()\n",
    "\n",
    "        # Save the best validation accuracy and the corresponding test accuracy.\n",
    "        if best_val_acc < val_acc:\n",
    "            best_val_acc = val_acc\n",
    "            best_test_acc = test_acc\n",
    "\n",
    "        # Backward\n",
    "        optimizer.zero_grad()\n",
    "        loss.backward()\n",
    "        optimizer.step()\n",
    "\n",
    "        if e % 5 == 0:\n",
    "            print('In epoch {}, loss: {:.3f}, val acc: {:.3f} (best {:.3f}), test acc: {:.3f} (best {:.3f})'.format(\n",
    "                e, loss, val_acc, best_val_acc, test_acc, best_test_acc))\n",
    "\n",
    "# 使用CPU进行训练\n",
    "# model = GCN(g.ndata['feat'].shape[1], 16, dataset.num_classes)\n",
    "# train(g, model)\n",
    "\n",
    "\n",
    "# 将模型放到GPU上\n",
    "g = g.to('cuda')\n",
    "model = GCN(g.ndata['feat'].shape[1], 16, dataset.num_classes).to('cuda')\n",
    "train(g, model)"
   ]
  },
  {
   "cell_type": "code",
   "execution_count": null,
   "metadata": {},
   "outputs": [],
   "source": []
  }
 ],
 "metadata": {
  "kernelspec": {
   "display_name": "Python 3",
   "language": "python",
   "name": "python3"
  },
  "language_info": {
   "codemirror_mode": {
    "name": "ipython",
    "version": 3
   },
   "file_extension": ".py",
   "mimetype": "text/x-python",
   "name": "python",
   "nbconvert_exporter": "python",
   "pygments_lexer": "ipython3",
   "version": "3.8.3"
  }
 },
 "nbformat": 4,
 "nbformat_minor": 4
}
