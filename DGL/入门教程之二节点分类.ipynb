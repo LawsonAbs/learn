{
 "cells": [
  {
   "cell_type": "code",
   "execution_count": 2,
   "metadata": {},
   "outputs": [],
   "source": [
    "import dgl\n",
    "import torch\n",
    "import torch.nn as nn\n",
    "import torch.nn.functional as F"
   ]
  },
  {
   "cell_type": "code",
   "execution_count": 3,
   "metadata": {},
   "outputs": [
    {
     "name": "stdout",
     "output_type": "stream",
     "text": [
      "  NumNodes: 2708\n",
      "  NumEdges: 10556\n",
      "  NumFeats: 1433\n",
      "  NumClasses: 7\n",
      "  NumTrainingSamples: 140\n",
      "  NumValidationSamples: 500\n",
      "  NumTestSamples: 1000\n",
      "Done loading data from cached files.\n"
     ]
    }
   ],
   "source": [
    "import dgl.data\n",
    "# 一个DGL Dataset可能包含一个或多个graph。 但是这里的Cora dataset 只包含一个graph\n",
    "dataset = dgl.data.CoraGraphDataset()\n",
    "# print('Number of categories:', dataset.num_classes)"
   ]
  },
  {
   "cell_type": "code",
   "execution_count": 5,
   "metadata": {},
   "outputs": [
    {
     "name": "stdout",
     "output_type": "stream",
     "text": [
      "Number of categories: 7\n"
     ]
    }
   ],
   "source": [
    "print('Number of categories:', dataset.num_classes)"
   ]
  },
  {
   "cell_type": "code",
   "execution_count": 8,
   "metadata": {},
   "outputs": [
    {
     "data": {
      "text/plain": [
       "{'_reverse_edge': True,\n",
       " '_name': 'cora_v2',\n",
       " '_url': 'https://data.dgl.ai/dataset/cora_v2.zip',\n",
       " '_force_reload': False,\n",
       " '_verbose': True,\n",
       " '_hash_key': (),\n",
       " '_hash': 'f9065fa7',\n",
       " '_raw_dir': '/home/lawson/.dgl',\n",
       " '_save_dir': '/home/lawson/.dgl',\n",
       " '_g': Graph(num_nodes=2708, num_edges=10556,\n",
       "       ndata_schemes={'feat': Scheme(shape=(1433,), dtype=torch.float32), 'label': Scheme(shape=(), dtype=torch.int64), 'test_mask': Scheme(shape=(), dtype=torch.bool), 'train_mask': Scheme(shape=(), dtype=torch.bool), 'val_mask': Scheme(shape=(), dtype=torch.bool)}\n",
       "       edata_schemes={}),\n",
       " '_graph': <networkx.classes.digraph.DiGraph at 0x7f214c34ec10>,\n",
       " '_num_classes': 7}"
      ]
     },
     "execution_count": 8,
     "metadata": {},
     "output_type": "execute_result"
    }
   ],
   "source": [
    "# 查看dataset的属性有哪些\n",
    "dataset.__dict__"
   ]
  },
  {
   "cell_type": "code",
   "execution_count": 14,
   "metadata": {},
   "outputs": [
    {
     "name": "stdout",
     "output_type": "stream",
     "text": [
      "Graph(num_nodes=2708, num_edges=10556,\n",
      "      ndata_schemes={'feat': Scheme(shape=(1433,), dtype=torch.float32), 'label': Scheme(shape=(), dtype=torch.int64), 'test_mask': Scheme(shape=(), dtype=torch.bool), 'train_mask': Scheme(shape=(), dtype=torch.bool), 'val_mask': Scheme(shape=(), dtype=torch.bool)}\n",
      "      edata_schemes={})\n"
     ]
    }
   ],
   "source": [
    "g=dataset._g # 拿到这个数据集对应的图\n",
    "print(g)"
   ]
  },
  {
   "cell_type": "code",
   "execution_count": 17,
   "metadata": {},
   "outputs": [
    {
     "name": "stdout",
     "output_type": "stream",
     "text": [
      "{'feat': tensor([[0.0000, 0.0000, 0.0000,  ..., 0.0000, 0.0000, 0.0000],\n",
      "        [0.0000, 0.0000, 0.0000,  ..., 0.0000, 0.0000, 0.0000],\n",
      "        [0.0000, 0.0000, 0.0000,  ..., 0.0000, 0.0000, 0.0000],\n",
      "        ...,\n",
      "        [0.0000, 0.0000, 0.0000,  ..., 0.0000, 0.0000, 0.0000],\n",
      "        [0.0000, 0.0000, 0.0000,  ..., 0.0000, 0.0000, 0.0000],\n",
      "        [0.0000, 0.0000, 0.0000,  ..., 0.0000, 0.0526, 0.0000]]), 'label': tensor([4, 4, 4,  ..., 4, 3, 3]), 'test_mask': tensor([ True,  True, False,  ..., False, False, False]), 'train_mask': tensor([False, False, False,  ..., False, False, False]), 'val_mask': tensor([False, False,  True,  ..., False, False, False])}\n",
      "----\n",
      "{}\n"
     ]
    }
   ],
   "source": [
    "\"\"\"\n",
    "根据输出可以看到ndata 是个什么样数据。\n",
    "(1)dict\n",
    "(2)feat即feature, label， test_mask, train_mask,val_mask 等都是什么？\n",
    "\"\"\"\n",
    "print(g.ndata) # 打印节点特征\n",
    "print(\"----\")\n",
    "print(g.edata) # 打印边特征"
   ]
  },
  {
   "cell_type": "code",
   "execution_count": 22,
   "metadata": {},
   "outputs": [
    {
     "name": "stdout",
     "output_type": "stream",
     "text": [
      "<class 'dgl.view.HeteroNodeDataView'>\n",
      "torch.Size([2708])\n"
     ]
    }
   ],
   "source": [
    "# 查看一下ndata 的属性\n",
    "print(type(g.ndata)) \n",
    "label = g.ndata['label']\n",
    "print(label.size()) # 这就意味着有2708篇文档的分类结果"
   ]
  },
  {
   "cell_type": "code",
   "execution_count": null,
   "metadata": {},
   "outputs": [],
   "source": [
    "'''\n",
    "如果g是一个单节点类型的图，...\n",
    "如果g是一个多节点类型的图，g.ndata[feat] 返回的是一个dict，dict中的格式是{str:tensor}。映射节点类型到节点特征中。 \n",
    "'''"
   ]
  },
  {
   "cell_type": "code",
   "execution_count": 23,
   "metadata": {},
   "outputs": [],
   "source": [
    "from dgl.nn import GraphConv # 直接从DGL中引入GCN\n",
    "\n",
    "\"\"\"\n",
    "如果想构建一个多层GCN，那么简单的堆叠 dlg.nn.GraphConv 模块就可以了（这个模块继承自 troch.nn.Module），像下面这么实现：\n",
    "\"\"\"\n",
    "class GCN(nn.Module):\n",
    "    # in_feats: input features\n",
    "    # h_feats : hidden features\n",
    "    # num_classes : num of class\n",
    "    def __init__(self, in_feats, h_feats, num_classes):\n",
    "        super(GCN, self).__init__()\n",
    "        self.conv1 = GraphConv(in_feats, h_feats)  # 看一下这个传入的参数代表的含义\n",
    "        self.conv2 = GraphConv(h_feats, num_classes)\n",
    "\n",
    "    def forward(self, g, in_feat):\n",
    "        h = self.conv1(g, in_feat)\n",
    "        h = F.relu(h)\n",
    "        h = self.conv2(g, h)\n",
    "        return h\n",
    "\n",
    "# Create the model with given dimensions\n",
    "model = GCN(g.ndata['feat'].shape[1], 16, dataset.num_classes)"
   ]
  },
  {
   "cell_type": "code",
   "execution_count": 20,
   "metadata": {},
   "outputs": [
    {
     "name": "stdout",
     "output_type": "stream",
     "text": [
      "tensor([[0.0000, 0.0000, 0.0000,  ..., 0.0000, 0.0000, 0.0000],\n",
      "        [0.0000, 0.0000, 0.0000,  ..., 0.0000, 0.0000, 0.0000],\n",
      "        [0.0000, 0.0000, 0.0000,  ..., 0.0000, 0.0000, 0.0000],\n",
      "        ...,\n",
      "        [0.0000, 0.0000, 0.0000,  ..., 0.0000, 0.0000, 0.0000],\n",
      "        [0.0000, 0.0000, 0.0000,  ..., 0.0000, 0.0000, 0.0000],\n",
      "        [0.0000, 0.0000, 0.0000,  ..., 0.0000, 0.0526, 0.0000]],\n",
      "       device='cuda:0')\n",
      "In epoch 0, loss: 1.946, val acc: 0.236 (best 0.236), test acc: 0.217 (best 0.217)\n",
      "In epoch 5, loss: 1.897, val acc: 0.552 (best 0.574), test acc: 0.535 (best 0.592)\n",
      "In epoch 10, loss: 1.825, val acc: 0.624 (best 0.624), test acc: 0.656 (best 0.656)\n",
      "In epoch 15, loss: 1.731, val acc: 0.662 (best 0.662), test acc: 0.684 (best 0.684)\n",
      "In epoch 20, loss: 1.610, val acc: 0.678 (best 0.678), test acc: 0.703 (best 0.703)\n",
      "In epoch 25, loss: 1.467, val acc: 0.686 (best 0.686), test acc: 0.714 (best 0.714)\n",
      "In epoch 30, loss: 1.306, val acc: 0.720 (best 0.720), test acc: 0.735 (best 0.735)\n",
      "In epoch 35, loss: 1.136, val acc: 0.738 (best 0.738), test acc: 0.758 (best 0.758)\n",
      "In epoch 40, loss: 0.966, val acc: 0.754 (best 0.754), test acc: 0.764 (best 0.764)\n",
      "In epoch 45, loss: 0.805, val acc: 0.754 (best 0.754), test acc: 0.772 (best 0.764)\n",
      "In epoch 50, loss: 0.661, val acc: 0.758 (best 0.758), test acc: 0.776 (best 0.775)\n",
      "In epoch 55, loss: 0.538, val acc: 0.758 (best 0.758), test acc: 0.779 (best 0.775)\n",
      "In epoch 60, loss: 0.436, val acc: 0.756 (best 0.758), test acc: 0.778 (best 0.775)\n",
      "In epoch 65, loss: 0.354, val acc: 0.756 (best 0.758), test acc: 0.780 (best 0.775)\n",
      "In epoch 70, loss: 0.289, val acc: 0.758 (best 0.760), test acc: 0.780 (best 0.781)\n",
      "In epoch 75, loss: 0.237, val acc: 0.768 (best 0.768), test acc: 0.783 (best 0.782)\n",
      "In epoch 80, loss: 0.196, val acc: 0.768 (best 0.768), test acc: 0.783 (best 0.782)\n",
      "In epoch 85, loss: 0.163, val acc: 0.766 (best 0.768), test acc: 0.780 (best 0.782)\n",
      "In epoch 90, loss: 0.137, val acc: 0.770 (best 0.770), test acc: 0.778 (best 0.778)\n",
      "In epoch 95, loss: 0.117, val acc: 0.772 (best 0.772), test acc: 0.775 (best 0.775)\n"
     ]
    }
   ],
   "source": [
    "\"\"\"\n",
    "定义一个训练函数\n",
    "\"\"\"\n",
    "def train(g, model):\n",
    "    # 定义优化器\n",
    "    optimizer = torch.optim.Adam(model.parameters(), lr=0.01)\n",
    "    best_val_acc = 0\n",
    "    best_test_acc = 0\n",
    "\n",
    "    features = g.ndata['feat']\n",
    "    print(features)\n",
    "    labels = g.ndata['label']\n",
    "    train_mask = g.ndata['train_mask']\n",
    "    val_mask = g.ndata['val_mask']\n",
    "    test_mask = g.ndata['test_mask']\n",
    "    for e in range(100):\n",
    "        # Forward\n",
    "        logits = model(g, features) # 输入features\n",
    "\n",
    "        # Compute prediction\n",
    "        pred = logits.argmax(1)\n",
    "\n",
    "        # Compute loss\n",
    "        # Note that you should only compute the losses of the nodes in the training set.\n",
    "        loss = F.cross_entropy(logits[train_mask], labels[train_mask])\n",
    "\n",
    "        # Compute accuracy on training/validation/test\n",
    "        train_acc = (pred[train_mask] == labels[train_mask]).float().mean()\n",
    "        val_acc = (pred[val_mask] == labels[val_mask]).float().mean()\n",
    "        test_acc = (pred[test_mask] == labels[test_mask]).float().mean()\n",
    "\n",
    "        # Save the best validation accuracy and the corresponding test accuracy.\n",
    "        if best_val_acc < val_acc:\n",
    "            best_val_acc = val_acc\n",
    "            best_test_acc = test_acc\n",
    "\n",
    "        # Backward\n",
    "        optimizer.zero_grad()\n",
    "        loss.backward()\n",
    "        optimizer.step()\n",
    "\n",
    "        if e % 5 == 0:\n",
    "            print('In epoch {}, loss: {:.3f}, val acc: {:.3f} (best {:.3f}), test acc: {:.3f} (best {:.3f})'.format(\n",
    "                e, loss, val_acc, best_val_acc, test_acc, best_test_acc))\n",
    "\n",
    "# 使用CPU进行训练\n",
    "# model = GCN(g.ndata['feat'].shape[1], 16, dataset.num_classes)\n",
    "# train(g, model)\n",
    "\n",
    "\n",
    "# 将模型放到GPU上\n",
    "g = g.to('cuda')\n",
    "model = GCN(g.ndata['feat'].shape[1], 16, dataset.num_classes).to('cuda')\n",
    "train(g, model)"
   ]
  }
 ],
 "metadata": {
  "kernelspec": {
   "display_name": "Python 3 (ipykernel)",
   "language": "python",
   "name": "python3"
  },
  "language_info": {
   "codemirror_mode": {
    "name": "ipython",
    "version": 3
   },
   "file_extension": ".py",
   "mimetype": "text/x-python",
   "name": "python",
   "nbconvert_exporter": "python",
   "pygments_lexer": "ipython3",
   "version": "3.8.3"
  }
 },
 "nbformat": 4,
 "nbformat_minor": 4
}
