{
 "cells": [
  {
   "cell_type": "code",
   "execution_count": 6,
   "metadata": {},
   "outputs": [
    {
     "name": "stdout",
     "output_type": "stream",
     "text": [
      "测试通过！\n"
     ]
    }
   ],
   "source": [
    "from enum import Enum,unique\n",
    "\n",
    "# 从Enum派生出自定义类\n",
    "class Gender(Enum):\n",
    "    Male=0\n",
    "    Female=1\n",
    "    \n",
    "\"\"\"\n",
    "01.class Student(object): 和下面这行代码的作用相同！\n",
    "但是问题是\n",
    "\"\"\"\n",
    "class Student:\n",
    "    def __init__(self,name,gender):\n",
    "        self.name = name\n",
    "        self.gender = gender\n",
    "\n",
    "# 传递参数到 __init__()\n",
    "bart = Student('Bart',Gender.Male)\n",
    "if bart.gender == Gender.Male:\n",
    "    print('测试通过！')\n",
    "else:\n",
    "    print('测试失败！')"
   ]
  }
 ],
 "metadata": {
  "kernelspec": {
   "display_name": "Python 3",
   "language": "python",
   "name": "python3"
  },
  "language_info": {
   "codemirror_mode": {
    "name": "ipython",
    "version": 3
   },
   "file_extension": ".py",
   "mimetype": "text/x-python",
   "name": "python",
   "nbconvert_exporter": "python",
   "pygments_lexer": "ipython3",
   "version": "3.7.6"
  }
 },
 "nbformat": 4,
 "nbformat_minor": 4
}
