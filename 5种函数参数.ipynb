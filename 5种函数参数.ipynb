{
 "cells": [
  {
   "cell_type": "code",
   "execution_count": 16,
   "metadata": {},
   "outputs": [
    {
     "name": "stdout",
     "output_type": "stream",
     "text": [
      "14\n",
      "14\n",
      "name: lawson age: 24 other: {'city': 'shanghai', 'job': 'data scientist'}\n",
      "name: lawson age: 24 other: {'city': 'shanghai', 'job': 'data scientist'}\n",
      "lawson 24 shanghai student\n"
     ]
    },
    {
     "ename": "TypeError",
     "evalue": "employee() missing 1 required keyword-only argument: 'job'",
     "output_type": "error",
     "traceback": [
      "\u001b[0;31m---------------------------------------------------------------------------\u001b[0m",
      "\u001b[0;31mTypeError\u001b[0m                                 Traceback (most recent call last)",
      "\u001b[0;32m<ipython-input-16-77dfffd52b01>\u001b[0m in \u001b[0;36m<module>\u001b[0;34m\u001b[0m\n\u001b[1;32m     56\u001b[0m \u001b[0;34m\u001b[0m\u001b[0m\n\u001b[1;32m     57\u001b[0m \u001b[0memployee\u001b[0m\u001b[0;34m(\u001b[0m\u001b[0;34m'lawson'\u001b[0m\u001b[0;34m,\u001b[0m\u001b[0;36m24\u001b[0m\u001b[0;34m,\u001b[0m\u001b[0mcity\u001b[0m \u001b[0;34m=\u001b[0m \u001b[0;34m\"shanghai\"\u001b[0m\u001b[0;34m,\u001b[0m\u001b[0mjob\u001b[0m \u001b[0;34m=\u001b[0m \u001b[0;34m'student'\u001b[0m\u001b[0;34m)\u001b[0m\u001b[0;34m\u001b[0m\u001b[0;34m\u001b[0m\u001b[0m\n\u001b[0;32m---> 58\u001b[0;31m \u001b[0memployee\u001b[0m\u001b[0;34m(\u001b[0m\u001b[0;34m'lawson'\u001b[0m\u001b[0;34m,\u001b[0m\u001b[0;36m24\u001b[0m\u001b[0;34m,\u001b[0m\u001b[0mcity\u001b[0m \u001b[0;34m=\u001b[0m \u001b[0;34m\"shanghai\"\u001b[0m\u001b[0;34m)\u001b[0m\u001b[0;34m\u001b[0m\u001b[0;34m\u001b[0m\u001b[0m\n\u001b[0m\u001b[1;32m     59\u001b[0m \u001b[0;34m\u001b[0m\u001b[0m\n\u001b[1;32m     60\u001b[0m \u001b[0;34m\u001b[0m\u001b[0m\n",
      "\u001b[0;31mTypeError\u001b[0m: employee() missing 1 required keyword-only argument: 'job'"
     ]
    }
   ],
   "source": [
    "\"\"\"1.位置参数\"\"\"\n",
    "def power(x):\n",
    "    return x * x\n",
    "# 这里的x 就是一个位置参数\n",
    "power(5) # 25\n",
    "\n",
    "\n",
    "\"\"\"2.默任参数\"\"\"\n",
    "# 如果想计算的是x的n 次方，那么可以这么做：\n",
    "def power(x,n=2):\n",
    "    s = 1\n",
    "    while n > 0:\n",
    "        n-=1\n",
    "        s*=x\n",
    "    return s\n",
    "\n",
    "\n",
    "\"\"\"3.可变参数\"\"\"\n",
    "#在函数内部，参数 *numbers 接收到的是一个tuple【自动组装成一个tuple】。甚至是一个包含0个参数的tuple \n",
    "def calc(*numbers):\n",
    "    sum = 0\n",
    "    for n in numbers:\n",
    "        sum += (n*n)\n",
    "    return sum\n",
    "\n",
    "print(calc(1,2,3)) # 14\n",
    "\n",
    "# 但是如果参数是list 或者是 tuple，那么怎么传递到calc()中？\n",
    "# 可以使用 *tuple 或者 是 *list 的方法来调用calc()方法，举例如下：\n",
    "\n",
    "vec = [1,2,3]\n",
    "print(calc(1,2,3)) # 14\n",
    "\n",
    "\n",
    "\"\"\"4.关键字参数\"\"\"\n",
    "# 关键字参数 允许你传入0个或者任意个 含参数名的参数【key-value这种形式的参数，见后案例】，这些关键字参数在函数内部自动组装成一个dict\n",
    "\n",
    "def person(name,age,**kw):\n",
    "    print('name:',name,'age:',age,'other:',kw)\n",
    "    \n",
    "person('lawson','24',city='shanghai',job='data scientist') \n",
    "\n",
    "# 同可变参数，这里也可以使用 **kw 的形式来简化参数的传入。修改如下：\n",
    "dict={'city':'shanghai','job':'data scientist'} #注意这里的key 也需要使用''来盖住\n",
    "person('lawson',24,**dict)\n",
    "\n",
    "\n",
    "\n",
    "\"\"\"5.命名关键字参数\"\"\"\n",
    "#限制关键字参数的名字，就可以用命名关键字参数\n",
    "# 命名关键字参数需要一个特殊分割符*， * 后面的参数被视为命名关键字参数\n",
    "# 命名关键字参数必须传入参数名，否则会报错\n",
    "# 使用命名关键字参数时，要特别注意，如果没有可变参数，就必须加一个*作为特殊分隔符。如果缺少*，Python解释器将无法识别位置参数和命名关键字参数\n",
    "def employee(name,age,*,city,job):\n",
    "    print(name,age,city,job)\n",
    "\n",
    "employee('lawson',24,city = \"shanghai\",job = 'student')\n",
    "\n",
    "\n",
    "\"\"\"6.练习\"\"\"\n",
    "def f1(a, b, c=0, *args, **kw):\n",
    "    print('a =', a, 'b =', b, 'c =', c, 'args =', args, 'kw =', kw)\n",
    "\n",
    "def f2(a, b, c=0, *, d, **kw):\n",
    "    print('a =', a, 'b =', b, 'c =', c, 'd =', d, 'kw =', kw)\n",
    "    \n"
   ]
  },
  {
   "cell_type": "code",
   "execution_count": 15,
   "metadata": {},
   "outputs": [
    {
     "name": "stdout",
     "output_type": "stream",
     "text": [
      "a = 1 b = 2 c = 0 args = () kw = {}\n"
     ]
    }
   ],
   "source": [
    "f1(1,2)\n",
    "# 可以看到输出的结果中，args【可选参数】 的结果是tuple, kw【关键字参数】结果是{}"
   ]
  },
  {
   "cell_type": "code",
   "execution_count": 17,
   "metadata": {},
   "outputs": [
    {
     "ename": "TypeError",
     "evalue": "product() missing 1 required positional argument: 'y'",
     "output_type": "error",
     "traceback": [
      "\u001b[0;31m---------------------------------------------------------------------------\u001b[0m",
      "\u001b[0;31mTypeError\u001b[0m                                 Traceback (most recent call last)",
      "\u001b[0;32m<ipython-input-17-497b172b74e9>\u001b[0m in \u001b[0;36m<module>\u001b[0;34m\u001b[0m\n\u001b[1;32m      5\u001b[0m  \u001b[0;32mreturn\u001b[0m \u001b[0mres\u001b[0m\u001b[0;34m\u001b[0m\u001b[0;34m\u001b[0m\u001b[0m\n\u001b[1;32m      6\u001b[0m \u001b[0;34m\u001b[0m\u001b[0m\n\u001b[0;32m----> 7\u001b[0;31m \u001b[0mproduct\u001b[0m\u001b[0;34m(\u001b[0m\u001b[0;34m)\u001b[0m\u001b[0;34m\u001b[0m\u001b[0;34m\u001b[0m\u001b[0m\n\u001b[0m",
      "\u001b[0;31mTypeError\u001b[0m: product() missing 1 required positional argument: 'y'"
     ]
    }
   ],
   "source": [
    "def product(y,*x):\n",
    " res = y\n",
    " for xx in x:\n",
    "  res *= xx\n",
    " return res\n",
    "\n",
    "#上面这段代码定义了一个多参数的乘积"
   ]
  }
 ],
 "metadata": {
  "kernelspec": {
   "display_name": "Python 3",
   "language": "python",
   "name": "python3"
  },
  "language_info": {
   "codemirror_mode": {
    "name": "ipython",
    "version": 3
   },
   "file_extension": ".py",
   "mimetype": "text/x-python",
   "name": "python",
   "nbconvert_exporter": "python",
   "pygments_lexer": "ipython3",
   "version": "3.7.6"
  }
 },
 "nbformat": 4,
 "nbformat_minor": 4
}
