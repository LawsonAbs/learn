{
 "cells": [
  {
   "cell_type": "code",
   "execution_count": 5,
   "metadata": {},
   "outputs": [
    {
     "ename": "SyntaxError",
     "evalue": "positional argument follows keyword argument (<ipython-input-5-08d951289b43>, line 56)",
     "output_type": "error",
     "traceback": [
      "\u001b[0;36m  File \u001b[0;32m\"<ipython-input-5-08d951289b43>\"\u001b[0;36m, line \u001b[0;32m56\u001b[0m\n\u001b[0;31m    employee('lawson',24,city = \"shanghai\",'student') # SyntaxError: positional argument follows keyword argument  报的语法\u001b[0m\n\u001b[0m                                          ^\u001b[0m\n\u001b[0;31mSyntaxError\u001b[0m\u001b[0;31m:\u001b[0m positional argument follows keyword argument\n"
     ]
    }
   ],
   "source": [
    "\"\"\"1.位置参数\"\"\"\n",
    "def power(x):\n",
    "    return x * x\n",
    "# 这里的x 就是一个位置参数\n",
    "power(5) # 25\n",
    "\n",
    "\n",
    "\"\"\"2.默认参数\"\"\"\n",
    "# 如果想计算的是x的n 次方，那么可以这么做：\n",
    "def power(x,n=2):\n",
    "    s = 1\n",
    "    while n > 0:\n",
    "        n-=1\n",
    "        s*=x\n",
    "    return s\n",
    "\n",
    "\n",
    "\"\"\"3.可变参数\"\"\"\n",
    "#在函数内部，参数 *numbers 接收到的是一个tuple【自动组装成一个tuple】。甚至是一个包含0个参数的tuple \n",
    "def calc(*numbers):\n",
    "    sum = 0\n",
    "    for n in numbers:\n",
    "        sum += (n*n)\n",
    "    return sum\n",
    "\n",
    "print(calc(1,2,3)) # 14\n",
    "\n",
    "# 但是如果参数是list 或者是 tuple，那么怎么传递到calc()中？\n",
    "# 可以使用 *tuple 或者 是 *list 的方法来调用calc()方法，举例如下：\n",
    "\n",
    "vec = [1,2,3]\n",
    "print(calc(*vec)) #在list或tuple之前加一个*号，把list或tuple的元素变成可变参数传递。结果为14\n",
    "\n",
    "\n",
    "\"\"\"4.关键字参数\"\"\"\n",
    "# 关键字参数 允许你传入0个或者任意个 含参数名的参数【key-value这种形式的参数，见后案例】，这些关键字参数在函数内部自动组装成一个dict\n",
    "def person(name,age,**kw):\n",
    "    print('name:',name,'age:',age,'other:',kw)\n",
    "    \n",
    "person('lawson','24',city='shanghai',job='data scientist') \n",
    "\n",
    "# 同可变参数，这里也可以使用 **kw 的形式来简化参数的传入。修改如下：\n",
    "dict={'city':'shanghai','job':'data scientist'} #注意这里的key 也需要使用''来盖住\n",
    "person('lawson',24,**dict) # **dict的方式\n",
    "\n",
    "\n",
    "\n",
    "\"\"\"5.命名关键字参数\"\"\"\n",
    "# 限制调用函数时，必须指定关键字参数的名字，就可以用命名关键字参数\n",
    "# 命名关键字参数需要一个特殊分割符*， * 后面的参数被视为命名关键字参数\n",
    "# 命名关键字参数必须传入参数名，否则会报错\n",
    "# 使用命名关键字参数时，要特别注意，如果没有可变参数，就必须加一个*作为特殊分隔符。如果缺少*，Python解释器将无法识别位置参数和命名关键字参数\n",
    "def employee(name,age,*,city,job):\n",
    "    print(name,age,city,job)\n",
    "\n",
    "employee('lawson',24,city = \"shanghai\",'student') # SyntaxError: positional argument follows keyword argument  报的语法\n",
    "#错误是：位置参数放在了关键字参数之后，这是不对的。\n",
    "employee('lawson',24,city = \"shanghai\",job = 'student')\n",
    "\n",
    "\n",
    "\"\"\"6.练习\"\"\"\n",
    "def f1(a, b, c=0, *args, **kw):\n",
    "    print('a =', a, 'b =', b, 'c =', c, 'args =', args, 'kw =', kw)\n",
    "\n",
    "def f2(a, b, c=0, *, d, **kw):\n",
    "    print('a =', a, 'b =', b, 'c =', c, 'd =', d, 'kw =', kw)"
   ]
  },
  {
   "cell_type": "code",
   "execution_count": 15,
   "metadata": {},
   "outputs": [
    {
     "name": "stdout",
     "output_type": "stream",
     "text": [
      "a = 1 b = 2 c = 0 args = () kw = {}\n"
     ]
    }
   ],
   "source": [
    "f1(1,2)\n",
    "# 可以看到输出的结果中，args【可选参数】 的结果是tuple, kw【关键字参数】结果是{}"
   ]
  },
  {
   "cell_type": "code",
   "execution_count": 6,
   "metadata": {},
   "outputs": [],
   "source": [
    "def product(y,*x):\n",
    " res = y\n",
    " for xx in x:\n",
    "  res *= xx\n",
    " return res\n",
    "\n",
    "#上面这段代码定义了一个多参数的乘积"
   ]
  },
  {
   "cell_type": "code",
   "execution_count": 7,
   "metadata": {},
   "outputs": [
    {
     "data": {
      "text/plain": [
       "32"
      ]
     },
     "execution_count": 7,
     "metadata": {},
     "output_type": "execute_result"
    }
   ],
   "source": [
    "def power(x,n=2):\n",
    "    s = 1\n",
    "    while n > 0:\n",
    "        n-=1\n",
    "        s*=x\n",
    "    return s\n",
    "power(2,n=5)"
   ]
  }
 ],
 "metadata": {
  "kernelspec": {
   "display_name": "Python 3",
   "language": "python",
   "name": "python3"
  },
  "language_info": {
   "codemirror_mode": {
    "name": "ipython",
    "version": 3
   },
   "file_extension": ".py",
   "mimetype": "text/x-python",
   "name": "python",
   "nbconvert_exporter": "python",
   "pygments_lexer": "ipython3",
   "version": "3.7.6"
  }
 },
 "nbformat": 4,
 "nbformat_minor": 4
}
