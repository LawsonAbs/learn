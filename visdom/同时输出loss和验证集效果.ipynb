{
 "cells": [
  {
   "cell_type": "code",
   "execution_count": 4,
   "metadata": {},
   "outputs": [
    {
     "name": "stderr",
     "output_type": "stream",
     "text": [
      "Setting up a new session...\n"
     ]
    },
    {
     "data": {
      "text/plain": [
       "'text1'"
      ]
     },
     "execution_count": 4,
     "metadata": {},
     "output_type": "execute_result"
    }
   ],
   "source": [
    "import torch as t\n",
    "from visdom import Visdom\n",
    "viz = Visdom(env =\"test\") # 创建一个env = test的环境\n",
    "viz.text(\"hello world\",win ='text1') # \n",
    "viz.text(\"hello nlp\",win = 'text1') # 如果执行两次，则会更新窗口text，默认是覆盖窗口"
   ]
  },
  {
   "cell_type": "code",
   "execution_count": 36,
   "metadata": {},
   "outputs": [
    {
     "name": "stdout",
     "output_type": "stream",
     "text": [
      "tensor(0.4079)\n",
      "tensor(2.7770)\n",
      "tensor(0.5036)\n",
      "tensor(1.9171)\n",
      "tensor(0.5402)\n",
      "tensor(1.5579)\n",
      "tensor(0.5426)\n",
      "tensor(1.3267)\n",
      "tensor(0.5441)\n",
      "tensor(1.1476)\n",
      "tensor(0.5385)\n",
      "tensor(1.0039)\n",
      "tensor(0.5296)\n",
      "tensor(0.8889)\n",
      "tensor(0.5386)\n",
      "tensor(0.7974)\n",
      "tensor(0.5439)\n",
      "tensor(0.7225)\n"
     ]
    }
   ],
   "source": [
    "# 下面这个函数默认第一个参数是Y，第二个参数是X\n",
    "from time import sleep\n",
    "import torch as t\n",
    "step = [1,2,3,4,5,6,7,8,9]\n",
    "loss = [2.7770,1.9171,1.5579,1.3267,1.1476,1.0039,0.8889,0.7974,0.7225,0.6613] \n",
    "f1 = [0.4079,0.5036,0.5402,0.54258,0.5441,0.5385,0.52958,0.53859,0.5439]\n",
    "\n",
    "opts = {\n",
    "    \"title\": 'loss/macro_f1',\n",
    "    \"xlabel\":'step', # x轴的标签是什么\n",
    "    \"ylabel\":'value', # y轴的标签是什么\n",
    "    \"width\":300, # \n",
    "    \"height\":200,\n",
    "    \"legend\":['val_f1','loss'],\n",
    "    \"ytickstep\":0.1 # 设置y轴方向的刻度大小\n",
    "}\n",
    "for step,loss,val_f1 in zip(step,loss,f1):\n",
    "    val_f1 = t.tensor(val_f1)\n",
    "    loss = t.tensor(loss)\n",
    "    print(val_f1)\n",
    "    print(loss)\n",
    "    # \n",
    "    viz.line(X=[step],Y=[[val_f1],[loss]],win='loss/f1',update='append',opts=opts)\n",
    "    sleep(1)"
   ]
  },
  {
   "cell_type": "code",
   "execution_count": null,
   "metadata": {},
   "outputs": [],
   "source": []
  }
 ],
 "metadata": {
  "kernelspec": {
   "display_name": "Python 3",
   "language": "python",
   "name": "python3"
  },
  "language_info": {
   "codemirror_mode": {
    "name": "ipython",
    "version": 3
   },
   "file_extension": ".py",
   "mimetype": "text/x-python",
   "name": "python",
   "nbconvert_exporter": "python",
   "pygments_lexer": "ipython3",
   "version": "3.8.3"
  }
 },
 "nbformat": 4,
 "nbformat_minor": 4
}
