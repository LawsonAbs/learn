{
 "cells": [
  {
   "cell_type": "code",
   "execution_count": 1,
   "metadata": {},
   "outputs": [],
   "source": [
    "score = [99.47,99.37,99.37,99.15,99.15,98.94,98.94,98.94,98.94,98.94,98.94,98.94,98.94,98.94,98.94,98.94,98.94,98.84,98.84,\n",
    "     98.63,98.63,98.63,98.52,98.41,98.10,97.99,97.99,97.99,97.99,95.45]"
   ]
  },
  {
   "cell_type": "code",
   "execution_count": 2,
   "metadata": {},
   "outputs": [
    {
     "name": "stdout",
     "output_type": "stream",
     "text": [
      "99.15\n",
      "98.94\n",
      "98.63\n",
      "98.1\n",
      "97.99\n",
      "95.45\n",
      "[3, 2, 14, 5, 1, 4, 0]\n"
     ]
    }
   ],
   "source": [
    "score = [99.47,99.37,99.37,99.15,99.15,98.94,98.94,98.94,98.94,98.94,98.94,98.94,98.94,98.94,98.94,98.94,98.94,98.84,98.84,\n",
    "     98.63,98.63,98.63,98.52,98.41,98.10,97.99,97.99,97.99,97.99,95.45]\n",
    "area = [99.30,99.00,98.70,98.40,98.10,97.80,97.50] # 划分区域\n",
    "count = [0,0,0,0,0,0,0]\n",
    "index = 0\n",
    "for i in range(len(score)):\n",
    "    while(score[i] < area[index] and index <6):\n",
    "        print(score[i])\n",
    "        index+=1\n",
    "    if score[i] >= area[index]:\n",
    "        count[index] += 1\n",
    "print(count)"
   ]
  },
  {
   "cell_type": "code",
   "execution_count": 3,
   "metadata": {},
   "outputs": [
    {
     "name": "stderr",
     "output_type": "stream",
     "text": [
      "/home/lawson/anaconda3/lib/python3.8/site-packages/matplotlib/backends/backend_agg.py:214: RuntimeWarning: Glyph 20998 missing from current font.\n",
      "  font.set_text(s, 0.0, flags=flags)\n",
      "/home/lawson/anaconda3/lib/python3.8/site-packages/matplotlib/backends/backend_agg.py:214: RuntimeWarning: Glyph 25968 missing from current font.\n",
      "  font.set_text(s, 0.0, flags=flags)\n",
      "/home/lawson/anaconda3/lib/python3.8/site-packages/matplotlib/backends/backend_agg.py:214: RuntimeWarning: Glyph 24067 missing from current font.\n",
      "  font.set_text(s, 0.0, flags=flags)\n",
      "/home/lawson/anaconda3/lib/python3.8/site-packages/matplotlib/backends/backend_agg.py:183: RuntimeWarning: Glyph 20998 missing from current font.\n",
      "  font.set_text(s, 0, flags=flags)\n",
      "/home/lawson/anaconda3/lib/python3.8/site-packages/matplotlib/backends/backend_agg.py:183: RuntimeWarning: Glyph 25968 missing from current font.\n",
      "  font.set_text(s, 0, flags=flags)\n",
      "/home/lawson/anaconda3/lib/python3.8/site-packages/matplotlib/backends/backend_agg.py:183: RuntimeWarning: Glyph 24067 missing from current font.\n",
      "  font.set_text(s, 0, flags=flags)\n"
     ]
    },
    {
     "data": {
      "image/png": "[encoded data removed]",
      "text/plain": [
       "<Figure size 576x288 with 1 Axes>"
      ]
     },
     "metadata": {
      "needs_background": "light"
     },
     "output_type": "display_data"
    }
   ],
   "source": [
    "import matplotlib.pyplot as plt\n",
    "# from matplotlib.pyplot import MultipleLocator\n",
    "# x_major_locator=MultipleLocator(1)\n",
    "y_label = [\"(100,99.30]\",\"(99.30,99.00]\",\"(99.00,98.70]\",\"(98.70,98.40]\",\"(98.40,98.10]\",\"(98.10,97.80]\",\"(97.80,95]\"]\n",
    "count = [3, 2, 14, 5, 1, 4, 1]\n",
    "fig = plt.figure(figsize=(8,4))    # 设置画布大小\n",
    "\n",
    "plt.bar(y_label, count,width=0.3)\n",
    "# ax=plt.gca()\n",
    "# ax.xaxis.set_major_locator(x_major_locator)\n",
    "plt.tight_layout()\n",
    "plt.title(\"分数分布\")\n",
    "plt.show()"
   ]
  },
  {
   "cell_type": "code",
   "execution_count": 4,
   "metadata": {},
   "outputs": [
    {
     "name": "stdout",
     "output_type": "stream",
     "text": [
      "1\n"
     ]
    }
   ],
   "source": [
    "a=[1,2,3,4,5]\n",
    "mid = int(len(a)*0.3)\n",
    "for i in range(mid):\n",
    "    print(a[i])\n"
   ]
  },
  {
   "cell_type": "code",
   "execution_count": 72,
   "metadata": {},
   "outputs": [
    {
     "name": "stdout",
     "output_type": "stream",
     "text": [
      "[[3, 4], [1, 2], [2, 3], [6, 7], [5, 6], [4, 5]]\n",
      "[3, 1, 2, 6, 5, 4]\n"
     ]
    }
   ],
   "source": [
    "import numpy as np\n",
    "d = [1,2,3,4,5,6]\n",
    "c = [[1,2],[2,3],[3,4],[4,5],[5,6],[6,7]]\n",
    "random.seed(11)\n",
    "random.shuffle(c)\n",
    "random.seed(11)\n",
    "random.shuffle(d)\n",
    "print(c)\n",
    "print(d)"
   ]
  },
  {
   "cell_type": "code",
   "execution_count": 63,
   "metadata": {},
   "outputs": [
    {
     "name": "stdout",
     "output_type": "stream",
     "text": [
      "[[3 4]\n",
      " [1 2]\n",
      " [6 7]\n",
      " [2 3]\n",
      " [4 5]\n",
      " [5 6]]\n"
     ]
    }
   ],
   "source": [
    "import numpy as np\n",
    "from numpy.random import shuffle \n",
    "c = np.array([[1,2],[2,3],[3,4],[4,5],[5,6],[6,7]])\n",
    "shuffle(c)\n",
    "print(c)"
   ]
  },
  {
   "cell_type": "code",
   "execution_count": 56,
   "metadata": {},
   "outputs": [
    {
     "name": "stdout",
     "output_type": "stream",
     "text": [
      "[[1 2]\n",
      " [1 2]\n",
      " [2 3]\n",
      " [4 5]\n",
      " [1 2]\n",
      " [5 6]]\n"
     ]
    }
   ],
   "source": [
    "'''使用python 的random 的对numpy的数据进行shuffle，得到的结果是错乱的。\n",
    "'''\n",
    "import numpy as np\n",
    "import random \n",
    "c = np.array([[1,2],[2,3],[3,4],[4,5],[5,6],[6,7]])\n",
    "random.seed(10)\n",
    "random.shuffle(c)\n",
    "print(c)"
   ]
  }
 ],
 "metadata": {
  "kernelspec": {
   "display_name": "Python 3",
   "language": "python",
   "name": "python3"
  },
  "language_info": {
   "codemirror_mode": {
    "name": "ipython",
    "version": 3
   },
   "file_extension": ".py",
   "mimetype": "text/x-python",
   "name": "python",
   "nbconvert_exporter": "python",
   "pygments_lexer": "ipython3",
   "version": "3.8.3"
  }
 },
 "nbformat": 4,
 "nbformat_minor": 4
}
