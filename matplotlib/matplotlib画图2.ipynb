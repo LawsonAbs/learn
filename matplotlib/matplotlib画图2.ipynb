{
 "cells": [
  {
   "cell_type": "code",
   "execution_count": 1,
   "metadata": {},
   "outputs": [
    {
     "data": {
      "text/plain": [
       "<Figure size 640x480 with 1 Axes>"
      ]
     },
     "metadata": {},
     "output_type": "display_data"
    },
    {
     "data": {
      "text/plain": [
       "<Figure size 640x480 with 1 Axes>"
      ]
     },
     "metadata": {},
     "output_type": "display_data"
    },
    {
     "data": {
      "text/plain": [
       "<Figure size 640x480 with 1 Axes>"
      ]
     },
     "metadata": {},
     "output_type": "display_data"
    },
    {
     "data": {
      "text/plain": [
       "<Figure size 640x480 with 1 Axes>"
      ]
     },
     "metadata": {},
     "output_type": "display_data"
    },
    {
     "data": {
      "text/plain": [
       "<Figure size 640x480 with 1 Axes>"
      ]
     },
     "metadata": {},
     "output_type": "display_data"
    },
    {
     "data": {
      "text/plain": [
       "<Figure size 640x480 with 1 Axes>"
      ]
     },
     "metadata": {},
     "output_type": "display_data"
    },
    {
     "data": {
      "text/plain": [
       "<Figure size 640x480 with 1 Axes>"
      ]
     },
     "metadata": {},
     "output_type": "display_data"
    },
    {
     "data": {
      "text/plain": [
       "<Figure size 640x480 with 1 Axes>"
      ]
     },
     "metadata": {},
     "output_type": "display_data"
    },
    {
     "data": {
      "text/plain": [
       "<Figure size 640x480 with 1 Axes>"
      ]
     },
     "metadata": {},
     "output_type": "display_data"
    },
    {
     "data": {
      "text/plain": [
       "<Figure size 640x480 with 1 Axes>"
      ]
     },
     "metadata": {},
     "output_type": "display_data"
    }
   ],
   "source": [
    "\"\"\"\n",
    "1.使用plot工具在同一页面下进行连续画图\n",
    "这段代码只有在pycharm 中使用才能得到良好的显示\n",
    "\"\"\"\n",
    "import matplotlib.pyplot as plt\n",
    "import random\n",
    "import torch\n",
    "import numpy as np\n",
    "\n",
    "num = 0  # 计数\n",
    "#plt.ion()  # 开启一个画图的窗口进入交互模式，用于实时更新数据\n",
    "while num < 10:\n",
    "    plt.clf()  # 清除刷新前的图表，防止数据量过大消耗内存\n",
    "    x = np.linspace(-3, 3, 50) # 抽数\n",
    "    w = random.randint(1,8)  # 随机生成一个数，作为斜率\n",
    "    y = w * x + 1\n",
    "    # plt.figure(num=3, figsize=(8, 5))  # figsize的设置长和宽\n",
    "    plt.plot(x, y, color='red', linewidth=2.0, linestyle='dashdot')\n",
    "    plt.xlim((-1, 2))  # 设置x轴的范围\n",
    "    plt.ylim((-2, 3))  # 设置y轴的范围\n",
    "    plt.xlabel('x')  # 设置x轴的名称\n",
    "    plt.ylabel('y')  # 设置y轴额名称\n",
    "    new_ticks = np.linspace(-1, 2, 5)\n",
    "    plt.xticks(new_ticks)  # 设置x轴的范围的刻度值\n",
    "    # 设置y轴的范围的刻度值\n",
    "    plt.yticks([-2, -1, 0, 1, 2, 3]),\n",
    "               #[r'$really\\ bad$', r'$bad$', r'$normal$', r'$good$', r'$really\\ good$'])\n",
    "\n",
    "    plt.pause(0.4)  # 设置暂停时间，太快图表无法正常显示\n",
    "    num = num + 1\n",
    "\n",
    "plt.ioff()  # 关闭画图的窗口，即关闭交互模式\n",
    "plt.show()  # 显示图片，防止闪退\n"
   ]
  }
 ],
 "metadata": {
  "kernelspec": {
   "display_name": "Python 3 (ipykernel)",
   "language": "python",
   "name": "python3"
  },
  "language_info": {
   "codemirror_mode": {
    "name": "ipython",
    "version": 3
   },
   "file_extension": ".py",
   "mimetype": "text/x-python",
   "name": "python",
   "nbconvert_exporter": "python",
   "pygments_lexer": "ipython3",
   "version": "3.8.3"
  }
 },
 "nbformat": 4,
 "nbformat_minor": 4
}
