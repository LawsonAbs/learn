{
 "cells": [
  {
   "cell_type": "code",
   "execution_count": 2,
   "metadata": {},
   "outputs": [],
   "source": [
    "'''\n",
    "直方图有别于柱状图，直方图的英文名儿是：histogram （有点儿history graphic的含义）。正如这个名字，它就是统计“历史”信息的。\n",
    "这里的统计历史信息指的就是统计该某些区间内数据的条数。\n",
    "'''\n",
    "import numpy as np\n",
    "import math\n",
    "pi = math.pi\n",
    "mu, sigma = 0, math.sqrt(1/(2*pi)) # mean and standard deviation\n",
    "s = np.random.normal(mu, sigma, 1000) # 随机生成1000个数"
   ]
  },
  {
   "cell_type": "code",
   "execution_count": 9,
   "metadata": {},
   "outputs": [
    {
     "data": {
      "image/png": "[encoded data removed]",
      "text/plain": [
       "<Figure size 432x288 with 1 Axes>"
      ]
     },
     "metadata": {
      "needs_background": "light"
     },
     "output_type": "display_data"
    }
   ],
   "source": [
    "# 为上述的1000个数画出直方图\n",
    "import matplotlib.pyplot as plt\n",
    "# 这个density 参数 会影响下面这行代码的返回值。好像是是否归一化的区别\n",
    "a= plt.hist(s,bins=100,density=True)\n",
    "# print(a)\n",
    "plt.show()"
   ]
  }
 ],
 "metadata": {
  "kernelspec": {
   "display_name": "Python 3",
   "language": "python",
   "name": "python3"
  },
  "language_info": {
   "codemirror_mode": {
    "name": "ipython",
    "version": 3
   },
   "file_extension": ".py",
   "mimetype": "text/x-python",
   "name": "python",
   "nbconvert_exporter": "python",
   "pygments_lexer": "ipython3",
   "version": "3.8.3"
  }
 },
 "nbformat": 4,
 "nbformat_minor": 4
}
