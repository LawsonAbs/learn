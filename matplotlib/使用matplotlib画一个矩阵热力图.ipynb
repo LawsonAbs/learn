{
 "cells": [
  {
   "cell_type": "code",
   "execution_count": 31,
   "metadata": {},
   "outputs": [
    {
     "name": "stdout",
     "output_type": "stream",
     "text": [
      "a= tensor([[-1.1962, -0.1494],\n",
      "        [-1.0284, -0.6338],\n",
      "        [-0.1587,  0.4694],\n",
      "        [ 0.2155, -0.2637]]) \n",
      "b= tensor([[0.2598, 0.7402],\n",
      "        [0.4026, 0.5974],\n",
      "        [0.3479, 0.6521],\n",
      "        [0.6176, 0.3824]]) \n",
      "c= tensor([[0.1098, 0.1299, 0.3099, 0.4505],\n",
      "        [0.2291, 0.1411, 0.4254, 0.2044]])\n",
      "d= tensor([[0.1981, 0.1382, 0.3954, 0.2683],\n",
      "        [0.1811, 0.1366, 0.3789, 0.3035],\n",
      "        [0.1876, 0.1372, 0.3852, 0.2900],\n",
      "        [0.1554, 0.1342, 0.3540, 0.3564]])\n"
     ]
    },
    {
     "data": {
      "image/png": "[encoded data removed]",
      "text/plain": [
       "<Figure size 432x288 with 2 Axes>"
      ]
     },
     "metadata": {
      "needs_background": "light"
     },
     "output_type": "display_data"
    }
   ],
   "source": [
    "import numpy as np\n",
    "import matplotlib.pyplot as plt\n",
    "import pandas as pd\n",
    "import matplotlib.ticker as ticker\n",
    "import torch\n",
    "\n",
    "a = torch.randn(4, 2)\n",
    "b = a.softmax(dim=1)\n",
    "# transpose(0,1)是将dim=0, dim=1 的两个数据交换\n",
    "c = a.softmax(dim=0).transpose(0, 1) # \n",
    "print(\"a=\",a, '\\nb=',  b, '\\nc=', c)\n",
    "d = b.matmul(c)\n",
    "print(\"d=\",d)\n",
    "\n",
    "d = d.numpy() # 转为numpy\n",
    "word = ['A','B','C','X'] \n",
    "\n",
    "df = pd.DataFrame(d, columns=word, index=word)\n",
    "fig = plt.figure()\n",
    "# add_subplot(111) = add_subplot(1,1,1) 。\n",
    "# 它的作用不是特别的清楚\n",
    "ax = fig.add_subplot(111)\n",
    "\n",
    "'''详细说说下面这行代码：\n",
    "01.matshow是用于matrix show 的一个函数\n",
    "02.展示的数据是df\n",
    "03.包含的参数有 interpolation 和 cmap。这里的cmap指的应该就是一个热力图\n",
    "'''\n",
    "cax = ax.matshow(df, interpolation='nearest', cmap='hot_r') \n",
    "fig.colorbar(cax)  # 展示出色彩和值的对应关系\n",
    "\n",
    "tick_spacing = 1 # 设置标签栏中值的距离\n",
    "ax.xaxis.set_major_locator(ticker.MultipleLocator(tick_spacing))\n",
    "ax.yaxis.set_major_locator(ticker.MultipleLocator(tick_spacing))\n",
    "#ax.set_xticklabels([''] + list(df.columns))\n",
    "ax.set_xticklabels([\"\"]+word) #\n",
    "ax.set_yticklabels([''] + list(df.index))\n",
    "\n",
    "plt.show()"
   ]
  },
  {
   "cell_type": "code",
   "execution_count": 9,
   "metadata": {},
   "outputs": [
    {
     "name": "stdout",
     "output_type": "stream",
     "text": [
      "tensor([[ 0.0844, -0.6679, -0.8497],\n",
      "        [-1.0284,  0.6825, -1.1134]])\n",
      "tensor([[ 0.0844, -1.0284],\n",
      "        [-0.6679,  0.6825],\n",
      "        [-0.8497, -1.1134]])\n"
     ]
    }
   ],
   "source": [
    "import torch as t\n",
    "a = t.randn(2,3)\n",
    "print(a)\n",
    "b = a.transpose(0,1)\n",
    "print(b)"
   ]
  }
 ],
 "metadata": {
  "kernelspec": {
   "display_name": "Python 3",
   "language": "python",
   "name": "python3"
  },
  "language_info": {
   "codemirror_mode": {
    "name": "ipython",
    "version": 3
   },
   "file_extension": ".py",
   "mimetype": "text/x-python",
   "name": "python",
   "nbconvert_exporter": "python",
   "pygments_lexer": "ipython3",
   "version": "3.8.3"
  }
 },
 "nbformat": 4,
 "nbformat_minor": 4
}
