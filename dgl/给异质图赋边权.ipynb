{
 "cells": [
  {
   "cell_type": "code",
   "execution_count": 29,
   "metadata": {},
   "outputs": [
    {
     "name": "stdout",
     "output_type": "stream",
     "text": [
      "Graph(num_nodes={'h_type': 4},\n",
      "      num_edges={('h_type', 'learn', 'h_type'): 1, ('h_type', 'play', 'h_type'): 2, ('h_type', 'work', 'h_type'): 1},\n",
      "      metagraph=[('h_type', 'h_type', 'learn'), ('h_type', 'h_type', 'play'), ('h_type', 'h_type', 'work')])\n"
     ]
    }
   ],
   "source": [
    "'''\n",
    "因为异质图的边有多种类型，所以需要针对不同的类型赋值\n",
    "'''\n",
    "import dgl\n",
    "import numpy as np\n",
    "import torch as th\n",
    "from dgl.nn import EdgeWeightNorm, GraphConv\n",
    "from collections import defaultdict\n",
    "a=[0,1,2,0]\n",
    "b=[1,2,3,3]\n",
    "play_wights = th.tensor([0.1,0.2])\n",
    "learn_wights = [0.004]\n",
    "work_wights = [0.5]\n",
    "data_dict = defaultdict(list)\n",
    "edge_type = ['play','learn','work','play']\n",
    "for i in range(4):\n",
    "    data_dict[('h_type', edge_type[i], 'h_type')].append((a[i],b[i]))\n",
    "g=dgl.heterograph(data_dict)\n",
    "g.edges['play'].data['w'] = play_wights\n",
    "print(g)"
   ]
  },
  {
   "cell_type": "code",
   "execution_count": 42,
   "metadata": {},
   "outputs": [
    {
     "name": "stdout",
     "output_type": "stream",
     "text": [
      "(tensor([0, 0]), tensor([1, 3]))\n",
      "tensor([0.1000, 0.2000])\n"
     ]
    }
   ],
   "source": [
    "# 证明是一一对应的\n",
    "# 指定某种类型的边\n",
    "print(g.edges(etype='play'))\n",
    "print(g.edges['play'].data['w'])"
   ]
  },
  {
   "cell_type": "code",
   "execution_count": 43,
   "metadata": {},
   "outputs": [
    {
     "data": {
      "text/plain": [
       "{('h_type', 'play', 'h_type'): tensor([0.1000, 0.2000])}"
      ]
     },
     "execution_count": 43,
     "metadata": {},
     "output_type": "execute_result"
    }
   ],
   "source": [
    "# 一次性拿到所有的边权数据\n",
    "g.edata['w'] "
   ]
  }
 ],
 "metadata": {
  "kernelspec": {
   "display_name": "Python 3",
   "language": "python",
   "name": "python3"
  },
  "language_info": {
   "codemirror_mode": {
    "name": "ipython",
    "version": 3
   },
   "file_extension": ".py",
   "mimetype": "text/x-python",
   "name": "python",
   "nbconvert_exporter": "python",
   "pygments_lexer": "ipython3",
   "version": "3.8.3"
  }
 },
 "nbformat": 4,
 "nbformat_minor": 4
}
