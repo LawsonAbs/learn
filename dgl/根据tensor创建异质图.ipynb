{
 "cells": [
  {
   "cell_type": "code",
   "execution_count": 2,
   "metadata": {},
   "outputs": [
    {
     "name": "stdout",
     "output_type": "stream",
     "text": [
      "tensor([[[0.2663, 0.7179, 0.4236, 0.2140, 0.0701, 0.3015, 0.5379, 0.4403,\n",
      "          0.7419, 0.4809],\n",
      "         [0.1870, 0.4546, 0.5836, 0.2615, 0.2895, 0.3293, 0.7313, 0.5058,\n",
      "          0.2788, 0.3901],\n",
      "         [0.4368, 0.6214, 0.3759, 0.4735, 0.5615, 0.4580, 0.8757, 0.5835,\n",
      "          0.9670, 0.3838]],\n",
      "\n",
      "        [[0.4892, 0.3322, 0.2969, 0.5585, 0.7351, 0.3726, 0.3437, 0.4369,\n",
      "          0.3839, 0.3322],\n",
      "         [0.1507, 0.5927, 0.4935, 0.4934, 0.5894, 0.2093, 0.3640, 0.3291,\n",
      "          0.8264, 0.4033],\n",
      "         [0.1320, 0.1850, 0.9111, 0.6960, 0.2814, 0.8408, 0.4123, 0.4803,\n",
      "          0.3316, 0.8880]],\n",
      "\n",
      "        [[0.0816, 0.7629, 0.6152, 0.5521, 0.2868, 0.3528, 0.3614, 0.2139,\n",
      "          0.6440, 0.1406],\n",
      "         [0.6047, 0.6443, 0.5833, 0.6881, 0.6908, 0.2094, 0.1556, 0.3487,\n",
      "          0.4469, 0.4227],\n",
      "         [0.0646, 0.3859, 0.1804, 0.4977, 0.2721, 0.3966, 0.6189, 0.8213,\n",
      "          0.3866, 0.7114]]])\n"
     ]
    },
    {
     "name": "stderr",
     "output_type": "stream",
     "text": [
      "/home/lawson/anaconda3/lib/python3.8/site-packages/torch/nn/functional.py:1805: UserWarning: nn.functional.sigmoid is deprecated. Use torch.sigmoid instead.\n",
      "  warnings.warn(\"nn.functional.sigmoid is deprecated. Use torch.sigmoid instead.\")\n"
     ]
    }
   ],
   "source": [
    "import torch as t\n",
    "import torch.nn.functional as F\n",
    "import dgl \n",
    "pred = t.randn(3,3,10) # \n",
    "pred = F.sigmoid(pred)\n",
    "print(pred)"
   ]
  },
  {
   "cell_type": "code",
   "execution_count": 20,
   "metadata": {},
   "outputs": [
    {
     "name": "stdout",
     "output_type": "stream",
     "text": [
      "0\n",
      "0\n",
      "0\n",
      "0\n",
      "0\n",
      "0\n",
      "0\n",
      "0\n",
      "0\n",
      "0\n"
     ]
    }
   ],
   "source": [
    "zero = t.tensor(0,dtype=t.float32)\n",
    "threshold = 1.5\n",
    "for i in range(10):\n",
    "    print(len(t.nonzero(t.gt(pred[:,:,i],threshold))))\n",
    "    "
   ]
  },
  {
   "cell_type": "code",
   "execution_count": 9,
   "metadata": {},
   "outputs": [
    {
     "name": "stdout",
     "output_type": "stream",
     "text": [
      "tensor([[[False,  True, False, False, False, False,  True, False,  True, False],\n",
      "         [False, False,  True, False, False, False,  True,  True, False, False],\n",
      "         [False,  True, False, False,  True, False,  True,  True,  True, False]],\n",
      "\n",
      "        [[False, False, False,  True,  True, False, False, False, False, False],\n",
      "         [False,  True, False, False,  True, False, False, False,  True, False],\n",
      "         [False, False,  True,  True, False,  True, False, False, False,  True]],\n",
      "\n",
      "        [[False,  True,  True,  True, False, False, False, False,  True, False],\n",
      "         [ True,  True,  True,  True,  True, False, False, False, False, False],\n",
      "         [False, False, False, False, False, False,  True,  True, False,  True]]])\n"
     ]
    }
   ],
   "source": [
    "res = t.gt(pred,threshold)\n",
    "print(res)"
   ]
  },
  {
   "cell_type": "code",
   "execution_count": 10,
   "metadata": {},
   "outputs": [
    {
     "name": "stdout",
     "output_type": "stream",
     "text": [
      "tensor([[0, 0, 1],\n",
      "        [0, 0, 6],\n",
      "        [0, 0, 8],\n",
      "        [0, 1, 2],\n",
      "        [0, 1, 6],\n",
      "        [0, 1, 7],\n",
      "        [0, 2, 1],\n",
      "        [0, 2, 4],\n",
      "        [0, 2, 6],\n",
      "        [0, 2, 7],\n",
      "        [0, 2, 8],\n",
      "        [1, 0, 3],\n",
      "        [1, 0, 4],\n",
      "        [1, 1, 1],\n",
      "        [1, 1, 4],\n",
      "        [1, 1, 8],\n",
      "        [1, 2, 2],\n",
      "        [1, 2, 3],\n",
      "        [1, 2, 5],\n",
      "        [1, 2, 9],\n",
      "        [2, 0, 1],\n",
      "        [2, 0, 2],\n",
      "        [2, 0, 3],\n",
      "        [2, 0, 8],\n",
      "        [2, 1, 0],\n",
      "        [2, 1, 1],\n",
      "        [2, 1, 2],\n",
      "        [2, 1, 3],\n",
      "        [2, 1, 4],\n",
      "        [2, 2, 6],\n",
      "        [2, 2, 7],\n",
      "        [2, 2, 9]])\n"
     ]
    }
   ],
   "source": [
    "temp = res.nonzero()\n",
    "print(temp)"
   ]
  },
  {
   "cell_type": "code",
   "execution_count": 21,
   "metadata": {},
   "outputs": [
    {
     "name": "stdout",
     "output_type": "stream",
     "text": [
      "tensor([], dtype=torch.int64)\n",
      "0\n"
     ]
    }
   ],
   "source": [
    "z = t.tensor([], dtype=t.int64)\n",
    "print(z)\n",
    "print(len(z))"
   ]
  },
  {
   "cell_type": "code",
   "execution_count": 25,
   "metadata": {},
   "outputs": [
    {
     "name": "stdout",
     "output_type": "stream",
     "text": [
      "torch.Size([1, 1])\n",
      "torch.Size([])\n",
      "tensor(1)\n"
     ]
    }
   ],
   "source": [
    "# squeeze 会把1那维的\n",
    "a=t.tensor([[1]])\n",
    "print(a.size())\n",
    "a = a.squeeze()\n",
    "print(a.size())\n",
    "print(a)"
   ]
  }
 ],
 "metadata": {
  "kernelspec": {
   "display_name": "Python 3",
   "language": "python",
   "name": "python3"
  },
  "language_info": {
   "codemirror_mode": {
    "name": "ipython",
    "version": 3
   },
   "file_extension": ".py",
   "mimetype": "text/x-python",
   "name": "python",
   "nbconvert_exporter": "python",
   "pygments_lexer": "ipython3",
   "version": "3.8.3"
  }
 },
 "nbformat": 4,
 "nbformat_minor": 4
}
