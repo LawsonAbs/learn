{
 "cells": [
  {
   "cell_type": "code",
   "execution_count": null,
   "metadata": {},
   "outputs": [],
   "source": [
    "'''batch 和 unbatch 操作之间，不应该有其它的图操作，否则无法对batch后的图进行一个unbatch 操作\n",
    "'''"
   ]
  },
  {
   "cell_type": "code",
   "execution_count": null,
   "metadata": {},
   "outputs": [],
   "source": [
    "'''\n",
    "异质图的batch操作必须保持各个异质图中的relation是一致的，否则就无法batch.\n",
    "这个问题的解决方法是：放弃batch，针对每个小图单独做操作。\n",
    "'''\n",
    "import dgl\n",
    "import torch as th\n",
    "hg1 = dgl.heterograph({\n",
    "    ('user', 'plays', 'game') : (th.tensor([0, 1]), th.tensor([0, 0]))})\n",
    "hg2 = dgl.heterograph({\n",
    "    ('user', 'plays', 'game') : (th.tensor([0, 0, 0]), th.tensor([1, 0, 2]))})\n",
    "bhg = dgl.batch([hg1, hg2])\n",
    "print(bhg)"
   ]
  },
  {
   "cell_type": "code",
   "execution_count": null,
   "metadata": {},
   "outputs": [],
   "source": [
    "import dgl\n",
    "import torch as th\n",
    "hg1 = dgl.heterograph({\n",
    "    ('user', 'plays', 'game') : (th.tensor([0, 1]), th.tensor([0, 0]))})\n",
    "hg2 = dgl.heterograph({\n",
    "    ('user', 'play', 'game') : (th.tensor([0, 0, 0]), th.tensor([1, 0, 2]))})\n",
    "bhg = dgl.batch([hg1, hg2])\n",
    "print(bhg)"
   ]
  }
 ],
 "metadata": {
  "kernelspec": {
   "display_name": "Python 3",
   "language": "python",
   "name": "python3"
  },
  "language_info": {
   "codemirror_mode": {
    "name": "ipython",
    "version": 3
   },
   "file_extension": ".py",
   "mimetype": "text/x-python",
   "name": "python",
   "nbconvert_exporter": "python",
   "pygments_lexer": "ipython3",
   "version": "3.8.3"
  }
 },
 "nbformat": 4,
 "nbformat_minor": 4
}
