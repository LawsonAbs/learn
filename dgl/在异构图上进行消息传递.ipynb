{
 "cells": [
  {
   "cell_type": "code",
   "execution_count": 94,
   "metadata": {},
   "outputs": [
    {
     "name": "stdout",
     "output_type": "stream",
     "text": [
      "Graph(num_nodes={'topic': 2, 'user': 3},\n",
      "      num_edges={('user', 'follows', 'user'): 3, ('user', 'like', 'topic'): 1},\n",
      "      metagraph=[('user', 'user', 'follows'), ('user', 'topic', 'like')])\n"
     ]
    }
   ],
   "source": [
    "import dgl.function as fn\n",
    "import dgl \n",
    "import torch \n",
    "data_dict = {\n",
    "    ('user', 'follows', 'user'): (torch.tensor([0, 1,2]), torch.tensor([1, 2,1])),\n",
    "    ('user', 'like', 'topic'): (torch.tensor([1]), torch.tensor([1])),    \n",
    "}\n",
    "G = dgl.heterograph(data_dict)\n",
    "print(G)"
   ]
  },
  {
   "cell_type": "code",
   "execution_count": 95,
   "metadata": {},
   "outputs": [
    {
     "name": "stdout",
     "output_type": "stream",
     "text": [
      "[('user', 'follows', 'user'), ('user', 'like', 'topic')]\n"
     ]
    }
   ],
   "source": [
    "# 打印出每种类型的边，这会把每个类型的边都做一个总结输出，即不会有重复的（node_type,edge_type,node_type）\n",
    "print(G.canonical_etypes) "
   ]
  },
  {
   "cell_type": "code",
   "execution_count": 97,
   "metadata": {},
   "outputs": [
    {
     "name": "stdout",
     "output_type": "stream",
     "text": [
      "{'topic': tensor([[2.3238],\n",
      "        [0.5637]]), 'user': tensor([[ 2.2355,  1.0492],\n",
      "        [ 0.5203, -1.0647],\n",
      "        [-0.6342, -0.5373]])}\n",
      "defaultdict(<class 'dict'>, {'w': {('user', 'follows', 'user'): tensor([0.3000, 0.5000, 0.1000]), ('user', 'like', 'topic'): tensor([0.2000])}})\n"
     ]
    }
   ],
   "source": [
    "'''给节点赋特征值\n",
    "因为是异质图，所以这里的必须指定不同的节点赋特征值\n",
    "'''\n",
    "feat_user = torch.tensor([[ 2.2355, 1.0492],\n",
    "         [ 0.5203,  -1.0647],\n",
    "         [ -0.6342, -0.5373]])\n",
    "feat_topic = torch.tensor([[2.3238],\n",
    "         [0.5637]])\n",
    "G.ndata['x'] = {'user': feat_user, 'topic': feat_topic}\n",
    "print(G.ndata['x'])\n",
    "\n",
    "# 针对不同的边类型进行赋值data\n",
    "follows_weight = torch.tensor([0.3,0.5,0.1]) # 个数要和边数一致\n",
    "like_weight = torch.tensor([0.2])\n",
    "G.edges['follows'].data['w'] = follows_weight  \n",
    "G.edges['like'].data['w'] = like_weight  # 存储边权\n",
    "print(G.edata)"
   ]
  },
  {
   "cell_type": "code",
   "execution_count": 98,
   "metadata": {},
   "outputs": [
    {
     "name": "stdout",
     "output_type": "stream",
     "text": [
      "user follows user\n",
      "tensor([[ 2.2355,  1.0492],\n",
      "        [ 0.5203, -1.0647],\n",
      "        [-0.6342, -0.5373]])\n",
      "tensor([[ 1.2812,  0.8862,  0.2033],\n",
      "        [ 0.4951,  0.8404, -0.2751]])\n",
      "Wh: tensor([[ 3.3836,  2.8628,  0.1658],\n",
      "        [ 0.1395, -0.4337,  0.3987],\n",
      "        [-1.0786, -1.0136,  0.0189]])\n",
      "user like topic\n",
      "tensor([[ 2.2355,  1.0492],\n",
      "        [ 0.5203, -1.0647],\n",
      "        [-0.6342, -0.5373]])\n",
      "tensor([[-0.1666, -0.7685,  2.7836],\n",
      "        [ 1.0682, -0.4773,  0.7841]])\n",
      "Wh: tensor([[ 0.7483, -2.2188,  7.0454],\n",
      "        [-1.2240,  0.1083,  0.6135],\n",
      "        [-0.4683,  0.7438, -2.1867]])\n",
      "{'topic': tensor([[ 0.0000,  0.0000,  0.0000],\n",
      "        [-0.2448,  0.0217,  0.1227]]), 'user': tensor([[ 0.0000,  0.0000,  0.0000],\n",
      "        [ 0.4536,  0.3787,  0.0258],\n",
      "        [ 0.0697, -0.2168,  0.1993]])}\n"
     ]
    }
   ],
   "source": [
    "import dgl.function as fn\n",
    "\n",
    "# 每种关系的表示是一个矩阵，也就是w_r\n",
    "# 关系矩阵的size是(2,3)，所以经过RGCN 后，每个节点的特征就从2维变成了3维\n",
    "follow = torch.tensor([[ 1.2812,  0.8862,  0.2033],\n",
    "        [ 0.4951,  0.8404, -0.2751]]) \n",
    "like = torch.tensor([[-0.1666, -0.7685,  2.7836],\n",
    "        [ 1.0682, -0.4773,  0.7841]])\n",
    "weight = {'follows':follow,'like':like} # \n",
    "funcs = {}\n",
    "for c_etype in G.canonical_etypes:\n",
    "    srctype, etype, dsttype = c_etype\n",
    "    print(srctype,etype,dsttype)\n",
    "    print(G.ndata['x'][srctype]) # 获取到节点对应的特征 (3,2)\n",
    "    print(weight[etype]) # (2,3)\n",
    "    # 该边的特征 * 原节点的特征， 得到每个待传递的消息\n",
    "    # G.ndata['x'][srctype] 就相当于将所有srctype 都乘了这个关系矩阵，尽管这个节点可能没有这条边\n",
    "    Wh = (G.ndata['x'][srctype]) @ weight[etype]  \n",
    "    print(\"Wh:\",Wh) \n",
    "    \n",
    "    # 把它存在图中用来做消息传递\n",
    "    # 指定类型 srctype, 再指定特征类型 'Wh_etype'\n",
    "    G.nodes[srctype].data['Wh_%s' % etype] = Wh    \n",
    "    \n",
    "    # 使用一个字典指定每个关系的消息传递函数：(message_func, reduce_func). \n",
    "    # 注意结果保存在同一个目标特征“h”，说明聚合是逐类进行的。\n",
    "#     funcs[etype] = (fn.copy_u('Wh_%s' % etype, 'm'), fn.mean('m', 'h'))\n",
    "    # 下面的这个 fn.mean('m','h') 是对所有边类型的数据做一个mean操作，针对的是同一个类型\n",
    "    funcs[etype] = (fn.u_mul_e('Wh_%s' % etype,'w', 'm'), fn.mean('m', 'h'))\n",
    "\n",
    "# 将每个类型消息聚合的结果相加，针对的是不同类型\n",
    "G.multi_update_all(funcs, 'sum')\n",
    "\n",
    "# 返回更新过的节点特征字典\n",
    "out= {ntype : G.nodes[ntype].data['h'] for ntype in G.ntypes}\n",
    "print(out)"
   ]
  },
  {
   "cell_type": "code",
   "execution_count": 104,
   "metadata": {},
   "outputs": [
    {
     "name": "stdout",
     "output_type": "stream",
     "text": [
      "tensor([0.4536, 0.3787, 0.0258])\n"
     ]
    }
   ],
   "source": [
    "a = torch.tensor([3.3835,2.8628,0.1658])\n",
    "b =torch.tensor([-1.0786,-1.0136,0.0189])\n",
    "c = a * 0.3 + b * 0.1\n",
    "print(c/2)"
   ]
  }
 ],
 "metadata": {
  "kernelspec": {
   "display_name": "Python 3",
   "language": "python",
   "name": "python3"
  },
  "language_info": {
   "codemirror_mode": {
    "name": "ipython",
    "version": 3
   },
   "file_extension": ".py",
   "mimetype": "text/x-python",
   "name": "python",
   "nbconvert_exporter": "python",
   "pygments_lexer": "ipython3",
   "version": "3.8.3"
  }
 },
 "nbformat": 4,
 "nbformat_minor": 4
}
