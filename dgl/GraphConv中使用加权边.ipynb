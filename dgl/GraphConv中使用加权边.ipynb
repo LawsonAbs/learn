{
 "cells": [
  {
   "cell_type": "code",
   "execution_count": 5,
   "metadata": {},
   "outputs": [],
   "source": [
    "import dgl\n",
    "import numpy as np\n",
    "import torch as th\n",
    "from dgl.nn import EdgeWeightNorm, GraphConv\n",
    "# 定义一个GNN网络\n",
    "conv = GraphConv(10, 2, norm='none', weight=True, bias=True,allow_zero_in_degree=True)"
   ]
  },
  {
   "cell_type": "code",
   "execution_count": 6,
   "metadata": {},
   "outputs": [
    {
     "data": {
      "text/plain": [
       "Parameter containing:\n",
       "tensor([[-0.0283,  0.5123],\n",
       "        [-0.3431, -0.0674],\n",
       "        [-0.5190,  0.6129],\n",
       "        [ 0.0679, -0.6656],\n",
       "        [ 0.0077,  0.1117],\n",
       "        [-0.1863,  0.5635],\n",
       "        [-0.4596,  0.0863],\n",
       "        [ 0.5475,  0.4824],\n",
       "        [ 0.4668,  0.2038],\n",
       "        [-0.6505,  0.6100]], requires_grad=True)"
      ]
     },
     "execution_count": 6,
     "metadata": {},
     "output_type": "execute_result"
    }
   ],
   "source": [
    "conv.weight"
   ]
  },
  {
   "cell_type": "code",
   "execution_count": 10,
   "metadata": {},
   "outputs": [
    {
     "name": "stdout",
     "output_type": "stream",
     "text": [
      "tensor([1.0000, 0.5455, 1.0000, 0.4545])\n",
      "tensor([[ 0.0000,  0.0000],\n",
      "        [-1.0969,  2.4499],\n",
      "        [-1.0969,  2.4499],\n",
      "        [-1.0969,  2.4499]], grad_fn=<AddBackward0>)\n"
     ]
    }
   ],
   "source": [
    "g = dgl.graph(([0,1,2,0], [1,2,3,2]))\n",
    "feat = th.ones(4, 10)\n",
    "edge_weight = th.tensor([0.5, 0.6,0.1,0.5])\n",
    "norm = EdgeWeightNorm(norm='right',eps=1e-30) # 加eps 是为了防止计算出nan\n",
    "norm_edge_weight = norm(g, edge_weight)\n",
    "print(norm_edge_weight)\n",
    "res = conv(g, feat, edge_weight=norm_edge_weight)\n",
    "print(res)"
   ]
  },
  {
   "cell_type": "code",
   "execution_count": 8,
   "metadata": {},
   "outputs": [
    {
     "name": "stdout",
     "output_type": "stream",
     "text": [
      "tensor([[ 0.0000,  0.0000],\n",
      "        [-1.0969,  2.4499],\n",
      "        [-2.1939,  4.8998],\n",
      "        [-1.0969,  2.4499]], grad_fn=<AddBackward0>)\n"
     ]
    }
   ],
   "source": [
    "# 处理第二张图，可以验证发现这个边权是被使用到了\n",
    "g2 = dgl.graph(([0,1,2,0], [1,2,3,2]))\n",
    "feat = th.ones(4, 10)\n",
    "res = conv(g, feat)\n",
    "print(res)"
   ]
  }
 ],
 "metadata": {
  "kernelspec": {
   "display_name": "Python 3",
   "language": "python",
   "name": "python3"
  },
  "language_info": {
   "codemirror_mode": {
    "name": "ipython",
    "version": 3
   },
   "file_extension": ".py",
   "mimetype": "text/x-python",
   "name": "python",
   "nbconvert_exporter": "python",
   "pygments_lexer": "ipython3",
   "version": "3.8.3"
  }
 },
 "nbformat": 4,
 "nbformat_minor": 4
}
