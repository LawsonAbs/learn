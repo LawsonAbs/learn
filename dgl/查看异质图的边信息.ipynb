{
 "cells": [
  {
   "cell_type": "code",
   "execution_count": 9,
   "metadata": {},
   "outputs": [
    {
     "data": {
      "text/plain": [
       "Graph(num_nodes={'game': 5, 'topic': 3, 'user': 4},\n",
       "      num_edges={('user', 'follows', 'topic'): 2, ('user', 'follows', 'user'): 2, ('user', 'plays', 'game'): 3},\n",
       "      metagraph=[('user', 'topic', 'follows'), ('user', 'user', 'follows'), ('user', 'game', 'plays')])"
      ]
     },
     "execution_count": 9,
     "metadata": {},
     "output_type": "execute_result"
    }
   ],
   "source": [
    "import dgl\n",
    "import torch \n",
    "data_dict = {\n",
    "    ('user', 'follows', 'user'): (torch.tensor([0, 1]), torch.tensor([1, 2])),\n",
    "    ('user', 'follows', 'topic'): (torch.tensor([1, 1]), torch.tensor([1, 2])),\n",
    "    ('user', 'plays', 'game'): (torch.tensor([0, 3,1]), torch.tensor([3, 4,2])) # 构建异质图，\n",
    "}\n",
    "g = dgl.heterograph(data_dict)\n",
    "g"
   ]
  },
  {
   "cell_type": "code",
   "execution_count": 11,
   "metadata": {},
   "outputs": [
    {
     "name": "stdout",
     "output_type": "stream",
     "text": [
      "7\n",
      "tensor(indices=tensor([[0, 3, 1],\n",
      "                       [3, 4, 2]]),\n",
      "       values=tensor([1., 1., 1.]),\n",
      "       size=(4, 5), nnz=3, layout=torch.sparse_coo)\n",
      "tensor(indices=tensor([[0, 3, 1],\n",
      "                       [3, 4, 2]]),\n",
      "       values=tensor([1., 1., 1.]),\n",
      "       size=(4, 5), nnz=3, layout=torch.sparse_coo)\n"
     ]
    }
   ],
   "source": [
    "print(g.num_edges())\n",
    "print(g.adj(etype='plays'))\n",
    "print(g.adjacency_matrix(etype='plays'))  # 二者的输出是一样的"
   ]
  },
  {
   "cell_type": "code",
   "execution_count": null,
   "metadata": {},
   "outputs": [],
   "source": [
    "# 查看异质图的边顶点信息\n",
    "g.adjacency_matrix(etype='xxx')\n"
   ]
  }
 ],
 "metadata": {
  "kernelspec": {
   "display_name": "Python 3",
   "language": "python",
   "name": "python3"
  },
  "language_info": {
   "codemirror_mode": {
    "name": "ipython",
    "version": 3
   },
   "file_extension": ".py",
   "mimetype": "text/x-python",
   "name": "python",
   "nbconvert_exporter": "python",
   "pygments_lexer": "ipython3",
   "version": "3.8.3"
  }
 },
 "nbformat": 4,
 "nbformat_minor": 4
}
