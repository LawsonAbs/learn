{
 "cells": [
  {
   "cell_type": "code",
   "execution_count": 5,
   "metadata": {},
   "outputs": [
    {
     "name": "stdout",
     "output_type": "stream",
     "text": [
      "Graph(num_nodes={'movie': 2, 'user': 3},\n",
      "      num_edges={('user', '+1', 'movie'): 3, ('user', '-1', 'movie'): 1},\n",
      "      metagraph=[('user', 'movie', '+1'), ('user', 'movie', '-1')])\n"
     ]
    }
   ],
   "source": [
    "import dgl\n",
    "import numpy as np\n",
    "graph = dgl.heterograph(\n",
    "    {('user', '+1', 'movie') : (np.array([0, 0, 1]), np.array([0, 1, 0])),\n",
    "     ('user', '-1', 'movie') : (np.array([2]), np.array([1]))})\n",
    "graph.num_edges()\n",
    "print(graph)"
   ]
  },
  {
   "cell_type": "code",
   "execution_count": 37,
   "metadata": {},
   "outputs": [
    {
     "name": "stdout",
     "output_type": "stream",
     "text": [
      "5\n",
      "4\n"
     ]
    }
   ],
   "source": [
    "print(graph.num_nodes())\n",
    "print(graph.num_edges())"
   ]
  }
 ],
 "metadata": {
  "kernelspec": {
   "display_name": "Python 3",
   "language": "python",
   "name": "python3"
  },
  "language_info": {
   "codemirror_mode": {
    "name": "ipython",
    "version": 3
   },
   "file_extension": ".py",
   "mimetype": "text/x-python",
   "name": "python",
   "nbconvert_exporter": "python",
   "pygments_lexer": "ipython3",
   "version": "3.8.3"
  }
 },
 "nbformat": 4,
 "nbformat_minor": 4
}
