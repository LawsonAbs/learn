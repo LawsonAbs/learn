{
 "cells": [
  {
   "cell_type": "code",
   "execution_count": 7,
   "metadata": {},
   "outputs": [
    {
     "name": "stdout",
     "output_type": "stream",
     "text": [
      "JGood_2\n",
      "JGood_2\n"
     ]
    }
   ],
   "source": [
    "import pickle  \n",
    "\n",
    "class Person:  \n",
    "    def __init__(self,n,a):  \n",
    "        self.name=n\n",
    "        self.age=a\n",
    "    def show(self):\n",
    "        print(self.name+\"_\"+str(self.age))\n",
    "\n",
    "aa = Person(\"JGood\", 2)\n",
    "aa.show()\n",
    "\n",
    "# TypeError: write() argument must be str, not bytes  \n",
    "# wb 中的b表示的时候打开二进制文件，否则就会报上面这个错误\n",
    "f=open('./pickle.txt','wb')\n",
    "\n",
    "'''dump()函数\n",
    "将一个对象返回成pickled后的bytes对象，而不是写入文件。\n",
    "'''\n",
    "pickle.dump(aa,f,0) # 参数 protocol值为0\n",
    "f.close()\n",
    "\n",
    "#del Person\n",
    "f=open('./pickle.txt','rb')  \n",
    "bb=pickle.load(f)\n",
    "f.close()\n",
    "\n",
    "bb.show()"
   ]
  },
  {
   "cell_type": "code",
   "execution_count": 13,
   "metadata": {},
   "outputs": [
    {
     "name": "stdout",
     "output_type": "stream",
     "text": [
      "<class 'list'>\n"
     ]
    }
   ],
   "source": [
    "'''pickle\n",
    "'''\n",
    "path = \"/home/lawson/program/punLocation/scores/homo-/pred_0\"\n",
    "import pickle\n",
    "fi = open(path,'rb')\n",
    "cont = pickle.load(fi)\n",
    "fi.close()\n",
    "\n",
    "print(type(cont)) # <class 'list'>\n",
    "for i in range(10):\n",
    "    print(cont[i])"
   ]
  },
  {
   "cell_type": "code",
   "execution_count": 15,
   "metadata": {},
   "outputs": [
    {
     "name": "stdout",
     "output_type": "stream",
     "text": [
      "['O', 'O', 'O', 'O']\n",
      "[]\n",
      "['O']\n",
      "['O', 'O']\n",
      "['O', 'O', 'O', 'O']\n",
      "['O', 'O', 'O', 'O', 'O', 'O']\n",
      "['O', 'O', 'O', 'O', 'O', 'O', 'O', 'O', 'O', 'O', 'O', 'O', 'O', 'O', 'O', 'O', 'P', 'O']\n",
      "['O', 'O', 'O', 'O', 'O', 'O', 'O', 'O', 'O', 'O', 'P', 'O', 'O', 'O']\n",
      "['O', 'O', 'O', 'O', 'O', 'O']\n",
      "['O', 'O', 'O', 'O', 'O', 'O', 'O', 'O', 'P', 'O']\n"
     ]
    }
   ],
   "source": [
    "import pickle\n",
    "path = \"/home/lawson/program/punLocation/scores/homo-/true_0\"\n",
    "fi = open(path,'rb')\n",
    "true_cont = pickle.load(fi)\n",
    "fi.close()\n",
    "\n",
    "print(type(true_cont)) # <class 'list'>\n",
    "for i in range(10):\n",
    "    print(true_cont[i])"
   ]
  }
 ],
 "metadata": {
  "kernelspec": {
   "display_name": "Python 3",
   "language": "python",
   "name": "python3"
  },
  "language_info": {
   "codemirror_mode": {
    "name": "ipython",
    "version": 3
   },
   "file_extension": ".py",
   "mimetype": "text/x-python",
   "name": "python",
   "nbconvert_exporter": "python",
   "pygments_lexer": "ipython3",
   "version": "3.8.3"
  }
 },
 "nbformat": 4,
 "nbformat_minor": 4
}
