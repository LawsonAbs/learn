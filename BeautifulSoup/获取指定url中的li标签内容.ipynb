{
 "cells": [
  {
   "cell_type": "code",
   "execution_count": 8,
   "metadata": {},
   "outputs": [
    {
     "name": "stdout",
     "output_type": "stream",
     "text": [
      "10\n"
     ]
    }
   ],
   "source": [
    "import requests # 获取请求\n",
    "from bs4 import BeautifulSoup # 引入解析包\n",
    "\n",
    "url = \"http://wordnetweb.princeton.edu/perl/webwn?s=sting&sub=Search+WordNet&o2=1&o0=1&o8=1&o1=1&o7=1&o5=1&o9=&o6=1&o3=1&o4=1&h=0000000000\"\n",
    "html = requests.get(url)\n",
    "soup = BeautifulSoup(html.text,'lxml') #html.parser是解析器，也可是lxml\n",
    "# print(soup.prettify()) # 输出soup对象的内容\n",
    "''' 输出内容就是：\n",
    "<html>\n",
    "<body>\n",
    "<div>\n",
    "...\n",
    "</div>\n",
    "</body>\n",
    "</html>\n",
    "'''\n",
    "sense2Key = {} # 不同单词的sense 到 keys(也就是该单词的同义词) 的字典\n",
    "lis = soup.find_all('li') # 从soup对象中找出所有的 li 标签\n",
    "for line in lis:   \n",
    "    ''' line 中的内容如下，无换行\n",
    "    <li>(2){14355490} &lt;noun.state&gt;[26] \n",
    "    <a href=\"webwn?o2=1&amp;o0=1&amp;o8=1&amp;o1=1&amp;o7=1&amp;o5=1&amp;o9=&amp;o6=1&amp;o3=1&amp;o4=1&amp;s=sting&amp;i=0&amp;h=0000000000#c\">S:</a>\n",
    "    <a class=\"pos\"> (n) </a>\n",
    "    <b>sting#1 (sting%1:26:00::)</b>, \n",
    "    <a href=\"webwn?o2=1&amp;o0=1&amp;o8=1&amp;o1=1&amp;o7=1&amp;o5=1&amp;o9=&amp;o6=1&amp;o3=1&amp;o4=1&amp;s=stinging\">stinging#1 (stinging%1:26:00::)</a> \n",
    "    (a kind of pain; something as sudden and painful as being stung) <i>\"the sting of death\"; \"he felt the stinging of nettles\"</i></li>\n",
    "    '''\n",
    "\n",
    "    # way 3\n",
    "    keys = []\n",
    "    for ele in line.contents[3:-2]: # 找出其中特定下标的内容\n",
    "        try:\n",
    "            keys.append(ele.get_text())            \n",
    "        except:\n",
    "            pass\n",
    "    sense = str(line.contents[-2])\n",
    "    sense2Key[sense] = keys\n",
    "    #print(f\"{keys} => {sense}\\n\")\n",
    "print(len(sense2Key))"
   ]
  },
  {
   "cell_type": "code",
   "execution_count": 4,
   "metadata": {},
   "outputs": [
    {
     "name": "stdout",
     "output_type": "stream",
     "text": [
      "<class 'bs4.element.NavigableString'>\n"
     ]
    }
   ],
   "source": []
  }
 ],
 "metadata": {
  "kernelspec": {
   "display_name": "Python 3",
   "language": "python",
   "name": "python3"
  },
  "language_info": {
   "codemirror_mode": {
    "name": "ipython",
    "version": 3
   },
   "file_extension": ".py",
   "mimetype": "text/x-python",
   "name": "python",
   "nbconvert_exporter": "python",
   "pygments_lexer": "ipython3",
   "version": "3.8.3"
  }
 },
 "nbformat": 4,
 "nbformat_minor": 4
}
