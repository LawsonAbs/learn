{
 "cells": [
  {
   "cell_type": "code",
   "execution_count": 5,
   "metadata": {},
   "outputs": [
    {
     "name": "stdout",
     "output_type": "stream",
     "text": [
      "2\n",
      "('<pad>', 0)\n",
      "('<unk>', 1)\n"
     ]
    },
    {
     "data": {
      "text/plain": [
       "2"
      ]
     },
     "execution_count": 5,
     "metadata": {},
     "output_type": "execute_result"
    }
   ],
   "source": [
    "'''\n",
    "Vocabulary()的使用：\n",
    "01.用于将文本转换为index\n",
    "'''\n",
    "from fastNLP import Vocabulary\n",
    "# step1.构建一个词\n",
    "vocab = Vocabulary()\n",
    "print(len(vocab)) # 初始就有2个字\n",
    "for _ in vocab: # 打印的是一个 元组 的形式\n",
    "    print(_) \n",
    "\n",
    "# step2.修改词典\n",
    "vocab.add_word_lst(['复','旦','大','学']) # 加字\n",
    "vocab.add_word('上海') # 加词\n",
    "vocab.to_index('复') "
   ]
  },
  {
   "cell_type": "code",
   "execution_count": 20,
   "metadata": {},
   "outputs": [
    {
     "name": "stdout",
     "output_type": "stream",
     "text": [
      "Vocabulary(['今', '天', '气', '很', '好']...)\n",
      "('<pad>', 0)\n",
      "('<unk>', 1)\n",
      "('天', 2)\n",
      "('。', 3)\n",
      "('今', 4)\n",
      "('气', 5)\n",
      "('很', 6)\n",
      "('好', 7)\n",
      "('被', 8)\n",
      "('这', 9)\n",
      "('部', 10)\n",
      "('电', 11)\n",
      "('影', 12)\n",
      "('浪', 13)\n",
      "('费', 14)\n",
      "('了', 15)\n",
      "('两', 16)\n",
      "('个', 17)\n",
      "('小', 18)\n",
      "('时', 19)\n"
     ]
    }
   ],
   "source": [
    "from fastNLP import Vocabulary\n",
    "from fastNLP import DataSet\n",
    "\n",
    "dataset = DataSet({'chars': [\n",
    "                                ['今', '天', '天', '气', '很', '好', '。'],\n",
    "                                ['被', '这', '部', '电', '影', '浪', '费', '了', '两', '个', '小', '时', '。']\n",
    "                            ],\n",
    "                    'target': ['neutral', 'negative']\n",
    "})\n",
    "\n",
    "vocab = Vocabulary()\n",
    "# 从该dataset中的chars列建立词表\n",
    "vocab.from_dataset(dataset, field_name='chars')\n",
    "print(vocab)  # Vocabulary(['今', '天', '气', '很', '好']...)\n",
    "for _ in vocab:\n",
    "    print(_)"
   ]
  },
  {
   "cell_type": "code",
   "execution_count": 8,
   "metadata": {},
   "outputs": [
    {
     "name": "stdout",
     "output_type": "stream",
     "text": [
      "('<pad>', 0)\n",
      "('<unk>', 1)\n",
      "+----------------------------+----------+\n",
      "| chars                      | target   |\n",
      "+----------------------------+----------+\n",
      "| ['今', '天', '天', '气'... | neutral  |\n",
      "| ['我', '喜', '欢', '忆'... | negative |\n",
      "+----------------------------+----------+\n",
      "('<pad>', 0)\n",
      "('<unk>', 1)\n",
      "('天', 2)\n",
      "('今', 3)\n",
      "('气', 4)\n",
      "('很', 5)\n",
      "('好', 6)\n",
      "('。', 7)\n",
      "('我', 8)\n",
      "('喜', 9)\n",
      "('欢', 10)\n",
      "('忆', 11)\n",
      "('长', 12)\n",
      "('春', 13)\n",
      "('光', 14)\n",
      "('阴', 15)\n",
      "+----------------------------+----------+\n",
      "| chars                      | target   |\n",
      "+----------------------------+----------+\n",
      "| [3, 2, 2, 4, 5, 6, 7]      | neutral  |\n",
      "| [8, 9, 10, 11, 12, 13, ... | negative |\n",
      "+----------------------------+----------+\n",
      "Vocabulary(['neutral', 'negative']...)\n",
      "+----------------------------+--------+\n",
      "| chars                      | target |\n",
      "+----------------------------+--------+\n",
      "| [3, 2, 2, 4, 5, 6, 7]      | 0      |\n",
      "| [8, 9, 10, 11, 12, 13, ... | 1      |\n",
      "+----------------------------+--------+\n"
     ]
    }
   ],
   "source": [
    "from fastNLP import DataSet,Vocabulary\n",
    "# step1.构建一个空字典，只有初始化的信息\n",
    "vocab = Vocabulary()\n",
    "for _ in vocab:\n",
    "    print(_)\n",
    "\n",
    "# step2.构建一个测试数据集\n",
    "dataset = DataSet({'chars': [['今', '天', '天', '气', '很', '好', '。'],\n",
    "                             ['我','喜','欢','忆','长','春','光','阴']],\n",
    "                    'target': ['neutral', 'negative']\n",
    "})\n",
    "print(dataset)\n",
    "\n",
    "vocab.from_dataset(dataset,field_name='chars')\n",
    "\n",
    "# \n",
    "for _ in vocab:\n",
    "    print(_)\n",
    "\n",
    "# step3.根据vocab 字典的索引顺序，将dataset 中的chars列转换成索引值\n",
    "# 使用vocabulary将chars列转换为index，修改的竟然是dataset 的值，vocab是不变化的\n",
    "vocab.index_dataset(dataset, field_name='chars')\n",
    "print(dataset) # 可以观察到dataset 的值有变化了\n",
    "    \n",
    "target_vocab = Vocabulary(padding=None, unknown=None)\n",
    "target_vocab.from_dataset(dataset, field_name='target')\n",
    "print(target_vocab) # Vocabulary(['neutral', 'negative']...)\n",
    "\n",
    "target_vocab.index_dataset(dataset, field_name='target')\n",
    "print(dataset)"
   ]
  }
 ],
 "metadata": {
  "kernelspec": {
   "display_name": "Python 3",
   "language": "python",
   "name": "python3"
  },
  "language_info": {
   "codemirror_mode": {
    "name": "ipython",
    "version": 3
   },
   "file_extension": ".py",
   "mimetype": "text/x-python",
   "name": "python",
   "nbconvert_exporter": "python",
   "pygments_lexer": "ipython3",
   "version": "3.8.3"
  }
 },
 "nbformat": 4,
 "nbformat_minor": 4
}
