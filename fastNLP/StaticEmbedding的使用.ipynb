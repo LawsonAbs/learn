{
 "cells": [
  {
   "cell_type": "code",
   "execution_count": 34,
   "metadata": {},
   "outputs": [
    {
     "name": "stderr",
     "output_type": "stream",
     "text": [
      "  4%|▍         | 55.7M/1.36G [01:11<01:51, 11.7MB/s]"
     ]
    },
    {
     "name": "stdout",
     "output_type": "stream",
     "text": [
      "Found 5 out of 8 words in the pre-training embedding.\n",
      "tensor([[2, 3, 4, 5, 6, 7]])\n",
      "torch.Size([1, 6, 300])\n",
      "tensor([[[-0.0769,  0.2931, -0.4797,  ...,  0.1001,  0.1591, -0.0470],\n",
      "         [-0.0250,  0.1310,  0.1094,  ...,  0.4426,  0.1217,  0.1874],\n",
      "         [-0.0645,  0.1894, -0.3067,  ...,  0.0135, -0.4212,  0.0145],\n",
      "         [-0.1140,  0.2407, -0.5392,  ..., -0.1047, -0.3842,  0.1167],\n",
      "         [-0.2195,  0.2224, -0.1668,  ...,  0.1598,  0.1482, -0.0943],\n",
      "         [ 0.0405, -0.0766,  0.0483,  ..., -0.0014,  0.0111,  0.0442]]],\n",
      "       grad_fn=<EmbeddingBackward>)\n"
     ]
    }
   ],
   "source": [
    "import torch\n",
    "from fastNLP.embeddings import StaticEmbedding\n",
    "from fastNLP import Vocabulary\n",
    "\n",
    "vocab = Vocabulary()\n",
    "text = [\"孕妇\",\"儿童\",\"高血压\",\"糖尿病\",\"萝卜\",\"胃痛胃胀\"]\n",
    "vocab.add_word_lst(text)\n",
    "\n",
    "# 得到一个具体的Embedding 实例\n",
    "embed = StaticEmbedding(vocab, model_dir_or_name=\"cn-sgns-literature-word\")\n",
    "\n",
    "words = torch.LongTensor([[vocab.to_index(word) for word in text]])  # 将文本转为index\n",
    "print(words)  # tensor([[2,3,4,5,6]])\n",
    "print(embed(words).size())  # StaticEmbedding的使用和pytorch的nn.Embedding是类似的\n",
    "print(embed(words))"
   ]
  }
 ],
 "metadata": {
  "kernelspec": {
   "display_name": "Python 3",
   "language": "python",
   "name": "python3"
  },
  "language_info": {
   "codemirror_mode": {
    "name": "ipython",
    "version": 3
   },
   "file_extension": ".py",
   "mimetype": "text/x-python",
   "name": "python",
   "nbconvert_exporter": "python",
   "pygments_lexer": "ipython3",
   "version": "3.8.3"
  }
 },
 "nbformat": 4,
 "nbformat_minor": 4
}
