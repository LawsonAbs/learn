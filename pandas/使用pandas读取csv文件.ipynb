{
 "cells": [
  {
   "cell_type": "code",
   "execution_count": 9,
   "metadata": {},
   "outputs": [
    {
     "name": "stdout",
     "output_type": "stream",
     "text": [
      "0    7442 27878 9601 235 4004 10636 19121 28648 227...\n",
      "1                                                  NaN\n",
      "2                                                 5-30\n",
      "3    2281 24058 20163 22737 25572 1845 10446 28438 ...\n",
      "4                                                  NaN\n",
      "5                                                  NaN\n",
      "6                                                 5-30\n",
      "Name: text, dtype: object\n"
     ]
    }
   ],
   "source": [
    "import pandas as pd\n",
    "path = \"./test.csv\"\n",
    "f = pd.read_csv(path) \n",
    "labels = f['label']\n",
    "text = f['text']\n",
    "print(text)\n",
    "# for text, label in zip(f['text'], labels):\n",
    "#     print(text,label)"
   ]
  },
  {
   "cell_type": "code",
   "execution_count": 1,
   "metadata": {},
   "outputs": [
    {
     "name": "stdout",
     "output_type": "stream",
     "text": [
      "{'name': 'lawson'}\n",
      "{'name': 'lawson', 'epoch': 10, 'step': 20}\n"
     ]
    }
   ],
   "source": []
  }
 ],
 "metadata": {
  "kernelspec": {
   "display_name": "Python 3",
   "language": "python",
   "name": "python3"
  },
  "language_info": {
   "codemirror_mode": {
    "name": "ipython",
    "version": 3
   },
   "file_extension": ".py",
   "mimetype": "text/x-python",
   "name": "python",
   "nbconvert_exporter": "python",
   "pygments_lexer": "ipython3",
   "version": "3.8.3"
  }
 },
 "nbformat": 4,
 "nbformat_minor": 4
}
