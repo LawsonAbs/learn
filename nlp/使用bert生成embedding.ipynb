{
 "cells": [
  {
   "cell_type": "code",
   "execution_count": 1,
   "metadata": {},
   "outputs": [
    {
     "name": "stdout",
     "output_type": "stream",
     "text": [
      "tensor([[[-4.3549e-02,  2.8564e-01,  1.4674e-02,  ..., -4.7990e-01,\n",
      "           3.4143e-01,  2.4718e-01],\n",
      "         [ 3.3013e-02,  4.0497e-02,  2.3604e-01,  ..., -6.2095e-02,\n",
      "           3.8768e-01,  1.5043e-01],\n",
      "         [-6.9909e-01,  9.9094e-01,  2.9853e-01,  ..., -1.1481e+00,\n",
      "          -1.2883e-03,  1.3819e-02],\n",
      "         [ 2.7440e-01,  9.2064e-01,  1.6139e+00,  ..., -6.3724e-01,\n",
      "          -3.4250e-01,  3.5173e-01],\n",
      "         [ 3.3919e-01,  8.8692e-01,  1.6468e-01,  ..., -7.4046e-01,\n",
      "          -2.4847e-01,  3.5895e-01],\n",
      "         [ 5.9084e-01,  1.6535e-01, -3.3053e-01,  ...,  1.3792e-02,\n",
      "          -5.7657e-01, -2.8880e-01]]])\n",
      "torch.Size([1, 6, 768])\n"
     ]
    },
    {
     "data": {
      "text/plain": [
       "\"\\ninputs 是个字典，的内容如下：\\n{'input_ids': tensor([[  101,  7592,  1010,  2026,  3899,  2003, 10140,   102]]), \\n'token_type_ids': tensor([[0, 0, 0, 0, 0, 0, 0, 0]]), \\n'attention_mask': tensor([[1, 1, 1, 1, 1, 1, 1, 1]])\\n}\\n\""
      ]
     },
     "execution_count": 1,
     "metadata": {},
     "output_type": "execute_result"
    }
   ],
   "source": [
    "\"\"\"\n",
    "实现bert做embedding\n",
    "\"\"\"\n",
    "import torch\n",
    "from transformers import BertTokenizer, BertModel # 导入transformer 的包\n",
    "#torch.set_printoptions(profile=\"full\") # 输出tensor的整个部分\n",
    "\"\"\"\n",
    "1.from_pretrained()方法是类PreTrainedModel的一个方法\n",
    "2.这里的如果加上 output_hidden_states=True，那么就会把所有的hidden_states 给输出\n",
    "如果没有加，那么就只能得到最后一个隐层的输出。\n",
    "\"\"\"\n",
    "model = BertModel.from_pretrained(\"bert-base-uncased\",\n",
    "                                    output_hidden_states = True)\n",
    "\n",
    "tokenizer = BertTokenizer.from_pretrained('bert-base-uncased')\n",
    "\n",
    "inputs = tokenizer(\"hello,my dog\",return_tensors='pt')\n",
    "#  执行model[BertModel实例]的forward()方法，但是在执行之前，仍然做了很多其他的事情\n",
    "with torch.no_grad():\n",
    "    outputs = model(**inputs)\n",
    "    hiddden_states = outputs[2] # get the hidden states\n",
    "\n",
    "# The last hidden-state is the first element of the output tuple\n",
    "last_hidden_states = outputs[0]\n",
    "\n",
    "print(last_hidden_states)\n",
    "\n",
    "\"\"\"\n",
    "1.如果我的句子是 \"hello,my dog is cute\"，那么得到last_hidden_state 的size \n",
    "就是torch.Size([1, 8, 768])；如果我的句子是\"hello,my dog\"，那么得到的last_hidden_state\n",
    "的 就是 torch.size([1,6,768])。也就是中间那个维度的大小是跟句子长度有关系\n",
    " \n",
    "\"\"\"\n",
    "print(last_hidden_states.size())  #\n",
    "\n",
    "\"\"\"\n",
    "inputs 是个字典，的内容如下：\n",
    "{'input_ids': tensor([[  101,  7592,  1010,  2026,  3899,  2003, 10140,   102]]), \n",
    "'token_type_ids': tensor([[0, 0, 0, 0, 0, 0, 0, 0]]), \n",
    "'attention_mask': tensor([[1, 1, 1, 1, 1, 1, 1, 1]])\n",
    "}\n",
    "\"\"\""
   ]
  }
 ],
 "metadata": {
  "kernelspec": {
   "display_name": "Python 3",
   "language": "python",
   "name": "python3"
  },
  "language_info": {
   "codemirror_mode": {
    "name": "ipython",
    "version": 3
   },
   "file_extension": ".py",
   "mimetype": "text/x-python",
   "name": "python",
   "nbconvert_exporter": "python",
   "pygments_lexer": "ipython3",
   "version": "3.7.6"
  }
 },
 "nbformat": 4,
 "nbformat_minor": 4
}
