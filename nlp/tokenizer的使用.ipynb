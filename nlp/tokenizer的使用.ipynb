{
 "cells": [
  {
   "cell_type": "code",
   "execution_count": 2,
   "metadata": {},
   "outputs": [
    {
     "name": "stdout",
     "output_type": "stream",
     "text": [
      "[101, 2769, 4263, 872, 102]\n",
      "<class 'list'>\n",
      "[CLS] 我 爱 你 [SEP]\n",
      "a= [101, 151, 8451, 8357, 102]\n",
      "b= {'input_ids': [101, 8873, 102], 'token_type_ids': [0, 0, 0], 'attention_mask': [1, 1, 1]}\n",
      "c= [101, 8873, 102]\n",
      "d= {'input_ids': [101, 151, 8451, 8357, 102, 8873, 102], 'token_type_ids': [0, 0, 0, 0, 0, 1, 1], 'attention_mask': [1, 1, 1, 1, 1, 1, 1]}\n",
      "e= {'input_ids': [101, 100, 100, 100, 102], 'token_type_ids': [0, 0, 0, 0, 0], 'attention_mask': [1, 1, 1, 1, 1]}\n"
     ]
    }
   ],
   "source": [
    "from transformers import BertTokenizer\n",
    "\n",
    "#使用encode\n",
    "tokenizer = BertTokenizer.from_pretrained('/Users/gamidev/program/resources/bert_base/')\n",
    "d = tokenizer.encode('我爱你')\n",
    "print(d) # 打印出转为向量的表示\n",
    "print(type(d)) # d是一个list，竟然不是一个tensor\n",
    "print(tokenizer.decode(d))  # 将向量解码成汉字\n",
    "\n",
    "# 测试一下encode_plus 的功能\n",
    "a = tokenizer.encode('I love you')\n",
    "print(\"a=\",a)\n",
    "b = tokenizer.encode_plus('China')\n",
    "print(\"b=\",b)\n",
    "c = tokenizer.encode('China')\n",
    "print(\"c=\",c)\n",
    "\n",
    "d = tokenizer.encode_plus('I love you','China')\n",
    "print(\"d=\",d) # 对这个attention_mask 不是很理解\n",
    "\n",
    "\n",
    "e = tokenizer.encode_plus(['I love you','China','what do you like'])\n",
    "print(\"e=\",e) # 对这个attention_mask 不是很理解"
   ]
  },
  {
   "cell_type": "code",
   "execution_count": null,
   "metadata": {},
   "outputs": [],
   "source": [
    "wo"
   ]
  }
 ],
 "metadata": {
  "kernelspec": {
   "display_name": "Python 3",
   "language": "python",
   "name": "python3"
  },
  "language_info": {
   "codemirror_mode": {
    "name": "ipython",
    "version": 3
   },
   "file_extension": ".py",
   "mimetype": "text/x-python",
   "name": "python",
   "nbconvert_exporter": "python",
   "pygments_lexer": "ipython3",
   "version": "3.7.6"
  }
 },
 "nbformat": 4,
 "nbformat_minor": 4
}
