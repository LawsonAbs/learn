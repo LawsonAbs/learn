{
 "cells": [
  {
   "cell_type": "code",
   "execution_count": 3,
   "metadata": {
    "scrolled": false
   },
   "outputs": [
    {
     "name": "stdout",
     "output_type": "stream",
     "text": [
      "{1: [1, 2]}\n",
      "{1: [1, 2, 3]}\n",
      "[1, 2]\n"
     ]
    }
   ],
   "source": [
    "\"\"\"\n",
    "字典键值的类型\n",
    "\"\"\"\n",
    "dic={1:[1,2]} # 如果你放入字典的是int 型的键，值是一个列表\n",
    "print(dic)\n",
    "dic[1].append(3) # 这里的访问不用加引号去访问 dict[1]\n",
    "print(dic)\n",
    "\n",
    "cid = {'1':[1,2]} \n",
    "print(cid['1']) # 必须加引号才能访问"
   ]
  },
  {
   "cell_type": "code",
   "execution_count": 73,
   "metadata": {},
   "outputs": [
    {
     "name": "stdout",
     "output_type": "stream",
     "text": [
      "{1: [1]}\n"
     ]
    }
   ],
   "source": [
    "\"\"\"\n",
    "setdefault()的使用\n",
    "\"\"\"\n",
    "dic={} #定义一个空字典\n",
    "#dic[1].append() #如果直接这么用，会抛出一个KeyError 的错误！因为之前字典中没有1这个键\n",
    "#为了避免这个错误，可以使用setdefault(key,defaultValue)来实现\n",
    "dic.setdefault(1,[]).append(1) #如果为空，则将其设置为一个空列表，然后追加一个1\n",
    "print(dic) #{1: [1]}"
   ]
  },
  {
   "cell_type": "code",
   "execution_count": 31,
   "metadata": {},
   "outputs": [
    {
     "name": "stdout",
     "output_type": "stream",
     "text": [
      "<class 'tuple'>\n",
      "key=name ,val=lawson\n",
      "<class 'tuple'>\n",
      "key=age ,val=24\n"
     ]
    }
   ],
   "source": [
    "\"\"\"\n",
    "遍历字典的方式 => 输出所有的键值对\n",
    "\"\"\"\n",
    "#获取item中的键值方式，注意不是item.key 而是通过下标的方式获取\n",
    "dic = {'name':'lawson','age':24}\n",
    "for item in dic.items():\n",
    "    print(type(item))  # 字典中放的数据类型是tuple，所以需要通过下标的形式来获取\n",
    "    print('key=%s' %item[0],',val=%s' %item[1])"
   ]
  },
  {
   "cell_type": "code",
   "execution_count": 89,
   "metadata": {},
   "outputs": [
    {
     "name": "stdout",
     "output_type": "stream",
     "text": [
      "{98809: [(43926, 4.0), (43942, 3.0), (43955, 5.0), (43971, 4.5), (43975, 4.0)]}\n",
      "(43926, 4.0)\n",
      "(43942, 3.0)\n",
      "(43955, 5.0)\n",
      "(43971, 4.5)\n",
      "(43975, 4.0)\n",
      "{43926: 4.0, 43942: 3.0, 43955: 5.0, 43971: 4.5, 43975: 4.0}\n"
     ]
    }
   ],
   "source": [
    "dic={98809:[(43926, 4.0), (43942, 3.0), (43955, 5.0), (43971, 4.5), (43975, 4.0)]}\n",
    "print(dic)\n",
    "rateInfo={}\n",
    "for item in dic.items():\n",
    "    for i in item[1]: # 遍历其中的每个值(value)\n",
    "        print(i)\n",
    "        rateInfo.setdefault(i[0],i[1])\n",
    "print(rateInfo)"
   ]
  },
  {
   "cell_type": "code",
   "execution_count": 101,
   "metadata": {},
   "outputs": [
    {
     "name": "stdout",
     "output_type": "stream",
     "text": [
      "[(43926, 4.0), (43942, 3.0), (43955, 5.0), (43971, 4.5)]\n",
      "[(43955, 5.0), (43971, 4.5), (43926, 4.0), (43942, 3.0)]\n"
     ]
    }
   ],
   "source": [
    "#将字典中的数据排序\n",
    "#01.根据key排序【reverse参数用于控制排序的顺序（从大到小还是从小到大）】\n",
    "\"\"\"\n",
    "这里使用到了lambda 表达式。 可以这么理解：\n",
    "step1.将迭代器中的每个元素执行了某种操作得到某个值（这里没有操作，直接取d[0]）\n",
    "step2.根据step1得到的值进行一个排序操作【当然这个值必须可比较，否则就会报错】\n",
    "\"\"\"\n",
    "dic={43926: 4.0, 43942: 3.0, 43955: 5.0, 43971: 4.5}\n",
    "res = sorted(dic.items(), key = lambda d:d[0] )\n",
    "print(res)\n",
    "\n",
    "#将字典中的数据排序\n",
    "#02.根据value排序【reverse参数用于控制排序的顺序（从大到小还是从小到大）】\n",
    "res = sorted(dic.items(), key = lambda d:d[1],reverse=True )\n",
    "print(res)"
   ]
  },
  {
   "cell_type": "code",
   "execution_count": 52,
   "metadata": {},
   "outputs": [
    {
     "name": "stdout",
     "output_type": "stream",
     "text": [
      "43926\n",
      "(43926, 4.0)\n"
     ]
    }
   ],
   "source": [
    "dic={43926: 4.0}\n",
    "for i in dic: #默认遍历的是键\n",
    "    print(i) # 得到的结果是43926 \n",
    "\n",
    "for i in dic.items():\n",
    "    print(i) # 得到的结果是（43926，4.0）"
   ]
  },
  {
   "cell_type": "code",
   "execution_count": 103,
   "metadata": {},
   "outputs": [
    {
     "name": "stdout",
     "output_type": "stream",
     "text": [
      "{98809: 1.0, 102445: 0.0, 104841: 0.0, 106782: 0.0, 109487: 0.0, 110102: 0.0, 112556: 0.0, 112852: 0.0, 115617: 0.0}\n",
      "(98809, 1.0)\n",
      "(102445, 0.0)\n",
      "(104841, 0.0)\n",
      "(106782, 0.0)\n",
      "(109487, 0.0)\n",
      "(110102, 0.0)\n",
      "(112556, 0.0)\n",
      "(112852, 0.0)\n",
      "(115617, 0.0)\n"
     ]
    }
   ],
   "source": [
    "dic={98809:{98809: 1.0, 102445: 0.0, 104841: 0.0, 106782: 0.0, 109487: 0.0, 110102: 0.0, 112556: 0.0, 112852: 0.0, 115617: 0.0}}\n",
    "#print(dic)\n",
    "for i in dic.values():\n",
    "    \"\"\"主要有两个知识点    \n",
    "    01.dict是可迭代的\n",
    "    02.dict每个迭代的小单元都是tuple\n",
    "    \"\"\"\n",
    "    j=i.items() \n",
    "    print(i)\n",
    "    for jj in j:\n",
    "        print(jj)\n"
   ]
  },
  {
   "cell_type": "code",
   "execution_count": 75,
   "metadata": {},
   "outputs": [
    {
     "name": "stdout",
     "output_type": "stream",
     "text": [
      "None\n"
     ]
    }
   ],
   "source": [
    "a={'230':'2.3'} # 这里的键是str类型，而不是int 类型  有别于 a={230,2.3}\n",
    "#print(a['230']) #输出2.3\n",
    "print(a.get(230)) # None"
   ]
  },
  {
   "cell_type": "code",
   "execution_count": 77,
   "metadata": {},
   "outputs": [
    {
     "name": "stdout",
     "output_type": "stream",
     "text": [
      "{1: [1, 2]}\n",
      "{1: [1, 2, 3]}\n",
      "[1, 2]\n"
     ]
    }
   ],
   "source": [
    "dic={1:[1,2]} # 如果你放入字典的是int 型的键，那么直接输出便是int\n",
    "print(dic)\n",
    "dic[1].append(3) # 这里的访问不用加引号即可访问 dict[1]\n",
    "print(dic)\n",
    "\n",
    "cid = {'1':[1,2]} \n",
    "print(cid['1']) # 必须加引号才能访问"
   ]
  },
  {
   "cell_type": "code",
   "execution_count": 115,
   "metadata": {},
   "outputs": [
    {
     "name": "stdout",
     "output_type": "stream",
     "text": [
      "1.0\n",
      "3.0\n",
      "{11: 1.0, 12: 3.0}\n"
     ]
    }
   ],
   "source": [
    "dic={11:1.0}\n",
    "a=dic.get(11,3) #  如果11这个键没有对应的值，那么就返回一个默认值3\n",
    "print(a)\n",
    "a+=2\n",
    "\"\"\"\n",
    "setdefault()函数的说明：\n",
    "Insert key with a value of default if key is not in the dictionary.【key不在dict中时才插入默认键值对】\n",
    "Return the value for key if key is in the dictionary, else default.【如果不在dict中，插入并返回插入的值】\n",
    "\"\"\"\n",
    "print(dic.setdefault(12,a)) # 此时若用setdefault()，必须使用\n",
    "print(dic)\n",
    "dic.setdefault??"
   ]
  },
  {
   "cell_type": "code",
   "execution_count": 117,
   "metadata": {},
   "outputs": [
    {
     "name": "stdout",
     "output_type": "stream",
     "text": [
      "dic is empty\n",
      "info非空且 info={'name': 'lawson'}\n"
     ]
    }
   ],
   "source": [
    "\"\"\"\n",
    "判断字典是否为 empty？\n",
    "\"\"\"\n",
    "dic={}\n",
    "info={'name':'lawson'}\n",
    "if not dic: # dic 的确为空\n",
    "    print(\"dic is empty\")\n",
    "if info:\n",
    "    print(\"info非空且 info=%s\" %info)"
   ]
  },
  {
   "cell_type": "code",
   "execution_count": 1,
   "metadata": {},
   "outputs": [
    {
     "name": "stdout",
     "output_type": "stream",
     "text": [
      "{98809: 1.0, 102445: 2.1, 104841: 0.3, 106782: 2.0}\n",
      "{104841: 0.3, 98809: 1.0, 106782: 2.0, 102445: 2.1}\n"
     ]
    }
   ],
   "source": [
    "dic={98809: 1.0, 102445: 2.1, 104841: 0.3, 106782: 2.0}\n",
    "print(dic)\n",
    "dic = sorted(dic.items(),key=lambda dic:dic[1])\n",
    "# dic 在sorted()之后得到的是个list，而不再是个list 了\n",
    "print(dict(dic))"
   ]
  },
  {
   "cell_type": "code",
   "execution_count": 4,
   "metadata": {},
   "outputs": [
    {
     "name": "stdout",
     "output_type": "stream",
     "text": [
      "true\n",
      "false\n"
     ]
    }
   ],
   "source": [
    "\"\"\"\n",
    "判断键是否存在于dic中\n",
    "\"\"\"\n",
    "occ2id={'scientist':1}\n",
    "if 'scientist' in occ2id.keys():\n",
    "    print(\"true\")\n",
    "\n",
    "if 'doctor' not in occ2id.keys():\n",
    "    print(\"false\")\n",
    "        "
   ]
  }
 ],
 "metadata": {
  "kernelspec": {
   "display_name": "Python 3",
   "language": "python",
   "name": "python3"
  },
  "language_info": {
   "codemirror_mode": {
    "name": "ipython",
    "version": 3
   },
   "file_extension": ".py",
   "mimetype": "text/x-python",
   "name": "python",
   "nbconvert_exporter": "python",
   "pygments_lexer": "ipython3",
   "version": "3.7.6"
  }
 },
 "nbformat": 4,
 "nbformat_minor": 4
}
