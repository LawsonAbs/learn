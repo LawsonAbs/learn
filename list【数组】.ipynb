{
 "cells": [
  {
   "cell_type": "code",
   "execution_count": 5,
   "metadata": {},
   "outputs": [
    {
     "name": "stdout",
     "output_type": "stream",
     "text": [
      "5 4 3 2 1 \n",
      "----\n",
      "1 2 3 4 5 \n",
      "----\n",
      "5 4 3 2 1 \n",
      "----\n"
     ]
    }
   ],
   "source": [
    "# 控制数组输出顺序\n",
    "a=[1,2,3,4,5] # a既可称为数组，又可称为列表\n",
    "\n",
    "for i in a[::-1]: #增量是-1，所以这里只能是倒序输出\n",
    "    print(i,end=\" \")\n",
    "print(\"\\n----\")\n",
    "for i in a[::1]: # 增量是1，所以这里只能是顺序输出\n",
    "    print(i,end=\" \")\n",
    "print(\"\\n----\")\n",
    "for i in reversed(a): \n",
    "    print(i,end=\" \")    \n",
    "print(\"\\n----\")"
   ]
  },
  {
   "cell_type": "code",
   "execution_count": 31,
   "metadata": {},
   "outputs": [
    {
     "name": "stdout",
     "output_type": "stream",
     "text": [
      "0 1 2 3 4 5 6 7 8 9 "
     ]
    }
   ],
   "source": [
    "for i in range(10): # 到不了10\n",
    "    print(i,end=\" \")"
   ]
  },
  {
   "cell_type": "code",
   "execution_count": 34,
   "metadata": {},
   "outputs": [
    {
     "name": "stdout",
     "output_type": "stream",
     "text": [
      "['296', '306']\n",
      "['5.0', '3.5']\n"
     ]
    }
   ],
   "source": [
    "rate1={'296':'5.0','306':'3.5'}\n",
    "rate2={'123':'5.0','296':'23','304':'5.0','306':'5.0'}\n",
    "\n",
    "print(list(rate1.keys())) # 打印出字典rate1的所有键值\n",
    "print(list(rate1.values()))"
   ]
  }
 ],
 "metadata": {
  "kernelspec": {
   "display_name": "Python 3",
   "language": "python",
   "name": "python3"
  },
  "language_info": {
   "codemirror_mode": {
    "name": "ipython",
    "version": 3
   },
   "file_extension": ".py",
   "mimetype": "text/x-python",
   "name": "python",
   "nbconvert_exporter": "python",
   "pygments_lexer": "ipython3",
   "version": "3.7.6"
  }
 },
 "nbformat": 4,
 "nbformat_minor": 4
}
