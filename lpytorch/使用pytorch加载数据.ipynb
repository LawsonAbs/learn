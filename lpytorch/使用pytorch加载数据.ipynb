{
 "cells": [
  {
   "cell_type": "code",
   "execution_count": 1,
   "metadata": {},
   "outputs": [
    {
     "name": "stdout",
     "output_type": "stream",
     "text": [
      "--------------step2.----------------------\n",
      "<class 'torchaudio.datasets.yesno.YESNO'>\n",
      "Waveform: tensor([[-2.4414e-04, -3.0518e-04, -9.1553e-05,  ...,  3.6011e-03,\n",
      "          4.9744e-03,  3.5095e-03]])\n",
      "Sample rate: 8000\n",
      "Labels: [1, 1, 0, 1, 1, 0, 0, 1]\n",
      "----------------step4.---------------------\n",
      "Waveform: tensor([[[ 3.0518e-05,  6.1035e-05,  3.0518e-05,  ..., -1.8311e-04,\n",
      "           4.2725e-04,  6.7139e-04]]])\n",
      "Sample rate: tensor([8000])\n",
      "Labels: [tensor([0]), tensor([0]), tensor([1]), tensor([0]), tensor([0]), tensor([0]), tensor([1]), tensor([0])]\n",
      "---------------step5.---------------------\n",
      "[[ 3.0517578e-05  6.1035156e-05  3.0517578e-05 ... -1.8310547e-04\n",
      "   4.2724609e-04  6.7138672e-04]]\n"
     ]
    },
    {
     "data": {
      "text/plain": [
       "[<matplotlib.lines.Line2D at 0x7fce62c18630>]"
      ]
     },
     "execution_count": 1,
     "metadata": {},
     "output_type": "execute_result"
    }
   ],
   "source": [
    "# step1. 引入相关库\n",
    "import torch\n",
    "import torchaudio as ta\n",
    "\n",
    "# step2. 访问dataset中的数据\n",
    "print(\"--------------step2.----------------------\")\n",
    "yesno_data_trainset = ta.datasets.YESNO('./', download=True)\n",
    "# Pick data point number 3 to see an example of the the yesno_data:\n",
    "n = 3\n",
    "print(type(yesno_data_trainset)) # <class 'torchaudio.datasets.yesno.YESNO'>\n",
    "\n",
    "waveform, sample_rate, labels = yesno_data_trainset[n]\n",
    "\n",
    "# print(\"Waveform: {}\\nSample rate: {}\\nLabels: {}\".format(waveform, sample_rate, labels)) # 作用同下面这个输出\n",
    "print(\"Waveform: %s\\nSample rate: %s\\nLabels: %s\" %(waveform,sample_rate,labels))# 注意这个% 的用法\n",
    "\n",
    "\"\"\"得到各个数据的类型\n",
    "01.print (type(waveform),type(sample_rate),type(labels))   => <class 'torch.Tensor'> <class 'int'> <class 'list'>\n",
    "   其实这个可以根据后面的输出看出来，不同类型其输出是不同的\n",
    "02.print(len(waveform)) # 1 & waveform是一个tensor\n",
    "\"\"\"\n",
    "\n",
    "# step3.loading the data\n",
    "data_loader = torch.utils.data.DataLoader(yesno_data_trainset,\n",
    "                                         batch_size = 1,\n",
    "                                         #shuffle = True)\n",
    "                                          shuffle = False)\n",
    "\n",
    "# step 4. 测试DataLoader 中的 输出\n",
    "print(\"----------------step4.---------------------\")\n",
    "for data in data_loader:\n",
    "    #print(\"Data:\",data)\n",
    "    print(\"Waveform: {}\\nSample rate: {}\\nLabels: {}\".format(data[0], data[1], data[2]))\n",
    "    break\n",
    "\n",
    "# step 5.visualize the data\n",
    "print(\"---------------step5.---------------------\")\n",
    "import matplotlib.pyplot as plt\n",
    "print(data[0][0].numpy())\n",
    "plt.figure()\n",
    "plt.plot(waveform.t().numpy())"
   ]
  },
  {
   "cell_type": "code",
   "execution_count": 5,
   "metadata": {},
   "outputs": [
    {
     "name": "stdout",
     "output_type": "stream",
     "text": [
      "1|24|M|technician|85711\n",
      "2|53|F|other|94043\n",
      "3|23|M|writer|32067\n",
      "4|24|M|technician|43537\n",
      "5|33|F|other|15213\n",
      "6|42|M|executive|98101\n",
      "7|57|M|administrator|91344\n",
      "8|36|M|administrator|05201\n",
      "9|29|M|student|01002\n",
      "10|53|M|lawyer|90703\n"
     ]
    }
   ],
   "source": [
    "def getUserInfo(userInfoPath): \n",
    "    # 访问评分信息\n",
    "    with open(userInfoPath) as file:  # 这句话是什么意思 => 打开filePathName所指的那个文件，然后将其存储在文件对象file中\n",
    "        for line in file.readlines():\n",
    "            # 为每个用户形成一个字典\n",
    "           print(line,end=\"\") # 因为每行都有一个换行，所以这里不再输出换行了\n",
    "\n",
    "\"\"\"\n",
    "1.从文件中获取数据放入Dataset中\n",
    "\"\"\"\n",
    "\n",
    "getUserInfo(\"/Users/gamidev/program/resources/ml-100k/user\")"
   ]
  }
 ],
 "metadata": {
  "kernelspec": {
   "display_name": "Python 3",
   "language": "python",
   "name": "python3"
  },
  "language_info": {
   "codemirror_mode": {
    "name": "ipython",
    "version": 3
   },
   "file_extension": ".py",
   "mimetype": "text/x-python",
   "name": "python",
   "nbconvert_exporter": "python",
   "pygments_lexer": "ipython3",
   "version": "3.7.3"
  }
 },
 "nbformat": 4,
 "nbformat_minor": 4
}
