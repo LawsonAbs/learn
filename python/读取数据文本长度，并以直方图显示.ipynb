{
 "cells": [
  {
   "cell_type": "code",
   "execution_count": 45,
   "metadata": {
    "scrolled": true
   },
   "outputs": [
    {
     "data": {
      "image/png": "[encoded data removed]",
      "text/plain": [
       "<Figure size 432x288 with 1 Axes>"
      ]
     },
     "metadata": {
      "needs_background": "light"
     },
     "output_type": "display_data"
    }
   ],
   "source": [
    "import  matplotlib.pyplot as plt\n",
    "path = \"/home/lawson/program/daguan/risk_data_grand/data/train.txt\"\n",
    "\n",
    "def read_txt(path):\n",
    "    res = [0,0,0,0]\n",
    "    text_length = []\n",
    "    with open(path,'r') as f:\n",
    "        for line in f:\n",
    "            txt = line.strip(\"\\n\").split('\\t')[1] # 取文本\n",
    "            txt = txt.split()\n",
    "#             print(txt)\n",
    "            length = len(txt)\n",
    "            text_length.append(length)\n",
    "#             print(length)\n",
    "            if length< 128:\n",
    "                res[0]+=1\n",
    "            elif length >=128 and length< 200:\n",
    "                res[1]+=1\n",
    "            elif length >=200 and length <300:\n",
    "                res[2] +=1\n",
    "            elif length >= 300:\n",
    "                res[3] += 1\n",
    "    return text_length\n",
    "x = [\"<=128\",\"128~200\",\"200~300\",\">=300\"]\n",
    "text_length = read_txt(path) # res = [] #分成三个等级 <100 , 100-200 ,>200\n",
    "# print(res)\n",
    "# plt.hist(res,facecolor=\"blue\", edgecolor=\"black\", alpha=0.7)\n",
    "# plt.bar(x,res)\n",
    "# text_length 就是各个文本的长度\n",
    "# bins显示的就是整个坐标区间内，显示的直方图个数\n",
    "plt.hist(text_length,bins=40,facecolor=\"blue\",edgecolor=\"black\",alpha=0.7)\n",
    "plt.show()"
   ]
  },
  {
   "cell_type": "code",
   "execution_count": 2,
   "metadata": {},
   "outputs": [
    {
     "data": {
      "image/png": "[encoded data removed]",
      "text/plain": [
       "<Figure size 432x288 with 1 Axes>"
      ]
     },
     "metadata": {
      "needs_background": "light"
     },
     "output_type": "display_data"
    }
   ],
   "source": [
    "import matplotlib.pyplot as plt\n",
    "a = [[1,2],[4,5,6],[9]]\n",
    "plt.hist(a)\n",
    "plt.show()"
   ]
  }
 ],
 "metadata": {
  "kernelspec": {
   "display_name": "Python 3",
   "language": "python",
   "name": "python3"
  },
  "language_info": {
   "codemirror_mode": {
    "name": "ipython",
    "version": 3
   },
   "file_extension": ".py",
   "mimetype": "text/x-python",
   "name": "python",
   "nbconvert_exporter": "python",
   "pygments_lexer": "ipython3",
   "version": "3.8.3"
  }
 },
 "nbformat": 4,
 "nbformat_minor": 4
}
