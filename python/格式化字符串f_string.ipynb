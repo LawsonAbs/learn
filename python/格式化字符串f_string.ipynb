{
 "cells": [
  {
   "cell_type": "code",
   "execution_count": 3,
   "metadata": {},
   "outputs": [
    {
     "name": "stdout",
     "output_type": "stream",
     "text": [
      "hello,My name is hua wei\n"
     ]
    }
   ],
   "source": [
    "\"\"\"f-string的常见使用方式\n",
    "01.{} 表示变量\n",
    "\"\"\"\n",
    "name=\"hua wei\"\n",
    "print(f\"hello,My name is {name}\")\n"
   ]
  },
  {
   "cell_type": "code",
   "execution_count": 7,
   "metadata": {},
   "outputs": [
    {
     "name": "stdout",
     "output_type": "stream",
     "text": [
      "They have 17 apples\n",
      "my name is HUA WEI\n"
     ]
    }
   ],
   "source": [
    "\"\"\"\n",
    "02.可以在{}中写入表达式，从而得到值结果\n",
    "\"\"\"\n",
    "print(f\"They have {2+5*3} apples\")  # 计算数学表达式\n",
    "print(f\"my name is {name.upper()}\") # 转为大写"
   ]
  },
  {
   "cell_type": "code",
   "execution_count": 13,
   "metadata": {},
   "outputs": [
    {
     "name": "stdout",
     "output_type": "stream",
     "text": [
      "4\n"
     ]
    }
   ],
   "source": [
    "\"\"\"\n",
    "03.可以在{}中使用lambda表达式，做复杂的数值计算\n",
    "下面这个lambda 表达式是用于计算一个数的平方。注意格式问题即可\n",
    "\"\"\"\n",
    "print(f\"{(lambda x:x*x)(2)}\")\n"
   ]
  }
 ],
 "metadata": {
  "kernelspec": {
   "display_name": "Python 3",
   "language": "python",
   "name": "python3"
  },
  "language_info": {
   "codemirror_mode": {
    "name": "ipython",
    "version": 3
   },
   "file_extension": ".py",
   "mimetype": "text/x-python",
   "name": "python",
   "nbconvert_exporter": "python",
   "pygments_lexer": "ipython3",
   "version": "3.7.6"
  }
 },
 "nbformat": 4,
 "nbformat_minor": 4
}
