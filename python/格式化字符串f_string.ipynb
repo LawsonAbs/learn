{
 "cells": [
  {
   "cell_type": "code",
   "execution_count": 3,
   "metadata": {},
   "outputs": [
    {
     "name": "stdout",
     "output_type": "stream",
     "text": [
      "hello,My name is hua wei\n"
     ]
    }
   ],
   "source": [
    "\"\"\"f-string的常见使用方式\n",
    "01.{} 表示变量\n",
    "\"\"\"\n",
    "name=\"hua wei\"\n",
    "print(f\"hello,My name is {name}\")\n"
   ]
  },
  {
   "cell_type": "code",
   "execution_count": 7,
   "metadata": {},
   "outputs": [
    {
     "name": "stdout",
     "output_type": "stream",
     "text": [
      "They have 17 apples\n",
      "my name is HUA WEI\n"
     ]
    }
   ],
   "source": [
    "\"\"\"\n",
    "02.可以在{}中写入表达式，从而得到值结果\n",
    "\"\"\"\n",
    "print(f\"They have {2+5*3} apples\")  # 计算数学表达式\n",
    "print(f\"my name is {name.upper()}\") # 转为大写"
   ]
  },
  {
   "cell_type": "code",
   "execution_count": 1,
   "metadata": {},
   "outputs": [
    {
     "name": "stdout",
     "output_type": "stream",
     "text": [
      "4\n"
     ]
    }
   ],
   "source": [
    "\"\"\"\n",
    "03.可以在{}中使用lambda表达式，做复杂的数值计算\n",
    "下面这个lambda 表达式是用于计算一个数的平方。注意格式问题即可\n",
    "\"\"\"\n",
    "print(f\"{(lambda x:x*x)(2)}\")"
   ]
  },
  {
   "cell_type": "code",
   "execution_count": 6,
   "metadata": {},
   "outputs": [
    {
     "name": "stdout",
     "output_type": "stream",
     "text": [
      "/home/lawsonabs/20200610_093347.abc\n"
     ]
    }
   ],
   "source": [
    "'''04.直接使用f{string}  格式化字符串，然后赋值给变量\n",
    "'''\n",
    "import datetime as dt\n",
    "a = \"/home/lawsonabs/\"\n",
    "b = dt.datetime.now()\n",
    "b = b.strftime('%Y%d%m_%H%M%S')\n",
    "fileName = f\"{a}{b}.abc\"  # 直接拼接，然后赋值\n",
    "print(fileName)"
   ]
  },
  {
   "cell_type": "code",
   "execution_count": 2,
   "metadata": {},
   "outputs": [
    {
     "name": "stdout",
     "output_type": "stream",
     "text": [
      "abc  xyz  \n",
      "  abc  xyz\n"
     ]
    }
   ],
   "source": [
    "'''05.左右对齐字符串\n",
    "'''\n",
    "x = \"abc\"\n",
    "y = \"xyz\"\n",
    "\n",
    "# 左对齐，用小于号\n",
    "left_res = f\"{x:<5}\" + f\"{y:<5}\"\n",
    "print(left_res)\n",
    "\n",
    "# 右对齐，用大鱼号\n",
    "right_res = f\"{x:>5}\" + f\"{y:>5}\"\n",
    "print(right_res)"
   ]
  }
 ],
 "metadata": {
  "kernelspec": {
   "display_name": "Python 3",
   "language": "python",
   "name": "python3"
  },
  "language_info": {
   "codemirror_mode": {
    "name": "ipython",
    "version": 3
   },
   "file_extension": ".py",
   "mimetype": "text/x-python",
   "name": "python",
   "nbconvert_exporter": "python",
   "pygments_lexer": "ipython3",
   "version": "3.8.3"
  }
 },
 "nbformat": 4,
 "nbformat_minor": 4
}
