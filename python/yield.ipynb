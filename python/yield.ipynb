{
 "cells": [
  {
   "cell_type": "code",
   "execution_count": 10,
   "metadata": {},
   "outputs": [
    {
     "name": "stdout",
     "output_type": "stream",
     "text": [
      "1\n",
      "1\n",
      "2\n",
      "3\n",
      "5\n"
     ]
    }
   ],
   "source": [
    "\"\"\"使用迭代器是通用的、标准的、优雅的、pythonic的。\n",
    "如何创建迭代器？有两种方法：\n",
    "01.传递一个参数给iter()函数，这个函数会检查参数是否是一个序列\n",
    "02.自定义一个类（本例所示），但是得实现__iter__()、__next__()方法\n",
    "\"\"\"\n",
    "class Fab(object):\n",
    "    def __init__(self, max):\n",
    "        self.max = max\n",
    "        self.n, self.a, self.b = 0, 0, 1\n",
    "\n",
    "    # 用于表示当前这个类是可迭代的。即这个类是一个迭代器\n",
    "    # 只在迭代开始的时候运行一次。返回的是对象本身，这个对象可迭代。然后迭代的方法就是下面的这个__next__()方法\n",
    "    # 直到遇到StopIteration错误时退出循环\n",
    "    def __iter__(self):\n",
    "        print(\"__iter__\")\n",
    "        return self\n",
    "\n",
    "    # TypeError: iter() returned non-iterator of type 'Fab'\n",
    "    # 需要补一补 __next__() 方法的使用\n",
    "    def __next__(self):\n",
    "        print(\"__next__\")\n",
    "        if self.n < self.max:\n",
    "            r = self.b\n",
    "            self.a, self.b = self.b, self.a + self.b\n",
    "            self.n = self.n + 1\n",
    "            return r\n",
    "        raise StopIteration()\n",
    "\n",
    "# 下面这个5是设置的计算可得的最大值\n",
    "for n in Fab(5):\n",
    "    print(n)"
   ]
  }
 ],
 "metadata": {
  "kernelspec": {
   "display_name": "Python 3",
   "language": "python",
   "name": "python3"
  },
  "language_info": {
   "codemirror_mode": {
    "name": "ipython",
    "version": 3
   },
   "file_extension": ".py",
   "mimetype": "text/x-python",
   "name": "python",
   "nbconvert_exporter": "python",
   "pygments_lexer": "ipython3",
   "version": "3.7.6"
  }
 },
 "nbformat": 4,
 "nbformat_minor": 4
}
