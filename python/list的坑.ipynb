{
 "cells": [
  {
   "cell_type": "code",
   "execution_count": 2,
   "metadata": {},
   "outputs": [
    {
     "name": "stdout",
     "output_type": "stream",
     "text": [
      "[{'name': 'lawson', 'other': [{'age': 24}]}]\n",
      "[{'name': 'lawson', 'other': [{'age': 25}]}, {'name': 'lawson', 'other': [{'age': 25}]}]\n"
     ]
    }
   ],
   "source": [
    "his = {\"name\":\"lawson\",\"other\":[{\"age\":24}]}\n",
    "info = []\n",
    "# step1 在修改his之前放到info中\n",
    "info.append(his) \n",
    "print(info)\n",
    "\n",
    "# step2. 对his 中的信息进行修改\n",
    "for i in his['other']:\n",
    "    i['age'] = 25\n",
    "    \n",
    "# 将信息再次放到info中\n",
    "info.append(his)\n",
    "\n",
    "# 输出最后的信息\n",
    "print(info) #"
   ]
  }
 ],
 "metadata": {
  "kernelspec": {
   "display_name": "Python 3",
   "language": "python",
   "name": "python3"
  },
  "language_info": {
   "codemirror_mode": {
    "name": "ipython",
    "version": 3
   },
   "file_extension": ".py",
   "mimetype": "text/x-python",
   "name": "python",
   "nbconvert_exporter": "python",
   "pygments_lexer": "ipython3",
   "version": "3.8.3"
  }
 },
 "nbformat": 4,
 "nbformat_minor": 4
}
