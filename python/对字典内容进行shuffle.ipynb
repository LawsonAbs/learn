{
 "cells": [
  {
   "cell_type": "code",
   "execution_count": 12,
   "metadata": {},
   "outputs": [
    {
     "name": "stdout",
     "output_type": "stream",
     "text": [
      "['name', 'age', 'time']\n",
      "['age', 'time', 'name']\n",
      "{'age': 26, 'time': '20230213', 'name': 'lawson'}\n"
     ]
    }
   ],
   "source": [
    "# 字典的shuffle\n",
    "a = {\"name\":'lawson',\"age\":26,'time':'20230213'}\n",
    "import random\n",
    "keys = list(a.keys())\n",
    "print(keys)\n",
    "random.shuffle(keys)\n",
    "print(keys)\n",
    "# a = random.shuffle(a)\n",
    "# print(a)\n",
    "new_relations = {key:a.get(key,\"\") for key in keys }\n",
    "print(new_relations)"
   ]
  }
 ],
 "metadata": {
  "kernelspec": {
   "display_name": "Python 3 (ipykernel)",
   "language": "python",
   "name": "python3"
  },
  "language_info": {
   "codemirror_mode": {
    "name": "ipython",
    "version": 3
   },
   "file_extension": ".py",
   "mimetype": "text/x-python",
   "name": "python",
   "nbconvert_exporter": "python",
   "pygments_lexer": "ipython3",
   "version": "3.8.3"
  }
 },
 "nbformat": 4,
 "nbformat_minor": 4
}
