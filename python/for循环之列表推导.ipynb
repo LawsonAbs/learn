{
 "cells": [
  {
   "cell_type": "code",
   "execution_count": 1,
   "metadata": {},
   "outputs": [
    {
     "name": "stdout",
     "output_type": "stream",
     "text": [
      "{'id': [1, 2], 'q': ['你叫什么名字？', '你的家乡在哪里？']}\n"
     ]
    }
   ],
   "source": [
    "\"\"\"for循环的高级用法\n",
    "01.其实就是列表推导。这里的建议是：只用列表推导来创建新的列表，并且尽量保持简洁\n",
    "\"\"\"\n",
    "res={}\n",
    "batch=[{\"id\":1,'q':'你叫什么名字？'},{\"id\":2,'q':'你的家乡在哪里？'}]  # batch中应该是一个个的字典，这些字典是列表中的一个元素。\n",
    "# 下面的这些操作是干什么？ 将相应的值写入字典中吗？其实可以这么理解\n",
    "# step1. batch中的每一项都是字典，也就是_的含义，\n",
    "# step2.然后_['id']就相当于取出该字典中键为id的值，\n",
    "# step3.根据列表生成表达式拼成一个list\n",
    "res['id'] = [_['id'] for _ in batch] # 遍历每个字典，然后取出键=id的value 放到res中\n",
    "res['q'] = [_['q'] for _ in batch]\n",
    "print(res)"
   ]
  },
  {
   "cell_type": "code",
   "execution_count": 1,
   "metadata": {},
   "outputs": [
    {
     "name": "stdout",
     "output_type": "stream",
     "text": [
      "{'id': [1, 2], 'q': []}\n"
     ]
    }
   ],
   "source": [
    "\"\"\"\n",
    "for循环的高级用法\n",
    "\"\"\"\n",
    "res={}\n",
    "batch=[{\"id\":1,'q':'你叫什么名字？'},{\"id\":2,'q':'你的家乡在哪里？'}]  # batch中应该是一个个的字典，这些字典是列表中的一个元素。\n",
    "# 下面的这些操作是干什么？ 将相应的值写入字典中吗？\n",
    "res['id']=[]\n",
    "res['q']=[]\n",
    "for dic in batch:    \n",
    "    res['id'].append(dic.get('id'))    \n",
    "print(res)"
   ]
  }
 ],
 "metadata": {
  "kernelspec": {
   "display_name": "Python 3",
   "language": "python",
   "name": "python3"
  },
  "language_info": {
   "codemirror_mode": {
    "name": "ipython",
    "version": 3
   },
   "file_extension": ".py",
   "mimetype": "text/x-python",
   "name": "python",
   "nbconvert_exporter": "python",
   "pygments_lexer": "ipython3",
   "version": "3.8.3"
  }
 },
 "nbformat": 4,
 "nbformat_minor": 4
}
