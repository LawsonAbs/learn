{
 "cells": [
  {
   "cell_type": "code",
   "execution_count": 7,
   "metadata": {},
   "outputs": [
    {
     "name": "stdout",
     "output_type": "stream",
     "text": [
      "a == b\n",
      "a is b\n"
     ]
    }
   ],
   "source": [
    "\"\"\"list的深入研究\n",
    "赋值的过程。得到的结果就是：二者就是一样的东西。\n",
    "\"\"\"\n",
    "a= [1,2,3,4,5]\n",
    "b=a\n",
    "if a == b: # 比较的是值\n",
    "    print(\"a == b\")\n",
    "if a is b : # 比较的是id\n",
    "    print(\"a is b\")"
   ]
  },
  {
   "cell_type": "code",
   "execution_count": 6,
   "metadata": {},
   "outputs": [
    {
     "name": "stdout",
     "output_type": "stream",
     "text": [
      "[7, 0, 3, 1, 2]\n",
      "[2, 4, 7, 3, 4]\n",
      "[3, 9, 4, 4, 8]\n",
      "[10, 7, 7, 0, 6]\n",
      "[5, 8, 4, 8, 4]\n",
      "[[7, 0, 3, 1, 2], [2, 4, 7, 3, 4], [3, 9, 4, 4, 8], [10, 7, 7, 0, 6], [5, 8, 4, 8, 4]]\n"
     ]
    }
   ],
   "source": [
    "\"\"\"对list的追加\n",
    "\"\"\"\n",
    "import random\n",
    "res = []\n",
    "for _ in range(5):\n",
    "    temp = [random.randint(0,10) for _ in range(5)]\n",
    "    print(temp)\n",
    "    res.append(temp)\n",
    "print(res)"
   ]
  },
  {
   "cell_type": "code",
   "execution_count": 1,
   "metadata": {},
   "outputs": [
    {
     "name": "stdout",
     "output_type": "stream",
     "text": [
      "140386067180672\n",
      "140386067180672\n"
     ]
    }
   ],
   "source": [
    "\"\"\"对list中的数值进行修改\n",
    "修改后的id没有改变。 => list 是可变序列\n",
    "\"\"\"\n",
    "li=[1,2,3,4]\n",
    "print(id(li))\n",
    "li[1] = 5\n",
    "print(id(li)) "
   ]
  },
  {
   "cell_type": "code",
   "execution_count": 1,
   "metadata": {},
   "outputs": [
    {
     "ename": "ValueError",
     "evalue": "too many values to unpack (expected 3)",
     "output_type": "error",
     "traceback": [
      "\u001b[0;31m---------------------------------------------------------------------------\u001b[0m",
      "\u001b[0;31mValueError\u001b[0m                                Traceback (most recent call last)",
      "\u001b[0;32m<ipython-input-1-cc4b66efd69e>\u001b[0m in \u001b[0;36m<module>\u001b[0;34m\u001b[0m\n\u001b[1;32m      4\u001b[0m \"\"\"\n\u001b[1;32m      5\u001b[0m \u001b[0mli\u001b[0m \u001b[0;34m=\u001b[0m \u001b[0;34m[\u001b[0m\u001b[0;36m1\u001b[0m\u001b[0;34m,\u001b[0m\u001b[0;36m2\u001b[0m\u001b[0;34m,\u001b[0m\u001b[0;36m3\u001b[0m\u001b[0;34m,\u001b[0m\u001b[0;36m4\u001b[0m\u001b[0;34m]\u001b[0m\u001b[0;34m\u001b[0m\u001b[0;34m\u001b[0m\u001b[0m\n\u001b[0;32m----> 6\u001b[0;31m \u001b[0ma\u001b[0m\u001b[0;34m,\u001b[0m\u001b[0mb\u001b[0m\u001b[0;34m,\u001b[0m\u001b[0mc\u001b[0m\u001b[0;34m=\u001b[0m\u001b[0mli\u001b[0m\u001b[0;34m\u001b[0m\u001b[0;34m\u001b[0m\u001b[0m\n\u001b[0m\u001b[1;32m      7\u001b[0m \u001b[0mprint\u001b[0m\u001b[0;34m(\u001b[0m\u001b[0ma\u001b[0m\u001b[0;34m,\u001b[0m\u001b[0mb\u001b[0m\u001b[0;34m,\u001b[0m\u001b[0mc\u001b[0m\u001b[0;34m)\u001b[0m\u001b[0;34m\u001b[0m\u001b[0;34m\u001b[0m\u001b[0m\n",
      "\u001b[0;31mValueError\u001b[0m: too many values to unpack (expected 3)"
     ]
    }
   ],
   "source": [
    "\"\"\" list解包原则\n",
    "1.一一对应\n",
    "如果数组有多个值，但是解包后的元素个数是多于被赋值变量的个数，那么就会报错  \n",
    "=> ValueError: too many values to unpack (expected 3)\n",
    "\"\"\"\n",
    "li = [1,2,3,4]\n",
    "a,b,c=li\n",
    "print(a,b,c)"
   ]
  },
  {
   "cell_type": "code",
   "execution_count": 6,
   "metadata": {},
   "outputs": [
    {
     "name": "stdout",
     "output_type": "stream",
     "text": [
      "I\n",
      "love\n",
      "['you']\n"
     ]
    }
   ],
   "source": [
    "\"\"\"list解包原则\n",
    "2.如果参数个数对不上，那么可以采用 *变量  的方法。这个就有点儿“可变参数”的味道了\n",
    "\"\"\"\n",
    "a = [\"I\",\"love\",\"you\"]\n",
    "c,b,*d = a\n",
    "print(c)\n",
    "print(b)\n",
    "print(d)  # 仍然是个list，['you']"
   ]
  },
  {
   "cell_type": "code",
   "execution_count": 5,
   "metadata": {},
   "outputs": [
    {
     "name": "stdout",
     "output_type": "stream",
     "text": [
      "5 4 3 2 1 \n",
      "----\n",
      "1 2 3 4 5 \n",
      "----\n",
      "5 4 3 2 1 \n",
      "----\n"
     ]
    }
   ],
   "source": [
    "\"\"\"控制数组输出顺序\n",
    "01.使用reversed 进行倒序输出\n",
    "\"\"\"\n",
    "a=[1,2,3,4,5] # a既可称为数组，又可称为列表\n",
    "\n",
    "for i in a[::-1]: #增量是-1，所以这里只能是倒序输出\n",
    "    print(i,end=\" \")\n",
    "print(\"\\n----\")\n",
    "for i in a[::1]: # 增量是1，所以这里只能是顺序输出\n",
    "    print(i,end=\" \")\n",
    "print(\"\\n----\")\n",
    "for i in reversed(a):  # 直接使用函数进行倒序输出\n",
    "    print(i,end=\" \")    \n",
    "print(\"\\n----\")"
   ]
  },
  {
   "cell_type": "code",
   "execution_count": 6,
   "metadata": {},
   "outputs": [
    {
     "name": "stdout",
     "output_type": "stream",
     "text": [
      "['296', '306']\n",
      "['5.0', '3.5']\n"
     ]
    }
   ],
   "source": [
    "\"\"\" 将dict 的key/value转换成list\n",
    "\"\"\"\n",
    "rate1={'296':'5.0','306':'3.5'}\n",
    "rate2={'123':'5.0','296':'23','304':'5.0','306':'5.0'}\n",
    "\n",
    "print(list(rate1.keys())) # 打印出字典rate1的所有键组成的列表\n",
    "print(list(rate1.values())) # 打印出字典rate1的所有值组成的列表"
   ]
  },
  {
   "cell_type": "code",
   "execution_count": 5,
   "metadata": {},
   "outputs": [
    {
     "name": "stdout",
     "output_type": "stream",
     "text": [
      "[[1, 2, 3], [1, 5, 5], [2, 3, 5]]\n"
     ]
    }
   ],
   "source": [
    "'''将list中的每个小list扩展成相同大小\n",
    "'''\n",
    "li = [[1,2,3],[1],[2,3]]\n",
    "for item in li:\n",
    "    for i in range(len(item),3):\n",
    "        item.append(5)\n",
    "\n",
    "print(li)"
   ]
  },
  {
   "cell_type": "code",
   "execution_count": 10,
   "metadata": {},
   "outputs": [
    {
     "name": "stdout",
     "output_type": "stream",
     "text": [
      "[1, 2, 3, 4]\n",
      "[1, 2, 3, 4, [5, 6, 7]]\n"
     ]
    }
   ],
   "source": [
    "\"\"\"append()函数\n",
    "\"\"\"\n",
    "li = [1,2,3,4]\n",
    "print(li)\n",
    "li.append([5,6,7])\n",
    "print(li)"
   ]
  },
  {
   "cell_type": "code",
   "execution_count": 12,
   "metadata": {},
   "outputs": [
    {
     "name": "stdout",
     "output_type": "stream",
     "text": [
      "[0, 1, 2]\n"
     ]
    }
   ],
   "source": [
    "a = [1,2]\n",
    "a = [0] + a\n",
    "print(a)"
   ]
  },
  {
   "cell_type": "code",
   "execution_count": 25,
   "metadata": {},
   "outputs": [
    {
     "name": "stdout",
     "output_type": "stream",
     "text": [
      "尚不明确，请咨询医师非处方药，12片/盒\n",
      "['尚不明确，请咨询医师', '非处方药，12片/盒']\n",
      "[]\n",
      "['尚不明确，请咨询医师', '非处方药，12片/盒', 1]\n",
      "['尚不明确，请咨询医师', '非处方药，12片/盒', 1, 'my name is lawson']\n",
      "['尚不明确，请咨询医师', '非处方药，12片/盒', 1, 'my name is lawson', 'wahh']\n"
     ]
    }
   ],
   "source": [
    "a= ['尚不明确，请咨询医师','非处方药，12片/盒']\n",
    "out = a[0] + a[1]\n",
    "print(out)\n",
    "print(a)\n",
    "print(a[2:5])\n",
    "\n",
    "a.append(1)  # 只能加入一个数字\n",
    "print(a)\n",
    "a.extend([\"my name is lawson\"])  # 可以将一个数组扩展开来\n",
    "print(a)\n",
    "a.append(\"wahh\")\n",
    "print(a)"
   ]
  },
  {
   "cell_type": "code",
   "execution_count": 1,
   "metadata": {},
   "outputs": [
    {
     "name": "stdout",
     "output_type": "stream",
     "text": [
      "[10, 11, 12, 13, 14, 15, 16, 17, 18, 19]\n"
     ]
    }
   ],
   "source": [
    "a = []\n",
    "a.extend([_ for _ in range(10,20)] )\n",
    "print(a)"
   ]
  },
  {
   "cell_type": "code",
   "execution_count": 4,
   "metadata": {},
   "outputs": [
    {
     "name": "stdout",
     "output_type": "stream",
     "text": [
      "[1, 2, 3, 4]\n",
      "[5, 6, 7, 8]\n",
      "[1, 2, 3, 4, 5, 6, 7, 8]\n"
     ]
    }
   ],
   "source": [
    "\"\"\"对list执行加号操作\n",
    "\"\"\"\n",
    "a=[1,2,3,4]\n",
    "b=[5,6,7,8]\n",
    "c = a+b\n",
    "# a,b 值不变\n",
    "print(a)\n",
    "print(b)\n",
    "print(c)"
   ]
  },
  {
   "cell_type": "code",
   "execution_count": 3,
   "metadata": {},
   "outputs": [
    {
     "name": "stdout",
     "output_type": "stream",
     "text": [
      "0\n",
      "False\n"
     ]
    }
   ],
   "source": [
    "'''\n",
    "[] 与 None 是不同的\n",
    "'''\n",
    "a = []\n",
    "print(len(a))\n",
    "print(a is None) # False\n",
    "for i in a: # 无法进入for 循环\n",
    "    print(i+\"2\")"
   ]
  },
  {
   "cell_type": "code",
   "execution_count": 2,
   "metadata": {},
   "outputs": [
    {
     "name": "stdout",
     "output_type": "stream",
     "text": [
      "[0, 1, 0, 0, 0, 0, 0, 0, 0, 0]\n"
     ]
    }
   ],
   "source": [
    "'''生成指定大小的list\n",
    "'''\n",
    "li = [0] * 10\n",
    "li[1] = 1\n",
    "print(li)"
   ]
  }
 ],
 "metadata": {
  "kernelspec": {
   "display_name": "Python 3",
   "language": "python",
   "name": "python3"
  },
  "language_info": {
   "codemirror_mode": {
    "name": "ipython",
    "version": 3
   },
   "file_extension": ".py",
   "mimetype": "text/x-python",
   "name": "python",
   "nbconvert_exporter": "python",
   "pygments_lexer": "ipython3",
   "version": "3.8.3"
  }
 },
 "nbformat": 4,
 "nbformat_minor": 4
}
