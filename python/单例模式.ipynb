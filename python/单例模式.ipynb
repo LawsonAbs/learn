{
 "cells": [
  {
   "cell_type": "code",
   "execution_count": 9,
   "metadata": {},
   "outputs": [
    {
     "data": {
      "text/plain": [
       "True"
      ]
     },
     "execution_count": 9,
     "metadata": {},
     "output_type": "execute_result"
    }
   ],
   "source": [
    "# 定义一个函数用作装饰器\n",
    "def singleton(cls):\n",
    "    _instance={} # 这个里面存放各个类的唯一实例\n",
    "    \n",
    "    # TODO: 为啥需要再定义一个内部函数，然后再返回呢？\n",
    "    def inner():\n",
    "        # 如果这个类不在这个 _instance 中，那么就要初始化一下\n",
    "        if cls not in _instance: \n",
    "            _instance[cls] = cls()\n",
    "        return _instance[cls]\n",
    "    return inner\n",
    "\n",
    "# 使用装饰器修饰 => 为啥装饰器还可以修饰类？\n",
    "@singleton \n",
    "# 定义一个类，用于实现单例\n",
    "class Student(object):    \n",
    "    def __init__(self):\n",
    "        pass\n",
    "\n",
    "a = Student()\n",
    "b = Student()\n",
    "id(a) == id(b)"
   ]
  }
 ],
 "metadata": {
  "kernelspec": {
   "display_name": "Python 3",
   "language": "python",
   "name": "python3"
  },
  "language_info": {
   "codemirror_mode": {
    "name": "ipython",
    "version": 3
   },
   "file_extension": ".py",
   "mimetype": "text/x-python",
   "name": "python",
   "nbconvert_exporter": "python",
   "pygments_lexer": "ipython3",
   "version": "3.8.3"
  }
 },
 "nbformat": 4,
 "nbformat_minor": 4
}
