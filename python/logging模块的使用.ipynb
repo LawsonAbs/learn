{
 "cells": [
  {
   "cell_type": "code",
   "execution_count": 13,
   "metadata": {},
   "outputs": [],
   "source": [
    "\"\"\"为什么多次运行这个模块之后，就无法得到新的日志文件？\n",
    "问题描述：\n",
    "1.第一次运行这个程序，然后会生成一个日志文件，如果我把这个日志文件删除\n",
    "再次运行本程序，那么就再也无法得到日志文件了\n",
    "\"\"\"\n",
    "import logging\n",
    "import time\n",
    "\n",
    "curTime = time.strftime(\"%m%d_%H%M%S\", time.localtime())\n",
    "log_name = curTime + '.log'\n",
    "# 根据生成的文件夹，将日志写到其中\n",
    "logging.basicConfig(format = '%(asctime)s - %(levelname)s - %(name)s -   %(message)s',\n",
    "                    datefmt = '%m/%d/%Y %H:%M:%S',\n",
    "                    level = logging.INFO,\n",
    "                    filename= \"./\" + log_name, # 以当前时间作为log名，可以指定一个文件夹\n",
    "                    filemode='w', # 写模式\n",
    "                    )\n",
    "logger = logging.getLogger(\"lawson\")\n",
    "logger.info(\"Hello worldsdfsdof jsodf \") \n",
    "# logger_1 = logging.getLogger(\"lawson\")\n",
    "# print(logger == logger_1)\n",
    "# logger_1.info(\"Hello logging\")"
   ]
  },
  {
   "cell_type": "code",
   "execution_count": 8,
   "metadata": {},
   "outputs": [
    {
     "name": "stdout",
     "output_type": "stream",
     "text": [
      "model_subject_40000.txt\n"
     ]
    }
   ],
   "source": [
    "name = \"/home/lawson/program/DuIE_py/checkpoints/model_subject_40000_roberta.pdparams\"\n",
    "a=name.split(\"/\")[-1].split(\"_\")\n",
    "suffix = a[0] + \"_\"+a[1] +\"_\"+ a[2] +\".txt\"\n",
    "print(suffix)"
   ]
  },
  {
   "cell_type": "code",
   "execution_count": 18,
   "metadata": {},
   "outputs": [
    {
     "name": "stdout",
     "output_type": "stream",
     "text": [
      "{'input_ids': [101, 2769, 4638, 5739, 3152, 1399, 2099, 3221, 11353, 8535, 8425, 8024, 852, 3221, 2769, 679, 2382, 4500, 511, 11889, 8815, 8196, 1548, 4638, 3625, 2923, 1962, 1420, 4638, 102], 'token_type_ids': [0, 0, 0, 0, 0, 0, 0, 0, 0, 0, 0, 0, 0, 0, 0, 0, 0, 0, 0, 0, 0, 0, 0, 0, 0, 0, 0, 0, 0, 0], 'attention_mask': [1, 1, 1, 1, 1, 1, 1, 1, 1, 1, 1, 1, 1, 1, 1, 1, 1, 1, 1, 1, 1, 1, 1, 1, 1, 1, 1, 1, 1, 1]}\n"
     ]
    }
   ],
   "source": [
    "from transformers import BertTokenizerFast\n",
    "tokenizer = BertTokenizerFast.from_pretrained(\"/home/lawson/pretrain/bert-base-chinese\")\n",
    "text = \"我的英文名字是lawson ABC，但是我不常用。Justin Beer唱的歌挺好听的\"\n",
    "ins = tokenizer(text)\n",
    "print(ins)\n"
   ]
  },
  {
   "cell_type": "code",
   "execution_count": 19,
   "metadata": {},
   "outputs": [
    {
     "data": {
      "text/plain": [
       "['[CLS]',\n",
       " '我',\n",
       " '的',\n",
       " '英',\n",
       " '文',\n",
       " '名',\n",
       " '字',\n",
       " '是',\n",
       " 'law',\n",
       " '##son',\n",
       " 'abc',\n",
       " '，',\n",
       " '但',\n",
       " '是',\n",
       " '我',\n",
       " '不',\n",
       " '常',\n",
       " '用',\n",
       " '。',\n",
       " 'justin',\n",
       " 'be',\n",
       " '##er',\n",
       " '唱',\n",
       " '的',\n",
       " '歌',\n",
       " '挺',\n",
       " '好',\n",
       " '听',\n",
       " '的',\n",
       " '[SEP]']"
      ]
     },
     "execution_count": 19,
     "metadata": {},
     "output_type": "execute_result"
    }
   ],
   "source": [
    "tokenizer.convert_ids_to_tokens(ins['input_ids'])"
   ]
  },
  {
   "cell_type": "code",
   "execution_count": 27,
   "metadata": {},
   "outputs": [],
   "source": [
    "text = \"##fs好text孩子\"\n",
    "if (not (text.startswith(\"#\"))):\n",
    "    print(\"text 不以#开头\")"
   ]
  },
  {
   "cell_type": "code",
   "execution_count": 18,
   "metadata": {},
   "outputs": [
    {
     "name": "stdout",
     "output_type": "stream",
     "text": [
      "logger1 = logger_2\n",
      "logger_1 != logger_3\n"
     ]
    }
   ],
   "source": [
    "\"\"\"比较生成的logger 是否是单例对象\n",
    "1.如果传入的name相同，那么返回的就是相同的对象\n",
    "\"\"\"\n",
    "import logging\n",
    "import time\n",
    "\n",
    "curTime = time.strftime(\"%m%d_%H%M%S\", time.localtime())\n",
    "log_name = curTime + '.log'\n",
    "# 根据生成的文件夹，将日志写到其中\n",
    "logging.basicConfig(format = '%(asctime)s - %(levelname)s - %(name)s -   %(message)s',\n",
    "                    datefmt = '%m/%d/%Y %H:%M:%S',\n",
    "                    level = logging.INFO,\n",
    "                    filename= \"./\" + log_name, # 以当前时间作为log名，可以指定一个文件夹\n",
    "                    filemode='w', # 写模式\n",
    "                    )\n",
    "logger_1 = logging.getLogger(\"lawson\")\n",
    "logger_2 = logging.getLogger(\"lawson\")\n",
    "logger_3 = logging.getLogger(\"abcd\")\n",
    "\n",
    "if logger_1 == logger_2:\n",
    "    print(\"logger1 = logger_2\")\n",
    "else :\n",
    "    print(\"logger_1 != logger_2\")\n",
    "\n",
    "if logger_1 == logger_3:\n",
    "    print(\"logger1 = logger_3\")\n",
    "else :\n",
    "    print(\"logger_1 != logger_3\")"
   ]
  },
  {
   "cell_type": "code",
   "execution_count": 32,
   "metadata": {},
   "outputs": [
    {
     "name": "stdout",
     "output_type": "stream",
     "text": [
      "['One', 'two', 'three', 'four', '图书作品']\n",
      "One two three four\n"
     ]
    }
   ],
   "source": [
    "text = \"One two three four 图书作品\"\n",
    "line = text.split()\n",
    "print(line)\n",
    "subject=' '.join(line[0:-1])\n",
    "print(subject)"
   ]
  },
  {
   "cell_type": "code",
   "execution_count": 40,
   "metadata": {},
   "outputs": [
    {
     "name": "stdout",
     "output_type": "stream",
     "text": [
      "True\n"
     ]
    }
   ],
   "source": [
    "text = \"sdf\"\n",
    "print((text != None))"
   ]
  }
 ],
 "metadata": {
  "kernelspec": {
   "display_name": "Python 3",
   "language": "python",
   "name": "python3"
  },
  "language_info": {
   "codemirror_mode": {
    "name": "ipython",
    "version": 3
   },
   "file_extension": ".py",
   "mimetype": "text/x-python",
   "name": "python",
   "nbconvert_exporter": "python",
   "pygments_lexer": "ipython3",
   "version": "3.8.3"
  }
 },
 "nbformat": 4,
 "nbformat_minor": 4
}
