{
 "cells": [
  {
   "cell_type": "code",
   "execution_count": 13,
   "metadata": {},
   "outputs": [],
   "source": [
    "\"\"\"为什么多次运行这个模块之后，就无法得到新的日志文件？\n",
    "问题描述：\n",
    "1.第一次运行这个程序，然后会生成一个日志文件，如果我把这个日志文件删除\n",
    "再次运行本程序，那么就再也无法得到日志文件了\n",
    "\"\"\"\n",
    "import logging\n",
    "import time\n",
    "\n",
    "curTime = time.strftime(\"%m%d_%H%M%S\", time.localtime())\n",
    "log_name = curTime + '.log'\n",
    "# 根据生成的文件夹，将日志写到其中\n",
    "logging.basicConfig(format = '%(asctime)s - %(levelname)s - %(name)s -   %(message)s',\n",
    "                    datefmt = '%m/%d/%Y %H:%M:%S',\n",
    "                    level = logging.INFO,\n",
    "                    filename= \"./\" + log_name, # 以当前时间作为log名，可以指定一个文件夹\n",
    "                    filemode='w', # 写模式\n",
    "                    )\n",
    "logger = logging.getLogger(\"lawson\")\n",
    "logger.info(\"Hello worldsdfsdof jsodf \") \n",
    "# logger_1 = logging.getLogger(\"lawson\")\n",
    "# print(logger == logger_1)\n",
    "# logger_1.info(\"Hello logging\")"
   ]
  },
  {
   "cell_type": "code",
   "execution_count": null,
   "metadata": {},
   "outputs": [],
   "source": []
  }
 ],
 "metadata": {
  "kernelspec": {
   "display_name": "Python 3",
   "language": "python",
   "name": "python3"
  },
  "language_info": {
   "codemirror_mode": {
    "name": "ipython",
    "version": 3
   },
   "file_extension": ".py",
   "mimetype": "text/x-python",
   "name": "python",
   "nbconvert_exporter": "python",
   "pygments_lexer": "ipython3",
   "version": "3.8.3"
  }
 },
 "nbformat": 4,
 "nbformat_minor": 4
}
