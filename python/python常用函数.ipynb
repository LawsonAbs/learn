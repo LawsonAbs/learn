{
 "cells": [
  {
   "cell_type": "code",
   "execution_count": 16,
   "metadata": {},
   "outputs": [
    {
     "name": "stdout",
     "output_type": "stream",
     "text": [
      "2 4\n"
     ]
    }
   ],
   "source": [
    "\"\"\"print()函数\n",
    "1.分隔符设置\n",
    "2.字符串和非字符串的连接\n",
    "\"\"\"\n",
    "a=2\n",
    "b=4\n",
    "print(a,b)# 默认用空格自然分割\n",
    "\n",
    "num_egg=12\n",
    "print('I have %s eggs' %num_egg)  # 使用%拼接字符串 "
   ]
  },
  {
   "cell_type": "code",
   "execution_count": 1,
   "metadata": {},
   "outputs": [
    {
     "name": "stdout",
     "output_type": "stream",
     "text": [
      "sdfsdfs\n",
      "7\n"
     ]
    }
   ],
   "source": [
    "\"\"\"使用input()进行输入\n",
    "\"\"\"\n",
    "a=input()\n",
    "print(len(a))"
   ]
  },
  {
   "cell_type": "code",
   "execution_count": 30,
   "metadata": {},
   "outputs": [
    {
     "name": "stdout",
     "output_type": "stream",
     "text": [
      "4.0\n"
     ]
    }
   ],
   "source": [
    "\"\"\"sqrt()函数； 导入math包\n",
    "\"\"\"\n",
    "import math\n",
    "a = 16\n",
    "print(math.sqrt(a))"
   ]
  }
 ],
 "metadata": {
  "kernelspec": {
   "display_name": "Python 3",
   "language": "python",
   "name": "python3"
  },
  "language_info": {
   "codemirror_mode": {
    "name": "ipython",
    "version": 3
   },
   "file_extension": ".py",
   "mimetype": "text/x-python",
   "name": "python",
   "nbconvert_exporter": "python",
   "pygments_lexer": "ipython3",
   "version": "3.7.6"
  }
 },
 "nbformat": 4,
 "nbformat_minor": 4
}
