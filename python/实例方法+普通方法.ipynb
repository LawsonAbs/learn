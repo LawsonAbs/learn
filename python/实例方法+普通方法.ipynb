{
 "cells": [
  {
   "cell_type": "code",
   "execution_count": 1,
   "metadata": {},
   "outputs": [
    {
     "name": "stdout",
     "output_type": "stream",
     "text": [
      "<__main__.Test object at 0x7fe8392b0e90>\n",
      "<class '__main__.Test'>\n",
      "f2\n",
      "-----------------------------------\n",
      "<__main__.Test object at 0x7fe8392b0e90>\n",
      "<class '__main__.Test'>\n",
      "f2\n",
      "f1\n"
     ]
    },
    {
     "ename": "TypeError",
     "evalue": "f1() takes 0 positional arguments but 1 was given",
     "output_type": "error",
     "traceback": [
      "\u001b[0;31m---------------------------------------------------------------------------\u001b[0m",
      "\u001b[0;31mTypeError\u001b[0m                                 Traceback (most recent call last)",
      "\u001b[0;32m<ipython-input-1-a3c5085f501d>\u001b[0m in \u001b[0;36m<module>\u001b[0;34m\u001b[0m\n\u001b[1;32m     21\u001b[0m \u001b[0mTest\u001b[0m\u001b[0;34m.\u001b[0m\u001b[0mf1\u001b[0m\u001b[0;34m(\u001b[0m\u001b[0;34m)\u001b[0m\u001b[0;34m\u001b[0m\u001b[0;34m\u001b[0m\u001b[0m\n\u001b[1;32m     22\u001b[0m \u001b[0;31m# case 2.不绑定self的方法只能由类调用，实例是无法调用的。\u001b[0m\u001b[0;34m\u001b[0m\u001b[0;34m\u001b[0m\u001b[0;34m\u001b[0m\u001b[0m\n\u001b[0;32m---> 23\u001b[0;31m \u001b[0mtest\u001b[0m\u001b[0;34m.\u001b[0m\u001b[0mf1\u001b[0m\u001b[0;34m(\u001b[0m\u001b[0;34m)\u001b[0m \u001b[0;31m# TypeError: f1() takes 0 positional arguments but 1 was given\u001b[0m\u001b[0;34m\u001b[0m\u001b[0;34m\u001b[0m\u001b[0m\n\u001b[0m",
      "\u001b[0;31mTypeError\u001b[0m: f1() takes 0 positional arguments but 1 was given"
     ]
    }
   ],
   "source": [
    "\"\"\"方法一般就分两种\n",
    "01.不绑定self 的普通函数：这种方法只能让类调用，类的实例是无法调用的。\n",
    "02.绑定self的实例方法：把它绑定的对象作为第一个参数传给这个对象。\n",
    "self 的含义仅仅是提醒你这个方法会被绑定到实例上而已\n",
    "03.实例方法与普通函数只有一个区别。那就是类方法必须有一个额外的第一个参数名称，\n",
    "惯例写作self【注意实例方法的条件：第一个参数用于都只能是代表类实例的self。】\n",
    "\"\"\"\n",
    "class Test:\n",
    "    def f1():\n",
    "        print(\"f1\")\n",
    "    def f2(self):\n",
    "        print(self)\n",
    "        print(type(self))\n",
    "        print(\"f2\")\n",
    "\n",
    "test = Test()\n",
    "Test.f2(test)\n",
    "print(\"-----------------------------------\")\n",
    "test.f2()  # 可以看到调用这个函数的时候，是没有传递self的。但是实际上却是会默认将自己传递进去\n",
    "\n",
    "# 类中的普通函数只能由类调用\n",
    "Test.f1()\n",
    "# case 2.不绑定self的方法只能由类调用，实例是无法调用的。\n",
    "test.f1() # TypeError: f1() takes 0 positional arguments but 1 was given"
   ]
  },
  {
   "cell_type": "code",
   "execution_count": 2,
   "metadata": {},
   "outputs": [
    {
     "name": "stdout",
     "output_type": "stream",
     "text": [
      "id: 1 name =  lawson\n"
     ]
    }
   ],
   "source": [
    "\"\"\"self 是什么？\n",
    "01.代表类的实例，而非类。如果调用print(self)，则会输出当前对象的地址。\n",
    "02.self不是关键字，可以将类方法的第一个参数换成任何一个名字，如self->abc\n",
    "\"\"\"\n",
    "class Student():\n",
    "    def __init__(self,id,name):\n",
    "        self.id = id\n",
    "        self.name = name        \n",
    "    def printInfo(self):\n",
    "        print(\"id:\",self.id,\"name = \",self.name)        \n",
    "    \n",
    "stu = Student(1,\"lawson\")\n",
    "stu.printInfo()"
   ]
  }
 ],
 "metadata": {
  "kernelspec": {
   "display_name": "Python 3",
   "language": "python",
   "name": "python3"
  },
  "language_info": {
   "codemirror_mode": {
    "name": "ipython",
    "version": 3
   },
   "file_extension": ".py",
   "mimetype": "text/x-python",
   "name": "python",
   "nbconvert_exporter": "python",
   "pygments_lexer": "ipython3",
   "version": "3.7.6"
  }
 },
 "nbformat": 4,
 "nbformat_minor": 4
}
