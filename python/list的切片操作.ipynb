{
 "cells": [
  {
   "cell_type": "code",
   "execution_count": 10,
   "metadata": {},
   "outputs": [
    {
     "name": "stdout",
     "output_type": "stream",
     "text": [
      "2\n"
     ]
    }
   ],
   "source": [
    "\"\"\"\n",
    "切片操作是python中非常重要的一类操作，这里我就详细的介绍一下。\n",
    "（1）取出某个元素\n",
    "\"\"\"\n",
    "li = [1,2,3,4]\n",
    "out = li[1]  # 如果想取某个元素，就应该使用\n",
    "print(out)"
   ]
  },
  {
   "cell_type": "code",
   "execution_count": 26,
   "metadata": {},
   "outputs": [
    {
     "name": "stdout",
     "output_type": "stream",
     "text": [
      "<class 'list'>\n",
      "[2, 3]\n",
      "[2, 4]\n",
      "[2, 3, 4]\n"
     ]
    }
   ],
   "source": [
    "'''（2）取某个区间内的值\n",
    "01.取某个区间，切片取的结果是list\n",
    "'''\n",
    "li = [1,2,3,4]\n",
    "res1 = li[1:3] # 取下标区间[1:3]的数\n",
    "print(type(res1))  # 虽然 res 中只有一个元素，但是其仍为list \n",
    "print(res1)\n",
    "\n",
    "res2 = li[1::2] # 从下标位置1开始，直到下标2处结束\n",
    "print(res2)\n",
    "\n",
    "res3 = li[1::] # 从下标位置1开始，直到最后一位（包括最后一位）\n",
    "print(res3)"
   ]
  },
  {
   "cell_type": "code",
   "execution_count": 7,
   "metadata": {},
   "outputs": [
    {
     "name": "stdout",
     "output_type": "stream",
     "text": [
      "[1, 2, 3]\n"
     ]
    }
   ],
   "source": [
    "\"\"\"（3）取前n个数\n",
    "\"\"\"\n",
    "li = [1,2,3,4]\n",
    "res= li[:3] \n",
    "print(res) "
   ]
  },
  {
   "cell_type": "code",
   "execution_count": 4,
   "metadata": {},
   "outputs": [
    {
     "name": "stdout",
     "output_type": "stream",
     "text": [
      "[[1 2 3]\n",
      " [3 4 5]\n",
      " [4 5 6]]\n",
      "[3 5 6]\n"
     ]
    },
    {
     "ename": "TypeError",
     "evalue": "list indices must be integers or slices, not tuple",
     "output_type": "error",
     "traceback": [
      "\u001b[0;31m---------------------------------------------------------------------------\u001b[0m",
      "\u001b[0;31mTypeError\u001b[0m                                 Traceback (most recent call last)",
      "\u001b[0;32m/tmp/ipykernel_86755/826566686.py\u001b[0m in \u001b[0;36m<module>\u001b[0;34m\u001b[0m\n\u001b[1;32m      6\u001b[0m \u001b[0mprint\u001b[0m\u001b[0;34m(\u001b[0m\u001b[0ma\u001b[0m\u001b[0;34m[\u001b[0m\u001b[0;34m:\u001b[0m\u001b[0;34m,\u001b[0m\u001b[0;36m2\u001b[0m\u001b[0;34m]\u001b[0m\u001b[0;34m)\u001b[0m \u001b[0;31m#\u001b[0m\u001b[0;34m\u001b[0m\u001b[0;34m\u001b[0m\u001b[0m\n\u001b[1;32m      7\u001b[0m \u001b[0ma\u001b[0m \u001b[0;34m=\u001b[0m \u001b[0ma\u001b[0m\u001b[0;34m.\u001b[0m\u001b[0mtolist\u001b[0m\u001b[0;34m(\u001b[0m\u001b[0;34m)\u001b[0m \u001b[0;31m# 从某个索引处开始切割\u001b[0m\u001b[0;34m\u001b[0m\u001b[0;34m\u001b[0m\u001b[0m\n\u001b[0;32m----> 8\u001b[0;31m \u001b[0mprint\u001b[0m\u001b[0;34m(\u001b[0m\u001b[0ma\u001b[0m\u001b[0;34m[\u001b[0m\u001b[0;34m:\u001b[0m\u001b[0;34m,\u001b[0m\u001b[0;36m2\u001b[0m\u001b[0;34m]\u001b[0m\u001b[0;34m)\u001b[0m\u001b[0;34m\u001b[0m\u001b[0;34m\u001b[0m\u001b[0m\n\u001b[0m",
      "\u001b[0;31mTypeError\u001b[0m: list indices must be integers or slices, not tuple"
     ]
    }
   ],
   "source": [
    "\"\"\"其它的更加复杂的操作，list应该就不再支持了，可以使用numpy或者torch来完成\n",
    "（4）[:,] 操作\n",
    "\"\"\" \n",
    "import numpy as np\n",
    "a = np.array([[1,2,3],[3,4,5],[4,5,6]])\n",
    "print(a)\n",
    "print(a[:,2]) # 从某个索引处开始切割 \n",
    "a = a.tolist() # list是没有 (:,) 这种切片方法的，所以就会报错\n",
    "print(a[:,2])"
   ]
  },
  {
   "cell_type": "code",
   "execution_count": 10,
   "metadata": {},
   "outputs": [
    {
     "name": "stdout",
     "output_type": "stream",
     "text": [
      "[[-0.77370255  0.17358747 -1.6011019 ]\n",
      " [-0.63856312 -0.30458594  0.87179959]]\n",
      "[[-0.77370255  0.17358747  1.5       ]\n",
      " [-0.63856312 -0.30458594  1.5       ]]\n"
     ]
    }
   ],
   "source": [
    "'''（5）切片赋值操作\n",
    "即对整个切片进行赋值，这样改的是整个切片的值，如下所示\n",
    "'''\n",
    "import numpy as np\n",
    "a = np.random.randn(2,3) # 生成一个随机的array\n",
    "print(a)\n",
    "a[:,2] = 1.5\n",
    "print(a)"
   ]
  }
 ],
 "metadata": {
  "kernelspec": {
   "display_name": "Python 3",
   "language": "python",
   "name": "python3"
  },
  "language_info": {
   "codemirror_mode": {
    "name": "ipython",
    "version": 3
   },
   "file_extension": ".py",
   "mimetype": "text/x-python",
   "name": "python",
   "nbconvert_exporter": "python",
   "pygments_lexer": "ipython3",
   "version": "3.8.3"
  }
 },
 "nbformat": 4,
 "nbformat_minor": 4
}
