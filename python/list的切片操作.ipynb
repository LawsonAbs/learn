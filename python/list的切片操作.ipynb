{
 "cells": [
  {
   "cell_type": "code",
   "execution_count": 10,
   "metadata": {},
   "outputs": [
    {
     "name": "stdout",
     "output_type": "stream",
     "text": [
      "2\n"
     ]
    }
   ],
   "source": [
    "\"\"\"取出某个元素\n",
    "\"\"\"\n",
    "li = [1,2,3,4]\n",
    "out = li[1]  # 如果想取某个元素，就应该使用\n",
    "print(out)"
   ]
  },
  {
   "cell_type": "code",
   "execution_count": 26,
   "metadata": {},
   "outputs": [
    {
     "name": "stdout",
     "output_type": "stream",
     "text": [
      "<class 'list'>\n",
      "[2, 3]\n",
      "[2, 4]\n",
      "[2, 3, 4]\n"
     ]
    }
   ],
   "source": [
    "'''切片操作1\n",
    "01.取某个区间，结果仍为一个list\n",
    "02.切片取的结果是list\n",
    "'''\n",
    "li = [1,2,3,4]\n",
    "res1 = li[1:3] # 取下标区间[1:3]的数\n",
    "print(type(res1))  # 虽然 res 中只有一个元素，但是其仍为list \n",
    "print(res1)\n",
    "\n",
    "res2 = li[1::2] # 从下标位置1开始，直到下标2处结束\n",
    "print(res2)\n",
    "\n",
    "res3 = li[1::] # 从下标位置1开始，直到最后一位（包括最后一位）\n",
    "print(res3)"
   ]
  },
  {
   "cell_type": "code",
   "execution_count": 7,
   "metadata": {},
   "outputs": [
    {
     "name": "stdout",
     "output_type": "stream",
     "text": [
      "[1, 2, 3]\n"
     ]
    }
   ],
   "source": [
    "\"\"\"切片操作2\n",
    "取前n个数\n",
    "\"\"\"\n",
    "li = [1,2,3,4]\n",
    "res= li[:3] \n",
    "print(res) "
   ]
  },
  {
   "cell_type": "code",
   "execution_count": 1,
   "metadata": {},
   "outputs": [
    {
     "name": "stdout",
     "output_type": "stream",
     "text": [
      "[[1, 2, 3], [3, 4, 5], [4, 5, 6]]\n",
      "从数组索引 a[1:] 处开始切割\n"
     ]
    },
    {
     "ename": "TypeError",
     "evalue": "list indices must be integers or slices, not tuple",
     "output_type": "error",
     "traceback": [
      "\u001b[0;31m---------------------------------------------------------------------------\u001b[0m",
      "\u001b[0;31mTypeError\u001b[0m                                 Traceback (most recent call last)",
      "\u001b[0;32m<ipython-input-1-41b7f04ef896>\u001b[0m in \u001b[0;36m<module>\u001b[0;34m\u001b[0m\n\u001b[1;32m      6\u001b[0m \u001b[0;31m# 从某个索引处开始切割\u001b[0m\u001b[0;34m\u001b[0m\u001b[0;34m\u001b[0m\u001b[0;34m\u001b[0m\u001b[0m\n\u001b[1;32m      7\u001b[0m \u001b[0mprint\u001b[0m\u001b[0;34m(\u001b[0m\u001b[0;34m'从数组索引 a[1:] 处开始切割'\u001b[0m\u001b[0;34m)\u001b[0m\u001b[0;34m\u001b[0m\u001b[0;34m\u001b[0m\u001b[0m\n\u001b[0;32m----> 8\u001b[0;31m \u001b[0mprint\u001b[0m\u001b[0;34m(\u001b[0m\u001b[0ma\u001b[0m\u001b[0;34m[\u001b[0m\u001b[0;34m:\u001b[0m\u001b[0;34m,\u001b[0m\u001b[0;36m2\u001b[0m\u001b[0;34m]\u001b[0m\u001b[0;34m)\u001b[0m\u001b[0;34m\u001b[0m\u001b[0;34m\u001b[0m\u001b[0m\n\u001b[0m",
      "\u001b[0;31mTypeError\u001b[0m: list indices must be integers or slices, not tuple"
     ]
    }
   ],
   "source": [
    "\"\"\"切片操作3\n",
    ":, 操作\n",
    "\"\"\" \n",
    "a = [[1,2,3],[3,4,5],[4,5,6]]\n",
    "print(a)\n",
    "# 从某个索引处开始切割\n",
    "print('从数组索引 a[1:] 处开始切割')\n",
    "print(a[:,2])"
   ]
  },
  {
   "cell_type": "code",
   "execution_count": null,
   "metadata": {},
   "outputs": [],
   "source": [
    "import numpy as np\n",
    "s= np.array([[48],[131]]) # 搞一个二维数组\n",
    "s_[i for lst in s for i in lst]\n",
    "print "
   ]
  }
 ],
 "metadata": {
  "kernelspec": {
   "display_name": "Python 3",
   "language": "python",
   "name": "python3"
  },
  "language_info": {
   "codemirror_mode": {
    "name": "ipython",
    "version": 3
   },
   "file_extension": ".py",
   "mimetype": "text/x-python",
   "name": "python",
   "nbconvert_exporter": "python",
   "pygments_lexer": "ipython3",
   "version": "3.8.3"
  }
 },
 "nbformat": 4,
 "nbformat_minor": 4
}
