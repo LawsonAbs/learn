{
 "cells": [
  {
   "cell_type": "code",
   "execution_count": 2,
   "metadata": {},
   "outputs": [
    {
     "ename": "TypeError",
     "evalue": "'str' object does not support item assignment",
     "output_type": "error",
     "traceback": [
      "\u001b[0;31m---------------------------------------------------------------------------\u001b[0m",
      "\u001b[0;31mTypeError\u001b[0m                                 Traceback (most recent call last)",
      "\u001b[0;32m<ipython-input-2-792494e425e3>\u001b[0m in \u001b[0;36m<module>\u001b[0;34m\u001b[0m\n\u001b[1;32m      3\u001b[0m \u001b[0m下面这个代码之所以报错的原因是\u001b[0m\u001b[0;31m：\u001b[0m\u001b[0mspam\u001b[0m \u001b[0m是个字符串\u001b[0m\u001b[0;31m，\u001b[0m\u001b[0m不支持修改\u001b[0m\u001b[0;34m\u001b[0m\u001b[0;34m\u001b[0m\u001b[0m\n\u001b[1;32m      4\u001b[0m \"\"\"\n\u001b[0;32m----> 5\u001b[0;31m \u001b[0mspam\u001b[0m\u001b[0;34m[\u001b[0m\u001b[0;36m13\u001b[0m\u001b[0;34m]\u001b[0m \u001b[0;34m=\u001b[0m \u001b[0;34m'r'\u001b[0m \u001b[0;31m# TypeError: 'str' object does not support item assignment\u001b[0m\u001b[0;34m\u001b[0m\u001b[0;34m\u001b[0m\u001b[0m\n\u001b[0m\u001b[1;32m      6\u001b[0m \u001b[0mprint\u001b[0m\u001b[0;34m(\u001b[0m\u001b[0mspam\u001b[0m\u001b[0;34m)\u001b[0m\u001b[0;34m\u001b[0m\u001b[0;34m\u001b[0m\u001b[0m\n",
      "\u001b[0;31mTypeError\u001b[0m: 'str' object does not support item assignment"
     ]
    }
   ],
   "source": [
    "spam='I have a pet cat.'\n",
    "\"\"\"\n",
    "下面这个代码之所以报错的原因是：spam 是个字符串，不支持修改\n",
    "\"\"\"\n",
    "spam[13] = 'r' # TypeError: 'str' object does not support item assignment\n",
    "print(spam)"
   ]
  },
  {
   "cell_type": "code",
   "execution_count": 1,
   "metadata": {},
   "outputs": [
    {
     "data": {
      "text/plain": [
       "'\\n函数作用域的LEGB顺序\\nlocal：函数内部作用域\\nenclosing：函数内部与内嵌函数之间 =》 指再函数内部再次定义一个函数\\nglobal： 全局作用域\\nbuild-in：内置作用域\\n'"
      ]
     },
     "execution_count": 1,
     "metadata": {},
     "output_type": "execute_result"
    }
   ],
   "source": [
    "\"\"\"\n",
    "函数作用域的LEGB顺序\n",
    "local：函数内部作用域\n",
    "enclosing：函数内部与内嵌函数之间 =》 指再函数内部再次定义一个函数\n",
    "global： 全局作用域\n",
    "build-in：内置作用域\n",
    "\"\"\"\n"
   ]
  },
  {
   "cell_type": "code",
   "execution_count": 3,
   "metadata": {},
   "outputs": [
    {
     "name": "stdout",
     "output_type": "stream",
     "text": [
      "true\n",
      "play out\n"
     ]
    }
   ],
   "source": [
    "\"\"\"判断字符串中是否包含某种字符\n",
    "\"\"\"\n",
    "a = \"play_out\"\n",
    "if \"_\"  in a:\n",
    "    print(\"true\")\n",
    "    a = a.replace(\"_\",\" \")\n",
    "    print(a)"
   ]
  }
 ],
 "metadata": {
  "kernelspec": {
   "display_name": "Python 3",
   "language": "python",
   "name": "python3"
  },
  "language_info": {
   "codemirror_mode": {
    "name": "ipython",
    "version": 3
   },
   "file_extension": ".py",
   "mimetype": "text/x-python",
   "name": "python",
   "nbconvert_exporter": "python",
   "pygments_lexer": "ipython3",
   "version": "3.8.3"
  }
 },
 "nbformat": 4,
 "nbformat_minor": 4
}
