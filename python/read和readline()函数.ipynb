{
 "cells": [
  {
   "cell_type": "code",
   "execution_count": 22,
   "metadata": {},
   "outputs": [
    {
     "name": "stdout",
     "output_type": "stream",
     "text": [
      "6\n",
      "2 4054 。 13697 19301 19897 24965 1004 6989 4054 ， 10449 26417 21524\n",
      "3140 3140 9963 26669 12567 4054 ， 29956 25682 23125 9428 9963 24965 6527 26669 4054 27321 14873 ， \n",
      "28514 9053 ，\n",
      "12153 25682 7232 611 26564 25672 25672 929 18542 23394 6619 。 16867 16867 14454 4873 1258 3328 。 21481 1242 123\n",
      "0 15318 5697 7469 21853 11766 15972 15972 17281 5540 12052 4054 20270 1523 ， 13697 19301 19897 24965 25597 15707 5540 12052 4054 20270 1523 ， 21481 5451 28131 20097 10449 10446 14668 19551 20866 17281 23125 9428 。 16867 6809 。\n",
      "14684 3756 12567 19551 29525 1211 20923 16867\n"
     ]
    }
   ],
   "source": [
    "'''有个问题就是：使用open()得到文件描述符f，如果使用f.read()函数读完该文件之后，已经读完了所有的内容，就无法再使用f.read()再次读取了。\n",
    "也就是说只能读取一次。\n",
    "问题就是：为什么with open() 打开的文件只能读取一次？\n",
    "'''\n",
    "with open(\"untitled.txt\",'r') as f:\n",
    "#     cont = f.read()\n",
    "#     print(cont)\n",
    "#     print(\"----\")\n",
    "    train_lines = [line for line in f.read().splitlines() if (len(line) > 0 and not line.isspace())]\n",
    "# print(cont)\n",
    "print(len(train_lines))\n",
    "for line in train_lines:\n",
    "    print(line)"
   ]
  }
 ],
 "metadata": {
  "kernelspec": {
   "display_name": "Python 3",
   "language": "python",
   "name": "python3"
  },
  "language_info": {
   "codemirror_mode": {
    "name": "ipython",
    "version": 3
   },
   "file_extension": ".py",
   "mimetype": "text/x-python",
   "name": "python",
   "nbconvert_exporter": "python",
   "pygments_lexer": "ipython3",
   "version": "3.8.3"
  }
 },
 "nbformat": 4,
 "nbformat_minor": 4
}
