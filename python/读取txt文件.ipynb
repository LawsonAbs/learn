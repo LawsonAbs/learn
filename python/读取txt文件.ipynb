{
 "cells": [
  {
   "cell_type": "code",
   "execution_count": 2,
   "metadata": {},
   "outputs": [
    {
     "name": "stdout",
     "output_type": "stream",
     "text": [
      "None\n",
      "\n",
      "<class 'str'>\n"
     ]
    }
   ],
   "source": [
    "'''读取txt文件\n",
    "'''\n",
    "path = \"./defi_emb.txt\"\n",
    "with open(path,'r') as f:\n",
    "    line = f.readline() # 读取一行操作\n",
    "    print(line)\n",
    "    print(type(line)) # <class 'str'>\n",
    "    '''\n",
    "    读出时，这每一行都是str，那么\n",
    "    '''"
   ]
  },
  {
   "cell_type": "code",
   "execution_count": 14,
   "metadata": {},
   "outputs": [
    {
     "name": "stdout",
     "output_type": "stream",
     "text": [
      "hid 0.521 0.121 0.06024 -0.2359 0.15501 0.3649148\n",
      "\n",
      "0.421 0.06024 -0.2359 0.3649148\n",
      "\n",
      "0.121 0.06024 -0.2359 0.15501 0.3649148\n",
      "\n",
      "0.21 0.121 0.06024 -0.2359 0.15501 0.3649148\n",
      "\n",
      "\n"
     ]
    }
   ],
   "source": [
    "\"\"\"读取文件中所有行\n",
    "\"\"\"\n",
    "with open(path,'r') as f:\n",
    "    line = f.readline()\n",
    "    while(line):\n",
    "        line = f.readline()        \n",
    "        print(line)"
   ]
  },
  {
   "cell_type": "code",
   "execution_count": 16,
   "metadata": {},
   "outputs": [
    {
     "name": "stdout",
     "output_type": "stream",
     "text": [
      "<class 'list'>\n",
      "None\n",
      "\n",
      "hid 0.521 0.121 0.06024 -0.2359 0.15501 0.3649148\n",
      "\n",
      "0.421 0.06024 -0.2359 0.3649148\n",
      "\n",
      "0.121 0.06024 -0.2359 0.15501 0.3649148\n",
      "\n",
      "0.21 0.121 0.06024 -0.2359 0.15501 0.3649148\n",
      "\n"
     ]
    }
   ],
   "source": [
    "'''一次性的读完所有行内容。\n",
    "这种适合在文件小的情况，如果文件较大，是不适合的。\n",
    "'''\n",
    "with open(path,'r') as f:\n",
    "    lines = f.readlines() # 一次性的读完所有行内容\n",
    "print(type(lines)) # <class lists>\n",
    "for line in lines:\n",
    "    print(line)"
   ]
  }
 ],
 "metadata": {
  "kernelspec": {
   "display_name": "Python 3",
   "language": "python",
   "name": "python3"
  },
  "language_info": {
   "codemirror_mode": {
    "name": "ipython",
    "version": 3
   },
   "file_extension": ".py",
   "mimetype": "text/x-python",
   "name": "python",
   "nbconvert_exporter": "python",
   "pygments_lexer": "ipython3",
   "version": "3.8.3"
  }
 },
 "nbformat": 4,
 "nbformat_minor": 4
}
