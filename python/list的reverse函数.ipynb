{
 "cells": [
  {
   "cell_type": "code",
   "execution_count": 6,
   "metadata": {},
   "outputs": [
    {
     "name": "stdout",
     "output_type": "stream",
     "text": [
      "140536163690816\n",
      "140536163690816\n",
      "[3, 2, 1]\n"
     ]
    }
   ],
   "source": [
    "'''\n",
    "list的reverse操作，并不会影响数组的地址\n",
    "'''\n",
    "a = [1,2,3]\n",
    "print(id(a))\n",
    "a.reverse()\n",
    "print(id(a))\n",
    "print(a)"
   ]
  }
 ],
 "metadata": {
  "kernelspec": {
   "display_name": "Python 3",
   "language": "python",
   "name": "python3"
  },
  "language_info": {
   "codemirror_mode": {
    "name": "ipython",
    "version": 3
   },
   "file_extension": ".py",
   "mimetype": "text/x-python",
   "name": "python",
   "nbconvert_exporter": "python",
   "pygments_lexer": "ipython3",
   "version": "3.8.3"
  }
 },
 "nbformat": 4,
 "nbformat_minor": 4
}
