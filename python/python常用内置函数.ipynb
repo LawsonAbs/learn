{
 "cells": [
  {
   "cell_type": "code",
   "execution_count": 2,
   "metadata": {},
   "outputs": [
    {
     "name": "stdout",
     "output_type": "stream",
     "text": [
      "(0, 'spring')\n",
      "(1, 'summer')\n",
      "(2, 'autumn')\n",
      "(3, 'winter')\n",
      "----------------------------\n",
      "[(0, 'spring'), (1, 'summer'), (2, 'autumn'), (3, 'winter')]\n",
      "----------------------------\n",
      "(0, 'spring')\n",
      "(1, 'summer')\n",
      "(2, 'autumn')\n",
      "(3, 'winter')\n"
     ]
    }
   ],
   "source": [
    "\"\"\"enumerate()函数\n",
    "01.将一个可遍历的数据对象（如列表、元组或字符串）组合为一个索引序列，同时列出数据和数据下标\n",
    "02.一般用在for循环中\n",
    "需要注意：for循环中有没有i的效果是不同的。\n",
    "\"\"\"\n",
    "season = ['spring','summer','autumn','winter']\n",
    "# 需要注意这里会再组合一个 下标出来\n",
    "for  ele in enumerate(season):\n",
    "    print(ele)\n",
    "print(\"----------------------------\")\n",
    "\n",
    "res = list(enumerate(season)) # 组合  =》 可以看成是简单版的zip组合\n",
    "print(res)\n",
    "\n",
    "print(\"----------------------------\")\n",
    "for i,ele in enumerate(res):\n",
    "    print(ele)"
   ]
  },
  {
   "cell_type": "code",
   "execution_count": 3,
   "metadata": {},
   "outputs": [
    {
     "name": "stdout",
     "output_type": "stream",
     "text": [
      "B\n",
      "A\n",
      "3\n",
      "===============\n",
      "C\n",
      "B\n",
      "A\n",
      "3\n"
     ]
    }
   ],
   "source": [
    "\"\"\"super()函数\n",
    "super()函数是用于解决多重继承的问题\n",
    "01.在python 2中，使用的方式是super(type, object-or-type)\n",
    "这里的type是类名，object-or-type 一般常用self。\n",
    "02.在python 3中，直接使用super() 即可\n",
    "\"\"\"\n",
    "class A:\n",
    "     def add(self, x):\n",
    "        print(\"A\") \n",
    "        y = x+1\n",
    "        print(y)\n",
    "class B(A):\n",
    "    def add(self, x):\n",
    "        print(\"B\")\n",
    "        super().add(x)\n",
    "\n",
    "#实现多重继承\n",
    "class C(B):\n",
    "    def add(self,x):\n",
    "        print(\"C\")\n",
    "        super().add(x)\n",
    "b = B()\n",
    "b.add(2)  # 3\n",
    "print(\"===============\")\n",
    "c = C()\n",
    "c.add(2)"
   ]
  },
  {
   "cell_type": "code",
   "execution_count": 4,
   "metadata": {},
   "outputs": [
    {
     "name": "stdout",
     "output_type": "stream",
     "text": [
      "B\n",
      "C\n"
     ]
    }
   ],
   "source": [
    "\"\"\"super()函数的使用\n",
    "\"\"\"\n",
    "class A:\n",
    "    def __init__(self):\n",
    "        print(\"A\")\n",
    "\n",
    "class B(A):# 继承 A 类\n",
    "    def __init__(self): \n",
    "        print(\"B\")\n",
    "\n",
    "class D(B):\n",
    "    def __init__(self):\n",
    "        print(\"D\")\n",
    "        \n",
    "class C(D):# A => B => D => C\n",
    "    def __init__(self):\n",
    "        # super(type,self).__init__()\n",
    "        # type没有特别的限制，但是type和self必须满足一定的关系：即self必须是是type类或者其子类的实例\n",
    "        super(D,self).__init__()  # 意思就是调用 类D 的父类的__init__()方法        \n",
    "        print(\"C\")\n",
    "c = C()"
   ]
  },
  {
   "cell_type": "code",
   "execution_count": 7,
   "metadata": {},
   "outputs": [
    {
     "name": "stdout",
     "output_type": "stream",
     "text": [
      "<map object at 0x7f9f93e35c10>\n",
      "<class 'map'>\n",
      "1 4 9 16 25 \n",
      "---------------------\n",
      "1 4 9 16 25\n"
     ]
    }
   ],
   "source": [
    "\"\"\"map()函数\n",
    "功能：\n",
    "根据提供的函数对指定序列做映射。其调用规则是 map(function,iterable,...)\n",
    "\n",
    "参数：\n",
    "function 函数； iterable 一个或多个序列。\n",
    "\n",
    "返回值：\n",
    "python 3返回迭代器，还是一个map\n",
    "\n",
    "现有的疑问是：map是类还是方法？\n",
    "\"\"\"\n",
    "# 取数x的平方\n",
    "def getSqure(x):\n",
    "    x = int(x)\n",
    "    return x*x\n",
    "\n",
    "res = map(getSqure,[1,2,3,4,5])\n",
    "print(res) # <map object at 0x7fccaa724710>\n",
    "print(type(res)) # <class 'map'>  => 这么给人感觉就是map是一个类，这个res是这个类的实例\n",
    "\n",
    "for r in res:# 输出res中的值\n",
    "    print(r,end=\" \")\n",
    "print(\"\\n---------------------\")\n",
    "a,b,c,d,e = map(getSqure,[1,2,3,4,5])\n",
    "print(a,b,c,d,e)"
   ]
  },
  {
   "cell_type": "code",
   "execution_count": 1,
   "metadata": {},
   "outputs": [
    {
     "name": "stdout",
     "output_type": "stream",
     "text": [
      "(1, 'a')\n",
      "(2, 'b')\n",
      "(3, 'c')\n"
     ]
    }
   ],
   "source": [
    "\"\"\"zip函数\n",
    "01.从index=0开始取出两个list中的对应位置元素组合成一个新的tuple，这个tuple的大小视最短list的长度\n",
    "\"\"\"\n",
    "a =[1,2,3,4] # a 长度为4\n",
    "b = ['a','b','c'] # b 长度为3\n",
    "zipped = zip(a,b) # zip后的长度为min(4,3) = 3 \n",
    "for _ in  zipped: # 输出各个中的值\n",
    "    print(_)"
   ]
  },
  {
   "cell_type": "code",
   "execution_count": 5,
   "metadata": {},
   "outputs": [
    {
     "name": "stdout",
     "output_type": "stream",
     "text": [
      "(1, 'id')\n",
      "(2, 'name')\n"
     ]
    }
   ],
   "source": [
    "\"\"\"zip函数\n",
    "01.其组成部分不仅可以是list，也可以是tuple，也可以是字典 =》我猜测但凡一切可以迭代的都是可以zip的\n",
    "\"\"\"\n",
    "a = (1,2,3,4)\n",
    "b = [5,6,7]\n",
    "c = {'id':1,\"name\":'lawson'}\n",
    "zipped = zip(a,c)\n",
    "for _ in zipped:\n",
    "    print(_)"
   ]
  }
 ],
 "metadata": {
  "kernelspec": {
   "display_name": "Python 3",
   "language": "python",
   "name": "python3"
  },
  "language_info": {
   "codemirror_mode": {
    "name": "ipython",
    "version": 3
   },
   "file_extension": ".py",
   "mimetype": "text/x-python",
   "name": "python",
   "nbconvert_exporter": "python",
   "pygments_lexer": "ipython3",
   "version": "3.7.6"
  }
 },
 "nbformat": 4,
 "nbformat_minor": 4
}
