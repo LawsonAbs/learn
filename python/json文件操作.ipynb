{
 "cells": [
  {
   "cell_type": "code",
   "execution_count": 1,
   "metadata": {},
   "outputs": [
    {
     "name": "stdout",
     "output_type": "stream",
     "text": [
      "[{'id': 30}]\n"
     ]
    }
   ],
   "source": [
    "import json\n",
    "\"\"\"json读取的文件内容【指的是下面这句json.load(file)得到的cont对象】到底是什么类型？\n",
    "1.使用load()函数\n",
    "2.使用json 读取文件时，得到的cont得视文本内容而定才知道是什么类型。\n",
    "如果文件中的内容是 {\"id\": 30} ，那么得到的cont就是dict；\n",
    "如果文件中的内容是 [{\"id\": 30}] ，那么得到的cont就是list；\n",
    "\"\"\"\n",
    "\n",
    "def getId(idFilePath):\n",
    "    with open(idFilePath,'r',encoding='utf-8') as file:\n",
    "        cont = json.load(file)\n",
    "        print(cont)\n",
    "\n",
    "getId('./id.json')"
   ]
  },
  {
   "cell_type": "code",
   "execution_count": 6,
   "metadata": {},
   "outputs": [],
   "source": [
    "\"\"\" 如何将dict写入到json文件中?\n",
    "2.使用dump()函数\n",
    "如果原json文件中的格式是[{....}]，那么就应该把当前的dict内容放到[]中； \n",
    "如果原json文件中的格式是{...}，那么采用直接拼接的方式即可\n",
    "\"\"\"\n",
    "def writeId(val,idFilePath):\n",
    "    with open(idFilePath,'w',encoding='utf-8') as file:\n",
    "        json.dump(val,file)\n",
    "\n",
    "writeId({\"id\":30},'./id.json')"
   ]
  },
  {
   "cell_type": "code",
   "execution_count": 5,
   "metadata": {},
   "outputs": [],
   "source": [
    "\"\"\"3.将数组内容写到json中\n",
    "那么写入的结果仍然是个数组。\n",
    "\"\"\"\n",
    "def writeListtoJson(li,idFilePath):\n",
    "    with open(idFilePath,'w',encoding='utf-8') as file:\n",
    "        json.dump(val,file)\n",
    "\n",
    "writeId([{\"id\":30}],'./id.json')"
   ]
  }
 ],
 "metadata": {
  "kernelspec": {
   "display_name": "Python 3",
   "language": "python",
   "name": "python3"
  },
  "language_info": {
   "codemirror_mode": {
    "name": "ipython",
    "version": 3
   },
   "file_extension": ".py",
   "mimetype": "text/x-python",
   "name": "python",
   "nbconvert_exporter": "python",
   "pygments_lexer": "ipython3",
   "version": "3.8.3"
  }
 },
 "nbformat": 4,
 "nbformat_minor": 4
}
