{
 "cells": [
  {
   "cell_type": "code",
   "execution_count": 5,
   "metadata": {},
   "outputs": [
    {
     "name": "stdout",
     "output_type": "stream",
     "text": [
      "womendoushi\n",
      "uxt:twomendoushi\n"
     ]
    }
   ],
   "source": [
    "\"\"\"strip函数\n",
    "01.strip函数去掉的是某些字符组成的前缀，而不是只去掉某个字符串\n",
    "比如说s.strip(\"text:\") 会把字符串s前面的text:这5个字符（不间断）去掉\n",
    "02.对比下面两者的输出\n",
    "\"\"\"\n",
    "s = \"text:twomendoushi\"\n",
    "s = s.strip(\"text:\")  \n",
    "print(s)\n",
    "s2 = \"tuxt:twomendoushi\"\n",
    "s2 = s2.strip(\"text:\")\n",
    "print(s2) "
   ]
  },
  {
   "cell_type": "code",
   "execution_count": 8,
   "metadata": {},
   "outputs": [
    {
     "name": "stdout",
     "output_type": "stream",
     "text": [
      "womendoushihuaihaizi\n"
     ]
    }
   ],
   "source": [
    "\"\"\"replace函数\n",
    "01.替换掉字符串中的固定字符串\n",
    "\"\"\"\n",
    "s = \"womendoushihaohaizi\"\n",
    "s = s.replace(\"hao\",\"huai\")  # 替换指定字符串，当然也可以是字符\n",
    "print(s)"
   ]
  },
  {
   "cell_type": "code",
   "execution_count": 17,
   "metadata": {},
   "outputs": [
    {
     "name": "stdout",
     "output_type": "stream",
     "text": [
      " am a student\n"
     ]
    }
   ],
   "source": [
    "\"\"\"lstrip函数\n",
    "01.去除字符串左侧的某个字符串\n",
    "02.同理可以得到rstrip函数的使用\n",
    "\"\"\"\n",
    "s=\"I am a student\"\n",
    "s = s.lstrip(\"I\") # 左侧去除某个字符串\n",
    "print(s)"
   ]
  }
 ],
 "metadata": {
  "kernelspec": {
   "display_name": "Python 3",
   "language": "python",
   "name": "python3"
  },
  "language_info": {
   "codemirror_mode": {
    "name": "ipython",
    "version": 3
   },
   "file_extension": ".py",
   "mimetype": "text/x-python",
   "name": "python",
   "nbconvert_exporter": "python",
   "pygments_lexer": "ipython3",
   "version": "3.7.6"
  }
 },
 "nbformat": 4,
 "nbformat_minor": 4
}
