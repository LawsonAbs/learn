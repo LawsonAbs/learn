{
 "cells": [
  {
   "cell_type": "code",
   "execution_count": null,
   "metadata": {},
   "outputs": [],
   "source": [
    "'''\n",
    "使用pow()函数计算幂值。\n",
    "01.对小数的幂指数同样适用\n",
    "'''\n",
    "import math\n",
    "x = 2\n",
    "y = 3\n",
    "z = math.pow( x, y ) # 计算x^y 的值\n",
    "print(z)\n",
    "print('-------')\n",
    "a = 0.23\n",
    "b = 3\n",
    "c = math.pow(a,b) \n",
    "print(c)"
   ]
  }
 ],
 "metadata": {
  "kernelspec": {
   "display_name": "Python 3",
   "language": "python",
   "name": "python3"
  },
  "language_info": {
   "codemirror_mode": {
    "name": "ipython",
    "version": 3
   },
   "file_extension": ".py",
   "mimetype": "text/x-python",
   "name": "python",
   "nbconvert_exporter": "python",
   "pygments_lexer": "ipython3",
   "version": "3.8.3"
  }
 },
 "nbformat": 4,
 "nbformat_minor": 4
}
