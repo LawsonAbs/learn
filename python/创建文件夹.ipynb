{
 "cells": [
  {
   "cell_type": "code",
   "execution_count": null,
   "metadata": {},
   "outputs": [],
   "source": [
    "\"\"\"创建文件夹\n",
    "01.makedirs使用makedirs 递归创建文件夹\n",
    "02.mkdir 创建单个文件夹\n",
    "\"\"\"\n",
    "\n",
    "path = \"./2018/ac/ab.txt\"\n",
    "import os\n",
    "print(os.path.exists(path))\n",
    "if not os.path.exists(path):\n",
    "    print(os.path.dirname(path))\n",
    "    os.makedirs(os.path.dirname(path)) \n",
    "    print(\"1\")"
   ]
  }
 ],
 "metadata": {
  "kernelspec": {
   "display_name": "Python 3",
   "language": "python",
   "name": "python3"
  },
  "language_info": {
   "codemirror_mode": {
    "name": "ipython",
    "version": 3
   },
   "file_extension": ".py",
   "mimetype": "text/x-python",
   "name": "python",
   "nbconvert_exporter": "python",
   "pygments_lexer": "ipython3",
   "version": "3.8.3"
  }
 },
 "nbformat": 4,
 "nbformat_minor": 4
}
