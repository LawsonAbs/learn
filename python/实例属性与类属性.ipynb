{
 "cells": [
  {
   "cell_type": "code",
   "execution_count": 5,
   "metadata": {},
   "outputs": [
    {
     "name": "stdout",
     "output_type": "stream",
     "text": [
      "lawsonabs\n"
     ]
    }
   ],
   "source": [
    "class Student():\n",
    "    name = \"lawsonabs\"\n",
    "\n",
    "print(Student.name)"
   ]
  },
  {
   "cell_type": "code",
   "execution_count": 7,
   "metadata": {},
   "outputs": [
    {
     "name": "stdout",
     "output_type": "stream",
     "text": [
      "lawsonabs\n",
      "nlp\n",
      "lawsonabs\n"
     ]
    }
   ],
   "source": [
    "master = Student()\n",
    "print(master.name) # lawsonabs 实例属性 \n",
    "# 更改实例属性的值\n",
    "master.name = \"nlp\"\n",
    "print(master.name) # nlp\n",
    "print(Student.name) # 但是不影响类属性的值"
   ]
  },
  {
   "cell_type": "code",
   "execution_count": 10,
   "metadata": {},
   "outputs": [
    {
     "name": "stdout",
     "output_type": "stream",
     "text": [
      "25\n"
     ]
    }
   ],
   "source": [
    "master.age = '25' # 实例可以绑定任意属性\n",
    "print(master.age)"
   ]
  }
 ],
 "metadata": {
  "kernelspec": {
   "display_name": "Python 3",
   "language": "python",
   "name": "python3"
  },
  "language_info": {
   "codemirror_mode": {
    "name": "ipython",
    "version": 3
   },
   "file_extension": ".py",
   "mimetype": "text/x-python",
   "name": "python",
   "nbconvert_exporter": "python",
   "pygments_lexer": "ipython3",
   "version": "3.8.3"
  }
 },
 "nbformat": 4,
 "nbformat_minor": 4
}
