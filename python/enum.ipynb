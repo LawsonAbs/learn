{
 "cells": [
  {
   "cell_type": "code",
   "execution_count": 12,
   "metadata": {},
   "outputs": [
    {
     "name": "stdout",
     "output_type": "stream",
     "text": [
      "测试通过！\n",
      "Gender.Male\n"
     ]
    }
   ],
   "source": [
    "'''\n",
    "1.Enum的作用是什么？\n",
    "2.为什么会有它？\n",
    "3.怎么使用？\n",
    "（1）定义一个类继承自Enum，该类中只定义属性，而没有方法。\n",
    "（2）使用 类名.属性名.value 的方法可以访问这个属性值\n",
    "'''\n",
    "from enum import Enum\n",
    "\n",
    "# 从Enum派生出自定义类\n",
    "class Gender(Enum):\n",
    "    Male=0\n",
    "    Female=1\n",
    "    \n",
    "\"\"\"\n",
    "01.class Student(object): 和下面这行代码的作用相同！\n",
    "但问题是二者的主要差别是啥？\n",
    "\"\"\"\n",
    "class Student:\n",
    "    def __init__(self,name,gender):\n",
    "        self.name = name\n",
    "        self.gender = gender\n",
    "\n",
    "\"\"\"\n",
    "实例化对象时，会自动调用构造函数 __init__()，与此同时，就会将参数传递到 __init__()中\n",
    "\"\"\"\n",
    "bart = Student('Bart',Gender.Male)\n",
    "if bart.gender == Gender.Male:\n",
    "    print('测试通过！')\n",
    "else:\n",
    "    print('测试失败！')\n",
    "print(Gender.Male)"
   ]
  },
  {
   "cell_type": "code",
   "execution_count": 8,
   "metadata": {},
   "outputs": [
    {
     "name": "stdout",
     "output_type": "stream",
     "text": [
      "1\n"
     ]
    }
   ],
   "source": [
    "# 为什么这个unique装饰器还需要从外部包引用？\n",
    "from enum import Enum,unique\n",
    "\n",
    "\n",
    "# @unique 装饰器可以帮助检查没有重复值\n",
    "class Weekday(Enum):\n",
    "    Sun = 0\n",
    "    Mon = 1\n",
    "    Tue = 2\n",
    "    Wed = 3\n",
    "    Thu = 3\n",
    "\n",
    "day1 = Weekday.Mon\n",
    "print(day1.value)"
   ]
  }
 ],
 "metadata": {
  "kernelspec": {
   "display_name": "Python 3",
   "language": "python",
   "name": "python3"
  },
  "language_info": {
   "codemirror_mode": {
    "name": "ipython",
    "version": 3
   },
   "file_extension": ".py",
   "mimetype": "text/x-python",
   "name": "python",
   "nbconvert_exporter": "python",
   "pygments_lexer": "ipython3",
   "version": "3.8.3"
  }
 },
 "nbformat": 4,
 "nbformat_minor": 4
}
