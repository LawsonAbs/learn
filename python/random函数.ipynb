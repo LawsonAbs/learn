{
 "cells": [
  {
   "cell_type": "code",
   "execution_count": 3,
   "metadata": {},
   "outputs": [
    {
     "name": "stdout",
     "output_type": "stream",
     "text": [
      "139843806101888\n",
      "139843806101888\n",
      "[1, 2, 4, 5, 3]\n"
     ]
    }
   ],
   "source": [
    "\"\"\"random函数直接对列表a 原地修改\n",
    "\"\"\"\n",
    "import random \n",
    "a = [1,2,3,4,5]\n",
    "print(id(a))\n",
    "random.shuffle(a) # 每次shuffle得到的结果都不相同\n",
    "print(id(a)) \n",
    "print(a)"
   ]
  },
  {
   "cell_type": "code",
   "execution_count": 40,
   "metadata": {},
   "outputs": [
    {
     "name": "stdout",
     "output_type": "stream",
     "text": [
      "[1, 2, 3]\n",
      "[3, 2, 1]\n"
     ]
    }
   ],
   "source": [
    "'''如果在函数中调用random，那么也会在函数外把值修改掉，这是什么原因？\n",
    "'''\n",
    "import random\n",
    "a = [1,2,3]\n",
    "print(a)\n",
    "def sdf(a):\n",
    "    random.shuffle(a)\n",
    "sdf(a)\n",
    "# a的值是会被改变的\n",
    "print(a)"
   ]
  },
  {
   "cell_type": "code",
   "execution_count": null,
   "metadata": {},
   "outputs": [],
   "source": [
    "b = 12\n",
    "def lli(b):\n",
    "    b+=1\n",
    "lli(b)\n",
    "print(b)"
   ]
  },
  {
   "cell_type": "code",
   "execution_count": 32,
   "metadata": {},
   "outputs": [
    {
     "name": "stdout",
     "output_type": "stream",
     "text": [
      "[2, 3, 4, 5, 6, 7, 8, 9, 10, 11]\n",
      "[5, 1]\n"
     ]
    }
   ],
   "source": [
    "'''调整两个list的值，达到一个稳定的比例\n",
    "'''\n",
    "import random \n",
    "a = [1,2,3,4,5,6,7,8,9,10,11]\n",
    "b = [5]\n",
    "rate = 0.1\n",
    "while (len(b) < len(a)*rate): # len(a) * rate 得到的结果是个小数    \n",
    "    num = random.choice(a)    \n",
    "    b.append(num)\n",
    "    a.remove(num)    \n",
    "print(a)\n",
    "print(b)"
   ]
  }
 ],
 "metadata": {
  "kernelspec": {
   "display_name": "Python 3",
   "language": "python",
   "name": "python3"
  },
  "language_info": {
   "codemirror_mode": {
    "name": "ipython",
    "version": 3
   },
   "file_extension": ".py",
   "mimetype": "text/x-python",
   "name": "python",
   "nbconvert_exporter": "python",
   "pygments_lexer": "ipython3",
   "version": "3.8.3"
  }
 },
 "nbformat": 4,
 "nbformat_minor": 4
}
