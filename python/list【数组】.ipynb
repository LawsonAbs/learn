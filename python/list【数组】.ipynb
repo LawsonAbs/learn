{
 "cells": [
  {
   "cell_type": "code",
   "execution_count": 1,
   "metadata": {},
   "outputs": [
    {
     "ename": "ValueError",
     "evalue": "too many values to unpack (expected 3)",
     "output_type": "error",
     "traceback": [
      "\u001b[0;31m---------------------------------------------------------------------------\u001b[0m",
      "\u001b[0;31mValueError\u001b[0m                                Traceback (most recent call last)",
      "\u001b[0;32m<ipython-input-1-cc4b66efd69e>\u001b[0m in \u001b[0;36m<module>\u001b[0;34m\u001b[0m\n\u001b[1;32m      4\u001b[0m \"\"\"\n\u001b[1;32m      5\u001b[0m \u001b[0mli\u001b[0m \u001b[0;34m=\u001b[0m \u001b[0;34m[\u001b[0m\u001b[0;36m1\u001b[0m\u001b[0;34m,\u001b[0m\u001b[0;36m2\u001b[0m\u001b[0;34m,\u001b[0m\u001b[0;36m3\u001b[0m\u001b[0;34m,\u001b[0m\u001b[0;36m4\u001b[0m\u001b[0;34m]\u001b[0m\u001b[0;34m\u001b[0m\u001b[0;34m\u001b[0m\u001b[0m\n\u001b[0;32m----> 6\u001b[0;31m \u001b[0ma\u001b[0m\u001b[0;34m,\u001b[0m\u001b[0mb\u001b[0m\u001b[0;34m,\u001b[0m\u001b[0mc\u001b[0m\u001b[0;34m=\u001b[0m\u001b[0mli\u001b[0m\u001b[0;34m\u001b[0m\u001b[0;34m\u001b[0m\u001b[0m\n\u001b[0m\u001b[1;32m      7\u001b[0m \u001b[0mprint\u001b[0m\u001b[0;34m(\u001b[0m\u001b[0ma\u001b[0m\u001b[0;34m,\u001b[0m\u001b[0mb\u001b[0m\u001b[0;34m,\u001b[0m\u001b[0mc\u001b[0m\u001b[0;34m)\u001b[0m\u001b[0;34m\u001b[0m\u001b[0;34m\u001b[0m\u001b[0m\n",
      "\u001b[0;31mValueError\u001b[0m: too many values to unpack (expected 3)"
     ]
    }
   ],
   "source": [
    "\"\"\" list解包原则\n",
    "1.一一对应\n",
    "如果如果数组有多个值，但是解包后的元素个数是多于被赋值变量的个数，那么就会报错  => ValueError: too many values to unpack (expected 3)\n",
    "\"\"\"\n",
    "li = [1,2,3,4]\n",
    "a,b,c=li\n",
    "print(a,b,c)"
   ]
  },
  {
   "cell_type": "code",
   "execution_count": 6,
   "metadata": {},
   "outputs": [
    {
     "name": "stdout",
     "output_type": "stream",
     "text": [
      "I\n",
      "love\n",
      "['you']\n"
     ]
    }
   ],
   "source": [
    "\"\"\" 直接获取数组中的值\n",
    "1.如果参数个数对不上，那么可以采用 *变量  的方法\n",
    "\"\"\"\n",
    "\n",
    "a = [\"I\",\"love\",\"you\"]\n",
    "c,b,*d = a\n",
    "print(c)\n",
    "print(b)\n",
    "print(d)  # 仍然是个数组，['you']"
   ]
  },
  {
   "cell_type": "code",
   "execution_count": 3,
   "metadata": {},
   "outputs": [
    {
     "name": "stdout",
     "output_type": "stream",
     "text": [
      "0\n",
      "1\n",
      "2\n",
      "3\n",
      "4\n"
     ]
    }
   ],
   "source": [
    "\"\"\"for循环中range的范围\n",
    "\"\"\"\n",
    "for i in range(5):\n",
    "    print(i)"
   ]
  },
  {
   "cell_type": "code",
   "execution_count": 5,
   "metadata": {},
   "outputs": [
    {
     "name": "stdout",
     "output_type": "stream",
     "text": [
      "5 4 3 2 1 \n",
      "----\n",
      "1 2 3 4 5 \n",
      "----\n",
      "5 4 3 2 1 \n",
      "----\n"
     ]
    }
   ],
   "source": [
    "\"\"\"控制数组输出顺序\n",
    "\n",
    "\"\"\"\n",
    "a=[1,2,3,4,5] # a既可称为数组，又可称为列表\n",
    "\n",
    "for i in a[::-1]: #增量是-1，所以这里只能是倒序输出\n",
    "    print(i,end=\" \")\n",
    "print(\"\\n----\")\n",
    "for i in a[::1]: # 增量是1，所以这里只能是顺序输出\n",
    "    print(i,end=\" \")\n",
    "print(\"\\n----\")\n",
    "for i in reversed(a): \n",
    "    print(i,end=\" \")    \n",
    "print(\"\\n----\")"
   ]
  },
  {
   "cell_type": "code",
   "execution_count": 6,
   "metadata": {},
   "outputs": [
    {
     "name": "stdout",
     "output_type": "stream",
     "text": [
      "['296', '306']\n",
      "['5.0', '3.5']\n"
     ]
    }
   ],
   "source": [
    "\"\"\" 将dict 的key/value转换成list\n",
    "\"\"\"\n",
    "rate1={'296':'5.0','306':'3.5'}\n",
    "rate2={'123':'5.0','296':'23','304':'5.0','306':'5.0'}\n",
    "\n",
    "print(list(rate1.keys())) # 打印出字典rate1的所有键值\n",
    "print(list(rate1.values()))"
   ]
  },
  {
   "cell_type": "code",
   "execution_count": 12,
   "metadata": {},
   "outputs": [
    {
     "name": "stdout",
     "output_type": "stream",
     "text": [
      "cat dog mouse \n",
      "======\n",
      "\n",
      "0 cat\n",
      "1 dog\n",
      "2 mouse\n"
     ]
    },
    {
     "data": {
      "text/plain": [
       "'\\n这里描述一下 enumerate() 函数：\\n01.将一个可遍历的数据对象（如列表，元组或者字符串）组合为一个索引序列，同时列出数据和数据下标，通常用于for循环中。\\n'"
      ]
     },
     "execution_count": 12,
     "metadata": {},
     "output_type": "execute_result"
    }
   ],
   "source": [
    "\"\"\"\n",
    "这里描述一下 enumerate() 函数：\n",
    "01.将一个可遍历的数据对象（如列表，元组或者字符串）组合为一个索引序列，同时列出数据和数据下标，通常用于for循环中。\n",
    "\"\"\"\n",
    "spam=['cat','dog','mouse']\n",
    "for i in range(len(spam)):\n",
    "    print(spam[i],end=\" \")\n",
    "\n",
    "print(\"\\n======\\n\")\n",
    "# 下面这种写法更python一些\n",
    "for i,item in enumerate(spam):\n",
    "    print(i,item)"
   ]
  },
  {
   "cell_type": "code",
   "execution_count": 19,
   "metadata": {},
   "outputs": [
    {
     "ename": "TypeError",
     "evalue": "method1() takes 0 positional arguments but 1 was given",
     "output_type": "error",
     "traceback": [
      "\u001b[0;31m---------------------------------------------------------------------------\u001b[0m",
      "\u001b[0;31mTypeError\u001b[0m                                 Traceback (most recent call last)",
      "\u001b[0;32m<ipython-input-19-545fcc81a831>\u001b[0m in \u001b[0;36m<module>\u001b[0;34m\u001b[0m\n\u001b[1;32m      6\u001b[0m \u001b[0;34m\u001b[0m\u001b[0m\n\u001b[1;32m      7\u001b[0m \u001b[0ma\u001b[0m \u001b[0;34m=\u001b[0m \u001b[0mFoo\u001b[0m\u001b[0;34m(\u001b[0m\u001b[0;34m)\u001b[0m\u001b[0;34m\u001b[0m\u001b[0;34m\u001b[0m\u001b[0m\n\u001b[0;32m----> 8\u001b[0;31m \u001b[0ma\u001b[0m\u001b[0;34m.\u001b[0m\u001b[0mmethod1\u001b[0m\u001b[0;34m(\u001b[0m\u001b[0;34m)\u001b[0m \u001b[0;31m# 相当于调用Foo.method1(a)，但method1不接受任何参数，所以报错了\u001b[0m\u001b[0;34m\u001b[0m\u001b[0;34m\u001b[0m\u001b[0m\n\u001b[0m\u001b[1;32m      9\u001b[0m \u001b[0;34m\u001b[0m\u001b[0m\n",
      "\u001b[0;31mTypeError\u001b[0m: method1() takes 0 positional arguments but 1 was given"
     ]
    }
   ],
   "source": [
    "class Foo:\n",
    "    def method1(): # 是Foo类的一个成员方法，该方法不接受任何参数\n",
    "        print('m1')\n",
    "    def method2(self):\n",
    "        print(\"m2\")\n",
    "\n",
    "a = Foo()\n",
    "a.method1() # 相当于调用Foo.method1(a)，但method1不接受任何参数，所以报错了\n",
    "\n"
   ]
  },
  {
   "cell_type": "code",
   "execution_count": 1,
   "metadata": {},
   "outputs": [
    {
     "data": {
      "text/plain": [
       "<function __main__.X.f(self, a, b)>"
      ]
     },
     "execution_count": 1,
     "metadata": {},
     "output_type": "execute_result"
    }
   ],
   "source": [
    "class X:\n",
    "    def f(self,a,b):\n",
    "        print(\"f\")\n",
    "        \n",
    "X.__dict__['f']\n"
   ]
  }
 ],
 "metadata": {
  "kernelspec": {
   "display_name": "Python 3",
   "language": "python",
   "name": "python3"
  },
  "language_info": {
   "codemirror_mode": {
    "name": "ipython",
    "version": 3
   },
   "file_extension": ".py",
   "mimetype": "text/x-python",
   "name": "python",
   "nbconvert_exporter": "python",
   "pygments_lexer": "ipython3",
   "version": "3.7.6"
  }
 },
 "nbformat": 4,
 "nbformat_minor": 4
}
