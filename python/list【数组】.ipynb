{
 "cells": [
  {
   "cell_type": "code",
   "execution_count": 7,
   "metadata": {},
   "outputs": [
    {
     "name": "stdout",
     "output_type": "stream",
     "text": [
      "a == b\n",
      "a is b\n"
     ]
    }
   ],
   "source": [
    "\"\"\"list的深入研究\n",
    "赋值的过程\n",
    "\"\"\"\n",
    "a= [1,2,3,4,5]\n",
    "b=a\n",
    "if a == b:\n",
    "    print(\"a == b\")\n",
    "if a is b :\n",
    "    print(\"a is b\")"
   ]
  },
  {
   "cell_type": "code",
   "execution_count": 8,
   "metadata": {},
   "outputs": [
    {
     "name": "stdout",
     "output_type": "stream",
     "text": [
      "True\n"
     ]
    }
   ],
   "source": [
    "\"\"\"dict的赋值\n",
    "\"\"\"\n",
    "a={\"name\":\"lawson\"}\n",
    "b= a\n",
    "print((a is b))"
   ]
  },
  {
   "cell_type": "code",
   "execution_count": 6,
   "metadata": {},
   "outputs": [
    {
     "name": "stdout",
     "output_type": "stream",
     "text": [
      "[7, 0, 3, 1, 2]\n",
      "[2, 4, 7, 3, 4]\n",
      "[3, 9, 4, 4, 8]\n",
      "[10, 7, 7, 0, 6]\n",
      "[5, 8, 4, 8, 4]\n",
      "[[7, 0, 3, 1, 2], [2, 4, 7, 3, 4], [3, 9, 4, 4, 8], [10, 7, 7, 0, 6], [5, 8, 4, 8, 4]]\n"
     ]
    }
   ],
   "source": [
    "\"\"\"对list的追加\n",
    "\"\"\"\n",
    "import random\n",
    "res = []\n",
    "for _ in range(5):\n",
    "    temp = [random.randint(0,10) for _ in range(5)]\n",
    "    print(temp)\n",
    "    res.append(temp)\n",
    "print(res)"
   ]
  },
  {
   "cell_type": "code",
   "execution_count": 7,
   "metadata": {},
   "outputs": [
    {
     "name": "stdout",
     "output_type": "stream",
     "text": [
      "[1, 5, 3, 4]\n"
     ]
    }
   ],
   "source": [
    "\"\"\"对list中的数值进行修改\n",
    "\"\"\"\n",
    "li=[1,2,3,4]\n",
    "li[1] = 5\n",
    "print(li)"
   ]
  },
  {
   "cell_type": "code",
   "execution_count": 1,
   "metadata": {},
   "outputs": [
    {
     "ename": "ValueError",
     "evalue": "too many values to unpack (expected 3)",
     "output_type": "error",
     "traceback": [
      "\u001b[0;31m---------------------------------------------------------------------------\u001b[0m",
      "\u001b[0;31mValueError\u001b[0m                                Traceback (most recent call last)",
      "\u001b[0;32m<ipython-input-1-cc4b66efd69e>\u001b[0m in \u001b[0;36m<module>\u001b[0;34m\u001b[0m\n\u001b[1;32m      4\u001b[0m \"\"\"\n\u001b[1;32m      5\u001b[0m \u001b[0mli\u001b[0m \u001b[0;34m=\u001b[0m \u001b[0;34m[\u001b[0m\u001b[0;36m1\u001b[0m\u001b[0;34m,\u001b[0m\u001b[0;36m2\u001b[0m\u001b[0;34m,\u001b[0m\u001b[0;36m3\u001b[0m\u001b[0;34m,\u001b[0m\u001b[0;36m4\u001b[0m\u001b[0;34m]\u001b[0m\u001b[0;34m\u001b[0m\u001b[0;34m\u001b[0m\u001b[0m\n\u001b[0;32m----> 6\u001b[0;31m \u001b[0ma\u001b[0m\u001b[0;34m,\u001b[0m\u001b[0mb\u001b[0m\u001b[0;34m,\u001b[0m\u001b[0mc\u001b[0m\u001b[0;34m=\u001b[0m\u001b[0mli\u001b[0m\u001b[0;34m\u001b[0m\u001b[0;34m\u001b[0m\u001b[0m\n\u001b[0m\u001b[1;32m      7\u001b[0m \u001b[0mprint\u001b[0m\u001b[0;34m(\u001b[0m\u001b[0ma\u001b[0m\u001b[0;34m,\u001b[0m\u001b[0mb\u001b[0m\u001b[0;34m,\u001b[0m\u001b[0mc\u001b[0m\u001b[0;34m)\u001b[0m\u001b[0;34m\u001b[0m\u001b[0;34m\u001b[0m\u001b[0m\n",
      "\u001b[0;31mValueError\u001b[0m: too many values to unpack (expected 3)"
     ]
    }
   ],
   "source": [
    "\"\"\" list解包原则\n",
    "1.一一对应\n",
    "如果数组有多个值，但是解包后的元素个数是多于被赋值变量的个数，那么就会报错  \n",
    "=> ValueError: too many values to unpack (expected 3)\n",
    "\"\"\"\n",
    "li = [1,2,3,4]\n",
    "a,b,c=li\n",
    "print(a,b,c)"
   ]
  },
  {
   "cell_type": "code",
   "execution_count": 6,
   "metadata": {},
   "outputs": [
    {
     "name": "stdout",
     "output_type": "stream",
     "text": [
      "I\n",
      "love\n",
      "['you']\n"
     ]
    }
   ],
   "source": [
    "\"\"\"list解包原则\n",
    "2.如果参数个数对不上，那么可以采用 *变量  的方法。这个就有点儿“可变参数”的味道了\n",
    "\"\"\"\n",
    "\n",
    "a = [\"I\",\"love\",\"you\"]\n",
    "c,b,*d = a\n",
    "print(c)\n",
    "print(b)\n",
    "print(d)  # 仍然是个数组，['you']"
   ]
  },
  {
   "cell_type": "code",
   "execution_count": 4,
   "metadata": {},
   "outputs": [
    {
     "name": "stdout",
     "output_type": "stream",
     "text": [
      "01234\n",
      "1234\n",
      "147"
     ]
    }
   ],
   "source": [
    "\"\"\"for循环中range的范围\n",
    "1.只有一个参数的时候，默认从0开始，默认增量为1\n",
    "2.如果有两个参数，那么将会输出这个 左闭右开 区间中的所有值，默认增量为1\n",
    "3.如果有三个参数，则在2的基础上会有一个增量\n",
    "\"\"\"\n",
    "for i in range(5): # 默认从0开始\n",
    "    print(i,end='')\n",
    "print(\"\")\n",
    "for i in range(1,5): # 左闭右开\n",
    "    print(i,end='')\n",
    "\n",
    "print()\n",
    "for i in range(1,10,3): # 左闭右开，增量为3\n",
    "    print(i,end='')"
   ]
  },
  {
   "cell_type": "code",
   "execution_count": 5,
   "metadata": {},
   "outputs": [
    {
     "name": "stdout",
     "output_type": "stream",
     "text": [
      "5 4 3 2 1 \n",
      "----\n",
      "1 2 3 4 5 \n",
      "----\n",
      "5 4 3 2 1 \n",
      "----\n"
     ]
    }
   ],
   "source": [
    "\"\"\"控制数组输出顺序\n",
    "\n",
    "\"\"\"\n",
    "a=[1,2,3,4,5] # a既可称为数组，又可称为列表\n",
    "\n",
    "for i in a[::-1]: #增量是-1，所以这里只能是倒序输出\n",
    "    print(i,end=\" \")\n",
    "print(\"\\n----\")\n",
    "for i in a[::1]: # 增量是1，所以这里只能是顺序输出\n",
    "    print(i,end=\" \")\n",
    "print(\"\\n----\")\n",
    "for i in reversed(a):  # 直接使用函数进行倒序输出\n",
    "    print(i,end=\" \")    \n",
    "print(\"\\n----\")"
   ]
  },
  {
   "cell_type": "code",
   "execution_count": 6,
   "metadata": {},
   "outputs": [
    {
     "name": "stdout",
     "output_type": "stream",
     "text": [
      "['296', '306']\n",
      "['5.0', '3.5']\n"
     ]
    }
   ],
   "source": [
    "\"\"\" 将dict 的key/value转换成list\n",
    "\"\"\"\n",
    "rate1={'296':'5.0','306':'3.5'}\n",
    "rate2={'123':'5.0','296':'23','304':'5.0','306':'5.0'}\n",
    "\n",
    "print(list(rate1.keys())) # 打印出字典rate1的所有键组成的列表\n",
    "print(list(rate1.values())) # 打印出字典rate1的所有值组成的列表"
   ]
  },
  {
   "cell_type": "code",
   "execution_count": 6,
   "metadata": {},
   "outputs": [
    {
     "name": "stdout",
     "output_type": "stream",
     "text": [
      "cat dog mouse \n",
      "======\n",
      "0 cat\n",
      "1 dog\n",
      "2 mouse\n"
     ]
    }
   ],
   "source": [
    "\"\"\"这里再描述一下 enumerate() 函数：\n",
    "01.将一个可遍历的数据对象（如列表，元组或者字符串）组合为一个索引序列，同时列出数据和数据下标，通常用于for循环中。\n",
    "\"\"\"\n",
    "spam=['cat','dog','mouse']\n",
    "for i in range(len(spam)):\n",
    "    print(spam[i],end=\" \")\n",
    "\n",
    "print(\"\\n======\")\n",
    "# 下面这种写法更python一些\n",
    "for i,item in enumerate(spam):\n",
    "    print(i,item)"
   ]
  },
  {
   "cell_type": "code",
   "execution_count": 1,
   "metadata": {},
   "outputs": [
    {
     "data": {
      "text/plain": [
       "<function __main__.X.f(self, a, b)>"
      ]
     },
     "execution_count": 1,
     "metadata": {},
     "output_type": "execute_result"
    }
   ],
   "source": [
    "class X:\n",
    "    def f(self,a,b):\n",
    "        print(\"f\")        \n",
    "X.__dict__['f']"
   ]
  }
 ],
 "metadata": {
  "kernelspec": {
   "display_name": "Python 3",
   "language": "python",
   "name": "python3"
  },
  "language_info": {
   "codemirror_mode": {
    "name": "ipython",
    "version": 3
   },
   "file_extension": ".py",
   "mimetype": "text/x-python",
   "name": "python",
   "nbconvert_exporter": "python",
   "pygments_lexer": "ipython3",
   "version": "3.7.6"
  }
 },
 "nbformat": 4,
 "nbformat_minor": 4
}
