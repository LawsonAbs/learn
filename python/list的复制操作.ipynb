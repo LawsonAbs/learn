{
 "cells": [
  {
   "cell_type": "code",
   "execution_count": 6,
   "metadata": {},
   "outputs": [
    {
     "name": "stdout",
     "output_type": "stream",
     "text": [
      "[1, 2, 3] \n",
      " [1, 2, 3] \n",
      " [1, 2, 3]\n",
      "False\n",
      "False\n",
      "False\n"
     ]
    }
   ],
   "source": [
    "'''list创建副本的三种方法\n",
    "01.使用copy()函数\n",
    "02.使用切片操作\n",
    "03.使用list()函数\n",
    "'''\n",
    "a = [1,2,3]\n",
    "b = a.copy() # 使用copy()函数创建副本\n",
    "c = a[:] #使用切片操作创建副本\n",
    "d = list(a) # 使用list函数创建副本\n",
    "print(b,'\\n',c,'\\n',d)\n",
    "print(a is b)\n",
    "print(a is c)\n",
    "print(b is c)"
   ]
  }
 ],
 "metadata": {
  "kernelspec": {
   "display_name": "Python 3",
   "language": "python",
   "name": "python3"
  },
  "language_info": {
   "codemirror_mode": {
    "name": "ipython",
    "version": 3
   },
   "file_extension": ".py",
   "mimetype": "text/x-python",
   "name": "python",
   "nbconvert_exporter": "python",
   "pygments_lexer": "ipython3",
   "version": "3.8.3"
  }
 },
 "nbformat": 4,
 "nbformat_minor": 4
}
