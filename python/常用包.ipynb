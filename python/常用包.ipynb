{
 "cells": [
  {
   "cell_type": "code",
   "execution_count": 1,
   "metadata": {},
   "outputs": [
    {
     "name": "stdout",
     "output_type": "stream",
     "text": [
      "20200408_100900\n"
     ]
    }
   ],
   "source": [
    "\"\"\"\n",
    "1.获取当前时间，并修改格式\n",
    "\"\"\"\n",
    "import datetime as dt\n",
    "curTime = dt.datetime.now()\n",
    "print(curTime.strftime(\"%Y%d%m_%H%M%S\"))"
   ]
  },
  {
   "cell_type": "code",
   "execution_count": 7,
   "metadata": {},
   "outputs": [
    {
     "name": "stdout",
     "output_type": "stream",
     "text": [
      "水电费sdf...sdfs\n"
     ]
    }
   ],
   "source": [
    "\"\"\"join()函数\n",
    "\"\"\"\n",
    "a = \"...\"\n",
    "seq = (\"水电费sdf\",\"sdfs\")\n",
    "c = a.join(seq)\n",
    "print(c)"
   ]
  },
  {
   "cell_type": "code",
   "execution_count": 8,
   "metadata": {},
   "outputs": [
    {
     "name": "stdout",
     "output_type": "stream",
     "text": [
      "3\n",
      "/home/liushen/anaconda3/lib/python3.7/site-packages/ipykernel_launcher.py\n",
      "-f\n",
      "/home/liushen/.local/share/jupyter/runtime/kernel-f686455f-0470-4e80-bbef-5b2557299a2c.json\n"
     ]
    }
   ],
   "source": [
    "\"\"\"\n",
    "1.用sys.argv 来获取命令行参数\n",
    "01.sys.argv[0] 表示脚本名 【注意！！！】\n",
    "\"\"\"\n",
    "import sys\n",
    "print(len(sys.argv))\n",
    "for _ in sys.argv:\n",
    "    print(_)"
   ]
  },
  {
   "cell_type": "code",
   "execution_count": 9,
   "metadata": {},
   "outputs": [
    {
     "name": "stdout",
     "output_type": "stream",
     "text": [
      "/Users/gamidev/program/learnPython\n",
      "/Users/gamidev/opt/anaconda3/lib/python37.zip\n",
      "/Users/gamidev/opt/anaconda3/lib/python3.7\n",
      "/Users/gamidev/opt/anaconda3/lib/python3.7/lib-dynload\n",
      "\n",
      "/Users/gamidev/opt/anaconda3/lib/python3.7/site-packages\n",
      "/Users/gamidev/opt/anaconda3/lib/python3.7/site-packages/aeosa\n",
      "/Users/gamidev/opt/anaconda3/lib/python3.7/site-packages/IPython/extensions\n",
      "/Users/gamidev/.ipython\n",
      "========= after =========\n",
      "/Users/gamidev/program/learnPython\n",
      "/Users/gamidev/opt/anaconda3/lib/python37.zip\n",
      "/Users/gamidev/opt/anaconda3/lib/python3.7\n",
      "/Users/gamidev/opt/anaconda3/lib/python3.7/lib-dynload\n",
      "\n",
      "/Users/gamidev/opt/anaconda3/lib/python3.7/site-packages\n",
      "/Users/gamidev/opt/anaconda3/lib/python3.7/site-packages/aeosa\n",
      "/Users/gamidev/opt/anaconda3/lib/python3.7/site-packages/IPython/extensions\n",
      "/Users/gamidev/.ipython\n",
      ".\n"
     ]
    }
   ],
   "source": [
    "\"\"\"\n",
    "模块搜索路径存储在sys.path中\n",
    "\"\"\"\n",
    "for _ in sys.path:\n",
    "    print(_)\n",
    "sys.path.append(r\".\") # 将某个环境添加到Python的搜索路径中。在这里是当前目录\n",
    "print(\"========= after =========\")\n",
    "for _ in sys.path:\n",
    "    print(_)"
   ]
  }
 ],
 "metadata": {
  "kernelspec": {
   "display_name": "Python 3",
   "language": "python",
   "name": "python3"
  },
  "language_info": {
   "codemirror_mode": {
    "name": "ipython",
    "version": 3
   },
   "file_extension": ".py",
   "mimetype": "text/x-python",
   "name": "python",
   "nbconvert_exporter": "python",
   "pygments_lexer": "ipython3",
   "version": "3.7.6"
  }
 },
 "nbformat": 4,
 "nbformat_minor": 4
}
