{
 "cells": [
  {
   "cell_type": "code",
   "execution_count": 2,
   "metadata": {},
   "outputs": [
    {
     "name": "stdout",
     "output_type": "stream",
     "text": [
      "[[1, 2, 3, 4], [1, 5, 5], [2, 3, 5]]\n"
     ]
    }
   ],
   "source": [
    "'''将list中的每个小list扩展成相同大小\n",
    "01.下面的代码存在bug，如果li中的子list 长度超过了4，那么就会遇到问题。\n",
    "'''\n",
    "li = [[1,2,3],[1],[2,3]]\n",
    "for item in li:\n",
    "    for i in range(len(item),3):\n",
    "        item.append(5)\n",
    "\n",
    "print(li)"
   ]
  },
  {
   "cell_type": "code",
   "execution_count": 12,
   "metadata": {},
   "outputs": [
    {
     "name": "stdout",
     "output_type": "stream",
     "text": [
      "hh\n",
      "[[1, 2, 3], [1, 5, 5], [2, 3, 5]]\n"
     ]
    }
   ],
   "source": [
    "# 正确的做法如下\n",
    "li = [[1,2,3,4],[1],[2,3]]\n",
    "for item in li:\n",
    "    if len(item) > 3:        \n",
    "        del item[3::] # 删除指定下标区间的数\n",
    "    for i in range(len(item),3):\n",
    "        item.append(5)\n",
    "print(li)"
   ]
  }
 ],
 "metadata": {
  "kernelspec": {
   "display_name": "Python 3",
   "language": "python",
   "name": "python3"
  },
  "language_info": {
   "codemirror_mode": {
    "name": "ipython",
    "version": 3
   },
   "file_extension": ".py",
   "mimetype": "text/x-python",
   "name": "python",
   "nbconvert_exporter": "python",
   "pygments_lexer": "ipython3",
   "version": "3.8.3"
  }
 },
 "nbformat": 4,
 "nbformat_minor": 4
}
