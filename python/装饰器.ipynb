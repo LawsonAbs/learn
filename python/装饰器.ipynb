{
 "cells": [
  {
   "cell_type": "code",
   "execution_count": 3,
   "metadata": {},
   "outputs": [
    {
     "name": "stdout",
     "output_type": "stream",
     "text": [
      "func2\n",
      "1\n"
     ]
    }
   ],
   "source": [
    "\"\"\"classmethod装饰器\n",
    "01.classmethod修饰符对应的函数不需要实例化，不需要self参数，\n",
    "但第一个参数需要是表示自身类的cls参数，可以来调用类的属性，方法，实例化对象\n",
    "\n",
    "02.@classmethod 是Python 内置的函数装饰器，其主要作用将类方法中的函数方法转换\n",
    "为类方法\n",
    "\n",
    "\"\"\"\n",
    "class A:\n",
    "    bar = 1\n",
    "    def func1(self):\n",
    "        print(\"foo\")\n",
    "    @classmethod\n",
    "    def func2(cls):\n",
    "        print(\"func2\")\n",
    "        print(cls.bar)\n",
    "        \n",
    "A.func2()"
   ]
  },
  {
   "cell_type": "code",
   "execution_count": 9,
   "metadata": {},
   "outputs": [
    {
     "name": "stdout",
     "output_type": "stream",
     "text": [
      "1,lawson\n",
      "2,kiwi\n"
     ]
    }
   ],
   "source": [
    "class Student:\n",
    "    def __init__(self,idNum,name):\n",
    "        self.idNum = idNum\n",
    "        self.name = name\n",
    "        \n",
    "    @classmethod\n",
    "    def other(cls,idNum,name):\n",
    "        return cls(idNum,name)\n",
    "    \n",
    "    def __repr__(self):\n",
    "        return str(self.idNum)+\",\"+self.name\n",
    "    \n",
    "s1 = Student(1,'lawson')\n",
    "s2 = Student.other(2,'kiwi')  # \n",
    "\n",
    "print(s1)\n",
    "print(s2)"
   ]
  }
 ],
 "metadata": {
  "kernelspec": {
   "display_name": "Python 3",
   "language": "python",
   "name": "python3"
  },
  "language_info": {
   "codemirror_mode": {
    "name": "ipython",
    "version": 3
   },
   "file_extension": ".py",
   "mimetype": "text/x-python",
   "name": "python",
   "nbconvert_exporter": "python",
   "pygments_lexer": "ipython3",
   "version": "3.7.6"
  }
 },
 "nbformat": 4,
 "nbformat_minor": 4
}
