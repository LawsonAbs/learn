{
 "cells": [
  {
   "cell_type": "code",
   "execution_count": null,
   "metadata": {},
   "outputs": [],
   "source": [
    "\"\"\"\n",
    "将字典形式的字符串数据变成字典\n",
    "01. 字典的key必须使用双引号，否则无法转换\n",
    "\"\"\"\n",
    "import json\n",
    "jsonData = \"{'国内生产总值': 0, '反腐败': 0, '八项规定': 0, '高质量发展': 0, '供给侧': 0, '和谐社会': 0, '美丽中国': 0, '国际经济': 0, '非公有制经济': 0, '国内外经济形势': 0, '宏观调控': 0, '国民经济': 3, '货币政策': 0, '通货膨胀': 0, '国际经济环境': 0, '结构性改革': 0, '中国制造“2025”': 0, '一带一路': 0, '京津冀协同发展': 0, '海上丝绸之路': 0, '产能过剩': 0, '亚太自贸区': 0, '长江经济带': 0, '混合所有制经济': 0, '经济合作区': 0, '利率市场化': 0}\"\n",
    "jsonData = jsonData.replace(\"\\'\",\"\\\"\")\n",
    "text = json.loads(jsonData)\n",
    "print(text)"
   ]
  }
 ],
 "metadata": {
  "kernelspec": {
   "display_name": "Python 3",
   "language": "python",
   "name": "python3"
  },
  "language_info": {
   "codemirror_mode": {
    "name": "ipython",
    "version": 3
   },
   "file_extension": ".py",
   "mimetype": "text/x-python",
   "name": "python",
   "nbconvert_exporter": "python",
   "pygments_lexer": "ipython3",
   "version": "3.8.3"
  }
 },
 "nbformat": 4,
 "nbformat_minor": 4
}
