{
 "cells": [
  {
   "cell_type": "code",
   "execution_count": 4,
   "metadata": {},
   "outputs": [
    {
     "name": "stdout",
     "output_type": "stream",
     "text": [
      "日前，优博讯(300531)成功中标中国东方航空股份公司“行李运输管理系统(BMS)手持扫描设备”采购项目\n"
     ]
    }
   ],
   "source": [
    "\"\"\"字符串文本替换\n",
    "1.replace()函数\n",
    "\"\"\"\n",
    "text = \"日前，优博讯(300531)成功中标中国东方航空股份有限公司“行李运输管理系统(BMS)手持扫描设备”采购项目\"\n",
    "text = text.replace(\"有限公司\",\"公司\")\n",
    "print(text)"
   ]
  }
 ],
 "metadata": {
  "kernelspec": {
   "display_name": "Python 3",
   "language": "python",
   "name": "python3"
  },
  "language_info": {
   "codemirror_mode": {
    "name": "ipython",
    "version": 3
   },
   "file_extension": ".py",
   "mimetype": "text/x-python",
   "name": "python",
   "nbconvert_exporter": "python",
   "pygments_lexer": "ipython3",
   "version": "3.7.6"
  }
 },
 "nbformat": 4,
 "nbformat_minor": 4
}
