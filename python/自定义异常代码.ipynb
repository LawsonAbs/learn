{
 "cells": [
  {
   "cell_type": "code",
   "execution_count": 3,
   "metadata": {},
   "outputs": [
    {
     "name": "stdout",
     "output_type": "stream",
     "text": [
      "顺利执行完毕\n"
     ]
    }
   ],
   "source": [
    "def fn():\n",
    "    try:\n",
    "        for i in range(5):\n",
    "            if i>10:\n",
    "                raise Exception(\"数字大于2了\")\n",
    "    except Exception as ret: # 如果try中发生了  Exception 异常\n",
    "        print(ret)\n",
    "    else: # 如果没有异常发生，则会执行else 的语句\n",
    "        print(\"顺利执行完毕\")\n",
    "fn()"
   ]
  }
 ],
 "metadata": {
  "kernelspec": {
   "display_name": "Python 3",
   "language": "python",
   "name": "python3"
  },
  "language_info": {
   "codemirror_mode": {
    "name": "ipython",
    "version": 3
   },
   "file_extension": ".py",
   "mimetype": "text/x-python",
   "name": "python",
   "nbconvert_exporter": "python",
   "pygments_lexer": "ipython3",
   "version": "3.8.3"
  }
 },
 "nbformat": 4,
 "nbformat_minor": 4
}
