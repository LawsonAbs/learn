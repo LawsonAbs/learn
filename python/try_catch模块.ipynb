{
 "cells": [
  {
   "cell_type": "code",
   "execution_count": 6,
   "metadata": {},
   "outputs": [
    {
     "name": "stdout",
     "output_type": "stream",
     "text": [
      "1\n",
      "in else\n"
     ]
    }
   ],
   "source": [
    "\"\"\"try-catch模块\n",
    "\"\"\"\n",
    "a = [1,2]\n",
    "try: # 正常代码\n",
    "    if(len(a) >= 2):\n",
    "        print(\"1\")\n",
    "except:# 如果报错，则执行此部分代码\n",
    "    print(\"a is not a list\")\n",
    "else:\n",
    "    print(\"in else\")"
   ]
  }
 ],
 "metadata": {
  "kernelspec": {
   "display_name": "Python 3",
   "language": "python",
   "name": "python3"
  },
  "language_info": {
   "codemirror_mode": {
    "name": "ipython",
    "version": 3
   },
   "file_extension": ".py",
   "mimetype": "text/x-python",
   "name": "python",
   "nbconvert_exporter": "python",
   "pygments_lexer": "ipython3",
   "version": "3.8.3"
  }
 },
 "nbformat": 4,
 "nbformat_minor": 4
}
