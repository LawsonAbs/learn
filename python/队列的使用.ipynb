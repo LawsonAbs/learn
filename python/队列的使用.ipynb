{
 "cells": [
  {
   "cell_type": "code",
   "execution_count": null,
   "metadata": {},
   "outputs": [],
   "source": [
    "def test_queue():\n",
    "    q = Queue(maxsize=5)  # 队列最大的容量为5 \n",
    "    q.put(1) # 往队列中放数\n",
    "    q.put(2) \n",
    "    print(q.qsize()) # 使用qsize() 输出队列大小。注意是 qsize() 函数，不是size()\n",
    "    print(q.empty()) # 判断队列是否为空，如果为空，则为True，否则为False\n",
    "    while( not q.empty()):\n",
    "        print(q.get()) # 取出队首"
   ]
  }
 ],
 "metadata": {
  "kernelspec": {
   "display_name": "Python 3",
   "language": "python",
   "name": "python3"
  },
  "language_info": {
   "codemirror_mode": {
    "name": "ipython",
    "version": 3
   },
   "file_extension": ".py",
   "mimetype": "text/x-python",
   "name": "python",
   "nbconvert_exporter": "python",
   "pygments_lexer": "ipython3",
   "version": "3.8.3"
  }
 },
 "nbformat": 4,
 "nbformat_minor": 4
}
