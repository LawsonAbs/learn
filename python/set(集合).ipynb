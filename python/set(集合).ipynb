{
 "cells": [
  {
   "cell_type": "code",
   "execution_count": 7,
   "metadata": {},
   "outputs": [
    {
     "name": "stdout",
     "output_type": "stream",
     "text": [
      "set()\n",
      "<class 'set'>\n",
      "{1}\n"
     ]
    }
   ],
   "source": [
    "'''\n",
    "定义set\n",
    "'''\n",
    "a=set() #必须使用set()创建一个空集合。如果不是空集合，可以用{'a','v'}这种方式来创建\n",
    "print(a)\n",
    "a.add(1)\n",
    "print(type(a))\n",
    "print(a)"
   ]
  },
  {
   "cell_type": "code",
   "execution_count": 8,
   "metadata": {},
   "outputs": [
    {
     "name": "stdout",
     "output_type": "stream",
     "text": [
      "{1}\n",
      "set()\n"
     ]
    }
   ],
   "source": [
    "b = set()\n",
    "\n",
    "print(a-b) # a 有但是 b没有的\n",
    "print(a&b) # a和b的交集"
   ]
  },
  {
   "cell_type": "code",
   "execution_count": 9,
   "metadata": {},
   "outputs": [
    {
     "name": "stdout",
     "output_type": "stream",
     "text": [
      "1\n"
     ]
    }
   ],
   "source": [
    "'''求set的长度\n",
    "01.使用len()方法\n",
    "'''\n",
    "print(len(a))"
   ]
  },
  {
   "cell_type": "code",
   "execution_count": 2,
   "metadata": {},
   "outputs": [
    {
     "name": "stdout",
     "output_type": "stream",
     "text": [
      "b= {1, 2}\n",
      "a= {1, 2}\n"
     ]
    }
   ],
   "source": [
    "\"\"\"集合的合并 \n",
    "\"\"\"\n",
    "a = set() # 初始化一个set\n",
    "a.add(1) # 向其中添加两个元素\n",
    "a.add(2)\n",
    "b = set() \n",
    "b =b.union(a) # 将a的元素合并到b中\n",
    "print(\"b=\",b)\n",
    "print(\"a=\",a) # 没有修改a的值"
   ]
  }
 ],
 "metadata": {
  "kernelspec": {
   "display_name": "Python 3",
   "language": "python",
   "name": "python3"
  },
  "language_info": {
   "codemirror_mode": {
    "name": "ipython",
    "version": 3
   },
   "file_extension": ".py",
   "mimetype": "text/x-python",
   "name": "python",
   "nbconvert_exporter": "python",
   "pygments_lexer": "ipython3",
   "version": "3.8.3"
  }
 },
 "nbformat": 4,
 "nbformat_minor": 4
}
