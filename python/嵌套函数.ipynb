{
 "cells": [
  {
   "cell_type": "code",
   "execution_count": 4,
   "metadata": {},
   "outputs": [],
   "source": [
    "\"\"\"嵌套函数\n",
    "\"\"\"\n",
    "def abc():\n",
    "    def print_inab():\n",
    "        print(\"hello\")\n",
    "abc()"
   ]
  },
  {
   "cell_type": "code",
   "execution_count": 29,
   "metadata": {},
   "outputs": [
    {
     "name": "stdout",
     "output_type": "stream",
     "text": [
      "[1, 2, 3, 4, 5, 6]\n",
      "[3, 6, 2, 4, 1, 5]\n"
     ]
    }
   ],
   "source": [
    "import random\n",
    "random.seed(10) # 设置种子，保持随机一致性\n",
    "a = [1,2,3,4,5,6]\n",
    "print(a)\n",
    "random.shuffle(a) #原地shuffle\n",
    "print(a)"
   ]
  }
 ],
 "metadata": {
  "kernelspec": {
   "display_name": "Python 3",
   "language": "python",
   "name": "python3"
  },
  "language_info": {
   "codemirror_mode": {
    "name": "ipython",
    "version": 3
   },
   "file_extension": ".py",
   "mimetype": "text/x-python",
   "name": "python",
   "nbconvert_exporter": "python",
   "pygments_lexer": "ipython3",
   "version": "3.8.3"
  }
 },
 "nbformat": 4,
 "nbformat_minor": 4
}
