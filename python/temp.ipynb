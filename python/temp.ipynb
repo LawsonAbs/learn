{
 "cells": [
  {
   "cell_type": "code",
   "execution_count": 7,
   "metadata": {},
   "outputs": [
    {
     "name": "stdout",
     "output_type": "stream",
     "text": [
      "tensor([1, 2, 3])\n"
     ]
    }
   ],
   "source": [
    "import torch as t\n",
    "trg = t.tensor([[1,2,3],[4,5,6]])\n",
    "print(trg[0,:])"
   ]
  },
  {
   "cell_type": "code",
   "execution_count": 43,
   "metadata": {},
   "outputs": [
    {
     "name": "stdout",
     "output_type": "stream",
     "text": [
      "<class 'dict'>\n",
      "('8224', 24)\n",
      "('648', 17)\n",
      "('12742', 15)\n",
      "('23349', 11)\n",
      "('13343', 10)\n",
      "('26526', 9)\n",
      "('3382', 9)\n",
      "('6288', 9)\n",
      "('2910', 8)\n",
      "('4004', 8)\n",
      "('14489', 7)\n",
      "('29640', 7)\n",
      "('1826', 7)\n",
      "('3848', 6)\n",
      "('16157', 6)\n",
      "('11259', 6)\n",
      "('27762', 6)\n",
      "('18785', 6)\n",
      "('18244', 5)\n",
      "('21853', 5)\n",
      "('3240', 5)\n"
     ]
    }
   ],
   "source": [
    "import os\n",
    "import re\n",
    "from collections import Counter\n",
    "# 从少样本中找出高频词，作为这类文本的标识\n",
    "def get_special_token_from_less_sample(dir_path,high_freq_file):    \n",
    "    file_list= os.listdir(dir_path)\n",
    "    all_words = [] # 少样本中出现的词汇\n",
    "    for file in file_list:\n",
    "        cur_file_path = os.path.join(dir_path,file)\n",
    "        with open(cur_file_path, 'r') as f:\n",
    "            for line in f:\n",
    "                line = line.strip(\"\\n\")\n",
    "                line = re.split(r\"[，。！？ ]\",line)\n",
    "                line = [_ for _ in line if _ !=\"\"]\n",
    "                all_words.extend(line)\n",
    "                # print(line)\n",
    "#                 break\n",
    "    word_cnt = dict(Counter(all_words))\n",
    "    print(type(word_cnt))\n",
    "    word_cnt = sorted(word_cnt.items(),key = lambda x:x[1],reverse=True)\n",
    "    \n",
    "\n",
    "    # 再去除高频词\n",
    "    high_word_freq = {} # 读取高频词列表\n",
    "    with open(high_freq_file, 'r') as f:        \n",
    "        cont = json.load(f)\n",
    "        # print(cont)\n",
    "    \n",
    "#     print(type(cont))\n",
    "    cont = dict(cont)\n",
    "    top_k = 0  # 取top_k 在200 为高频词\n",
    "    for item in cont.items():\n",
    "        key,value = item\n",
    "        high_word_freq[key] =value\n",
    "        if top_k > 500:\n",
    "            break\n",
    "        top_k+=1\n",
    "#     print(high_word_freq)\n",
    "    \n",
    "    # 找出文档中的高频词\n",
    "    top_k = 0\n",
    "    for item in word_cnt:\n",
    "        key,value = item\n",
    "        if key not in high_word_freq.keys():\n",
    "            print(item)\n",
    "            top_k += 1\n",
    "        if top_k > 20:\n",
    "            break\n",
    "get_special_token_from_less_sample(\"/home/lawson/program/daguan/risk_data_grand/data/5-24\",\n",
    "                                   '/home/lawson/program/daguan/risk_data_grand/data/small_json/word_freq.json')"
   ]
  },
  {
   "cell_type": "code",
   "execution_count": 32,
   "metadata": {},
   "outputs": [
    {
     "ename": "KeyboardInterrupt",
     "evalue": "",
     "output_type": "error",
     "traceback": [
      "\u001b[0;31m---------------------------------------------------------------------------\u001b[0m",
      "\u001b[0;31mKeyboardInterrupt\u001b[0m                         Traceback (most recent call last)",
      "\u001b[0;32m<ipython-input-32-dfb764762894>\u001b[0m in \u001b[0;36m<module>\u001b[0;34m\u001b[0m\n\u001b[1;32m     17\u001b[0m         \u001b[0;32mfor\u001b[0m \u001b[0mline\u001b[0m \u001b[0;32min\u001b[0m \u001b[0mall_title\u001b[0m\u001b[0;34m:\u001b[0m\u001b[0;34m\u001b[0m\u001b[0;34m\u001b[0m\u001b[0m\n\u001b[1;32m     18\u001b[0m             \u001b[0mf\u001b[0m\u001b[0;34m.\u001b[0m\u001b[0mwrite\u001b[0m\u001b[0;34m(\u001b[0m\u001b[0mline\u001b[0m\u001b[0;34m+\u001b[0m\u001b[0;34m\"\\n\"\u001b[0m\u001b[0;34m)\u001b[0m\u001b[0;34m\u001b[0m\u001b[0;34m\u001b[0m\u001b[0m\n\u001b[0;32m---> 19\u001b[0;31m \u001b[0mget_all_title_from_unlabel\u001b[0m\u001b[0;34m(\u001b[0m\u001b[0;34m)\u001b[0m\u001b[0;34m\u001b[0m\u001b[0;34m\u001b[0m\u001b[0m\n\u001b[0m",
      "\u001b[0;32m<ipython-input-32-dfb764762894>\u001b[0m in \u001b[0;36mget_all_title_from_unlabel\u001b[0;34m()\u001b[0m\n\u001b[1;32m      8\u001b[0m         \u001b[0mline\u001b[0m \u001b[0;34m=\u001b[0m \u001b[0mf\u001b[0m\u001b[0;34m.\u001b[0m\u001b[0mreadline\u001b[0m\u001b[0;34m(\u001b[0m\u001b[0;34m)\u001b[0m\u001b[0;34m\u001b[0m\u001b[0;34m\u001b[0m\u001b[0m\n\u001b[1;32m      9\u001b[0m         \u001b[0;32mwhile\u001b[0m \u001b[0mline\u001b[0m\u001b[0;34m:\u001b[0m\u001b[0;34m\u001b[0m\u001b[0;34m\u001b[0m\u001b[0m\n\u001b[0;32m---> 10\u001b[0;31m             \u001b[0mline\u001b[0m \u001b[0;34m=\u001b[0m \u001b[0mjson\u001b[0m\u001b[0;34m.\u001b[0m\u001b[0mloads\u001b[0m\u001b[0;34m(\u001b[0m\u001b[0mline\u001b[0m\u001b[0;34m,\u001b[0m\u001b[0mstrict\u001b[0m\u001b[0;34m=\u001b[0m\u001b[0;32mFalse\u001b[0m\u001b[0;34m)\u001b[0m\u001b[0;34m\u001b[0m\u001b[0;34m\u001b[0m\u001b[0m\n\u001b[0m\u001b[1;32m     11\u001b[0m             \u001b[0;31m# print(line)\u001b[0m\u001b[0;34m\u001b[0m\u001b[0;34m\u001b[0m\u001b[0;34m\u001b[0m\u001b[0m\n\u001b[1;32m     12\u001b[0m             \u001b[0mtitle\u001b[0m \u001b[0;34m=\u001b[0m \u001b[0mline\u001b[0m\u001b[0;34m[\u001b[0m\u001b[0;34m'title'\u001b[0m\u001b[0;34m]\u001b[0m\u001b[0;34m\u001b[0m\u001b[0;34m\u001b[0m\u001b[0m\n",
      "\u001b[0;32m~/anaconda3/lib/python3.8/json/__init__.py\u001b[0m in \u001b[0;36mloads\u001b[0;34m(s, cls, object_hook, parse_float, parse_int, parse_constant, object_pairs_hook, **kw)\u001b[0m\n\u001b[1;32m    368\u001b[0m     \u001b[0;32mif\u001b[0m \u001b[0mparse_constant\u001b[0m \u001b[0;32mis\u001b[0m \u001b[0;32mnot\u001b[0m \u001b[0;32mNone\u001b[0m\u001b[0;34m:\u001b[0m\u001b[0;34m\u001b[0m\u001b[0;34m\u001b[0m\u001b[0m\n\u001b[1;32m    369\u001b[0m         \u001b[0mkw\u001b[0m\u001b[0;34m[\u001b[0m\u001b[0;34m'parse_constant'\u001b[0m\u001b[0;34m]\u001b[0m \u001b[0;34m=\u001b[0m \u001b[0mparse_constant\u001b[0m\u001b[0;34m\u001b[0m\u001b[0;34m\u001b[0m\u001b[0m\n\u001b[0;32m--> 370\u001b[0;31m     \u001b[0;32mreturn\u001b[0m \u001b[0mcls\u001b[0m\u001b[0;34m(\u001b[0m\u001b[0;34m**\u001b[0m\u001b[0mkw\u001b[0m\u001b[0;34m)\u001b[0m\u001b[0;34m.\u001b[0m\u001b[0mdecode\u001b[0m\u001b[0;34m(\u001b[0m\u001b[0ms\u001b[0m\u001b[0;34m)\u001b[0m\u001b[0;34m\u001b[0m\u001b[0;34m\u001b[0m\u001b[0m\n\u001b[0m",
      "\u001b[0;32m~/anaconda3/lib/python3.8/json/decoder.py\u001b[0m in \u001b[0;36mdecode\u001b[0;34m(self, s, _w)\u001b[0m\n\u001b[1;32m    335\u001b[0m \u001b[0;34m\u001b[0m\u001b[0m\n\u001b[1;32m    336\u001b[0m         \"\"\"\n\u001b[0;32m--> 337\u001b[0;31m         \u001b[0mobj\u001b[0m\u001b[0;34m,\u001b[0m \u001b[0mend\u001b[0m \u001b[0;34m=\u001b[0m \u001b[0mself\u001b[0m\u001b[0;34m.\u001b[0m\u001b[0mraw_decode\u001b[0m\u001b[0;34m(\u001b[0m\u001b[0ms\u001b[0m\u001b[0;34m,\u001b[0m \u001b[0midx\u001b[0m\u001b[0;34m=\u001b[0m\u001b[0m_w\u001b[0m\u001b[0;34m(\u001b[0m\u001b[0ms\u001b[0m\u001b[0;34m,\u001b[0m \u001b[0;36m0\u001b[0m\u001b[0;34m)\u001b[0m\u001b[0;34m.\u001b[0m\u001b[0mend\u001b[0m\u001b[0;34m(\u001b[0m\u001b[0;34m)\u001b[0m\u001b[0;34m)\u001b[0m\u001b[0;34m\u001b[0m\u001b[0;34m\u001b[0m\u001b[0m\n\u001b[0m\u001b[1;32m    338\u001b[0m         \u001b[0mend\u001b[0m \u001b[0;34m=\u001b[0m \u001b[0m_w\u001b[0m\u001b[0;34m(\u001b[0m\u001b[0ms\u001b[0m\u001b[0;34m,\u001b[0m \u001b[0mend\u001b[0m\u001b[0;34m)\u001b[0m\u001b[0;34m.\u001b[0m\u001b[0mend\u001b[0m\u001b[0;34m(\u001b[0m\u001b[0;34m)\u001b[0m\u001b[0;34m\u001b[0m\u001b[0;34m\u001b[0m\u001b[0m\n\u001b[1;32m    339\u001b[0m         \u001b[0;32mif\u001b[0m \u001b[0mend\u001b[0m \u001b[0;34m!=\u001b[0m \u001b[0mlen\u001b[0m\u001b[0;34m(\u001b[0m\u001b[0ms\u001b[0m\u001b[0;34m)\u001b[0m\u001b[0;34m:\u001b[0m\u001b[0;34m\u001b[0m\u001b[0;34m\u001b[0m\u001b[0m\n",
      "\u001b[0;32m~/anaconda3/lib/python3.8/json/decoder.py\u001b[0m in \u001b[0;36mraw_decode\u001b[0;34m(self, s, idx)\u001b[0m\n\u001b[1;32m    351\u001b[0m         \"\"\"\n\u001b[1;32m    352\u001b[0m         \u001b[0;32mtry\u001b[0m\u001b[0;34m:\u001b[0m\u001b[0;34m\u001b[0m\u001b[0;34m\u001b[0m\u001b[0m\n\u001b[0;32m--> 353\u001b[0;31m             \u001b[0mobj\u001b[0m\u001b[0;34m,\u001b[0m \u001b[0mend\u001b[0m \u001b[0;34m=\u001b[0m \u001b[0mself\u001b[0m\u001b[0;34m.\u001b[0m\u001b[0mscan_once\u001b[0m\u001b[0;34m(\u001b[0m\u001b[0ms\u001b[0m\u001b[0;34m,\u001b[0m \u001b[0midx\u001b[0m\u001b[0;34m)\u001b[0m\u001b[0;34m\u001b[0m\u001b[0;34m\u001b[0m\u001b[0m\n\u001b[0m\u001b[1;32m    354\u001b[0m         \u001b[0;32mexcept\u001b[0m \u001b[0mStopIteration\u001b[0m \u001b[0;32mas\u001b[0m \u001b[0merr\u001b[0m\u001b[0;34m:\u001b[0m\u001b[0;34m\u001b[0m\u001b[0;34m\u001b[0m\u001b[0m\n\u001b[1;32m    355\u001b[0m             \u001b[0;32mraise\u001b[0m \u001b[0mJSONDecodeError\u001b[0m\u001b[0;34m(\u001b[0m\u001b[0;34m\"Expecting value\"\u001b[0m\u001b[0;34m,\u001b[0m \u001b[0ms\u001b[0m\u001b[0;34m,\u001b[0m \u001b[0merr\u001b[0m\u001b[0;34m.\u001b[0m\u001b[0mvalue\u001b[0m\u001b[0;34m)\u001b[0m \u001b[0;32mfrom\u001b[0m \u001b[0;32mNone\u001b[0m\u001b[0;34m\u001b[0m\u001b[0;34m\u001b[0m\u001b[0m\n",
      "\u001b[0;31mKeyboardInterrupt\u001b[0m: "
     ]
    }
   ],
   "source": [
    "import json\n",
    "# 从unlable 文档中抽取出所有的\n",
    "def get_all_title_from_unlabel():\n",
    "    all_title= [] # \n",
    "    source = \"/home/lawson/program/daguan/risk_data_grand/data/datagrand_2021_unlabeled_data.json\"\n",
    "    dest = \"/home/lawson/program/daguan/risk_data_grand/data/unlabel_title.txt\"\n",
    "    with open(source,'r',errors='ignore') as f:\n",
    "        line = f.readline()\n",
    "        while line:\n",
    "            line = json.loads(line,strict=False)\n",
    "            # print(line)\n",
    "            title = line['title']            \n",
    "            all_title.append(title)\n",
    "            line = f.readline()\n",
    "    \n",
    "    with open(dest,'w') as f:\n",
    "        for line in all_title:\n",
    "            f.write(line+\"\\n\")\n",
    "get_all_title_from_unlabel()"
   ]
  },
  {
   "cell_type": "code",
   "execution_count": null,
   "metadata": {},
   "outputs": [],
   "source": [
    "import torchtext as tt\n",
    "import torchtext.data import TabularDataset\n",
    "# 定义filed\n",
    "datafields=[(\"context\",TEXT),(\"label\",LABEL)] ## TEXT field, LABEL \n",
    "fieldtest_field=[(\"context\",TEXT),(\"label\",LABEL)]\n",
    "\n",
    "#\n",
    "train_file,valid_file = TabularDataset.splits(path =\"/home/lawson/program/wheels/seq2seq/data/en.xml\" ,skip_header=True,fields=datafields)\n",
    "print(train_file[1].context[:3])\n",
    "print(train_file[1].label)"
   ]
  },
  {
   "cell_type": "code",
   "execution_count": null,
   "metadata": {},
   "outputs": [],
   "source": [
    "from torchtext import data\n",
    "from torchtext.vocab import Vectors\n",
    "from torch.nn import init\n",
    "from tqdm import tqdm\n",
    "\n",
    "tokenize = lambda x: x.split()\n",
    "# fix_length指定了每条文本的长度，截断补长\n",
    "TEXT = data.Field(sequential=True, tokenize=tokenize, lower=True, fix_length=200)\n",
    "LABEL = data.Field(sequential=False, use_vocab=False)\n",
    "\n",
    "# 读取数据\n",
    "train_data = pd.read_csv('data/train_one_label.csv')\n",
    "valid_data = pd.read_csv('data/valid_one_label.csv')\n",
    "test_data = pd.read_csv(\"data/test.csv\")\n",
    "TEXT = data.Field(sequential=True, tokenize=tokenize, lower=True)\n",
    "LABEL = data.Field(sequential=False, use_vocab=False)\n",
    "\n",
    "# get_dataset构造并返回Dataset所需的examples和fields\n",
    "def get_dataset(csv_data, text_field, label_field, test=False):\n",
    "# id数据对训练在训练过程中没用，使用None指定其对应的field\n",
    "    fields = [(\"id\", None), # we won't be needing the id, so we pass in None as the field\n",
    "                 (\"comment_text\", text_field), (\"toxic\", label_field)]       \n",
    "    examples = []\n",
    "\n",
    "    if test:\n",
    "        # 如果为测试集，则不加载label\n",
    "        for text in tqdm(csv_data['comment_text']):\n",
    "            examples.append(data.Example.fromlist([None, text, None], fields))\n",
    "    else:\n",
    "        for text, label in tqdm(zip(csv_data['comment_text'], csv_data['toxic'])):\n",
    "            examples.append(data.Example.fromlist([None, text, label], fields))\n",
    "    return examples, fields\n",
    "\n",
    "# 得到构建Dataset所需的examples和fields\n",
    "train_examples, train_fields = get_dataset(train_data, TEXT, LABEL)\n",
    "valid_examples, valid_fields = get_dataset(valid_data, TEXT, LABEL)\n",
    "test_examples, test_fields = get_dataset(test_data, TEXT, None, test=True)\n",
    "\n",
    "# 构建Dataset数据集\n",
    "train = data.Dataset(train_examples, train_fields)\n",
    "valid = data.Dataset(valid_examples, valid_fields)\n",
    "test = data.Dataset(test_examples, test_fields)\n"
   ]
  }
 ],
 "metadata": {
  "kernelspec": {
   "display_name": "Python 3 (ipykernel)",
   "language": "python",
   "name": "python3"
  },
  "language_info": {
   "codemirror_mode": {
    "name": "ipython",
    "version": 3
   },
   "file_extension": ".py",
   "mimetype": "text/x-python",
   "name": "python",
   "nbconvert_exporter": "python",
   "pygments_lexer": "ipython3",
   "version": "3.8.3"
  }
 },
 "nbformat": 4,
 "nbformat_minor": 4
}
