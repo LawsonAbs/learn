{
 "cells": [
  {
   "cell_type": "code",
   "execution_count": 5,
   "metadata": {},
   "outputs": [
    {
     "name": "stdout",
     "output_type": "stream",
     "text": [
      "[[0, 0, 0, 0, 0], [0, 0, 0, 0, 0], [0, 0, 0, 0, 0]]\n",
      "[[0, 0, 0, 0, 0], [0, 0, 4, 0, 0], [0, 0, 0, 0, 0]]\n"
     ]
    }
   ],
   "source": [
    "#这个是《流畅的python》中推荐使用的方法\n",
    "b = [[0]*5 for i in range(3)]\n",
    "print(b)\n",
    "b[1][2] = 4\n",
    "print(b)"
   ]
  },
  {
   "cell_type": "code",
   "execution_count": 23,
   "metadata": {},
   "outputs": [
    {
     "name": "stdout",
     "output_type": "stream",
     "text": [
      "[[0, 0, 0], [0, 0, 0]]\n",
      "[[0, 0, 43], [0, 0, 43]]\n",
      "139822397389568 139822397389568\n",
      "============\n",
      "[0, 0, 0]\n",
      "[2, 0, 0]\n",
      "139822398447488\n",
      "94082543254880 94082543254816 94082543254816\n"
     ]
    }
   ],
   "source": [
    "'''错误的生成方式：这样会得到一个相同地址的引用\n",
    "'''\n",
    "b = [[0]*3] *2\n",
    "print(b)\n",
    "b[1][2] = 43\n",
    "print(b)\n",
    "print(id(b[0]),id(b[1]))\n",
    "print(\"============\")\n",
    "c = [0]*3\n",
    "print(c)\n",
    "c[0] = 2\n",
    "print(c)\n",
    "print(id(c))\n",
    "print(id(c[0]),id(c[1]),id(c[2]))"
   ]
  }
 ],
 "metadata": {
  "kernelspec": {
   "display_name": "Python 3",
   "language": "python",
   "name": "python3"
  },
  "language_info": {
   "codemirror_mode": {
    "name": "ipython",
    "version": 3
   },
   "file_extension": ".py",
   "mimetype": "text/x-python",
   "name": "python",
   "nbconvert_exporter": "python",
   "pygments_lexer": "ipython3",
   "version": "3.8.3"
  }
 },
 "nbformat": 4,
 "nbformat_minor": 4
}
