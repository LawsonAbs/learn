{
 "cells": [
  {
   "cell_type": "code",
   "execution_count": 15,
   "metadata": {},
   "outputs": [
    {
     "name": "stdout",
     "output_type": "stream",
     "text": [
      "0 1\n",
      "1 2\n",
      "2 3\n",
      "3 4\n",
      "4 5\n",
      "----------------\n",
      "4 1\n",
      "5 2\n",
      "6 3\n",
      "7 4\n",
      "8 5\n"
     ]
    }
   ],
   "source": [
    "'''\n",
    "enumerate()函数的使用\n",
    "'''\n",
    "a = [1,2,3,4,5]\n",
    "#没有指定下标，重新遍历\n",
    "for i,item in enumerate(a):\n",
    "    print(i,item)\n",
    "\n",
    "print('----------------')\n",
    "# 下面这是指定下标开始遍历\n",
    "for i,item in enumerate(a,start=4):\n",
    "    print(i,item)"
   ]
  }
 ],
 "metadata": {
  "kernelspec": {
   "display_name": "Python 3",
   "language": "python",
   "name": "python3"
  },
  "language_info": {
   "codemirror_mode": {
    "name": "ipython",
    "version": 3
   },
   "file_extension": ".py",
   "mimetype": "text/x-python",
   "name": "python",
   "nbconvert_exporter": "python",
   "pygments_lexer": "ipython3",
   "version": "3.7.6"
  }
 },
 "nbformat": 4,
 "nbformat_minor": 4
}
