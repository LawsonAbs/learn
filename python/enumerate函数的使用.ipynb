{
 "cells": [
  {
   "cell_type": "code",
   "execution_count": 2,
   "metadata": {},
   "outputs": [
    {
     "name": "stdout",
     "output_type": "stream",
     "text": [
      "0 1\n",
      "1 2\n",
      "2 3\n",
      "3 4\n",
      "4 5\n",
      "----------------\n",
      "4 1\n",
      "5 2\n",
      "6 3\n",
      "7 4\n",
      "8 5\n"
     ]
    }
   ],
   "source": [
    "'''\n",
    "enumerate()函数的使用\n",
    "1.遍历python中的list类型\n",
    "'''\n",
    "a = [1,2,3,4,5]\n",
    "#没有指定下标，从头遍历\n",
    "for i,item in enumerate(a):\n",
    "    print(i,item)\n",
    "# 有一个问题就是：使用enumerate 和 直接使用a遍历的区别是什么呢？\n",
    "\n",
    "print('----------------')\n",
    "# 从指定下标开始遍历，如果没有指定，那么从0开始\n",
    "for i,item in enumerate(a,start=4):\n",
    "    print(i,item)"
   ]
  },
  {
   "cell_type": "code",
   "execution_count": 10,
   "metadata": {},
   "outputs": [
    {
     "name": "stdout",
     "output_type": "stream",
     "text": [
      "<class 'enumerate'>\n",
      "1\n",
      "2\n",
      "3\n",
      "4\n",
      "5\n"
     ]
    }
   ],
   "source": [
    "b = enumerate(a,start=3) # enumerate()\n",
    "enumerate??\n",
    "print(type(b)) # <class 'enumerate'>  这么看enumerate其实是一个类？\n",
    "dir(b)\n",
    "for i in a: \n",
    "    print(i)"
   ]
  }
 ],
 "metadata": {
  "kernelspec": {
   "display_name": "Python 3",
   "language": "python",
   "name": "python3"
  },
  "language_info": {
   "codemirror_mode": {
    "name": "ipython",
    "version": 3
   },
   "file_extension": ".py",
   "mimetype": "text/x-python",
   "name": "python",
   "nbconvert_exporter": "python",
   "pygments_lexer": "ipython3",
   "version": "3.8.3"
  }
 },
 "nbformat": 4,
 "nbformat_minor": 4
}
