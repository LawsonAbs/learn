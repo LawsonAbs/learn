{
 "cells": [
  {
   "cell_type": "code",
   "execution_count": 22,
   "metadata": {},
   "outputs": [
    {
     "name": "stdout",
     "output_type": "stream",
     "text": [
      "[10, 7, 4, 3, 3]\n",
      "[7, 4, 3, 3]\n",
      "[7, 4, 3, 3]\n"
     ]
    }
   ],
   "source": [
    "\"\"\"对list中值的修改，常见的bug\n",
    "\"\"\"\n",
    "import random as r\n",
    "# step1.得到一个随机的数组\n",
    "li = [10, 7, 4, 3, 3]\n",
    "# for _ in range(5):\n",
    "#     li.append(r.randint(1,10)) # 得到一个在区间[1,10]中的值\n",
    "\n",
    "# step2.动态修改li中的值\n",
    "back = li # 这是浅复制，二者指向同一个内存地址\n",
    "print(li)\n",
    "for _ in li:\n",
    "    if _ >= 5:\n",
    "        back.remove(_)\n",
    "\n",
    "print(li)\n",
    "print(back)"
   ]
  },
  {
   "cell_type": "code",
   "execution_count": 30,
   "metadata": {},
   "outputs": [
    {
     "name": "stdout",
     "output_type": "stream",
     "text": [
      "False\n",
      "0 10\n",
      "1 7\n",
      "2 4\n",
      "3 3\n",
      "4 3\n",
      "[4, 3, 3]\n"
     ]
    }
   ],
   "source": [
    "\"\"\"正确的删除list中的值\n",
    "1.采用复制的思想。这种思想下有三种方法\n",
    "b = a.copy() # 使用copy()函数创建副本\n",
    "b = a[:] #使用切片操作创建副本\n",
    "b = list(a) # 使用list函数创建副本\n",
    "\"\"\"\n",
    "import copy\n",
    "a =[10, 7, 4, 3, 3]\n",
    "res = copy.deepcopy(a) # 得到的不再是同一个内存了\n",
    "print(a is res) # 得到的是false\n",
    "for index,val in enumerate(a):\n",
    "    print(index,val)\n",
    "    if val>=5:\n",
    "        res.remove(val) # 移除指定下标中的值\n",
    "print(res)"
   ]
  },
  {
   "cell_type": "code",
   "execution_count": 36,
   "metadata": {},
   "outputs": [
    {
     "name": "stdout",
     "output_type": "stream",
     "text": [
      "<class 'filter'>\n",
      "4\n",
      "3\n",
      "3\n"
     ]
    }
   ],
   "source": [
    "\"\"\"正确的删除list中的值\n",
    "2.使用 filter() 函数  \n",
    "建议看doc: https://docs.python.org/3/library/functions.html#filter\n",
    "01.在function为非None的时候：\n",
    "filter(function,iterables) 其实和 (item for item in iterable if function(item))\n",
    "等价\n",
    "02.在function为None的时候：\n",
    "filter(function,iterables) 其实和 (item for item in iterable if item)等价\n",
    "\"\"\"\n",
    "a =[10, 7, 4, 3, 3]\n",
    "res = filter(lambda x:x<=5,a)  # 得到的结果类型是 <class 'filter'>\n",
    "print(type(res))\n",
    "for _ in res: # 遍历c\n",
    "    print(_)\n"
   ]
  },
  {
   "cell_type": "code",
   "execution_count": null,
   "metadata": {},
   "outputs": [],
   "source": [
    "\"\"\"正确的删除list中的值\n",
    "3.倒序遍历，这样删除的下标就不会产生影响，这个比较简单，不做示例了\n",
    "4.可以使用列表生成的方法，也比较简单。\n",
    "\"\"\""
   ]
  }
 ],
 "metadata": {
  "kernelspec": {
   "display_name": "Python 3",
   "language": "python",
   "name": "python3"
  },
  "language_info": {
   "codemirror_mode": {
    "name": "ipython",
    "version": 3
   },
   "file_extension": ".py",
   "mimetype": "text/x-python",
   "name": "python",
   "nbconvert_exporter": "python",
   "pygments_lexer": "ipython3",
   "version": "3.7.6"
  }
 },
 "nbformat": 4,
 "nbformat_minor": 4
}
