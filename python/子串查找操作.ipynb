{
 "cells": [
  {
   "cell_type": "code",
   "execution_count": 1,
   "metadata": {},
   "outputs": [
    {
     "name": "stdout",
     "output_type": "stream",
     "text": [
      "2\n",
      "[57, 60]\n"
     ]
    }
   ],
   "source": [
    "'''返回子串在母串中的下标值列表\n",
    "01.这是一个很容易出现bug的地方，因为子串在母串中的往往不止一个，所以最明智的方法是输出其整个列表\n",
    "02.返回子串在母串中出现的次数\n",
    "03.返回子串出现在母串的下标列表\n",
    "'''\n",
    "import re\n",
    "# 文本内容\n",
    "conte = \" 江西南昌桑海制药厂  每片重0.32克  口服。一次3片，一日4次。  养血，调经，止痛。用于月经不调，经期腹痛孕妇 孕妇忌服。  密封,阴凉干燥处。  非处方药物（乙类）  养血调经止痛，用于月经不调，经期腹痛\"   \n",
    "key = \"孕妇\"\n",
    "print(conte.count(key)) # 返回子串在母串中出现的次数\n",
    "a = [i.start() for i in re.finditer(key, conte)] # 使用re包完成\n",
    "print(a)"
   ]
  },
  {
   "cell_type": "code",
   "execution_count": null,
   "metadata": {},
   "outputs": [],
   "source": [
    "'''返回字符串中子串的下标值\n",
    "'''\n",
    "out = ' 益气养血，活血调经。用于气血两虚兼有血瘀所致的月经不调。症见月经周期错后、行经量少、精神不振、肢体乏力益气养血，活血调经。用于气血两虚兼有血瘀所致的月经不调。 '\n",
    "dic = {'益气养血':0,'活血调经':1,'月经不调':3}\n",
    "\n",
    "for key in dic.keys():\n",
    "    if key in out:\n",
    "        keyLen = len(key)\n",
    "        left =out.index(key)\n",
    "        print(left,left+keyLen)"
   ]
  }
 ],
 "metadata": {
  "kernelspec": {
   "display_name": "Python 3",
   "language": "python",
   "name": "python3"
  },
  "language_info": {
   "codemirror_mode": {
    "name": "ipython",
    "version": 3
   },
   "file_extension": ".py",
   "mimetype": "text/x-python",
   "name": "python",
   "nbconvert_exporter": "python",
   "pygments_lexer": "ipython3",
   "version": "3.8.3"
  }
 },
 "nbformat": 4,
 "nbformat_minor": 4
}
