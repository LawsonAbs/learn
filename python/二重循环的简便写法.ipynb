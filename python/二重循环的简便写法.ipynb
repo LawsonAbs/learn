{
 "cells": [
  {
   "cell_type": "code",
   "execution_count": 2,
   "metadata": {},
   "outputs": [
    {
     "name": "stdout",
     "output_type": "stream",
     "text": [
      "[48, 25, 131]\n"
     ]
    }
   ],
   "source": [
    "import numpy as np\n",
    "s= np.array([[48],[25,131]]) # 搞一个二维数组\n",
    "\"\"\"\n",
    "作用：找出一个二维数组中所有的元素，放在同一个list中。也就是一个flat操作。\n",
    "01.for lst in s 是第一层循环，即拿到s中的每个lst(array)\n",
    "02.在lst的基础，找出其中的每个元素得到i，然后拼接成一个list\n",
    "03.将list赋值给s\n",
    "\"\"\"\n",
    "s = [i for lst in s for i in lst]\n",
    "print(s)"
   ]
  }
 ],
 "metadata": {
  "kernelspec": {
   "display_name": "Python 3",
   "language": "python",
   "name": "python3"
  },
  "language_info": {
   "codemirror_mode": {
    "name": "ipython",
    "version": 3
   },
   "file_extension": ".py",
   "mimetype": "text/x-python",
   "name": "python",
   "nbconvert_exporter": "python",
   "pygments_lexer": "ipython3",
   "version": "3.8.3"
  }
 },
 "nbformat": 4,
 "nbformat_minor": 4
}
