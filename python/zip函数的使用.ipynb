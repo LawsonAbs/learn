{
 "cells": [
  {
   "cell_type": "code",
   "execution_count": 7,
   "metadata": {},
   "outputs": [
    {
     "name": "stdout",
     "output_type": "stream",
     "text": [
      "<class 'zip'>\n",
      "('补', '气', '养', '血')\n",
      "('DRUG_EFFICACY_B', 'DRUG_EFFICACY_I', 'DRUG_EFFICACY_I', 'DRUG_EFFICACY_I')\n",
      "[['补', '气', '养', '血'], ['DRUG_EFFICACY_B', 'DRUG_EFFICACY_I', 'DRUG_EFFICACY_I', 'DRUG_EFFICACY_I']]\n",
      "2\n"
     ]
    }
   ],
   "source": [
    "'''\n",
    "01.zip(*sample) 的含义是什么？\n",
    "'''\n",
    "sample = [['补', 'DRUG_EFFICACY_B'], ['气', 'DRUG_EFFICACY_I'], ['养', 'DRUG_EFFICACY_I'], ['血', 'DRUG_EFFICACY_I']]\n",
    "out= zip(*sample)\n",
    "\n",
    "print(type(out)) # <class 'zip'>\n",
    "for _ in out :\n",
    "    print(_) # ('补', '气', '养', '血')\n",
    "\n",
    "sample = list(map(list,zip(*sample)))\n",
    "\n",
    "print(sample)\n",
    "print(len(sample))"
   ]
  },
  {
   "cell_type": "code",
   "execution_count": 14,
   "metadata": {},
   "outputs": [
    {
     "name": "stdout",
     "output_type": "stream",
     "text": [
      "<zip object at 0x7fdbe1a9caf0>\n",
      "<map object at 0x7fdbe0ffa050>\n"
     ]
    }
   ],
   "source": [
    "a = [[1, 2, 3], [4, 5, 6], [7, 8, 9]]\n",
    "print(zip(*a)) # 输出结果是：[(1, 4, 7), (2, 5, 8), (3, 6, 9)]\n",
    "\n",
    "print(map(list,zip(*a))) #输出结果是：[[1, 4, 7], [2, 5, 8], [3, 6, 9]]"
   ]
  },
  {
   "cell_type": "code",
   "execution_count": 25,
   "metadata": {},
   "outputs": [
    {
     "name": "stdout",
     "output_type": "stream",
     "text": [
      "(1, 3, 5, 7)\n",
      "(2, 4, 6, 8)\n",
      "(3, 7, 11, 15)\n",
      "------------------------------\n",
      "(1, 3, 5, 7)\n",
      "(2, 4, 6, 8)\n",
      "(3, 7, 11, 15)\n",
      "------------------------------\n",
      "(1,)\n",
      "(2,)\n",
      "(3,)\n"
     ]
    }
   ],
   "source": [
    "'''\n",
    "zip(*args)的使用\n",
    "args需要满足如下几个条件：\n",
    "01.可迭代\n",
    "02.每个 迭代子项（我称下面的[1,2,3]为一个可迭代子项） 的长度都必须相等。比如下面的a中的每一项的长度都是3\n",
    "03.超过两个迭代子项\n",
    "'''\n",
    "a = [[1,2,3],[3,4,7],[5,6,11],[7,8,15]]\n",
    "b = zip(*a)\n",
    "for _ in b:\n",
    "    print(_)\n",
    "\n",
    "print(\"------------------------------\")    \n",
    "c = [(1,2,3),(3,4,7),(5,6,11),(7,8,15)]\n",
    "d = zip(*c)\n",
    "for _ in d:\n",
    "    print(_)\n",
    "\n",
    "print(\"------------------------------\") \n",
    "e = [(1,2,3)]\n",
    "f = zip(*e)\n",
    "for _ in f:\n",
    "    print(_)"
   ]
  }
 ],
 "metadata": {
  "kernelspec": {
   "display_name": "Python 3",
   "language": "python",
   "name": "python3"
  },
  "language_info": {
   "codemirror_mode": {
    "name": "ipython",
    "version": 3
   },
   "file_extension": ".py",
   "mimetype": "text/x-python",
   "name": "python",
   "nbconvert_exporter": "python",
   "pygments_lexer": "ipython3",
   "version": "3.8.3"
  }
 },
 "nbformat": 4,
 "nbformat_minor": 4
}
