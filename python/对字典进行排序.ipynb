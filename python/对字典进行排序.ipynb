{
 "cells": [
  {
   "cell_type": "code",
   "execution_count": 4,
   "metadata": {},
   "outputs": [
    {
     "name": "stdout",
     "output_type": "stream",
     "text": [
      "{'辛辣': 'DRUG_TASTE', '孕妇': 'PERSON_GROUP', '补气养血': 'DRUG_EFFICACY'}\n",
      "{'补气养血': 'DRUG_EFFICACY', '辛辣': 'DRUG_TASTE', '孕妇': 'PERSON_GROUP'}\n"
     ]
    }
   ],
   "source": [
    "'''对字典进行排序\n",
    "01.按照字典键的长度进行排序\n",
    "'''\n",
    "entity={'辛辣':'DRUG_TASTE','孕妇':\"PERSON_GROUP\",'补气养血':'DRUG_EFFICACY'}\n",
    "print(entity)\n",
    "\n",
    "# 注意语法的含义，才能更好的记住\n",
    "# 01.对entity.items()进行排序\n",
    "# 02.排序规则是lambda 函数定义的key\n",
    "entity = sorted(entity.items(),key=lambda entity:len(entity[0]),reverse=True)\n",
    "# dic 在sorted()之后得到的是个list，而不再是个 dict 了\n",
    "print(dict(entity))"
   ]
  },
  {
   "cell_type": "code",
   "execution_count": 5,
   "metadata": {},
   "outputs": [
    {
     "name": "stdout",
     "output_type": "stream",
     "text": [
      "{98809: 1.0, 102445: 2.1, 104841: 0.3, 106782: 2.0}\n",
      "{104841: 0.3, 98809: 1.0, 106782: 2.0, 102445: 2.1}\n"
     ]
    }
   ],
   "source": [
    "'''对字典进行排序\n",
    "01.按照值的大小进行排序\n",
    "'''\n",
    "dic={98809: 1.0, 102445: 2.1, 104841: 0.3, 106782: 2.0}\n",
    "print(dic)\n",
    "dic = sorted(dic.items(),key=lambda dic:dic[1])\n",
    "# dic 在sorted()之后得到的是个list，而不再是个 dict 了\n",
    "print(dict(dic))"
   ]
  }
 ],
 "metadata": {
  "kernelspec": {
   "display_name": "Python 3",
   "language": "python",
   "name": "python3"
  },
  "language_info": {
   "codemirror_mode": {
    "name": "ipython",
    "version": 3
   },
   "file_extension": ".py",
   "mimetype": "text/x-python",
   "name": "python",
   "nbconvert_exporter": "python",
   "pygments_lexer": "ipython3",
   "version": "3.7.6"
  }
 },
 "nbformat": 4,
 "nbformat_minor": 4
}
