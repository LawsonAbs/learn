{
 "cells": [
  {
   "cell_type": "code",
   "execution_count": 7,
   "metadata": {},
   "outputs": [
    {
     "name": "stdout",
     "output_type": "stream",
     "text": [
      "139686432364288\n",
      "139686432364288\n",
      "139686441297712\n",
      "139686441297712\n",
      "139686449917056\n",
      "139686500983280\n",
      "139686441297584\n"
     ]
    }
   ],
   "source": [
    "'''\n",
    "1.可以将内置序列分成可变和不可变序列两种\n",
    "（1）可变序列 list\n",
    "可变序列，有直接的方法去操作。比如针对list的append()等方法\n",
    "（2）不可变序列 tuple, str\n",
    "不可变序列意味着你很难直接运用某个方法来修改其中的元素，即使修改之后，得到新的变量与之前的那个变量所指向的对象是不同的。\n",
    "'''\n",
    "# 测试list\n",
    "li = [1,2,3]\n",
    "print(id(li))\n",
    "li.append(4)\n",
    "print(id(li)) # 可以发现在修改li的之后，其id值仍然相同\n",
    "\n",
    "# 测试bytearray\n",
    "ba = bytearray([1,2,3])\n",
    "print(id(ba))\n",
    "ba.append(4)\n",
    "print(id(ba))\n",
    "\n",
    "# 不可变序列\n",
    "\n",
    "tu = (1,2,3)\n",
    "print(id(tu))\n",
    "string = \"lawson\"\n",
    "print(id(string))\n",
    "string+=\"likeyou\"\n",
    "print(id(string)) # 可以发现两个id不同"
   ]
  }
 ],
 "metadata": {
  "kernelspec": {
   "display_name": "Python 3",
   "language": "python",
   "name": "python3"
  },
  "language_info": {
   "codemirror_mode": {
    "name": "ipython",
    "version": 3
   },
   "file_extension": ".py",
   "mimetype": "text/x-python",
   "name": "python",
   "nbconvert_exporter": "python",
   "pygments_lexer": "ipython3",
   "version": "3.8.3"
  }
 },
 "nbformat": 4,
 "nbformat_minor": 4
}
