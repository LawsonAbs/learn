{
 "cells": [
  {
   "cell_type": "code",
   "execution_count": 3,
   "metadata": {},
   "outputs": [
    {
     "name": "stdout",
     "output_type": "stream",
     "text": [
      "1,4,9,"
     ]
    }
   ],
   "source": [
    "'''\n",
    "map操作：\n",
    "01. 将按照指定操作对给定序列执行映射操作\n",
    "02. 通用执行形式：map(function,iterable)，这里的 function 可以是自定义的函数，也可以是内置函数。\n",
    "'''\n",
    "def square(x:int):\n",
    "    return x**2\n",
    "\n",
    "a = [1,2,3]\n",
    "b = map(square, a)\n",
    "for i in b:\n",
    "    print(i,end=\",\")"
   ]
  }
 ],
 "metadata": {
  "kernelspec": {
   "display_name": "Python 3",
   "language": "python",
   "name": "python3"
  },
  "language_info": {
   "codemirror_mode": {
    "name": "ipython",
    "version": 3
   },
   "file_extension": ".py",
   "mimetype": "text/x-python",
   "name": "python",
   "nbconvert_exporter": "python",
   "pygments_lexer": "ipython3",
   "version": "3.8.3"
  }
 },
 "nbformat": 4,
 "nbformat_minor": 4
}
