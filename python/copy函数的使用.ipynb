{
 "cells": [
  {
   "cell_type": "code",
   "execution_count": 18,
   "metadata": {},
   "outputs": [
    {
     "name": "stdout",
     "output_type": "stream",
     "text": [
      "<__main__.Student object at 0x7f91608dcfd0>\n",
      "1 lawson\n",
      "None\n",
      "========\n",
      "<__main__.Student object at 0x7f9160caf9d0>\n",
      "1 lawson\n",
      "None\n",
      "========\n",
      "<__main__.Student object at 0x7f9160caf290>\n",
      "1 lawson\n",
      "None\n"
     ]
    }
   ],
   "source": [
    "\"\"\"copy的使用\n",
    "\"\"\"\n",
    "import copy\n",
    "dc = copy.deepcopy #深复制\n",
    "cc = copy.copy # 浅复制\n",
    "\n",
    "class Student():\n",
    "    def __init__(self,id,name):\n",
    "        self.id = id\n",
    "        self.name = name\n",
    "    def info(self):\n",
    "        print(self.id,self.name)\n",
    "\n",
    "s1 = Student(1,'lawson')\n",
    "print(s1)\n",
    "print(s1.info())\n",
    "print(\"========\")\n",
    "\n",
    "ss = cc(s1) # Shallow s1\n",
    "print(ss)\n",
    "print(ss.info())\n",
    "print(\"========\")\n",
    "\n",
    "ds = dc(s1) # deep s1\n",
    "print(ds)\n",
    "print(ds.info())"
   ]
  }
 ],
 "metadata": {
  "kernelspec": {
   "display_name": "Python 3",
   "language": "python",
   "name": "python3"
  },
  "language_info": {
   "codemirror_mode": {
    "name": "ipython",
    "version": 3
   },
   "file_extension": ".py",
   "mimetype": "text/x-python",
   "name": "python",
   "nbconvert_exporter": "python",
   "pygments_lexer": "ipython3",
   "version": "3.8.3"
  }
 },
 "nbformat": 4,
 "nbformat_minor": 4
}
