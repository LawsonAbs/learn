{
 "cells": [
  {
   "cell_type": "code",
   "execution_count": 2,
   "metadata": {},
   "outputs": [
    {
     "name": "stdout",
     "output_type": "stream",
     "text": [
      "<function <lambda> at 0x7f81b147e7a0>\n"
     ]
    },
    {
     "data": {
      "text/plain": [
       "4"
      ]
     },
     "execution_count": 2,
     "metadata": {},
     "output_type": "execute_result"
    }
   ],
   "source": [
    "\"\"\"\n",
    "Python中，lambda函数也叫匿名函数，及即没有具体名称的函数，它允许快速定义单行函数，类似于C语言的宏，可以用在任何需要函数的地方。\n",
    "这区别于def定义的函数。\n",
    "lambda与def的区别：\n",
    "\n",
    "1）def创建的方法是有名称的，而lambda没有。\n",
    "2）lambda会返回一个函数对象，但这个对象不会赋给一个标识符，而def则会把函数对象赋值给一个变量（函数名）。\n",
    "3）lambda只是一个表达式，而def则是一个语句。\n",
    "4）lambda表达式” : “后面，只能有一个表达式，def则可以有多个。\n",
    "5）像if或for或print等语句不能用于lambda中，def可以。\n",
    "6）lambda一般用来定义简单的函数，而def可以定义复杂的函数。\n",
    "6）lambda函数不能共享给别的程序调用，def可以。\n",
    "\n",
    "\"\"\"\n",
    "def getSquare(x):\n",
    "        return x*x\n",
    "\n",
    "list_a = [lambda a: a**3,lambda b:b**2]\n",
    "print(list_a[0]) # <function <lambda> at 0x7fa17d690950>  => 表明返回的是一个lambda 对象\n",
    "list_a[1](2)\n",
    "\"\"\"\n",
    "本程序的另一大特点是：竟然可以将一个lambda函数放到一个数组中的某个下标中作为一个值而存在！\n",
    "\"\"\""
   ]
  }
 ],
 "metadata": {
  "kernelspec": {
   "display_name": "Python 3",
   "language": "python",
   "name": "python3"
  },
  "language_info": {
   "codemirror_mode": {
    "name": "ipython",
    "version": 3
   },
   "file_extension": ".py",
   "mimetype": "text/x-python",
   "name": "python",
   "nbconvert_exporter": "python",
   "pygments_lexer": "ipython3",
   "version": "3.7.6"
  }
 },
 "nbformat": 4,
 "nbformat_minor": 4
}
