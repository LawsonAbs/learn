{
 "cells": [
  {
   "cell_type": "code",
   "execution_count": 1,
   "metadata": {},
   "outputs": [
    {
     "name": "stdout",
     "output_type": "stream",
     "text": [
      "1\n"
     ]
    }
   ],
   "source": [
    "'''index：找出list中对应元素的下标\n",
    "'''\n",
    "a = ['公司收购', '质押', '股权风险','质押']\n",
    "print(a.index('质押'))"
   ]
  },
  {
   "cell_type": "code",
   "execution_count": 2,
   "metadata": {},
   "outputs": [
    {
     "name": "stdout",
     "output_type": "stream",
     "text": [
      "北京\n",
      "51\n"
     ]
    }
   ],
   "source": [
    "# split()函数\n",
    "a =\"北京 0.763976 -0.339241 -0.208254 0.381257 0.027979 -0.160875 -0.115128 0.235933 -0.124366 -0.072972 -0.221818 -0.095212 0.389501 0.135508 -0.489712 -0.651730 -0.114618 -0.101619 0.078235 -0.081443 -0.155077 0.071830 -0.056423 -0.266238 0.694750 0.286826 -0.486896 0.288088 0.121929 -0.273487 0.414332 0.380356 -0.731918 -0.528612 -0.364205 -0.047090 0.130057 -0.322874 0.475698 0.032057 0.121244 0.000439 -0.621641 -0.096143 0.220523 1.018782 0.032036 0.251954 -0.371446 0.010841\"\n",
    "line = a.split() # 自动以空格分割\n",
    "word= line[0]\n",
    "print(word)\n",
    "print(len(line))"
   ]
  }
 ],
 "metadata": {
  "kernelspec": {
   "display_name": "Python 3",
   "language": "python",
   "name": "python3"
  },
  "language_info": {
   "codemirror_mode": {
    "name": "ipython",
    "version": 3
   },
   "file_extension": ".py",
   "mimetype": "text/x-python",
   "name": "python",
   "nbconvert_exporter": "python",
   "pygments_lexer": "ipython3",
   "version": "3.8.3"
  }
 },
 "nbformat": 4,
 "nbformat_minor": 4
}
