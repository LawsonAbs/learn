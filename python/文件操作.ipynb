{
 "cells": [
  {
   "cell_type": "code",
   "execution_count": 4,
   "metadata": {},
   "outputs": [
    {
     "name": "stdout",
     "output_type": "stream",
     "text": [
      ".\n",
      "/home/liushen/program/learn/python\n"
     ]
    },
    {
     "ename": "FileNotFoundError",
     "evalue": "[Errno 2] No such file or directory: '/Users/gamidev/program/learnPython/'",
     "output_type": "error",
     "traceback": [
      "\u001b[0;31m---------------------------------------------------------------------------\u001b[0m",
      "\u001b[0;31mFileNotFoundError\u001b[0m                         Traceback (most recent call last)",
      "\u001b[0;32m<ipython-input-4-8d42e96664f0>\u001b[0m in \u001b[0;36m<module>\u001b[0;34m\u001b[0m\n\u001b[1;32m      5\u001b[0m \u001b[0mprint\u001b[0m\u001b[0;34m(\u001b[0m\u001b[0mos\u001b[0m\u001b[0;34m.\u001b[0m\u001b[0mcurdir\u001b[0m\u001b[0;34m)\u001b[0m \u001b[0;31m#输出和当前目录。=> 应该就是输出点号\u001b[0m\u001b[0;34m\u001b[0m\u001b[0;34m\u001b[0m\u001b[0m\n\u001b[1;32m      6\u001b[0m \u001b[0mprint\u001b[0m\u001b[0;34m(\u001b[0m\u001b[0mos\u001b[0m\u001b[0;34m.\u001b[0m\u001b[0mgetcwd\u001b[0m\u001b[0;34m(\u001b[0m\u001b[0;34m)\u001b[0m\u001b[0;34m)\u001b[0m  \u001b[0;31m#输出获取当前目录的绝对路径\u001b[0m\u001b[0;34m\u001b[0m\u001b[0;34m\u001b[0m\u001b[0m\n\u001b[0;32m----> 7\u001b[0;31m \u001b[0mos\u001b[0m\u001b[0;34m.\u001b[0m\u001b[0mchdir\u001b[0m\u001b[0;34m(\u001b[0m\u001b[0;34m'/Users/gamidev/program/learnPython/'\u001b[0m\u001b[0;34m)\u001b[0m \u001b[0;31m# 改变路径\u001b[0m\u001b[0;34m\u001b[0m\u001b[0;34m\u001b[0m\u001b[0m\n\u001b[0m\u001b[1;32m      8\u001b[0m \u001b[0mprint\u001b[0m\u001b[0;34m(\u001b[0m\u001b[0mos\u001b[0m\u001b[0;34m.\u001b[0m\u001b[0mpath\u001b[0m\u001b[0;34m.\u001b[0m\u001b[0mexists\u001b[0m\u001b[0;34m(\u001b[0m\u001b[0;34m\".\"\u001b[0m\u001b[0;34m)\u001b[0m\u001b[0;34m)\u001b[0m \u001b[0;31m# 当前目录肯定是存在的，故输出True\u001b[0m\u001b[0;34m\u001b[0m\u001b[0;34m\u001b[0m\u001b[0m\n\u001b[1;32m      9\u001b[0m \u001b[0;34m\u001b[0m\u001b[0m\n",
      "\u001b[0;31mFileNotFoundError\u001b[0m: [Errno 2] No such file or directory: '/Users/gamidev/program/learnPython/'"
     ]
    }
   ],
   "source": [
    "\"\"\"判断文件夹是否存在\n",
    "\"\"\"\n",
    "import os\n",
    "print(os.curdir) #输出和当前目录。=> 应该就是输出点号\n",
    "print(os.getcwd())  #输出获取当前目录的绝对路径\n",
    "os.chdir('/Users/gamidev/program/learnPython/') # 改变路径\n",
    "print(os.path.exists(\".\")) # 当前目录肯定是存在的，故输出True\n",
    "\n",
    "path= './pk_dataset/type_b_dev.pk'\n",
    "pathName = path.split(\"/\")[0:-1]\n",
    "fileName = path.split(\"/\")[-1]\n",
    "pathName = \"/\".join(pathName)\n",
    "print(pathName)\n",
    "print(fileName)\n"
   ]
  },
  {
   "cell_type": "code",
   "execution_count": null,
   "metadata": {},
   "outputs": [],
   "source": [
    "\"\"\"创建新文件\n",
    "\"\"\"\n",
    "if not os.path.exists(pathName):\n",
    "    os.makedirs(pathName,mode=0o777)\n",
    "    os.chdir(pathName) # 切换文件夹\n",
    "os.mknod(fileName) # 创建一个文件  =》 但是好像因为权限不够，无法执行"
   ]
  },
  {
   "cell_type": "code",
   "execution_count": null,
   "metadata": {},
   "outputs": [],
   "source": [
    "\"\"\"检查文件编码类型\n",
    "\"\"\"\n",
    "import chardet\n",
    "\n",
    "# 获取文件编码类型\n",
    "def get_encoding(file):\n",
    "    # 二进制方式读取，获取字节数据，检测类型\n",
    "    with open(file, 'rb') as f:\n",
    "        data = f.read()\n",
    "        return chardet.detect(data)['encoding']\n",
    " \n",
    "file_name = './id.json'\n",
    "encoding = get_encoding(file_name)\n",
    "print(encoding)"
   ]
  },
  {
   "cell_type": "code",
   "execution_count": null,
   "metadata": {},
   "outputs": [],
   "source": [
    "\"\"\"\n",
    "删除文件\n",
    "\"\"\"\n",
    "import os\n",
    "file_path = \"./open.txt\"\n",
    "if os.path.exsits(file_path):\n",
    "    os.remove(file_path)"
   ]
  }
 ],
 "metadata": {
  "kernelspec": {
   "display_name": "Python 3",
   "language": "python",
   "name": "python3"
  },
  "language_info": {
   "codemirror_mode": {
    "name": "ipython",
    "version": 3
   },
   "file_extension": ".py",
   "mimetype": "text/x-python",
   "name": "python",
   "nbconvert_exporter": "python",
   "pygments_lexer": "ipython3",
   "version": "3.8.3"
  }
 },
 "nbformat": 4,
 "nbformat_minor": 4
}
