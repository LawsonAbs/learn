{
 "cells": [
  {
   "cell_type": "code",
   "execution_count": 3,
   "metadata": {},
   "outputs": [
    {
     "name": "stdout",
     "output_type": "stream",
     "text": [
      "<class 'list'>\n",
      "[2]\n",
      "2\n"
     ]
    }
   ],
   "source": [
    "'''\n",
    "01.切片取的结果是list，下标取的结果是值\n",
    "'''\n",
    "li = [1,2,3,4]\n",
    "res = li[1:2]\n",
    "print(type(res))  # 虽然 res 中只有一个元素，但是其仍为list \n",
    "print(res)\n",
    "\n",
    "out = li[1]  # 如果想取某个元素，就应该使用\n",
    "print(out)"
   ]
  }
 ],
 "metadata": {
  "kernelspec": {
   "display_name": "Python 3",
   "language": "python",
   "name": "python3"
  },
  "language_info": {
   "codemirror_mode": {
    "name": "ipython",
    "version": 3
   },
   "file_extension": ".py",
   "mimetype": "text/x-python",
   "name": "python",
   "nbconvert_exporter": "python",
   "pygments_lexer": "ipython3",
   "version": "3.7.6"
  }
 },
 "nbformat": 4,
 "nbformat_minor": 4
}
