{
 "cells": [
  {
   "cell_type": "code",
   "execution_count": 1,
   "metadata": {},
   "outputs": [
    {
     "data": {
      "text/plain": [
       "'\\n上下文管理协议（Context Management Protocol）：包含方法__enter__() 和 __exit__() \\n上下文管理器（Context Manager）\\n\\n\\n一段基本的with 表达式其结构如下：\\nwith EXPR as VAR:\\n    BLOCK\\n\\n其中EXPR可以是任意表达式；as VAR是可选的。其一般的执行过程是这样的：\\n\\n01.执行EXPR，生成上下文管理器context_manager；\\n02.获取上下文管理器的__exit()__方法，并保存起来用于之后的调用；\\n03.调用上下文管理器的__enter__()方法；如果使用了as子句，则将__enter__()方法的返回值赋值给as子句中的VAR；\\n04.执行BLOCK中的表达式；\\n05.不管是否执行过程中是否发生了异常，执行上下文管理器的__exit__()方法，__exit__()方法负责执行“清理”工作，如释放资源等。\\n如果执行过程中没有出现异常，或者语句体中执行了语句break/continue/return，则以None作为参数调用__exit__(None, None, None)；\\n如果执行过程中出现异常，则使用sys.exc_info得到的异常信息为参数调用__exit__(exc_type, exc_value, exc_traceback)；\\n\\n06.出现异常时，如果__exit__(type, value, traceback)返回False，则会重新抛出异常，让with之外的语句逻辑来处理异常，这也是通用做法；\\n如果返回True，则忽略异常，不再对异常进行处理。\\n\\n同时可以自定义上下文管理器【也就是实现上下文管理协议所需要的__enter__() 和 __exit()__方法】\\n\\n'"
      ]
     },
     "execution_count": 1,
     "metadata": {},
     "output_type": "execute_result"
    }
   ],
   "source": [
    "\"\"\"\n",
    "上下文管理协议（Context Management Protocol）：包含方法__enter__() 和 __exit__() \n",
    "上下文管理器（Context Manager）\n",
    "\n",
    "\n",
    "一段基本的with 表达式其结构如下：\n",
    "with EXPR as VAR:\n",
    "    BLOCK\n",
    "\n",
    "其中EXPR可以是任意表达式；as VAR是可选的。其一般的执行过程是这样的：\n",
    "\n",
    "01.执行EXPR，生成上下文管理器context_manager；\n",
    "02.获取上下文管理器的__exit()__方法，并保存起来用于之后的调用；\n",
    "03.调用上下文管理器的__enter__()方法；如果使用了as子句，则将__enter__()方法的返回值赋值给as子句中的VAR；\n",
    "04.执行BLOCK中的表达式；\n",
    "05.不管是否执行过程中是否发生了异常，执行上下文管理器的__exit__()方法，__exit__()方法负责执行“清理”工作，如释放资源等。\n",
    "如果执行过程中没有出现异常，或者语句体中执行了语句break/continue/return，则以None作为参数调用__exit__(None, None, None)；\n",
    "如果执行过程中出现异常，则使用sys.exc_info得到的异常信息为参数调用__exit__(exc_type, exc_value, exc_traceback)；\n",
    "\n",
    "06.出现异常时，如果__exit__(type, value, traceback)返回False，则会重新抛出异常，让with之外的语句逻辑来处理异常，这也是通用做法；\n",
    "如果返回True，则忽略异常，不再对异常进行处理。\n",
    "\n",
    "同时可以自定义上下文管理器【也就是实现上下文管理协议所需要的__enter__() 和 __exit()__方法】\n",
    "\n",
    "\"\"\"\n",
    "\n"
   ]
  },
  {
   "cell_type": "code",
   "execution_count": 7,
   "metadata": {},
   "outputs": [],
   "source": [
    "\"\"\"with open() 的使用\n",
    "(1)如果在你写入信息到文件的过程中，即使不存在这个文件，就会给你创建一个同名文件\n",
    "\"\"\"\n",
    "path = \"./opensdf.txt\"\n",
    "line = \"abc\"\n",
    "with open(path,'a') as f:\n",
    "    f.write(line)"
   ]
  }
 ],
 "metadata": {
  "kernelspec": {
   "display_name": "Python 3",
   "language": "python",
   "name": "python3"
  },
  "language_info": {
   "codemirror_mode": {
    "name": "ipython",
    "version": 3
   },
   "file_extension": ".py",
   "mimetype": "text/x-python",
   "name": "python",
   "nbconvert_exporter": "python",
   "pygments_lexer": "ipython3",
   "version": "3.8.3"
  }
 },
 "nbformat": 4,
 "nbformat_minor": 4
}
