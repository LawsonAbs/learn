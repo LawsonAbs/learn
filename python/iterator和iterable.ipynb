{
 "cells": [
  {
   "cell_type": "code",
   "execution_count": 11,
   "metadata": {},
   "outputs": [
    {
     "name": "stdout",
     "output_type": "stream",
     "text": [
      "True\n",
      "True\n",
      "True\n",
      "False\n",
      "False\n",
      "False\n"
     ]
    },
    {
     "ename": "TypeError",
     "evalue": "'A' object does not support item assignment",
     "output_type": "error",
     "traceback": [
      "\u001b[0;31m---------------------------------------------------------\u001b[0m",
      "\u001b[0;31mTypeError\u001b[0m               Traceback (most recent call last)",
      "\u001b[0;32m<ipython-input-11-4cdc5a649fce>\u001b[0m in \u001b[0;36m<module>\u001b[0;34m\u001b[0m\n\u001b[1;32m     27\u001b[0m \u001b[0mprint\u001b[0m\u001b[0;34m(\u001b[0m\u001b[0misinstance\u001b[0m\u001b[0;34m(\u001b[0m\u001b[0mc\u001b[0m\u001b[0;34m,\u001b[0m\u001b[0mIterator\u001b[0m\u001b[0;34m)\u001b[0m\u001b[0;34m)\u001b[0m \u001b[0;31m#False\u001b[0m\u001b[0;34m\u001b[0m\u001b[0;34m\u001b[0m\u001b[0m\n\u001b[1;32m     28\u001b[0m \u001b[0;34m\u001b[0m\u001b[0m\n\u001b[0;32m---> 29\u001b[0;31m \u001b[0ma\u001b[0m\u001b[0;34m[\u001b[0m\u001b[0;36m1\u001b[0m\u001b[0;34m]\u001b[0m \u001b[0;34m=\u001b[0m \u001b[0;36m1\u001b[0m\u001b[0;34m\u001b[0m\u001b[0;34m\u001b[0m\u001b[0m\n\u001b[0m",
      "\u001b[0;31mTypeError\u001b[0m: 'A' object does not support item assignment"
     ]
    }
   ],
   "source": [
    "\"\"\"iterator和iterable 的比较\n",
    "\"\"\"\n",
    "from collections.abc import Iterable,Iterator\n",
    "\n",
    "# 定义一个类\n",
    "class A :\n",
    "    def __iter__(): pass\n",
    "    def __next__(): pass\n",
    "\n",
    "class B:\n",
    "    def __iter__(): pass    \n",
    "\n",
    "class C:    \n",
    "    def __next__(): pass\n",
    "\n",
    "    \n",
    "a = A()\n",
    "b = B()\n",
    "c = C()\n",
    "print(isinstance(a,Iterable)) #True \n",
    "print(isinstance(a,Iterator)) #True\n",
    "\n",
    "print(isinstance(b,Iterable)) #True\n",
    "print(isinstance(b,Iterator)) #False\n",
    "\n",
    "print(isinstance(c,Iterable)) #False\n",
    "print(isinstance(c,Iterator)) #False\n",
    "\n"
   ]
  }
 ],
 "metadata": {
  "kernelspec": {
   "display_name": "Python 3",
   "language": "python",
   "name": "python3"
  },
  "language_info": {
   "codemirror_mode": {
    "name": "ipython",
    "version": 3
   },
   "file_extension": ".py",
   "mimetype": "text/x-python",
   "name": "python",
   "nbconvert_exporter": "python",
   "pygments_lexer": "ipython3",
   "version": "3.7.6"
  }
 },
 "nbformat": 4,
 "nbformat_minor": 4
}
