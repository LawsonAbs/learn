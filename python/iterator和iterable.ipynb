{
 "cells": [
  {
   "cell_type": "code",
   "execution_count": 1,
   "metadata": {},
   "outputs": [
    {
     "name": "stdout",
     "output_type": "stream",
     "text": [
      "True\n",
      "True\n",
      "True\n",
      "False\n",
      "False\n",
      "False\n"
     ]
    }
   ],
   "source": [
    "\"\"\"iterator和iterable 的比较\n",
    "1.只要是实现了__iter__()的方法都可以叫做 iterable \n",
    "2.iterator 必须实现 __iter__(), __next__()方法\n",
    "3. 实际上，iterator是iterable 的子类\n",
    "\"\"\"\n",
    "from collections.abc import Iterable,Iterator\n",
    "\n",
    "# 定义一个类\n",
    "class A :\n",
    "    def __iter__(): pass\n",
    "    def __next__(): pass\n",
    "\n",
    "class B:\n",
    "    def __iter__(): pass \n",
    "\n",
    "class C:    \n",
    "    def __next__(): pass\n",
    "\n",
    "    \n",
    "a = A()\n",
    "b = B()\n",
    "c = C()\n",
    "print(isinstance(a,Iterable)) #True \n",
    "print(isinstance(a,Iterator)) #True\n",
    "\n",
    "print(isinstance(b,Iterable)) #True\n",
    "print(isinstance(b,Iterator)) #False\n",
    "\n",
    "print(isinstance(c,Iterable)) #False\n",
    "print(isinstance(c,Iterator)) #False"
   ]
  }
 ],
 "metadata": {
  "kernelspec": {
   "display_name": "Python 3",
   "language": "python",
   "name": "python3"
  },
  "language_info": {
   "codemirror_mode": {
    "name": "ipython",
    "version": 3
   },
   "file_extension": ".py",
   "mimetype": "text/x-python",
   "name": "python",
   "nbconvert_exporter": "python",
   "pygments_lexer": "ipython3",
   "version": "3.8.3"
  }
 },
 "nbformat": 4,
 "nbformat_minor": 4
}
