{
 "cells": [
  {
   "cell_type": "code",
   "execution_count": 12,
   "metadata": {},
   "outputs": [
    {
     "name": "stdout",
     "output_type": "stream",
     "text": [
      "range(1, 5)\n",
      "<class 'range'>\n",
      "1\n",
      "2\n",
      "3\n",
      "4\n"
     ]
    }
   ],
   "source": [
    "\"range()得到的是一个可遍历的range对象，不等于list\"\n",
    "a = range(1,5)\n",
    "print(a) # range(1,5)\n",
    "print(type(a)) # <class 'range'>\n",
    "for _ in a:\n",
    "    print(_)  # 需要注意最后得到的数字值是4"
   ]
  },
  {
   "cell_type": "code",
   "execution_count": 14,
   "metadata": {},
   "outputs": [
    {
     "name": "stdout",
     "output_type": "stream",
     "text": [
      "[0, 1, 2, 3, 4, 5, 6, 7, 8, 9]\n",
      "<class 'list'>\n"
     ]
    }
   ],
   "source": [
    "'''类型转换，将range转为list\n",
    "'''\n",
    "a = list(range(10)) # 将range 转为list\n",
    "print(a)\n",
    "print(type(a)) # <class 'list'>"
   ]
  },
  {
   "cell_type": "code",
   "execution_count": null,
   "metadata": {},
   "outputs": [],
   "source": [
    "\"\"\"for循环中range的范围\n",
    "1.只有一个参数的时候，默认从0开始，默认增量为1\n",
    "2.如果有两个参数，那么将会输出这个 左闭右开 区间中的所有值，默认增量为1\n",
    "3.如果有三个参数，则在2的基础上会有一个增量\n",
    "\"\"\"\n",
    "for i in range(5): # 默认从0开始\n",
    "    print(i,end='')\n",
    "print(\"\")\n",
    "for i in range(1,5): # 左闭右开\n",
    "    print(i,end='')\n",
    "\n",
    "print()\n",
    "for i in range(1,10,3): # 左闭右开，增量为3\n",
    "    print(i,end='')"
   ]
  }
 ],
 "metadata": {
  "kernelspec": {
   "display_name": "Python 3",
   "language": "python",
   "name": "python3"
  },
  "language_info": {
   "codemirror_mode": {
    "name": "ipython",
    "version": 3
   },
   "file_extension": ".py",
   "mimetype": "text/x-python",
   "name": "python",
   "nbconvert_exporter": "python",
   "pygments_lexer": "ipython3",
   "version": "3.8.3"
  }
 },
 "nbformat": 4,
 "nbformat_minor": 4
}
