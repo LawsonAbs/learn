{
 "cells": [
  {
   "cell_type": "code",
   "execution_count": null,
   "metadata": {},
   "outputs": [],
   "source": [
    "\"\"\"list遍历过程中，取到最后一位\n",
    "使用双冒号可以取到最后一位，如果只使用-1，最后一位是取不到的\n",
    "\"\"\"\n",
    "pun_dict = {}\n",
    "puns = [['hom_2', 'Wal', '-', 'Mart', 'isn'], [\"hom_3\", 't', 'the', 'only'], ['hom_3', 'Can', 'honeybee', 'abuse']]\n",
    "for pun in puns:\n",
    "    pun_dict[pun[0]] = pun[0::]  # 双冒号\n",
    "print(pun_dict)    "
   ]
  }
 ],
 "metadata": {
  "kernelspec": {
   "display_name": "Python 3",
   "language": "python",
   "name": "python3"
  },
  "language_info": {
   "codemirror_mode": {
    "name": "ipython",
    "version": 3
   },
   "file_extension": ".py",
   "mimetype": "text/x-python",
   "name": "python",
   "nbconvert_exporter": "python",
   "pygments_lexer": "ipython3",
   "version": "3.8.3"
  }
 },
 "nbformat": 4,
 "nbformat_minor": 4
}
