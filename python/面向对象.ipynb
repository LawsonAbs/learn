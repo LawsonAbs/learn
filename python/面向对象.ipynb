{
 "cells": [
  {
   "cell_type": "code",
   "execution_count": 3,
   "metadata": {},
   "outputs": [
    {
     "name": "stdout",
     "output_type": "stream",
     "text": [
      "f1\n",
      "<__main__.Test object at 0x7ff4244162d0>\n",
      "<class '__main__.Test'>\n",
      "f2\n",
      "-----------------------------------\n",
      "<__main__.Test object at 0x7ff4244162d0>\n",
      "<class '__main__.Test'>\n",
      "f2\n"
     ]
    }
   ],
   "source": [
    "\"\"\"\n",
    "方法一般就分两种\n",
    "01.不绑定self\n",
    "类的普通函数\n",
    "\n",
    "02.绑定self:\n",
    "类的实例函数\n",
    "把它绑定的对象作为第一个参数传给这个对象。self 的含义仅仅是提醒你这个方法会被绑定到实例上而已\n",
    "\"\"\"\n",
    "class Test:\n",
    "    def f1():\n",
    "        print(\"f1\")\n",
    "    def f2(self):\n",
    "        print(self)\n",
    "        print(type(self))\n",
    "        print(\"f2\")\n",
    "Test.f1()\n",
    "test = Test()\n",
    "Test.f2(test)\n",
    "print(\"-----------------------------------\")\n",
    "test.f2()"
   ]
  },
  {
   "cell_type": "code",
   "execution_count": 4,
   "metadata": {},
   "outputs": [
    {
     "ename": "TypeError",
     "evalue": "method1() takes 0 positional arguments but 1 was given",
     "output_type": "error",
     "traceback": [
      "\u001b[0;31m---------------------------------------------------------------------------\u001b[0m",
      "\u001b[0;31mTypeError\u001b[0m                                 Traceback (most recent call last)",
      "\u001b[0;32m<ipython-input-4-7b2be3fb23a1>\u001b[0m in \u001b[0;36m<module>\u001b[0;34m\u001b[0m\n\u001b[1;32m      6\u001b[0m \u001b[0;34m\u001b[0m\u001b[0m\n\u001b[1;32m      7\u001b[0m \u001b[0ma\u001b[0m \u001b[0;34m=\u001b[0m \u001b[0mFoo\u001b[0m\u001b[0;34m(\u001b[0m\u001b[0;34m)\u001b[0m\u001b[0;34m\u001b[0m\u001b[0;34m\u001b[0m\u001b[0m\n\u001b[0;32m----> 8\u001b[0;31m \u001b[0ma\u001b[0m\u001b[0;34m.\u001b[0m\u001b[0mmethod1\u001b[0m\u001b[0;34m(\u001b[0m\u001b[0;34m)\u001b[0m \u001b[0;31m# 相当于调用Foo.method1(a)，但method1不接受任何参数，所以报错了\u001b[0m\u001b[0;34m\u001b[0m\u001b[0;34m\u001b[0m\u001b[0m\n\u001b[0m",
      "\u001b[0;31mTypeError\u001b[0m: method1() takes 0 positional arguments but 1 was given"
     ]
    }
   ],
   "source": [
    "class Foo:\n",
    "    def method1(): # 是Foo类的一个成员方法，该方法不接受任何参数\n",
    "        print('m1')\n",
    "    def method2(self):\n",
    "        print(\"m2\")\n",
    "\n",
    "a = Foo()\n",
    "a.method1() # 相当于调用Foo.method1(a)，但method1不接受任何参数，所以报错了"
   ]
  }
 ],
 "metadata": {
  "kernelspec": {
   "display_name": "Python 3",
   "language": "python",
   "name": "python3"
  },
  "language_info": {
   "codemirror_mode": {
    "name": "ipython",
    "version": 3
   },
   "file_extension": ".py",
   "mimetype": "text/x-python",
   "name": "python",
   "nbconvert_exporter": "python",
   "pygments_lexer": "ipython3",
   "version": "3.7.6"
  }
 },
 "nbformat": 4,
 "nbformat_minor": 4
}
