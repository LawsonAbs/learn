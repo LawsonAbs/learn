{
 "cells": [
  {
   "cell_type": "code",
   "execution_count": 1,
   "metadata": {},
   "outputs": [
    {
     "name": "stdout",
     "output_type": "stream",
     "text": [
      "1\n"
     ]
    }
   ],
   "source": [
    "\"\"\"del 的使用\n",
    "深入理解python的内存方面的问题。\n",
    "是关键字。它不是字典、列表的方法，但是可以用来删除字典、列表的元素。\n",
    "del作用在变量上，而不是数据对象上\n",
    "\"\"\"\n",
    "a=1\n",
    "b=a\n",
    "c=a\n",
    "del a # 删除的是变量名\n",
    "del b \n",
    "print(c) #实际的对象仍然在"
   ]
  }
 ],
 "metadata": {
  "kernelspec": {
   "display_name": "Python 3",
   "language": "python",
   "name": "python3"
  },
  "language_info": {
   "codemirror_mode": {
    "name": "ipython",
    "version": 3
   },
   "file_extension": ".py",
   "mimetype": "text/x-python",
   "name": "python",
   "nbconvert_exporter": "python",
   "pygments_lexer": "ipython3",
   "version": "3.7.6"
  }
 },
 "nbformat": 4,
 "nbformat_minor": 4
}
