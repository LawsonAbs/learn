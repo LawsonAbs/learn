{
 "cells": [
  {
   "cell_type": "code",
   "execution_count": 4,
   "metadata": {},
   "outputs": [
    {
     "name": "stdout",
     "output_type": "stream",
     "text": [
      "北京\n",
      "51\n"
     ]
    }
   ],
   "source": [
    "a =\"北京 0.763976 -0.339241 -0.208254 0.381257 0.027979 -0.160875 -0.115128 0.235933 -0.124366 -0.072972 -0.221818 -0.095212 0.389501 0.135508 -0.489712 -0.651730 -0.114618 -0.101619 0.078235 -0.081443 -0.155077 0.071830 -0.056423 -0.266238 0.694750 0.286826 -0.486896 0.288088 0.121929 -0.273487 0.414332 0.380356 -0.731918 -0.528612 -0.364205 -0.047090 0.130057 -0.322874 0.475698 0.032057 0.121244 0.000439 -0.621641 -0.096143 0.220523 1.018782 0.032036 0.251954 -0.371446 0.010841\"\n",
    "line = a.split()\n",
    "word= line[0]\n",
    "print(word)\n",
    "print(len(line))"
   ]
  },
  {
   "cell_type": "code",
   "execution_count": null,
   "metadata": {},
   "outputs": [],
   "source": []
  }
 ],
 "metadata": {
  "kernelspec": {
   "display_name": "Python 3",
   "language": "python",
   "name": "python3"
  },
  "language_info": {
   "codemirror_mode": {
    "name": "ipython",
    "version": 3
   },
   "file_extension": ".py",
   "mimetype": "text/x-python",
   "name": "python",
   "nbconvert_exporter": "python",
   "pygments_lexer": "ipython3",
   "version": "3.7.6"
  }
 },
 "nbformat": 4,
 "nbformat_minor": 4
}
