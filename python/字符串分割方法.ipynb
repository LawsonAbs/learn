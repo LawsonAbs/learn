{
 "cells": [
  {
   "cell_type": "code",
   "execution_count": 42,
   "metadata": {},
   "outputs": [
    {
     "name": "stdout",
     "output_type": "stream",
     "text": [
      "['I', 'used', 'to', 'be', 'a', 'banker,', 'but', 'I', 'lose', 'interest.']\n",
      "['I used to be a banker', ' but I lose interest.']\n"
     ]
    }
   ],
   "source": [
    "'''自带包中的split函数的使用\n",
    "'''\n",
    "pun = \"I used to be a banker, but I lose interest.\"\n",
    "res1 = pun.split() # 默认以空格分割\n",
    "print(res) # 注意最后的分割结果“interest.” 是带有\".\"，也就是说\n",
    "res2 = pun.split(',') # 指定以某个字符分割。这个字符只能是单个字符\n",
    "print(res2)"
   ]
  },
  {
   "cell_type": "code",
   "execution_count": 43,
   "metadata": {},
   "outputs": [
    {
     "name": "stdout",
     "output_type": "stream",
     "text": [
      "['I used to be a banker', ',', ' but I lose interest.']\n"
     ]
    }
   ],
   "source": [
    "'''使用 re 包中的 split函数\n",
    "'''\n",
    "import re\n",
    "res3 = re.split(r'([,])',pun) # 使用指定的',' 分割，并且将分割符也作为一个值存储\n",
    "print(res3)"
   ]
  },
  {
   "cell_type": "code",
   "execution_count": 44,
   "metadata": {},
   "outputs": [
    {
     "name": "stdout",
     "output_type": "stream",
     "text": [
      "['I used to be a banker', ',', ' but I lose interest', '.', '']\n",
      "['I', 'used', 'to', 'be', 'a', 'banker', ',', '', 'but', 'I', 'lose', 'interest', '.', '']\n"
     ]
    }
   ],
   "source": [
    "res4 = re.split(r'([,.;\\'\\\"])',pun) # 使用多个字符分割。\n",
    "print(res4)\n",
    "\n",
    "out = []\n",
    "for val in res4:\n",
    "    temp = re.split(r'[ ]',val)\n",
    "    out.extend(temp)\n",
    "print(out)"
   ]
  }
 ],
 "metadata": {
  "kernelspec": {
   "display_name": "Python 3",
   "language": "python",
   "name": "python3"
  },
  "language_info": {
   "codemirror_mode": {
    "name": "ipython",
    "version": 3
   },
   "file_extension": ".py",
   "mimetype": "text/x-python",
   "name": "python",
   "nbconvert_exporter": "python",
   "pygments_lexer": "ipython3",
   "version": "3.8.5"
  }
 },
 "nbformat": 4,
 "nbformat_minor": 4
}
