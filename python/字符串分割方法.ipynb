{
 "cells": [
  {
   "cell_type": "code",
   "execution_count": 12,
   "metadata": {},
   "outputs": [
    {
     "ename": "NameError",
     "evalue": "name 'res' is not defined",
     "output_type": "error",
     "traceback": [
      "\u001b[0;31m---------------------------------------------------------------------------\u001b[0m",
      "\u001b[0;31mNameError\u001b[0m                                 Traceback (most recent call last)",
      "\u001b[0;32m<ipython-input-12-6cd661e0d39d>\u001b[0m in \u001b[0;36m<module>\u001b[0;34m\u001b[0m\n\u001b[1;32m      3\u001b[0m \u001b[0mpun\u001b[0m \u001b[0;34m=\u001b[0m \u001b[0;34m\"I used to be a banker, but I lose interest.\"\u001b[0m\u001b[0;34m\u001b[0m\u001b[0;34m\u001b[0m\u001b[0m\n\u001b[1;32m      4\u001b[0m \u001b[0mres1\u001b[0m \u001b[0;34m=\u001b[0m \u001b[0mpun\u001b[0m\u001b[0;34m.\u001b[0m\u001b[0msplit\u001b[0m\u001b[0;34m(\u001b[0m\u001b[0;34m)\u001b[0m \u001b[0;31m# 默认以空格分割\u001b[0m\u001b[0;34m\u001b[0m\u001b[0;34m\u001b[0m\u001b[0m\n\u001b[0;32m----> 5\u001b[0;31m \u001b[0mprint\u001b[0m\u001b[0;34m(\u001b[0m\u001b[0mres\u001b[0m\u001b[0;34m)\u001b[0m \u001b[0;31m# 注意最后的分割结果“interest.” 是带有\".\"，也就是说\u001b[0m\u001b[0;34m\u001b[0m\u001b[0;34m\u001b[0m\u001b[0m\n\u001b[0m\u001b[1;32m      6\u001b[0m \u001b[0mres2\u001b[0m \u001b[0;34m=\u001b[0m \u001b[0mpun\u001b[0m\u001b[0;34m.\u001b[0m\u001b[0msplit\u001b[0m\u001b[0;34m(\u001b[0m\u001b[0;34m','\u001b[0m\u001b[0;34m)\u001b[0m \u001b[0;31m# 指定以某个字符分割。这个字符只能是单个字符\u001b[0m\u001b[0;34m\u001b[0m\u001b[0;34m\u001b[0m\u001b[0m\n\u001b[1;32m      7\u001b[0m \u001b[0mprint\u001b[0m\u001b[0;34m(\u001b[0m\u001b[0mres2\u001b[0m\u001b[0;34m)\u001b[0m\u001b[0;34m\u001b[0m\u001b[0;34m\u001b[0m\u001b[0m\n",
      "\u001b[0;31mNameError\u001b[0m: name 'res' is not defined"
     ]
    }
   ],
   "source": [
    "'''自带包中的split函数的使用\n",
    "'''\n",
    "pun = \"I used to be a banker, but I lose interest.\"\n",
    "res1 = pun.split() # 默认以空格分割\n",
    "print(res) # 注意最后的分割结果“interest.” 是带有\".\"，也就是说\n",
    "res2 = pun.split(',') # 指定以某个字符分割。这个字符只能是单个字符\n",
    "print(res2)"
   ]
  },
  {
   "cell_type": "code",
   "execution_count": 13,
   "metadata": {},
   "outputs": [
    {
     "name": "stdout",
     "output_type": "stream",
     "text": [
      "['I used to be a banker', ' but I lose interest.']\n",
      "['I used to be a banker', ',', ' but I lose interest.']\n"
     ]
    }
   ],
   "source": [
    "'''使用 re 包中的 split函数。分割的字符必须使用[]包围起来，即re.splice(r'[,.:]')，但是此时的分割符不会被保存。如果要保存，则需要使用r'([,.])'的方式\n",
    "'''\n",
    "import re\n",
    "\n",
    "res3 = re.split(r'[,]',pun) # 使用指定的',' 分割，分割符将被抛弃\n",
    "print(res3)\n",
    "res4 = re.split(r'([,])',pun) # 使用指定的',' 分割，并且将分割符也作为一个值存储\n",
    "print(res4)"
   ]
  },
  {
   "cell_type": "code",
   "execution_count": 10,
   "metadata": {},
   "outputs": [
    {
     "name": "stdout",
     "output_type": "stream",
     "text": [
      "['I', 'used', 'to', 'be', 'a', 'banker', '', 'but', 'I', 'lose', 'interest', '']\n"
     ]
    }
   ],
   "source": [
    "import re\n",
    "res4 = re.split(r'([,.;( )\\'\\\"])',pun) # 使用多个字符分割。\n",
    "print(res4)\n",
    "\n",
    "# out = []\n",
    "# for val in res4:\n",
    "#     temp = re.split(r'[]',val)\n",
    "#     out.extend(temp)\n",
    "# print(out)"
   ]
  }
 ],
 "metadata": {
  "kernelspec": {
   "display_name": "Python 3",
   "language": "python",
   "name": "python3"
  },
  "language_info": {
   "codemirror_mode": {
    "name": "ipython",
    "version": 3
   },
   "file_extension": ".py",
   "mimetype": "text/x-python",
   "name": "python",
   "nbconvert_exporter": "python",
   "pygments_lexer": "ipython3",
   "version": "3.8.3"
  }
 },
 "nbformat": 4,
 "nbformat_minor": 4
}
