{
 "cells": [
  {
   "cell_type": "code",
   "execution_count": 4,
   "metadata": {},
   "outputs": [
    {
     "name": "stdout",
     "output_type": "stream",
     "text": [
      "975.057ms\n"
     ]
    }
   ],
   "source": [
    "import datetime\n",
    "length = int(1e+5)\n",
    "starttime=datetime.datetime.now()\n",
    "for i in range(length):\n",
    "    a = i**2\n",
    "endtime = datetime.datetime.now()\n",
    "print(f\"{(starttime-endtime).microseconds/1000}ms\")"
   ]
  }
 ],
 "metadata": {
  "kernelspec": {
   "display_name": "Python 3",
   "language": "python",
   "name": "python3"
  },
  "language_info": {
   "codemirror_mode": {
    "name": "ipython",
    "version": 3
   },
   "file_extension": ".py",
   "mimetype": "text/x-python",
   "name": "python",
   "nbconvert_exporter": "python",
   "pygments_lexer": "ipython3",
   "version": "3.8.3"
  }
 },
 "nbformat": 4,
 "nbformat_minor": 4
}
