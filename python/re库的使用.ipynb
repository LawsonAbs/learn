{
 "cells": [
  {
   "cell_type": "code",
   "execution_count": null,
   "metadata": {},
   "outputs": [],
   "source": [
    "'''\n",
    "将文本中的所有空格替换成指定字符，需要注意的是：\n",
    "01.会将书名号中的空格也替换了\n",
    "02.会将英文间的空格也替换了\n",
    "'''\n",
    "import re\n",
    "text =\"《步步   惊心》改编 自著名作  家桐\"\n",
    "a = re.sub('\\s+','。',text)\n",
    "print(a)"
   ]
  }
 ],
 "metadata": {
  "kernelspec": {
   "display_name": "Python 3",
   "language": "python",
   "name": "python3"
  },
  "language_info": {
   "codemirror_mode": {
    "name": "ipython",
    "version": 3
   },
   "file_extension": ".py",
   "mimetype": "text/x-python",
   "name": "python",
   "nbconvert_exporter": "python",
   "pygments_lexer": "ipython3",
   "version": "3.8.3"
  }
 },
 "nbformat": 4,
 "nbformat_minor": 4
}
