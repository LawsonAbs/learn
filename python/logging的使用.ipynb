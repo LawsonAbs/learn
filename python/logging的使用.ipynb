{
 "cells": [
  {
   "cell_type": "code",
   "execution_count": 1,
   "metadata": {},
   "outputs": [
    {
     "name": "stderr",
     "output_type": "stream",
     "text": [
      "01/22/2021 09:07:53 - INFO - sdf -   sdfs\n"
     ]
    }
   ],
   "source": [
    "# step 1.引入包\n",
    "import logging\n",
    "\n",
    "# step 2.配置log\n",
    "logging.basicConfig(format = '%(asctime)s - %(levelname)s - %(name)s -   %(message)s',\n",
    "                    datefmt = '%m/%d/%Y %H:%M:%S',\n",
    "                    level = logging.INFO)\n",
    "# step 3.实例化\n",
    "logger = logging.getLogger(\"sdf\")\n",
    "# step 4.记录输出\n",
    "logger.info(\"sdfs\")"
   ]
  },
  {
   "cell_type": "code",
   "execution_count": 5,
   "metadata": {},
   "outputs": [
    {
     "name": "stderr",
     "output_type": "stream",
     "text": [
      "01/22/2021 09:09:16 - INFO - sdf -   text:lawson edit in 20210122\n",
      "01/22/2021 09:09:16 - INFO - sdf -   text:lawson edit in 20210122\n"
     ]
    }
   ],
   "source": [
    "\"\"\"\n",
    "输出变量的值\n",
    "\"\"\"\n",
    "text = \"lawson edit in 20210122\"\n",
    "logger.info(f\"text:{text}\") # 可以使用f\"\"字符串\n",
    "logger.info(\"text:%s\",text) # 也可以使用传统的 %s 字符串形式"
   ]
  }
 ],
 "metadata": {
  "kernelspec": {
   "display_name": "Python 3",
   "language": "python",
   "name": "python3"
  },
  "language_info": {
   "codemirror_mode": {
    "name": "ipython",
    "version": 3
   },
   "file_extension": ".py",
   "mimetype": "text/x-python",
   "name": "python",
   "nbconvert_exporter": "python",
   "pygments_lexer": "ipython3",
   "version": "3.8.3"
  }
 },
 "nbformat": 4,
 "nbformat_minor": 4
}
