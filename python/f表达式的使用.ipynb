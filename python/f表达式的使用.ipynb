{
 "cells": [
  {
   "cell_type": "code",
   "execution_count": 7,
   "metadata": {},
   "outputs": [
    {
     "name": "stdout",
     "output_type": "stream",
     "text": [
      "22\n",
      "lawson is in ECNU\n"
     ]
    }
   ],
   "source": [
    "'''f表达式的使用\n",
    "1.计算值 => 大括号中可以直接使用变量\n",
    "'''\n",
    "a = 1\n",
    "b = f\"{a+21}\"\n",
    "print(b)\n",
    "s = \"lawson is in ECNU\"\n",
    "print(f\"{s}\")"
   ]
  }
 ],
 "metadata": {
  "kernelspec": {
   "display_name": "Python 3",
   "language": "python",
   "name": "python3"
  },
  "language_info": {
   "codemirror_mode": {
    "name": "ipython",
    "version": 3
   },
   "file_extension": ".py",
   "mimetype": "text/x-python",
   "name": "python",
   "nbconvert_exporter": "python",
   "pygments_lexer": "ipython3",
   "version": "3.8.3"
  }
 },
 "nbformat": 4,
 "nbformat_minor": 4
}
