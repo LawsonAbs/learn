{
 "cells": [
  {
   "cell_type": "code",
   "execution_count": 1,
   "metadata": {},
   "outputs": [
    {
     "name": "stdout",
     "output_type": "stream",
     "text": [
      "[[0.11825161 0.21125645 0.23392758]\n",
      " [0.62710359 0.41071427 0.46557879]\n",
      " [0.47565365 0.02672524 0.88593005]] [0 1 2]\n",
      "-------\n",
      "[[0.47565365 0.02672524 0.88593005]\n",
      " [0.62710359 0.41071427 0.46557879]] [2 1]\n",
      "-----\n",
      "[[0.11825161 0.21125645 0.23392758]] [0]\n"
     ]
    }
   ],
   "source": [
    "\"\"\"实现数据集的分割\n",
    "需要注意：[x_train,y_train] 表示是一对组合，[x_test,y_test] 是一对组合\n",
    "\"\"\"\n",
    "import numpy as np\n",
    "from sklearn.model_selection import train_test_split\n",
    "y = np.arange(3)\n",
    "x=np.random.random((3,3))\n",
    "\n",
    "print(x,y)\n",
    "x_train,x_test,y_train,y_test=train_test_split(x,y,test_size=0.3)\n",
    "print(\"-------\")\n",
    "print(x_train,y_train)\n",
    "print(\"-----\")\n",
    "print(x_test,y_test)"
   ]
  },
  {
   "cell_type": "code",
   "execution_count": 8,
   "metadata": {},
   "outputs": [
    {
     "name": "stdout",
     "output_type": "stream",
     "text": [
      "[[0.11825161 0.21125645 0.23392758]\n",
      " [0.62710359 0.41071427 0.46557879]] [[0.47565365 0.02672524 0.88593005]]\n"
     ]
    }
   ],
   "source": [
    "\"\"\"\n",
    "如果想实现dev不边的特征，则可以在函数中添加random_state 参数\n",
    "\"\"\"\n",
    "x_train,y_train,x_test,y_test = train_test_split(x,y,test_size = 0.3,random_state = 22)\n",
    "print(x_train,y_train) # 每次脚本运行得到的结果都是相同的"
   ]
  }
 ],
 "metadata": {
  "kernelspec": {
   "display_name": "Python 3",
   "language": "python",
   "name": "python3"
  },
  "language_info": {
   "codemirror_mode": {
    "name": "ipython",
    "version": 3
   },
   "file_extension": ".py",
   "mimetype": "text/x-python",
   "name": "python",
   "nbconvert_exporter": "python",
   "pygments_lexer": "ipython3",
   "version": "3.8.3"
  }
 },
 "nbformat": 4,
 "nbformat_minor": 4
}
