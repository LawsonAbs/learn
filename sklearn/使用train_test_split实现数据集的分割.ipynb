{
 "cells": [
  {
   "cell_type": "code",
   "execution_count": 19,
   "metadata": {},
   "outputs": [
    {
     "name": "stdout",
     "output_type": "stream",
     "text": [
      "[[0.86158414 0.88680236 0.06074414]\n",
      " [0.69347722 0.72343684 0.77259165]\n",
      " [0.57313705 0.61110304 0.93556086]] [0 1 2]\n",
      "-------\n",
      "[[0.69347722 0.72343684 0.77259165]\n",
      " [0.57313705 0.61110304 0.93556086]] [1 2]\n",
      "-----\n",
      "[[0.86158414 0.88680236 0.06074414]] [0]\n"
     ]
    }
   ],
   "source": [
    "\"\"\"实现数据集的分割\n",
    "需要注意：[x_train,y_train] 表示是一对组合，[x_test,y_test] 是一对组合\n",
    "\"\"\"\n",
    "import numpy as np\n",
    "from sklearn.model_selection import train_test_split\n",
    "y = np.arange(3)\n",
    "x=np.random.random((3,3))\n",
    "\n",
    "print(x,y)\n",
    "x_train,x_test,y_train,y_test=train_test_split(x,y,test_size=0.3)\n",
    "print(\"-------\")\n",
    "print(x_train,y_train)\n",
    "print(\"-----\")\n",
    "print(x_test,y_test)"
   ]
  }
 ],
 "metadata": {
  "kernelspec": {
   "display_name": "Python 3",
   "language": "python",
   "name": "python3"
  },
  "language_info": {
   "codemirror_mode": {
    "name": "ipython",
    "version": 3
   },
   "file_extension": ".py",
   "mimetype": "text/x-python",
   "name": "python",
   "nbconvert_exporter": "python",
   "pygments_lexer": "ipython3",
   "version": "3.8.3"
  }
 },
 "nbformat": 4,
 "nbformat_minor": 4
}
