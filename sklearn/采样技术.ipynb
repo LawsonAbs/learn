{
 "cells": [
  {
   "cell_type": "code",
   "execution_count": null,
   "metadata": {},
   "outputs": [],
   "source": [
    "'''1.“多变少，少不变”的采样\n",
    "Random Under-sample the majority class(es) by randomly picking samples with or without replacement.\n",
    "这个类使用的是下采样技术，通过随机选择样本的方法选择样本，从而将多数类变少\n",
    "'''\n",
    "\n",
    "from collections import Counter\n",
    "from sklearn.datasets import make_classification\n",
    "from imblearn.under_sampling import RandomUnderSampler  # 使用下采样技术\n",
    "\n",
    "# step1. 随机生成样本，X 是输入特征，y 是label\n",
    "X, y = make_classification(n_classes=2, class_sep=2,\n",
    "                           weights=[0.1, 0.9], n_informative=3,\n",
    "                           n_redundant=1, flip_y=0,\n",
    "                           n_features=20, n_clusters_per_class=1,\n",
    "                           n_samples=100, random_state=10\n",
    "                          )\n",
    "print(X.shape) # 一个1000 * 20 的矩阵\n",
    "print('Original dataset shape %s' % Counter(y))\n",
    "\n",
    "# step2. 将上面生成的样本下采样，得到X_res,y_res。 其中X_res 是特征向量，y_res 是标签\n",
    "rus = RandomUnderSampler(random_state=12)\n",
    "X_res, y_res = rus.fit_resample(X, y)\n",
    "# 最后对负采样得到的样本数据进行统计输出\n",
    "print('Resampled dataset shape %s' % Counter(y_res))"
   ]
  },
  {
   "cell_type": "code",
   "execution_count": null,
   "metadata": {},
   "outputs": [],
   "source": []
  }
 ],
 "metadata": {
  "kernelspec": {
   "display_name": "Python 3",
   "language": "python",
   "name": "python3"
  },
  "language_info": {
   "codemirror_mode": {
    "name": "ipython",
    "version": 3
   },
   "file_extension": ".py",
   "mimetype": "text/x-python",
   "name": "python",
   "nbconvert_exporter": "python",
   "pygments_lexer": "ipython3",
   "version": "3.8.3"
  }
 },
 "nbformat": 4,
 "nbformat_minor": 4
}
