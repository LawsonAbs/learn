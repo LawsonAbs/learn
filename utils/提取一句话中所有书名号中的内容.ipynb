{
 "cells": [
  {
   "cell_type": "code",
   "execution_count": null,
   "metadata": {},
   "outputs": [],
   "source": [
    "\n",
    "def addBookName(text):\n",
    "    target = [] \n",
    "    cur_text = \"\"\n",
    "    flag = 0\n",
    "    for char in text:\n",
    "        if flag == 1 and char!='\\n' and char!='》':\n",
    "            cur_text+=char\n",
    "        if char == \"《\":\n",
    "            flag = 1\n",
    "        elif char ==\"》\":\n",
    "            target.append(cur_text)\n",
    "            cur_text = \"\"\n",
    "            flag = 0\n",
    "    return target\n",
    "addBookName(\"正是在这个“丹柿小院”，老舍完成了著名话剧《方珍珠》、《龙须沟》、《茶馆》、《西望长安》及《全家福》等创作，\")"
   ]
  }
 ],
 "metadata": {
  "kernelspec": {
   "display_name": "Python 3",
   "language": "python",
   "name": "python3"
  },
  "language_info": {
   "codemirror_mode": {
    "name": "ipython",
    "version": 3
   },
   "file_extension": ".py",
   "mimetype": "text/x-python",
   "name": "python",
   "nbconvert_exporter": "python",
   "pygments_lexer": "ipython3",
   "version": "3.8.3"
  }
 },
 "nbformat": 4,
 "nbformat_minor": 4
}
