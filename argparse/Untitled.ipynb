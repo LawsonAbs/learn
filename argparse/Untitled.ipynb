{
 "cells": [
  {
   "cell_type": "code",
   "execution_count": 6,
   "metadata": {},
   "outputs": [
    {
     "name": "stdout",
     "output_type": "stream",
     "text": [
      "Namespace(batch_size=128, epochs=1000, log_interval=100, lr=0.003, seed=17, test_batch_size=128)\n"
     ]
    }
   ],
   "source": [
    "import argparse\n",
    "parser = argparse.ArgumentParser(description='Link prediction for knowledge graphs')\n",
    "parser.add_argument('--batch-size', type=int, default=128, help='input batch size for training (default: 128)')\n",
    "parser.add_argument('--test-batch-size', type=int, default=128, help='input batch size for testing/validation (default: 128)')\n",
    "parser.add_argument('--epochs', type=int, default=1000, help='number of epochs to train (default: 1000)')\n",
    "parser.add_argument('--lr', type=float, default=0.003, help='learning rate (default: 0.003)')\n",
    "parser.add_argument('--seed', type=int, default=17, metavar='S', help='random seed (default: 17)')\n",
    "parser.add_argument('--log-interval', type=int, default=100, help='how many batches to wait before logging training status')    \n",
    "\n",
    "# 将参数再解析出来？\n",
    "args = parser.parse_known_args()[0] # 解析参数\n",
    "print(args)"
   ]
  },
  {
   "cell_type": "code",
   "execution_count": 4,
   "metadata": {},
   "outputs": [
    {
     "name": "stdout",
     "output_type": "stream",
     "text": [
      "hello\n"
     ]
    }
   ],
   "source": [
    "print(\"hello\")"
   ]
  }
 ],
 "metadata": {
  "kernelspec": {
   "display_name": "Python 3",
   "language": "python",
   "name": "python3"
  },
  "language_info": {
   "codemirror_mode": {
    "name": "ipython",
    "version": 3
   },
   "file_extension": ".py",
   "mimetype": "text/x-python",
   "name": "python",
   "nbconvert_exporter": "python",
   "pygments_lexer": "ipython3",
   "version": "3.8.3"
  }
 },
 "nbformat": 4,
 "nbformat_minor": 4
}
